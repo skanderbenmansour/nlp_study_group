{
 "cells": [
  {
   "cell_type": "code",
   "execution_count": 22,
   "metadata": {
    "colab": {
     "base_uri": "https://localhost:8080/",
     "height": 34
    },
    "colab_type": "code",
    "executionInfo": {
     "elapsed": 2859,
     "status": "ok",
     "timestamp": 1588318405493,
     "user": {
      "displayName": "Skander Ben Mansour",
      "photoUrl": "https://lh3.googleusercontent.com/a-/AOh14Ggl7domjq2nPtW4SYKR5BEYuj4qkl2Ljge9t-vlBiU=s64",
      "userId": "11506237701449758837"
     },
     "user_tz": -60
    },
    "id": "P8X5BSymDQ_w",
    "outputId": "35b9aa74-f020-4981-cf2b-473768c2815c"
   },
   "outputs": [
    {
     "data": {
      "text/plain": [
       "<torch._C.Generator at 0x1ac540919f0>"
      ]
     },
     "execution_count": 22,
     "metadata": {},
     "output_type": "execute_result"
    }
   ],
   "source": [
    "%matplotlib inline \n",
    "import matplotlib.pyplot as plt\n",
    "\n",
    "import torch\n",
    "import torch.nn as nn\n",
    "import torch.nn.functional as F\n",
    "import torch.optim as optim\n",
    "\n",
    "import string\n",
    "from collections import defaultdict, Counter\n",
    "import numpy as np\n",
    "from tqdm import tqdm_notebook as tqdm\n",
    "\n",
    "import pandas as pd\n",
    "import json\n",
    "import re\n",
    "\n",
    "torch.manual_seed(1)"
   ]
  },
  {
   "cell_type": "code",
   "execution_count": 3,
   "metadata": {},
   "outputs": [],
   "source": [
    "path = 'C:/Users/skand/Downloads/reviews_Health_and_Personal_Care_5.json/Health_and_Personal_Care_5.json'"
   ]
  },
  {
   "cell_type": "code",
   "execution_count": 4,
   "metadata": {},
   "outputs": [
    {
     "data": {
      "application/vnd.jupyter.widget-view+json": {
       "model_id": "3b2ed13ecdc44e61827089b601b9eba8",
       "version_major": 2,
       "version_minor": 0
      },
      "text/plain": [
       "HBox(children=(IntProgress(value=1, bar_style='info', max=1), HTML(value='')))"
      ]
     },
     "metadata": {},
     "output_type": "display_data"
    },
    {
     "name": "stdout",
     "output_type": "stream",
     "text": [
      "\n"
     ]
    }
   ],
   "source": [
    "data = []\n",
    "\n",
    "with open(path,'r',encoding='utf8') as file:\n",
    "  for line in tqdm(file):\n",
    "    data.append(json.loads(line.strip()))"
   ]
  },
  {
   "cell_type": "code",
   "execution_count": 34,
   "metadata": {},
   "outputs": [
    {
     "name": "stdout",
     "output_type": "stream",
     "text": [
      "(346355, 9)\n"
     ]
    },
    {
     "data": {
      "text/html": [
       "<div>\n",
       "<style scoped>\n",
       "    .dataframe tbody tr th:only-of-type {\n",
       "        vertical-align: middle;\n",
       "    }\n",
       "\n",
       "    .dataframe tbody tr th {\n",
       "        vertical-align: top;\n",
       "    }\n",
       "\n",
       "    .dataframe thead th {\n",
       "        text-align: right;\n",
       "    }\n",
       "</style>\n",
       "<table border=\"1\" class=\"dataframe\">\n",
       "  <thead>\n",
       "    <tr style=\"text-align: right;\">\n",
       "      <th></th>\n",
       "      <th>asin</th>\n",
       "      <th>helpful</th>\n",
       "      <th>overall</th>\n",
       "      <th>reviewText</th>\n",
       "      <th>reviewTime</th>\n",
       "      <th>reviewerID</th>\n",
       "      <th>reviewerName</th>\n",
       "      <th>summary</th>\n",
       "      <th>unixReviewTime</th>\n",
       "    </tr>\n",
       "  </thead>\n",
       "  <tbody>\n",
       "    <tr>\n",
       "      <th>0</th>\n",
       "      <td>159985130X</td>\n",
       "      <td>[1, 1]</td>\n",
       "      <td>5.0</td>\n",
       "      <td>This is a great little gadget to have around. ...</td>\n",
       "      <td>01 5, 2011</td>\n",
       "      <td>ALC5GH8CAMAI7</td>\n",
       "      <td>AnnN</td>\n",
       "      <td>Handy little gadget</td>\n",
       "      <td>1294185600</td>\n",
       "    </tr>\n",
       "    <tr>\n",
       "      <th>1</th>\n",
       "      <td>159985130X</td>\n",
       "      <td>[1, 1]</td>\n",
       "      <td>4.0</td>\n",
       "      <td>I would recommend this for a travel magnifier ...</td>\n",
       "      <td>02 18, 2012</td>\n",
       "      <td>AHKSURW85PJUE</td>\n",
       "      <td>AZ buyer \"AZ buyer\"</td>\n",
       "      <td>Small &amp; may need to encourage battery</td>\n",
       "      <td>1329523200</td>\n",
       "    </tr>\n",
       "    <tr>\n",
       "      <th>2</th>\n",
       "      <td>159985130X</td>\n",
       "      <td>[75, 77]</td>\n",
       "      <td>4.0</td>\n",
       "      <td>What I liked was the quality of the lens and t...</td>\n",
       "      <td>06 8, 2010</td>\n",
       "      <td>A38RMU1Y5TDP9</td>\n",
       "      <td>Bob Tobias \"Robert Tobias\"</td>\n",
       "      <td>Very good but not great</td>\n",
       "      <td>1275955200</td>\n",
       "    </tr>\n",
       "    <tr>\n",
       "      <th>3</th>\n",
       "      <td>159985130X</td>\n",
       "      <td>[56, 60]</td>\n",
       "      <td>4.0</td>\n",
       "      <td>Love the Great point light pocket magnifier!  ...</td>\n",
       "      <td>02 8, 2008</td>\n",
       "      <td>A1XZUG7DFXXOS4</td>\n",
       "      <td>Cat lover</td>\n",
       "      <td>great addition to your purse</td>\n",
       "      <td>1202428800</td>\n",
       "    </tr>\n",
       "    <tr>\n",
       "      <th>4</th>\n",
       "      <td>159985130X</td>\n",
       "      <td>[1, 1]</td>\n",
       "      <td>5.0</td>\n",
       "      <td>This is very nice. You pull out on the magnifi...</td>\n",
       "      <td>08 16, 2011</td>\n",
       "      <td>A1MS3M7M7AM13X</td>\n",
       "      <td>Cricketoes</td>\n",
       "      <td>Very nice and convenient.</td>\n",
       "      <td>1313452800</td>\n",
       "    </tr>\n",
       "  </tbody>\n",
       "</table>\n",
       "</div>"
      ],
      "text/plain": [
       "         asin   helpful  overall  \\\n",
       "0  159985130X    [1, 1]      5.0   \n",
       "1  159985130X    [1, 1]      4.0   \n",
       "2  159985130X  [75, 77]      4.0   \n",
       "3  159985130X  [56, 60]      4.0   \n",
       "4  159985130X    [1, 1]      5.0   \n",
       "\n",
       "                                          reviewText   reviewTime  \\\n",
       "0  This is a great little gadget to have around. ...   01 5, 2011   \n",
       "1  I would recommend this for a travel magnifier ...  02 18, 2012   \n",
       "2  What I liked was the quality of the lens and t...   06 8, 2010   \n",
       "3  Love the Great point light pocket magnifier!  ...   02 8, 2008   \n",
       "4  This is very nice. You pull out on the magnifi...  08 16, 2011   \n",
       "\n",
       "       reviewerID                reviewerName  \\\n",
       "0   ALC5GH8CAMAI7                        AnnN   \n",
       "1   AHKSURW85PJUE         AZ buyer \"AZ buyer\"   \n",
       "2   A38RMU1Y5TDP9  Bob Tobias \"Robert Tobias\"   \n",
       "3  A1XZUG7DFXXOS4                   Cat lover   \n",
       "4  A1MS3M7M7AM13X                  Cricketoes   \n",
       "\n",
       "                                 summary  unixReviewTime  \n",
       "0                    Handy little gadget      1294185600  \n",
       "1  Small & may need to encourage battery      1329523200  \n",
       "2                Very good but not great      1275955200  \n",
       "3           great addition to your purse      1202428800  \n",
       "4              Very nice and convenient.      1313452800  "
      ]
     },
     "execution_count": 34,
     "metadata": {},
     "output_type": "execute_result"
    }
   ],
   "source": [
    "df = pd.DataFrame(data)\n",
    "print(df.shape)\n",
    "df.head()"
   ]
  },
  {
   "cell_type": "code",
   "execution_count": 35,
   "metadata": {},
   "outputs": [
    {
     "data": {
      "text/plain": [
       "<matplotlib.axes._subplots.AxesSubplot at 0x1ac02cfccf8>"
      ]
     },
     "execution_count": 35,
     "metadata": {},
     "output_type": "execute_result"
    },
    {
     "data": {
      "image/png": "[encoded data removed]",
      "text/plain": [
       "<Figure size 432x288 with 1 Axes>"
      ]
     },
     "metadata": {},
     "output_type": "display_data"
    }
   ],
   "source": [
    "df['n_chars'] = df['reviewText'].apply(len)\n",
    "df['n_chars'].hist(bins = 100)"
   ]
  },
  {
   "cell_type": "code",
   "execution_count": 36,
   "metadata": {},
   "outputs": [
    {
     "name": "stdout",
     "output_type": "stream",
     "text": [
      "(346355, 10)\n"
     ]
    },
    {
     "data": {
      "text/plain": [
       "(337115, 10)"
      ]
     },
     "execution_count": 36,
     "metadata": {},
     "output_type": "execute_result"
    }
   ],
   "source": [
    "print(df.shape)\n",
    "df = df[df['n_chars'] < 2000]\n",
    "df.shape"
   ]
  },
  {
   "cell_type": "code",
   "execution_count": 39,
   "metadata": {},
   "outputs": [
    {
     "name": "stdout",
     "output_type": "stream",
     "text": [
      "(328889, 10)\n"
     ]
    },
    {
     "data": {
      "text/plain": [
       "(230498, 10)"
      ]
     },
     "execution_count": 39,
     "metadata": {},
     "output_type": "execute_result"
    }
   ],
   "source": [
    "print(df.shape)\n",
    "df = df[df['n_chars'] > 200]\n",
    "df.shape"
   ]
  },
  {
   "cell_type": "code",
   "execution_count": 52,
   "metadata": {},
   "outputs": [
    {
     "data": {
      "text/plain": [
       "[\"hello how, aren't you!\", '!?', 'friend!', 'bla']"
      ]
     },
     "execution_count": 52,
     "metadata": {},
     "output_type": "execute_result"
    }
   ],
   "source": [
    "regex_sentences = re.compile(r'[^\\.!?]*[\\.!?]*', re.M)\n",
    "get_sentences = lambda text: [sentence.strip() for sentence in regex_sentences.findall(text.lower()) if sentence.strip()]\n",
    "text = 'Hello how, aren\\'t you! !? Friend! Bla'\n",
    "get_sentences(text)"
   ]
  },
  {
   "cell_type": "code",
   "execution_count": 59,
   "metadata": {},
   "outputs": [
    {
     "name": "stdout",
     "output_type": "stream",
     "text": [
      "Hello how, aren't you! !? Friend! Bla\n",
      "['hello', 'how', \"aren't\", 'you', '!', '!?', 'friend', '!', 'bla', 'STOP']\n"
     ]
    }
   ],
   "source": [
    "regex_text = re.compile(r\"[\\w']+\")\n",
    "get_text = lambda text: [word for word in regex_text.findall(text.lower()) if word]\n",
    "\n",
    "regex_ending = re.compile('[\\.!?]+')\n",
    "get_ending = lambda text: regex_ending.findall(text)\n",
    "\n",
    "get_words = lambda text: get_text(text) + get_ending(text)\n",
    "\n",
    "get_all = lambda text: [word \n",
    "                        for words in [get_text(text) + get_ending(text) for text in get_sentences(text)] \n",
    "                        for word in words\n",
    "                        if word] + ['STOP']\n",
    "\n",
    "print(text)\n",
    "print(get_all(text))\n"
   ]
  },
  {
   "cell_type": "code",
   "execution_count": null,
   "metadata": {},
   "outputs": [],
   "source": []
  },
  {
   "cell_type": "code",
   "execution_count": 61,
   "metadata": {},
   "outputs": [
    {
     "data": {
      "text/plain": [
       "0    [this, is, a, great, little, gadget, to, have,...\n",
       "1    [i, would, recommend, this, for, a, travel, ma...\n",
       "2    [what, i, liked, was, the, quality, of, the, l...\n",
       "3    [love, the, great, point, light, pocket, magni...\n",
       "4    [this, is, very, nice, ., you, pull, out, on, ...\n",
       "Name: sentences, dtype: object"
      ]
     },
     "execution_count": 61,
     "metadata": {},
     "output_type": "execute_result"
    }
   ],
   "source": [
    "df['sentences'] = df['reviewText'].apply(get_all)\n",
    "df['sentences'].head()"
   ]
  },
  {
   "cell_type": "code",
   "execution_count": 62,
   "metadata": {},
   "outputs": [
    {
     "data": {
      "text/plain": [
       "<matplotlib.axes._subplots.AxesSubplot at 0x1aca902fba8>"
      ]
     },
     "execution_count": 62,
     "metadata": {},
     "output_type": "execute_result"
    },
    {
     "data": {
      "image/png": "[encoded data removed]",
      "text/plain": [
       "<Figure size 432x288 with 1 Axes>"
      ]
     },
     "metadata": {},
     "output_type": "display_data"
    }
   ],
   "source": [
    "df['sentences'].apply(len).hist(bins=100)"
   ]
  },
  {
   "cell_type": "code",
   "execution_count": 63,
   "metadata": {},
   "outputs": [],
   "source": [
    "vocab = Counter([word for words in df['sentences'] for word in words])"
   ]
  },
  {
   "cell_type": "code",
   "execution_count": 65,
   "metadata": {},
   "outputs": [
    {
     "data": {
      "text/html": [
       "<div>\n",
       "<style scoped>\n",
       "    .dataframe tbody tr th:only-of-type {\n",
       "        vertical-align: middle;\n",
       "    }\n",
       "\n",
       "    .dataframe tbody tr th {\n",
       "        vertical-align: top;\n",
       "    }\n",
       "\n",
       "    .dataframe thead th {\n",
       "        text-align: right;\n",
       "    }\n",
       "</style>\n",
       "<table border=\"1\" class=\"dataframe\">\n",
       "  <thead>\n",
       "    <tr style=\"text-align: right;\">\n",
       "      <th></th>\n",
       "      <th>word</th>\n",
       "      <th>count</th>\n",
       "    </tr>\n",
       "  </thead>\n",
       "  <tbody>\n",
       "    <tr>\n",
       "      <th>0</th>\n",
       "      <td>this</td>\n",
       "      <td>370761</td>\n",
       "    </tr>\n",
       "    <tr>\n",
       "      <th>1</th>\n",
       "      <td>is</td>\n",
       "      <td>373361</td>\n",
       "    </tr>\n",
       "    <tr>\n",
       "      <th>2</th>\n",
       "      <td>a</td>\n",
       "      <td>659864</td>\n",
       "    </tr>\n",
       "    <tr>\n",
       "      <th>3</th>\n",
       "      <td>great</td>\n",
       "      <td>65617</td>\n",
       "    </tr>\n",
       "    <tr>\n",
       "      <th>4</th>\n",
       "      <td>little</td>\n",
       "      <td>41371</td>\n",
       "    </tr>\n",
       "  </tbody>\n",
       "</table>\n",
       "</div>"
      ],
      "text/plain": [
       "     word   count\n",
       "0    this  370761\n",
       "1      is  373361\n",
       "2       a  659864\n",
       "3   great   65617\n",
       "4  little   41371"
      ]
     },
     "execution_count": 65,
     "metadata": {},
     "output_type": "execute_result"
    }
   ],
   "source": [
    "vocab = pd.DataFrame(vocab.items(),columns=['word','count'])\n",
    "vocab.head()"
   ]
  },
  {
   "cell_type": "code",
   "execution_count": 69,
   "metadata": {},
   "outputs": [
    {
     "data": {
      "text/plain": [
       "<matplotlib.axes._subplots.AxesSubplot at 0x1aca99dd898>"
      ]
     },
     "execution_count": 69,
     "metadata": {},
     "output_type": "execute_result"
    },
    {
     "data": {
      "image/png": "[encoded data removed]",
      "text/plain": [
       "<Figure size 432x288 with 1 Axes>"
      ]
     },
     "metadata": {},
     "output_type": "display_data"
    }
   ],
   "source": [
    "vocab['count'].hist(bins=100,range=(0,100))"
   ]
  },
  {
   "cell_type": "code",
   "execution_count": 78,
   "metadata": {},
   "outputs": [
    {
     "data": {
      "text/plain": [
       "(124107, 5678)"
      ]
     },
     "execution_count": 78,
     "metadata": {},
     "output_type": "execute_result"
    }
   ],
   "source": [
    "threshold = 200\n",
    "len(vocab),sum(vocab['count']>threshold)"
   ]
  },
  {
   "cell_type": "code",
   "execution_count": 85,
   "metadata": {},
   "outputs": [],
   "source": [
    "vocab = vocab[vocab['count']>threshold]\n",
    "word_id = dict(zip(vocab.sort_values('count',ascending=False)['word'],range(len(vocab))))"
   ]
  },
  {
   "cell_type": "code",
   "execution_count": 138,
   "metadata": {},
   "outputs": [],
   "source": [
    "inverse_word_id = {v:k for k,v in word_id.items()}"
   ]
  },
  {
   "cell_type": "code",
   "execution_count": 87,
   "metadata": {},
   "outputs": [],
   "source": [
    "VOCAB_SIZE = len(word_id)"
   ]
  },
  {
   "cell_type": "code",
   "execution_count": 88,
   "metadata": {
    "colab": {},
    "colab_type": "code",
    "id": "MsZymdAKDRAB"
   },
   "outputs": [],
   "source": [
    "def prepare_sequence(seq, to_ix):\n",
    "    idxs = [to_ix[w] for w in seq]\n",
    "    return torch.tensor(idxs, dtype=torch.long)"
   ]
  },
  {
   "cell_type": "code",
   "execution_count": 92,
   "metadata": {
    "colab": {
     "base_uri": "https://localhost:8080/",
     "height": 34
    },
    "colab_type": "code",
    "executionInfo": {
     "elapsed": 861,
     "status": "ok",
     "timestamp": 1588327479251,
     "user": {
      "displayName": "Skander Ben Mansour",
      "photoUrl": "https://lh3.googleusercontent.com/a-/AOh14Ggl7domjq2nPtW4SYKR5BEYuj4qkl2Ljge9t-vlBiU=s64",
      "userId": "11506237701449758837"
     },
     "user_tz": -60
    },
    "id": "0l_VaRV5N9Ld",
    "outputId": "76d836f3-c6a4-4503-aaf4-2098ae2c974e"
   },
   "outputs": [
    {
     "data": {
      "text/plain": [
       "tensor([   1, 1129, 2163,    1, 1814])"
      ]
     },
     "execution_count": 92,
     "metadata": {},
     "output_type": "execute_result"
    }
   ],
   "source": [
    "prepare_sequence('the dog ate the apple'.split(),word_id)"
   ]
  },
  {
   "cell_type": "code",
   "execution_count": 90,
   "metadata": {
    "colab": {},
    "colab_type": "code",
    "id": "1A9feXpDKRSr"
   },
   "outputs": [],
   "source": [
    "WORD_EMBEDDING_SIZE = 10\n",
    "HIDDEN_DIM_LSTM = 10"
   ]
  },
  {
   "cell_type": "code",
   "execution_count": 91,
   "metadata": {
    "colab": {},
    "colab_type": "code",
    "id": "QkMXsMRupHzc"
   },
   "outputs": [],
   "source": [
    "def init_hidden(dim):\n",
    "        return (torch.zeros(1, 1, dim),\n",
    "                torch.zeros(1, 1, dim))"
   ]
  },
  {
   "cell_type": "code",
   "execution_count": 128,
   "metadata": {},
   "outputs": [],
   "source": [
    "class WordLevelSTM(nn.Module):\n",
    "\n",
    "    def __init__(self):\n",
    "        super(WordLevelSTM, self).__init__()\n",
    "        \n",
    "        self.nn_word_embeddings = nn.Embedding(VOCAB_SIZE, WORD_EMBEDDING_SIZE)\n",
    "        self.lstm_full = nn.LSTM(WORD_EMBEDDING_SIZE, HIDDEN_DIM_LSTM)  \n",
    "        self.hidden_full = init_hidden(HIDDEN_DIM_LSTM)\n",
    "        self.hidden_pred = nn.Linear(HIDDEN_DIM_LSTM, VOCAB_SIZE)    \n",
    "\n",
    "    def forward(self, sentence):\n",
    "        \n",
    "        self.hidden_full = init_hidden(HIDDEN_DIM_LSTM)\n",
    "\n",
    "        n_words = len(sentence)\n",
    "    \n",
    "        tensor = prepare_sequence(sentence,word_id)\n",
    "        embedding = self.nn_word_embeddings(tensor)\n",
    "\n",
    "        out, self.hidden_full = self.lstm_full(embedding.view(n_words, 1, -1), self.hidden_full)\n",
    "\n",
    "        pred = self.hidden_pred(out[-1])\n",
    "        scores = F.log_softmax(pred,dim=1)\n",
    "\n",
    "        return scores"
   ]
  },
  {
   "cell_type": "code",
   "execution_count": 129,
   "metadata": {
    "colab": {
     "base_uri": "https://localhost:8080/",
     "height": 302
    },
    "colab_type": "code",
    "executionInfo": {
     "elapsed": 657,
     "status": "ok",
     "timestamp": 1588328478120,
     "user": {
      "displayName": "Skander Ben Mansour",
      "photoUrl": "https://lh3.googleusercontent.com/a-/AOh14Ggl7domjq2nPtW4SYKR5BEYuj4qkl2Ljge9t-vlBiU=s64",
      "userId": "11506237701449758837"
     },
     "user_tz": -60
    },
    "id": "Xzubr5h7nl_1",
    "outputId": "8f42a889-b99b-4248-ea38-77ba4946dc27"
   },
   "outputs": [],
   "source": [
    "model = WordLevelSTM()\n",
    "        \n",
    "        \n",
    "loss_function = nn.NLLLoss()\n",
    "optimizer = optim.SGD(model.parameters(), lr=0.1)"
   ]
  },
  {
   "cell_type": "code",
   "execution_count": null,
   "metadata": {},
   "outputs": [
    {
     "data": {
      "application/vnd.jupyter.widget-view+json": {
       "model_id": "d875ede81e294ecf94822b9fe89bcc8f",
       "version_major": 2,
       "version_minor": 0
      },
      "text/plain": [
       "HBox(children=(IntProgress(value=0, max=230498), HTML(value='')))"
      ]
     },
     "metadata": {},
     "output_type": "display_data"
    }
   ],
   "source": [
    "alpha = 0.99\n",
    "\n",
    "ewma_loss = 0\n",
    "for epoch in range(10):\n",
    "\n",
    "    for t,sentence in enumerate(tqdm(df['sentences'])):\n",
    "        \n",
    "        sentence = [word for word in sentence if word in word_id]\n",
    "        n_words = len(sentence)\n",
    "\n",
    "        for pos in range(1,n_words-1):\n",
    "            words = sentence[:pos]\n",
    "            target = sentence[pos]\n",
    "\n",
    "            scores = model(words)\n",
    "\n",
    "            target_tensor = prepare_sequence([target],word_id)\n",
    "\n",
    "            loss = loss_function(scores, target_tensor)\n",
    "            loss.backward()\n",
    "            optimizer.step()\n",
    "\n",
    "\n",
    "            ewma_loss = alpha*ewma_loss + (1-alpha)*loss\n",
    "            \n",
    "            if t and t % 100 == 0 and pos < 10:\n",
    "                print('Epoch #%2s : %5.2fm sentences --> loss = %5.3f' % (epoch,t/1000000,ewma_loss))\n",
    "                argmax = int(scores.argmax())\n",
    "                pred_word = inverse_word_id[argmax]\n",
    "                print('Pred \"%20s\" vs. Actual \"%20s\"' % (pred_word,target))\n"
   ]
  },
  {
   "cell_type": "code",
   "execution_count": null,
   "metadata": {},
   "outputs": [],
   "source": []
  },
  {
   "cell_type": "code",
   "execution_count": null,
   "metadata": {},
   "outputs": [],
   "source": []
  },
  {
   "cell_type": "code",
   "execution_count": null,
   "metadata": {},
   "outputs": [],
   "source": []
  },
  {
   "cell_type": "code",
   "execution_count": null,
   "metadata": {},
   "outputs": [],
   "source": [
    "\n",
    "# sentence = 'the dog ate the apple'.split()\n",
    "# n_words = len(sentence)\n",
    "# word_ids = prepare_sequence(sentence,word_id)\n",
    "# print(word_ids)\n",
    "# word_embeddings = nn_word_embeddings(word_ids)\n",
    "# print(word_embeddings)\n",
    "\n",
    "\n",
    "# # initialise hidden state\n",
    "# hidden_full = init_hidden(HIDDEN_DIM_LSTM)\n",
    "\n",
    "# for pos in range(len(sentence)-1):\n",
    "#     word = sentence[word]\n",
    "#     tensor = nn_word_embeddings(np.)\n",
    "    \n",
    "    \n",
    "#     tag_space = self.hidden2tag(all_outs.view(n_words, -1))\n",
    "#     tag_scores = F.log_softmax(tag_space, dim=1)\n",
    "\n",
    "\n",
    "# for word_embedding in word_embeddings:\n",
    "#     print(word_embedding.dtype)\n",
    "#     # Step through the sequence one element at a time.\n",
    "#     # after each step, hidden contains the hidden state.\n",
    "#     out, hidden_full = lstm_full(word_embedding.view(1, 1, -1), hidden_full)\n",
    "\n",
    "# print(out)\n",
    "# # out is our final embedding\n",
    "# print(hidden_full)"
   ]
  },
  {
   "cell_type": "code",
   "execution_count": null,
   "metadata": {},
   "outputs": [],
   "source": []
  },
  {
   "cell_type": "code",
   "execution_count": null,
   "metadata": {},
   "outputs": [],
   "source": []
  }
 ],
 "metadata": {
  "colab": {
   "collapsed_sections": [],
   "name": "LSTM_char_level.ipynb",
   "provenance": [
    {
     "file_id": "https://github.com/pytorch/tutorials/blob/gh-pages/_downloads/sequence_models_tutorial.ipynb",
     "timestamp": 1588270333019
    }
   ]
  },
  "kernelspec": {
   "display_name": "Python 3",
   "language": "python",
   "name": "python3"
  },
  "language_info": {
   "codemirror_mode": {
    "name": "ipython",
    "version": 3
   },
   "file_extension": ".py",
   "mimetype": "text/x-python",
   "name": "python",
   "nbconvert_exporter": "python",
   "pygments_lexer": "ipython3",
   "version": "3.6.5"
  }
 },
 "nbformat": 4,
 "nbformat_minor": 1
}
