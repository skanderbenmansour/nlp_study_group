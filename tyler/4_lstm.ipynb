{
 "cells": [
  {
   "cell_type": "code",
   "execution_count": 313,
   "metadata": {},
   "outputs": [],
   "source": [
    "import torch\n",
    "import torch.nn as nn\n",
    "import torch.nn.functional as F\n",
    "import torch.optim as optim\n",
    "\n",
    "torch.manual_seed(1)\n",
    "\n",
    "import numpy as np\n",
    "\n",
    "import torch.autograd as autograd\n",
    "from tqdm.notebook import trange"
   ]
  },
  {
   "cell_type": "code",
   "execution_count": 314,
   "metadata": {},
   "outputs": [],
   "source": [
    "lstm = nn.LSTM(3, 3)  # Input dim is 3, output dim is 3\n",
    "inputs = [torch.randn(1, 3) for _ in range(5)]  # make a sequence of length 5\n",
    "\n",
    "# initialize the hidden state.\n",
    "hidden = (torch.randn(1, 1, 3),\n",
    "          torch.randn(1, 1, 3))\n",
    "for i in inputs:\n",
    "    # Step through the sequence one element at a time.\n",
    "    # after each step, hidden contains the hidden state.\n",
    "    out, hidden = lstm(i.view(1, 1, -1), hidden)"
   ]
  },
  {
   "cell_type": "code",
   "execution_count": 315,
   "metadata": {},
   "outputs": [
    {
     "name": "stdout",
     "output_type": "stream",
     "text": [
      "tensor([[[-0.0187,  0.1713, -0.2944]],\n",
      "\n",
      "        [[-0.3521,  0.1026, -0.2971]],\n",
      "\n",
      "        [[-0.3191,  0.0781, -0.1957]],\n",
      "\n",
      "        [[-0.1634,  0.0941, -0.1637]],\n",
      "\n",
      "        [[-0.3368,  0.0959, -0.0538]]], grad_fn=<StackBackward>)\n"
     ]
    }
   ],
   "source": [
    "# alternatively, we can do the entire sequence all at once.\n",
    "# the first value returned by LSTM is all of the hidden states throughout\n",
    "# the sequence. the second is just the most recent hidden state\n",
    "# (compare the last slice of \"out\" with \"hidden\" below, they are the same)\n",
    "# The reason for this is that:\n",
    "# \"out\" will give you access to all hidden states in the sequence\n",
    "# \"hidden\" will allow you to continue the sequence and backpropagate,\n",
    "# by passing it as an argument  to the lstm at a later time\n",
    "# Add the extra 2nd dimension\n",
    "inputs = torch.cat(inputs).view(len(inputs), 1, -1)\n",
    "hidden = (torch.randn(1, 1, 3), torch.randn(1, 1, 3))  # clean out hidden state\n",
    "out, hidden = lstm(inputs, hidden)\n",
    "print(out)"
   ]
  },
  {
   "cell_type": "code",
   "execution_count": 316,
   "metadata": {},
   "outputs": [
    {
     "name": "stdout",
     "output_type": "stream",
     "text": [
      "(tensor([[[-0.3368,  0.0959, -0.0538]]], grad_fn=<StackBackward>), tensor([[[-0.9825,  0.4715, -0.0633]]], grad_fn=<StackBackward>))\n"
     ]
    }
   ],
   "source": [
    "print(hidden)"
   ]
  },
  {
   "cell_type": "markdown",
   "metadata": {},
   "source": [
    "## POS Tagging"
   ]
  },
  {
   "cell_type": "code",
   "execution_count": null,
   "metadata": {},
   "outputs": [],
   "source": []
  },
  {
   "cell_type": "code",
   "execution_count": 317,
   "metadata": {},
   "outputs": [],
   "source": [
    "training_data = [(\"The dog ate the apple\".split(), [\"DET\", \"NN\", \"V\", \"DET\", \"NN\"]),\n",
    "                (\"Everybody read that book\".split(), [\"NN\", \"V\", \"DET\", \"NN\"])]"
   ]
  },
  {
   "cell_type": "code",
   "execution_count": 318,
   "metadata": {},
   "outputs": [
    {
     "name": "stdout",
     "output_type": "stream",
     "text": [
      "{'The': 0, 'dog': 1, 'ate': 2, 'the': 3, 'apple': 4, 'Everybody': 5, 'read': 6, 'that': 7, 'book': 8}\n"
     ]
    }
   ],
   "source": [
    "word_to_ix = {}\n",
    "for sent, tags in training_data:\n",
    "    for word in sent:\n",
    "        if word not in word_to_ix:\n",
    "            word_to_ix[word] = len(word_to_ix)\n",
    "            \n",
    "print(word_to_ix)"
   ]
  },
  {
   "cell_type": "code",
   "execution_count": 319,
   "metadata": {},
   "outputs": [],
   "source": [
    "tag_to_ix = {\"DET\": 0, \"NN\": 1, \"V\": 2}"
   ]
  },
  {
   "cell_type": "code",
   "execution_count": 320,
   "metadata": {},
   "outputs": [],
   "source": [
    "ix_to_tag = {ix:tag for tag,ix in tag_to_ix.items()}\n",
    "ix_to_word = {ix:word for word,ix in word_to_ix.items()}"
   ]
  },
  {
   "cell_type": "code",
   "execution_count": 321,
   "metadata": {},
   "outputs": [
    {
     "data": {
      "text/plain": [
       "{0: 'DET', 1: 'NN', 2: 'V'}"
      ]
     },
     "execution_count": 321,
     "metadata": {},
     "output_type": "execute_result"
    }
   ],
   "source": [
    "ix_to_tag"
   ]
  },
  {
   "cell_type": "code",
   "execution_count": 322,
   "metadata": {},
   "outputs": [],
   "source": [
    "# These will usually be more like 32 or 64 dimensional.\n",
    "# We will keep them small, so we can see how the weights change as we train.\n",
    "EMBEDDING_DIM = 6\n",
    "HIDDEN_DIM = 6"
   ]
  },
  {
   "cell_type": "code",
   "execution_count": 323,
   "metadata": {},
   "outputs": [],
   "source": [
    "class LSTMTagger(nn.Module):\n",
    "\n",
    "    def __init__(self, embedding_dim, hidden_dim, vocab_size, tagset_size):\n",
    "        super(LSTMTagger, self).__init__()\n",
    "        self.hidden_dim = hidden_dim\n",
    "\n",
    "        self.word_embeddings = nn.Embedding(vocab_size, embedding_dim)\n",
    "\n",
    "        # The LSTM takes word embeddings as inputs, and outputs hidden states\n",
    "        # with dimensionality hidden_dim.\n",
    "        self.lstm = nn.LSTM(embedding_dim, hidden_dim)\n",
    "\n",
    "        # The linear layer that maps from hidden state space to tag space\n",
    "        self.hidden2tag = nn.Linear(hidden_dim, tagset_size)\n",
    "\n",
    "    def forward(self, sentence):\n",
    "        embeds = self.word_embeddings(sentence)\n",
    "        lstm_in = embeds.view(len(sentence), 1, -1)\n",
    "        #print(lstm_in.shape)\n",
    "        lstm_out, _ = self.lstm(lstm_in)\n",
    "        #print(lstm_out.shape)\n",
    "        \n",
    "        to_linear = lstm_out.view(len(sentence), -1)\n",
    "        #print(to_linear.shape)\n",
    "        tag_space = self.hidden2tag(to_linear)\n",
    "        tag_scores = F.log_softmax(tag_space, dim=1)\n",
    "        return tag_scores"
   ]
  },
  {
   "cell_type": "code",
   "execution_count": 324,
   "metadata": {},
   "outputs": [],
   "source": [
    "model = LSTMTagger(EMBEDDING_DIM, HIDDEN_DIM, len(word_to_ix), len(tag_to_ix))\n",
    "loss_function = nn.NLLLoss()\n",
    "optimizer = optim.SGD(model.parameters(), lr=0.1)\n",
    "\n",
    "# See what the scores are before training\n",
    "# Note that element i,j of the output is the score for tag j for word i.\n",
    "# Here we don't need to train, so the code is wrapped in torch.no_grad()\n",
    "with torch.no_grad():\n",
    "    inputs = prepare_sequence(training_data[0][0], word_to_ix)\n",
    "    tag_scores = model(inputs)\n",
    "    #print(tag_scores)\n",
    "\n",
    "for epoch in range(50):  # again, normally you would NOT do 300 epochs, it is toy data\n",
    "    for sentence, tags in training_data:\n",
    "        # Step 1. Remember that Pytorch accumulates gradients.\n",
    "        # We need to clear them out before each instance\n",
    "        model.zero_grad()\n",
    "\n",
    "        # Step 2. Get our inputs ready for the network, that is, turn them into\n",
    "        # Tensors of word indices.\n",
    "        sentence_in = prepare_sequence(sentence, word_to_ix)\n",
    "        targets = prepare_sequence(tags, tag_to_ix)\n",
    "\n",
    "        # Step 3. Run our forward pass.\n",
    "        tag_scores = model(sentence_in)\n",
    "        \n",
    "\n",
    "        # Step 4. Compute the loss, gradients, and update the parameters by\n",
    "        #  calling optimizer.step()\n",
    "        loss = loss_function(tag_scores, targets)\n",
    "        loss.backward()\n",
    "        optimizer.step()"
   ]
  },
  {
   "cell_type": "code",
   "execution_count": 325,
   "metadata": {},
   "outputs": [
    {
     "data": {
      "text/plain": [
       "tensor(0.9058, grad_fn=<NllLossBackward>)"
      ]
     },
     "execution_count": 325,
     "metadata": {},
     "output_type": "execute_result"
    }
   ],
   "source": [
    "loss_function(tag_scores, targets)"
   ]
  },
  {
   "cell_type": "code",
   "execution_count": 326,
   "metadata": {},
   "outputs": [
    {
     "data": {
      "text/plain": [
       "torch.Size([4, 3])"
      ]
     },
     "execution_count": 326,
     "metadata": {},
     "output_type": "execute_result"
    }
   ],
   "source": [
    "tag_scores.shape"
   ]
  },
  {
   "cell_type": "code",
   "execution_count": 327,
   "metadata": {},
   "outputs": [
    {
     "data": {
      "text/plain": [
       "torch.Size([4])"
      ]
     },
     "execution_count": 327,
     "metadata": {},
     "output_type": "execute_result"
    }
   ],
   "source": [
    "targets.shape"
   ]
  },
  {
   "cell_type": "code",
   "execution_count": 328,
   "metadata": {},
   "outputs": [
    {
     "name": "stdout",
     "output_type": "stream",
     "text": [
      "tensor([0, 1, 2, 3, 4])\n"
     ]
    }
   ],
   "source": [
    "# See what the scores are after training\n",
    "with torch.no_grad():\n",
    "    inputs = prepare_sequence(training_data[0][0], word_to_ix)\n",
    "    tag_scores = model(inputs)\n",
    "\n",
    "    # The sentence is \"the dog ate the apple\".  i,j corresponds to score for tag j\n",
    "    # for word i. The predicted tag is the maximum scoring tag.\n",
    "    # Here, we can see the predicted sequence below is 0 1 2 0 1\n",
    "    # since 0 is index of the maximum value of row 1,\n",
    "    # 1 is the index of maximum value of row 2, etc.\n",
    "    # Which is DET NOUN VERB DET NOUN, the correct sequence!\n",
    "    #print(tag_scores)\n",
    "    \n",
    "    preds = np.argmax(tag_scores.detach().numpy(),axis=1)\n",
    "    \n",
    "    print(inputs)\n"
   ]
  },
  {
   "cell_type": "code",
   "execution_count": 329,
   "metadata": {},
   "outputs": [
    {
     "name": "stdout",
     "output_type": "stream",
     "text": [
      "['The', 'dog', 'ate', 'the', 'apple']\n",
      "Preds: ['NN', 'NN', 'NN', 'NN', 'NN']\n",
      "Tags: ['DET', 'NN', 'V', 'DET', 'NN']\n",
      "-------------------------------\n",
      "['Everybody', 'read', 'that', 'book']\n",
      "Preds: ['NN', 'NN', 'DET', 'NN']\n",
      "Tags: ['NN', 'V', 'DET', 'NN']\n",
      "-------------------------------\n"
     ]
    }
   ],
   "source": [
    "# See what the scores are after training\n",
    "with torch.no_grad():\n",
    "    for sentence, tags in training_data:\n",
    "        inputs = prepare_sequence(sentence, word_to_ix)\n",
    "        tag_scores = model(inputs)\n",
    "\n",
    "        preds_ix = np.argmax(tag_scores.detach().numpy(),axis=1)\n",
    "        preds = [ix_to_tag[p] for p in preds_ix]\n",
    "        print(sentence)\n",
    "        \n",
    "        print(f'Preds: {preds}')\n",
    "        print(f'Tags: {tags}')\n",
    "        \n",
    "        print(f'-------------------------------')"
   ]
  },
  {
   "cell_type": "markdown",
   "metadata": {},
   "source": [
    "## Character-level LSTM"
   ]
  },
  {
   "cell_type": "code",
   "execution_count": null,
   "metadata": {},
   "outputs": [],
   "source": []
  },
  {
   "cell_type": "code",
   "execution_count": 330,
   "metadata": {},
   "outputs": [],
   "source": [
    "## this function add padding (spaces) to make sure all words are length 10 characters\n",
    "def sent_to_char(sent):\n",
    "    char_list = []\n",
    "    for w in sent:\n",
    "        a = []\n",
    "        for c in w:\n",
    "            a.append(c)\n",
    "        #for p in range(10 - len(w)):\n",
    "        #    char_list.extend(' ')\n",
    "        char_list.append(a)\n",
    "    return char_list"
   ]
  },
  {
   "cell_type": "code",
   "execution_count": 331,
   "metadata": {},
   "outputs": [],
   "source": [
    "char_to_ix = {}\n",
    "for sent, tags in training_data:\n",
    "    for word in sent_to_char(sent):\n",
    "        for char in word:\n",
    "            if char not in char_to_ix:\n",
    "                char_to_ix[char] = len(char_to_ix)"
   ]
  },
  {
   "cell_type": "code",
   "execution_count": 332,
   "metadata": {},
   "outputs": [
    {
     "data": {
      "text/plain": [
       "[['a'], ['s', 'e', 'n', 't', 'e', 'n', 'c', 'e']]"
      ]
     },
     "execution_count": 332,
     "metadata": {},
     "output_type": "execute_result"
    }
   ],
   "source": [
    "sent_to_char(['a','sentence'])"
   ]
  },
  {
   "cell_type": "code",
   "execution_count": 375,
   "metadata": {},
   "outputs": [],
   "source": [
    "class char_lstm(nn.Module):\n",
    "\n",
    "    def __init__(self, embedding_dim, hidden_dim, vocab_size, vocab_size_char, tagset_size):\n",
    "        super(char_lstm, self).__init__()\n",
    "        self.hidden_dim = hidden_dim\n",
    "\n",
    "        self.char_embeddings = nn.Embedding(vocab_size_char, embedding_dim)\n",
    "        self.lstm_char = nn.LSTM(embedding_dim, hidden_dim)\n",
    "        \n",
    "        self.word_embeddings = nn.Embedding(vocab_size, embedding_dim)\n",
    "        self.lstm = nn.LSTM(embedding_dim + hidden_dim, hidden_dim)\n",
    "\n",
    "        self.hidden2tag = nn.Linear(hidden_dim, tagset_size)\n",
    "                \n",
    "        self.hidden = self.init_hidden(self.hidden_dim)\n",
    "        self.hidden_char = self.init_hidden(self.hidden_dim)\n",
    "        \n",
    "\n",
    "    def forward(self, sentence_in, char_in):\n",
    "        num_words = sentence_in.shape[0]\n",
    "                \n",
    "        #char_emb = self.char_embeddings(char_in)\n",
    "        embeds = self.word_embeddings(sentence_in)\n",
    "                \n",
    "        char_output_list = []\n",
    "        for word in char_in:\n",
    "            self.hidden_char = self.init_hidden(self.hidden_dim)\n",
    "            char_emb = self.char_embeddings(word)\n",
    "            lstm_out_1, self.hidden_char = self.lstm_char(char_emb.view(char_emb.shape[0], 1, -1),self.hidden_char)        \n",
    "            char_output_list.append(lstm_out_1[-1])\n",
    "\n",
    "            #char_output = torch.cat([char_output, lstm_out_1[-1]], dim=0).clone()\n",
    "\n",
    "        ## this keeps only the last output from each charcter sequence\n",
    "        #print(char_output_list)\n",
    "\n",
    "        char_output_tensor = torch.cat(char_output_list)\n",
    "\n",
    "        merged = torch.cat([embeds, char_output_tensor], dim=1) \n",
    "        \n",
    "        self.hidden = self.init_hidden(self.hidden_dim)\n",
    "        \n",
    "        lstm_out, self.hidden = self.lstm(merged.view(num_words, 1, -1),self.hidden)\n",
    "        lstm_out_2 = lstm_out.view(num_words,-1)\n",
    "        \n",
    "        tag_space = self.hidden2tag(lstm_out_2)\n",
    "        #print(tag_space.shape)\n",
    "        \n",
    "        tag_scores = F.log_softmax(tag_space, dim=1)\n",
    "        \n",
    "        return tag_scores\n",
    "    \n",
    "    def init_hidden_old(self,size):\n",
    "        return (autograd.Variable(torch.zeros(1, 1, size)),autograd.Variable(torch.zeros(1, 1, size)))\n",
    "    \n",
    "    def init_hidden(self,size):\n",
    "        return (torch.zeros(1, 1, size),torch.zeros(1, 1, size))"
   ]
  },
  {
   "cell_type": "code",
   "execution_count": 376,
   "metadata": {},
   "outputs": [],
   "source": [
    "EMBEDDING_DIM,HIDDEN_DIM = 6,3\n",
    "model = char_lstm(EMBEDDING_DIM, HIDDEN_DIM, len(word_to_ix), len(char_to_ix), len(tag_to_ix))\n",
    "\n",
    "loss_function = nn.NLLLoss()\n",
    "optimizer = optim.SGD(model.parameters(), lr=0.1)"
   ]
  },
  {
   "cell_type": "code",
   "execution_count": 377,
   "metadata": {},
   "outputs": [],
   "source": [
    "def prepare_sequence(seq, to_ix):\n",
    "    idxs = [to_ix[w] for w in seq]\n",
    "    return torch.tensor(idxs, dtype=torch.long)\n",
    "\n",
    "def prepare_sequence_char(seq, to_ix):\n",
    "    sentence_tensor = []\n",
    "    for word in seq:\n",
    "        idxs = [to_ix[w] for w in word]\n",
    "        word_tensor = torch.tensor(idxs, dtype=torch.long)\n",
    "        sentence_tensor.append(word_tensor)\n",
    "    return sentence_tensor\n"
   ]
  },
  {
   "cell_type": "code",
   "execution_count": 378,
   "metadata": {},
   "outputs": [],
   "source": [
    "for sentence, tags in training_data:\n",
    "    sentence_in = prepare_sequence(sentence, word_to_ix)\n",
    "    char_in = prepare_sequence_char(sent_to_char(sentence), char_to_ix)\n",
    "    targets = prepare_sequence(tags, tag_to_ix)\n",
    "    tag_scores = model(sentence_in,char_in)\n",
    "    #break"
   ]
  },
  {
   "cell_type": "code",
   "execution_count": null,
   "metadata": {},
   "outputs": [],
   "source": []
  },
  {
   "cell_type": "code",
   "execution_count": null,
   "metadata": {},
   "outputs": [],
   "source": []
  },
  {
   "cell_type": "code",
   "execution_count": 379,
   "metadata": {},
   "outputs": [
    {
     "name": "stdout",
     "output_type": "stream",
     "text": [
      "[tensor([[-0.0935, -0.1359, -0.1068]], grad_fn=<SelectBackward>), tensor([[-0.2999, -0.1568,  0.3108]], grad_fn=<SelectBackward>)]\n"
     ]
    }
   ],
   "source": [
    "EMBEDDING_DIM,HIDDEN_DIM = 6,3\n",
    "model = char_lstm(EMBEDDING_DIM, HIDDEN_DIM, len(word_to_ix), len(char_to_ix), len(tag_to_ix))\n",
    "\n",
    "loss_function = nn.NLLLoss()\n",
    "optimizer = optim.SGD(model.parameters(), lr=0.1)\n",
    "\n",
    "\n",
    "model.zero_grad()\n",
    "\n",
    "num_words = sentence_in.shape[0]\n",
    "\n",
    "embeds = model.word_embeddings(sentence_in)\n",
    "\n",
    "#char_output = torch.zeros(0)\n",
    "char_output_list = []\n",
    "for word in char_in:\n",
    "    char_emb = model.char_embeddings(word)\n",
    "    lstm_out_1, model.hidden_char = model.lstm_char(char_emb.view(char_emb.shape[0], 1, -1),model.hidden_char)        \n",
    "    char_output_list.append(lstm_out_1[-1])\n",
    "    \n",
    "    #char_output = torch.cat([char_output, lstm_out_1[-1]], dim=0).clone()\n",
    "    \n",
    "## this keeps only the last output from each charcter sequence\n",
    "print(char_output_list)\n",
    "\n",
    "char_output_tensor = torch.cat(char_output_list)\n",
    "\n",
    "merged = torch.cat([embeds, char_output_tensor], dim=1) \n",
    "\n",
    "lstm_out, model.hidden = model.lstm(merged.view(num_words, 1, -1),model.hidden)\n",
    "lstm_out_2 = lstm_out.view(num_words,-1)\n",
    "\n",
    "tag_space = model.hidden2tag(lstm_out_2)\n",
    "\n",
    "tag_scores = F.log_softmax(tag_space, dim=1)\n",
    "\n",
    "loss = loss_function(tag_scores, targets)\n",
    "loss.backward(retain_graph=True)\n"
   ]
  },
  {
   "cell_type": "code",
   "execution_count": null,
   "metadata": {},
   "outputs": [],
   "source": []
  },
  {
   "cell_type": "code",
   "execution_count": null,
   "metadata": {},
   "outputs": [],
   "source": []
  },
  {
   "cell_type": "code",
   "execution_count": 380,
   "metadata": {},
   "outputs": [
    {
     "data": {
      "text/plain": [
       "[(['ate', 'read'], ['NN', 'V']), (['that', 'read'], ['NN', 'V'])]"
      ]
     },
     "execution_count": 380,
     "metadata": {},
     "output_type": "execute_result"
    }
   ],
   "source": [
    "training_data"
   ]
  },
  {
   "cell_type": "code",
   "execution_count": 383,
   "metadata": {},
   "outputs": [],
   "source": [
    "training_data = [(\"The dog ate the apple\".split(), [\"DET\", \"NN\", \"V\", \"DET\", \"NN\"]),\n",
    "                (\"Everybody read that book\".split(), [\"NN\", \"V\", \"DET\", \"NN\"])]"
   ]
  },
  {
   "cell_type": "code",
   "execution_count": 384,
   "metadata": {},
   "outputs": [
    {
     "data": {
      "application/vnd.jupyter.widget-view+json": {
       "model_id": "8923a556a8f5448fb98e2760e22ce59d",
       "version_major": 2,
       "version_minor": 0
      },
      "text/plain": [
       "HBox(children=(FloatProgress(value=0.0), HTML(value='')))"
      ]
     },
     "metadata": {},
     "output_type": "display_data"
    },
    {
     "name": "stdout",
     "output_type": "stream",
     "text": [
      "\n"
     ]
    }
   ],
   "source": [
    "EMBEDDING_DIM,HIDDEN_DIM = 6,4\n",
    "model = char_lstm(EMBEDDING_DIM, HIDDEN_DIM, len(word_to_ix), len(char_to_ix), len(tag_to_ix))\n",
    "\n",
    "loss_function = nn.NLLLoss()\n",
    "optimizer = optim.SGD(model.parameters(), lr=0.1)\n",
    "\n",
    "for epoch in trange(100):\n",
    "    model.zero_grad()\n",
    "    retain = True\n",
    "    #model.\n",
    "    for sentence, tags in training_data:\n",
    "        sentence_in = prepare_sequence(sentence, word_to_ix)\n",
    "        char_in = prepare_sequence_char(sent_to_char(sentence), char_to_ix)\n",
    "        targets = prepare_sequence(tags, tag_to_ix)\n",
    "        \n",
    "        tag_scores = model(sentence_in,char_in)\n",
    "\n",
    "        loss = loss_function(tag_scores, targets)\n",
    "        \n",
    "        loss.backward()\n",
    "        #loss.backward()\n",
    "        optimizer.step()"
   ]
  },
  {
   "cell_type": "code",
   "execution_count": null,
   "metadata": {},
   "outputs": [],
   "source": []
  },
  {
   "cell_type": "code",
   "execution_count": 385,
   "metadata": {},
   "outputs": [
    {
     "name": "stdout",
     "output_type": "stream",
     "text": [
      "['The', 'dog', 'ate', 'the', 'apple']\n",
      "Preds: ['DET', 'NN', 'V', 'DET', 'NN']\n",
      "Tags:  ['DET', 'NN', 'V', 'DET', 'NN']\n",
      "-------------------------------\n",
      "['Everybody', 'read', 'that', 'book']\n",
      "Preds: ['NN', 'V', 'DET', 'NN']\n",
      "Tags:  ['NN', 'V', 'DET', 'NN']\n",
      "-------------------------------\n"
     ]
    }
   ],
   "source": [
    "# See what the scores are after training\n",
    "with torch.no_grad():\n",
    "    for sentence, tags in training_data:\n",
    "        sentence_in = prepare_sequence(sentence, word_to_ix)\n",
    "        char_in = prepare_sequence_char(sent_to_char(sentence), char_to_ix)\n",
    "        tag_scores = model(sentence_in,char_in)\n",
    "\n",
    "        preds_ix = np.argmax(tag_scores.detach().numpy(),axis=1)\n",
    "        preds = [ix_to_tag[p] for p in preds_ix]\n",
    "        print(sentence)\n",
    "        \n",
    "        print(f'Preds: {preds}')\n",
    "        print(f'Tags:  {tags}')\n",
    "        \n",
    "        print(f'-------------------------------')"
   ]
  },
  {
   "cell_type": "code",
   "execution_count": null,
   "metadata": {},
   "outputs": [],
   "source": []
  },
  {
   "cell_type": "code",
   "execution_count": 386,
   "metadata": {},
   "outputs": [
    {
     "data": {
      "text/plain": [
       "tensor([[-1.6102, -0.2720, -3.2618],\n",
       "        [-1.4204, -2.0099, -0.4710],\n",
       "        [-0.7085, -0.8257, -2.6636],\n",
       "        [-1.3030, -0.3682, -3.3160]])"
      ]
     },
     "execution_count": 386,
     "metadata": {},
     "output_type": "execute_result"
    }
   ],
   "source": [
    "tag_scores"
   ]
  },
  {
   "cell_type": "code",
   "execution_count": null,
   "metadata": {},
   "outputs": [],
   "source": []
  }
 ],
 "metadata": {
  "kernelspec": {
   "display_name": "Python 3",
   "language": "python",
   "name": "python3"
  },
  "language_info": {
   "codemirror_mode": {
    "name": "ipython",
    "version": 3
   },
   "file_extension": ".py",
   "mimetype": "text/x-python",
   "name": "python",
   "nbconvert_exporter": "python",
   "pygments_lexer": "ipython3",
   "version": "3.6.8"
  }
 },
 "nbformat": 4,
 "nbformat_minor": 2
}
