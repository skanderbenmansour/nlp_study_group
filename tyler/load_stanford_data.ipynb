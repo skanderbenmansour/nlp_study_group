{
 "cells": [
  {
   "cell_type": "code",
   "execution_count": 35,
   "metadata": {},
   "outputs": [],
   "source": [
    "import pandas as pd\n",
    "import numpy as np\n",
    "from tqdm.notebook import tqdm\n",
    "from glob import glob\n",
    "import os\n",
    "import zipfile\n",
    "import random"
   ]
  },
  {
   "cell_type": "code",
   "execution_count": 2,
   "metadata": {},
   "outputs": [],
   "source": [
    "data_path = '/Users/tyler/Documents/programming/pytorch_nlp/data/stanford/'"
   ]
  },
  {
   "cell_type": "code",
   "execution_count": 46,
   "metadata": {},
   "outputs": [],
   "source": [
    "train_list = []\n",
    "for sent in ['pos','neg']:\n",
    "    train_path = os.path.join(data_path,f'aclImdb/train/{sent}/*txt')\n",
    "    train_list.extend(glob(train_path))\n",
    "    \n",
    "train_data = []\n",
    "for file in train_list:\n",
    "    label = 1 if 'pos' in file else 0\n",
    "    with open(file,'r') as f:\n",
    "        review = f.read()\n",
    "    train_data.append((review,label))\n",
    "    \n",
    "df_train = pd.DataFrame(train_data)\n",
    "df_train.columns = ['review','label']"
   ]
  },
  {
   "cell_type": "code",
   "execution_count": 47,
   "metadata": {},
   "outputs": [
    {
     "data": {
      "text/plain": [
       "1    12500\n",
       "0    12500\n",
       "Name: label, dtype: int64"
      ]
     },
     "execution_count": 47,
     "metadata": {},
     "output_type": "execute_result"
    }
   ],
   "source": [
    "df_train.label.value_counts()"
   ]
  },
  {
   "cell_type": "code",
   "execution_count": 48,
   "metadata": {},
   "outputs": [],
   "source": [
    "test_list = []\n",
    "for sent in ['pos','neg']:\n",
    "    test_path = os.path.join(data_path,f'aclImdb/test/{sent}/*txt')\n",
    "    test_list.extend(glob(test_path))\n",
    "    \n",
    "test_data = []\n",
    "for file in test_list:\n",
    "    label = 1 if 'pos' in file else 0\n",
    "    with open(file,'r') as f:\n",
    "        review = f.read()\n",
    "    test_data.append((review,label))\n",
    "    \n",
    "df_test = pd.DataFrame(test_data)\n",
    "df_test.columns = ['review','label']"
   ]
  },
  {
   "cell_type": "code",
   "execution_count": 49,
   "metadata": {},
   "outputs": [
    {
     "data": {
      "text/plain": [
       "1    12500\n",
       "0    12500\n",
       "Name: label, dtype: int64"
      ]
     },
     "execution_count": 49,
     "metadata": {},
     "output_type": "execute_result"
    }
   ],
   "source": [
    "df_test.label.value_counts()"
   ]
  },
  {
   "cell_type": "code",
   "execution_count": 51,
   "metadata": {},
   "outputs": [],
   "source": [
    "save_path = os.path.join(data_path,'processed/train.csv')\n",
    "df_train.to_csv(save_path,index=False)\n",
    "\n",
    "save_path = os.path.join(data_path,'processed/test.csv')\n",
    "df_test.to_csv(save_path,index=False)"
   ]
  },
  {
   "cell_type": "markdown",
   "metadata": {},
   "source": [
    "## Read zipped CSV"
   ]
  },
  {
   "cell_type": "code",
   "execution_count": 6,
   "metadata": {},
   "outputs": [],
   "source": [
    "#data_path = '/content/drive/My Drive/colab_data/stanford_data/processed/'\n",
    "zf = zipfile.ZipFile(data_path + 'processed/train.csv.zip')\n",
    "train = pd.read_csv(zf.open('train.csv'))\n",
    "\n",
    "zf = zipfile.ZipFile(data_path + 'processed/test.csv.zip')\n",
    "test_val = pd.read_csv(zf.open('test.csv'))"
   ]
  },
  {
   "cell_type": "code",
   "execution_count": 13,
   "metadata": {},
   "outputs": [],
   "source": [
    "val = pd.concat([test_val[:2500],test_val[12500:12500 + 2500]])\n",
    "test = pd.concat([test_val[2500:12500],test_val[12500 + 2500:]])"
   ]
  },
  {
   "cell_type": "code",
   "execution_count": null,
   "metadata": {},
   "outputs": [],
   "source": []
  }
 ],
 "metadata": {
  "kernelspec": {
   "display_name": "Python 3",
   "language": "python",
   "name": "python3"
  },
  "language_info": {
   "codemirror_mode": {
    "name": "ipython",
    "version": 3
   },
   "file_extension": ".py",
   "mimetype": "text/x-python",
   "name": "python",
   "nbconvert_exporter": "python",
   "pygments_lexer": "ipython3",
   "version": "3.6.8"
  }
 },
 "nbformat": 4,
 "nbformat_minor": 2
}
