{
  "nbformat": 4,
  "nbformat_minor": 0,
  "metadata": {
    "colab": {
      "name": "optuna.ipynb",
      "provenance": [],
      "collapsed_sections": [
        "uOFPRkXJsnob",
        "OiXiwug_tJyL",
        "DecPabA9taNG",
        "98XyGQbftdwb",
        "el0E4jVj8CWz"
      ],
      "toc_visible": true,
      "mount_file_id": "1zsLVVi2-v6iTOT5n9OKNe0fe7gi5Rejs",
      "authorship_tag": "ABX9TyMsToJkZEaj3iJsXt9jgsGu",
      "include_colab_link": true
    },
    "kernelspec": {
      "name": "python3",
      "display_name": "Python 3"
    },
    "accelerator": "GPU"
  },
  "cells": [
    {
      "cell_type": "markdown",
      "metadata": {
        "id": "view-in-github",
        "colab_type": "text"
      },
      "source": [
        "<a href=\"https://colab.research.google.com/github/skanderbenmansour/nlp_study_group/blob/master/tyler/colab/optuna/optuna.ipynb\" target=\"_parent\"><img src=\"https://colab.research.google.com/assets/colab-badge.svg\" alt=\"Open In Colab\"/></a>"
      ]
    },
    {
      "cell_type": "code",
      "metadata": {
        "id": "E0ClpmY4rzxR",
        "colab_type": "code",
        "colab": {
          "base_uri": "https://localhost:8080/",
          "height": 85
        },
        "outputId": "073039ad-e0b2-45bd-a7c8-c189155cc889"
      },
      "source": [
        "import torch\n",
        "import torch.nn as nn\n",
        "import torch.nn.functional as F\n",
        "import torch.optim as optim\n",
        "from torch.nn.utils.rnn import pack_sequence,pad_sequence,pack_padded_sequence,pad_packed_sequence\n",
        "from torch.utils.data import TensorDataset, DataLoader\n",
        "\n",
        "import pandas as pd\n",
        "import numpy as np\n",
        "import random\n",
        "\n",
        "torch.manual_seed(1)\n",
        "\n",
        "from tqdm.notebook import tqdm\n",
        "from collections import Counter\n",
        "import nltk\n",
        "nltk.download('punkt')\n",
        "from nltk.tokenize import word_tokenize\n",
        "import matplotlib.pyplot as plt\n",
        "from torch.utils.data import Dataset, DataLoader\n",
        "from gensim.models import KeyedVectors\n",
        "\n",
        "import zipfile\n",
        "from datetime import datetime\n",
        "from glob import glob\n",
        "import os\n",
        "import json\n",
        "import pickle\n",
        "import sys\n",
        "sys.path.append('/content/drive/My Drive/colab_data/')\n",
        "import autoreload\n",
        "%load_ext autoreload\n",
        "%autoreload 2\n",
        "from py_files import utils\n",
        "from py_files import models\n",
        "\n",
        "import tensorboard\n",
        "%load_ext tensorboard\n",
        "from torch.utils.tensorboard import SummaryWriter\n",
        "import seaborn as sns"
      ],
      "execution_count": null,
      "outputs": [
        {
          "output_type": "stream",
          "text": [
            "[nltk_data] Downloading package punkt to /root/nltk_data...\n",
            "[nltk_data]   Unzipping tokenizers/punkt.zip.\n"
          ],
          "name": "stdout"
        },
        {
          "output_type": "stream",
          "text": [
            "/usr/local/lib/python3.6/dist-packages/statsmodels/tools/_testing.py:19: FutureWarning: pandas.util.testing is deprecated. Use the functions in the public API at pandas.testing instead.\n",
            "  import pandas.util.testing as tm\n"
          ],
          "name": "stderr"
        }
      ]
    },
    {
      "cell_type": "code",
      "metadata": {
        "id": "MRZO4uCjaKj4",
        "colab_type": "code",
        "colab": {}
      },
      "source": [
        "#! pip install optuna\n",
        "import optuna\n",
        "import joblib"
      ],
      "execution_count": null,
      "outputs": []
    },
    {
      "cell_type": "markdown",
      "metadata": {
        "id": "rPKvlfdSw4Jc",
        "colab_type": "text"
      },
      "source": [
        "## Set up GPU\n",
        "#### Edit --> settings --> GPU"
      ]
    },
    {
      "cell_type": "code",
      "metadata": {
        "id": "v7G9MzqJw9Oo",
        "colab_type": "code",
        "colab": {}
      },
      "source": [
        "is_cuda = torch.cuda.is_available()\n",
        "\n",
        "if is_cuda:\n",
        "    device = torch.device(\"cuda\")\n",
        "    torch.backends.cudnn.enabled = True\n",
        "    device_name = torch.cuda.get_device_name()\n",
        "else:\n",
        "    device = torch.device(\"cpu\")\n",
        "    device_name = 'cpu'"
      ],
      "execution_count": null,
      "outputs": []
    },
    {
      "cell_type": "code",
      "metadata": {
        "id": "H0dUMBe2tgiP",
        "colab_type": "code",
        "colab": {}
      },
      "source": [
        "## Can force CPU for testing \n",
        "# device = torch.device(\"cpu\")\n",
        "# is_cuda = False"
      ],
      "execution_count": null,
      "outputs": []
    },
    {
      "cell_type": "code",
      "metadata": {
        "id": "8BhWAKGVxO6p",
        "colab_type": "code",
        "colab": {
          "base_uri": "https://localhost:8080/",
          "height": 34
        },
        "outputId": "ae23d6a5-f7ba-4e1b-b6ee-4a80f4aba381"
      },
      "source": [
        "device,is_cuda,device_name"
      ],
      "execution_count": null,
      "outputs": [
        {
          "output_type": "execute_result",
          "data": {
            "text/plain": [
              "(device(type='cuda'), True, 'Tesla T4')"
            ]
          },
          "metadata": {
            "tags": []
          },
          "execution_count": 7
        }
      ]
    },
    {
      "cell_type": "code",
      "metadata": {
        "id": "ln_HhCnVzoxs",
        "colab_type": "code",
        "colab": {}
      },
      "source": [
        ""
      ],
      "execution_count": null,
      "outputs": []
    },
    {
      "cell_type": "markdown",
      "metadata": {
        "id": "n0vYEsgWxXgo",
        "colab_type": "text"
      },
      "source": [
        "## Load data\n",
        "Stanford data downloaded from https://ai.stanford.edu/~amaas/data/sentiment/\n",
        "\n",
        "w2v data from https://www.kaggle.com/c/word2vec-nlp-tutorial/data"
      ]
    },
    {
      "cell_type": "code",
      "metadata": {
        "id": "OJo0X6H2Gcd8",
        "colab_type": "code",
        "colab": {}
      },
      "source": [
        "# data_path = '/content/drive/My Drive/colab_data/word2vec-nlp-tutorial/'\n",
        "# train_data, test_data, val_data = utils.load_and_process_w2v_data(data_path,save=True)\n"
      ],
      "execution_count": null,
      "outputs": []
    },
    {
      "cell_type": "code",
      "metadata": {
        "id": "jIQmoed_Av-F",
        "colab_type": "code",
        "colab": {}
      },
      "source": [
        "data_path = '/content/drive/My Drive/colab_data/stanford_data/processed/'\n",
        "# train_data, test_data, val_data = utils.load_raw_data(data_path,save=True)"
      ],
      "execution_count": null,
      "outputs": []
    },
    {
      "cell_type": "code",
      "metadata": {
        "id": "YYcx_fStsETe",
        "colab_type": "code",
        "colab": {}
      },
      "source": [
        ""
      ],
      "execution_count": null,
      "outputs": []
    },
    {
      "cell_type": "markdown",
      "metadata": {
        "id": "g5kZHxnTpFAm",
        "colab_type": "text"
      },
      "source": [
        "## Prep reviews\n",
        "25k train, 5k val, 20k test"
      ]
    },
    {
      "cell_type": "code",
      "metadata": {
        "id": "VGMpzyZQbhjA",
        "colab_type": "code",
        "colab": {}
      },
      "source": [
        "train_data, test_data, val_data = utils.load_processed_reviews(data_path)"
      ],
      "execution_count": null,
      "outputs": []
    },
    {
      "cell_type": "code",
      "metadata": {
        "id": "4AnMCf94paJ1",
        "colab_type": "code",
        "colab": {
          "base_uri": "https://localhost:8080/",
          "height": 34
        },
        "outputId": "c6fb4328-31ba-4e4a-ca88-4dc49a21f706"
      },
      "source": [
        "len(train_data),len(test_data),len(val_data)"
      ],
      "execution_count": null,
      "outputs": [
        {
          "output_type": "execute_result",
          "data": {
            "text/plain": [
              "(25000, 20000, 5000)"
            ]
          },
          "metadata": {
            "tags": []
          },
          "execution_count": 10
        }
      ]
    },
    {
      "cell_type": "markdown",
      "metadata": {
        "id": "lian0Wg4pmwP",
        "colab_type": "text"
      },
      "source": [
        "## Load glove"
      ]
    },
    {
      "cell_type": "code",
      "metadata": {
        "id": "Rph0qDwGpnpG",
        "colab_type": "code",
        "colab": {
          "base_uri": "https://localhost:8080/",
          "height": 85
        },
        "outputId": "6ac8e820-fd0c-4533-974f-578a81b5a62a"
      },
      "source": [
        "path = '/content/drive/My Drive/colab_data/glove/glove_100k_300d.kv'\n",
        "glove = KeyedVectors.load(path)\n",
        "weights = torch.FloatTensor(glove.vectors)"
      ],
      "execution_count": null,
      "outputs": [
        {
          "output_type": "stream",
          "text": [
            "/usr/local/lib/python3.6/dist-packages/smart_open/smart_open_lib.py:253: UserWarning:\n",
            "\n",
            "This function is deprecated, use smart_open.open instead. See the migration notes for details: https://github.com/RaRe-Technologies/smart_open/blob/master/README.rst#migrating-to-the-new-open-function\n",
            "\n"
          ],
          "name": "stderr"
        }
      ]
    },
    {
      "cell_type": "code",
      "metadata": {
        "id": "b_2qNaglpzhX",
        "colab_type": "code",
        "colab": {}
      },
      "source": [
        "word2idx = {word:idx for idx,word in enumerate(glove.vocab.keys())}"
      ],
      "execution_count": null,
      "outputs": []
    },
    {
      "cell_type": "code",
      "metadata": {
        "id": "M7rBytoMwFWp",
        "colab_type": "code",
        "colab": {}
      },
      "source": [
        "idx2word = {idx:word for word,idx in word2idx.items()}"
      ],
      "execution_count": null,
      "outputs": []
    },
    {
      "cell_type": "markdown",
      "metadata": {
        "id": "atsSbPygsDYp",
        "colab_type": "text"
      },
      "source": [
        "## Prep input"
      ]
    },
    {
      "cell_type": "code",
      "metadata": {
        "id": "FCPFjRZPUd93",
        "colab_type": "code",
        "colab": {}
      },
      "source": [
        "batch_size = 100\n",
        "train_loader,test_loader,val_loader = utils.load_all_tensor_data(train_data, test_data, val_data, batch_size, word2idx)"
      ],
      "execution_count": null,
      "outputs": []
    },
    {
      "cell_type": "markdown",
      "metadata": {
        "id": "uOFPRkXJsnob",
        "colab_type": "text"
      },
      "source": [
        "## Set up model"
      ]
    },
    {
      "cell_type": "code",
      "metadata": {
        "id": "W1NC_y-_q4p_",
        "colab_type": "code",
        "colab": {}
      },
      "source": [
        "model_version = utils.get_run_version()\n",
        "model_dir,log_dir = utils.setup_dir(model_version)"
      ],
      "execution_count": null,
      "outputs": []
    },
    {
      "cell_type": "code",
      "metadata": {
        "id": "C0JvW8tlrCFP",
        "colab_type": "code",
        "colab": {
          "base_uri": "https://localhost:8080/",
          "height": 68
        },
        "outputId": "6256a1ef-c5de-4281-a716-513dd1fe43cd"
      },
      "source": [
        "model_version,model_dir,log_dir"
      ],
      "execution_count": null,
      "outputs": [
        {
          "output_type": "execute_result",
          "data": {
            "text/plain": [
              "('v39',\n",
              " '/content/drive/My Drive/colab_data/model_checkpoints/v39',\n",
              " '/content/drive/My Drive/colab_data/model_checkpoints/v39/logs')"
            ]
          },
          "metadata": {
            "tags": []
          },
          "execution_count": 19
        }
      ]
    },
    {
      "cell_type": "code",
      "metadata": {
        "id": "mMtR3pPHhd2Z",
        "colab_type": "code",
        "colab": {}
      },
      "source": [
        ""
      ],
      "execution_count": null,
      "outputs": []
    },
    {
      "cell_type": "code",
      "metadata": {
        "id": "AMvAQd54sx23",
        "colab_type": "code",
        "colab": {}
      },
      "source": [
        "writer = SummaryWriter(log_dir)"
      ],
      "execution_count": null,
      "outputs": []
    },
    {
      "cell_type": "code",
      "metadata": {
        "id": "KxwXeD_mskSC",
        "colab_type": "code",
        "colab": {}
      },
      "source": [
        "num_labels = 2\n",
        "vocab_size = 100000\n",
        "embedding_dim = 300\n",
        "num_layers = 1\n",
        "hidden = 50\n",
        "p_dropout = .3\n",
        "\n",
        "model = models.lstm_clf_batch(num_labels,vocab_size,embedding_dim,num_layers,hidden,batch_size,glove.vectors,device,p_dropout)\n",
        "model.to(device)\n",
        "\n",
        "loss_function = nn.BCELoss()\n",
        "\n",
        "lr = .001\n",
        "optimizer = optim.Adam(model.parameters(), lr=lr)\n",
        "\n",
        "num_epochs = 3"
      ],
      "execution_count": null,
      "outputs": []
    },
    {
      "cell_type": "code",
      "metadata": {
        "id": "WPIfBi7Uryz4",
        "colab_type": "code",
        "colab": {}
      },
      "source": [
        "params = {}\n",
        "params['num_labels'] = num_labels\n",
        "params['vocab_size'] = vocab_size\n",
        "params['embedding_dim'] = embedding_dim\n",
        "params['num_layers'] = num_layers\n",
        "params['hidden'] = hidden\n",
        "params['batch_size'] = batch_size\n",
        "params['p_dropout'] = p_dropout\n",
        "params['lr'] = lr\n",
        "params['is_cuda'] = is_cuda\n",
        "params['device_name'] = device_name\n",
        "params['num_epochs'] = num_epochs\n",
        "\n",
        "utils.save_params(model_version,params)"
      ],
      "execution_count": null,
      "outputs": []
    },
    {
      "cell_type": "markdown",
      "metadata": {
        "id": "OiXiwug_tJyL",
        "colab_type": "text"
      },
      "source": [
        "## Train model"
      ]
    },
    {
      "cell_type": "code",
      "metadata": {
        "id": "AwCcrqSMZl9K",
        "colab_type": "code",
        "colab": {}
      },
      "source": [
        "# Load to continue from previous checkpoint\n",
        "# load_path = os.path.join(model_dir,'glove_lstm_batch.pt')\n",
        "# model.load_state_dict(torch.load(load_path))"
      ],
      "execution_count": null,
      "outputs": []
    },
    {
      "cell_type": "code",
      "metadata": {
        "id": "90KaG2v7U2R9",
        "colab_type": "code",
        "colab": {
          "base_uri": "https://localhost:8080/",
          "height": 170
        },
        "outputId": "6fc11ab5-ebf7-46a5-b358-9a657501030b"
      },
      "source": [
        "save_path = os.path.join(model_dir,'glove_lstm_batch.pt')\n",
        "val_loss_min = np.Inf\n",
        "\n",
        "num_batches = 10e3\n",
        "num_epochs = params['num_epochs']\n",
        "loss_history = []\n",
        "\n",
        "for epoch in range(num_epochs):\n",
        "    train_start = datetime.now()\n",
        "    batch_idx = 0\n",
        "    train_loss = []\n",
        "    model.train()\n",
        "    for inputs,lengths,labels in train_loader:\n",
        "        if batch_idx < num_batches:\n",
        "            \n",
        "            model.zero_grad()\n",
        "            h = model.init_hidden()\n",
        "            inputs, lengths, labels = inputs.to(device), lengths.to(device), labels.to(device)\n",
        "            probs,h = model(inputs,lengths,h)\n",
        "            loss = loss_function(probs, labels)\n",
        "\n",
        "            loss.backward()\n",
        "            optimizer.step()\n",
        "            \n",
        "            train_loss.append(loss.item())\n",
        "            \n",
        "            batch_idx += 1\n",
        "\n",
        "    train_end = datetime.now()\n",
        "    diff = (train_end - train_start).seconds\n",
        "    print(f'{diff} seconds to train epoch')\n",
        "            \n",
        "    batch_idx = 0\n",
        "    val_loss = []\n",
        "    for inputs,lengths,labels in val_loader:\n",
        "        \n",
        "        if batch_idx < num_batches:\n",
        "            model.eval()\n",
        "            h = model.init_hidden()\n",
        "            inputs, lengths, labels = inputs.to(device), lengths.to(device), labels.to(device)\n",
        "            probs,h = model(inputs,lengths,h)\n",
        "            loss = loss_function(probs, labels)\n",
        "            \n",
        "            val_loss.append(loss.item())\n",
        "            \n",
        "            batch_idx += 1\n",
        "            \n",
        "    mean_train_loss = np.mean(train_loss)\n",
        "    mean_val_loss = np.mean(val_loss)\n",
        "  \n",
        "    loss_history.append((mean_train_loss,mean_val_loss))\n",
        "    print(f'Epoch {epoch+1}/{num_epochs}: train loss of {mean_train_loss:.3f}, val loss of {mean_val_loss:.3f}')\n",
        "    \n",
        "    if mean_val_loss <= val_loss_min:\n",
        "        print(f'Val loss decreased {val_loss_min:.3f} --> {mean_val_loss:.3f} saving model...')\n",
        "        torch.save(model.state_dict(),save_path)\n",
        "        val_loss_min = mean_val_loss\n",
        "\n",
        "    writer.add_scalars('Loss',{'train': mean_train_loss,'val': mean_val_loss,}, epoch + 1)"
      ],
      "execution_count": null,
      "outputs": [
        {
          "output_type": "stream",
          "text": [
            "42 seconds to train epoch\n",
            "Epoch 1/3: train loss of 0.664, val loss of 0.713\n",
            "Val loss decreased inf --> 0.713 saving model...\n",
            "37 seconds to train epoch\n",
            "Epoch 2/3: train loss of 0.566, val loss of 0.409\n",
            "Val loss decreased 0.713 --> 0.409 saving model...\n",
            "36 seconds to train epoch\n",
            "Epoch 3/3: train loss of 0.356, val loss of 0.330\n",
            "Val loss decreased 0.409 --> 0.330 saving model...\n"
          ],
          "name": "stdout"
        }
      ]
    },
    {
      "cell_type": "code",
      "metadata": {
        "id": "uJJQODSkU2Ys",
        "colab_type": "code",
        "colab": {}
      },
      "source": [
        ""
      ],
      "execution_count": null,
      "outputs": []
    },
    {
      "cell_type": "code",
      "metadata": {
        "id": "639Wn2zztWn3",
        "colab_type": "code",
        "colab": {
          "base_uri": "https://localhost:8080/",
          "height": 442
        },
        "outputId": "f41fcac5-e2af-4662-b5a8-93b121daf5bf"
      },
      "source": [
        "utils.make_loss_plot(loss_history,val_loss_min,model_dir)"
      ],
      "execution_count": null,
      "outputs": [
        {
          "output_type": "display_data",
          "data": {
            "image/png": "[encoded data removed]",
            "text/plain": [
              "<Figure size 1440x504 with 1 Axes>"
            ]
          },
          "metadata": {
            "tags": [],
            "needs_background": "light"
          }
        }
      ]
    },
    {
      "cell_type": "code",
      "metadata": {
        "id": "uvfsUVXWtZFQ",
        "colab_type": "code",
        "colab": {}
      },
      "source": [
        ""
      ],
      "execution_count": null,
      "outputs": []
    },
    {
      "cell_type": "markdown",
      "metadata": {
        "id": "DecPabA9taNG",
        "colab_type": "text"
      },
      "source": [
        "## Evaluate model"
      ]
    },
    {
      "cell_type": "code",
      "metadata": {
        "id": "cvQZToIdWj9c",
        "colab_type": "code",
        "colab": {
          "base_uri": "https://localhost:8080/",
          "height": 170
        },
        "outputId": "8eec04cb-6843-4564-d64a-f8957e02cfe1"
      },
      "source": [
        "results = {}\n",
        "\n",
        "names = 'train val test'.split()\n",
        "\n",
        "loaders = [train_loader,val_loader,test_loader]\n",
        "num_batches = 10e3\n",
        "\n",
        "val_loss = []\n",
        "for name,loader in zip(names,loaders):\n",
        "    results[name] = {}\n",
        "    eval_loss = []\n",
        "    batch_idx = 0\n",
        "    num_correct = 0\n",
        "    total = 0\n",
        "    for inputs,lengths,labels in loader:\n",
        "        if batch_idx < num_batches:\n",
        "            model.eval()\n",
        "            h = model.init_hidden()\n",
        "            inputs, lengths, labels = inputs.to(device), lengths.to(device), labels.to(device)\n",
        "            probs,h = model(inputs,lengths,h)\n",
        "            loss = loss_function(probs, labels)\n",
        "            label = labels[:,1]\n",
        "            \n",
        "            if is_cuda:\n",
        "                pred = probs.argmax(axis=1).cpu().numpy()\n",
        "                label = labels[:,1].cpu().numpy()\n",
        "            else:\n",
        "                pred = probs.argmax(axis=1).detach().numpy()\n",
        "                label = labels[:,1].detach().numpy()\n",
        "\n",
        "            correct = pred == label\n",
        "            num_correct += correct.sum()\n",
        "            total += label.shape[0]\n",
        "            \n",
        "            eval_loss.append(loss.item())\n",
        "\n",
        "            batch_idx += 1\n",
        "\n",
        "    mean_loss = round(np.mean(eval_loss),3)\n",
        "    acc = round(num_correct*100/total,2)\n",
        "\n",
        "    print(f'----{name} set----'.upper())\n",
        "    print(f'{name} loss of {mean_loss}')\n",
        "    print(f'{name} accuracy of {acc}')\n",
        "\n",
        "    results[name]['mean_loss'] = mean_loss\n",
        "    results[name]['acc'] = acc\n",
        "\n",
        "utils.save_eval(model_version,results)\n"
      ],
      "execution_count": null,
      "outputs": [
        {
          "output_type": "stream",
          "text": [
            "----TRAIN SET----\n",
            "train loss of 0.315\n",
            "train accuracy of 87.34\n",
            "----VAL SET----\n",
            "val loss of 0.33\n",
            "val accuracy of 86.42\n",
            "----TEST SET----\n",
            "test loss of 0.324\n",
            "test accuracy of 86.8\n"
          ],
          "name": "stdout"
        }
      ]
    },
    {
      "cell_type": "code",
      "metadata": {
        "id": "YlFJmgvCJXWt",
        "colab_type": "code",
        "colab": {}
      },
      "source": [
        ""
      ],
      "execution_count": null,
      "outputs": []
    },
    {
      "cell_type": "markdown",
      "metadata": {
        "id": "98XyGQbftdwb",
        "colab_type": "text"
      },
      "source": [
        "## Example predictions"
      ]
    },
    {
      "cell_type": "code",
      "metadata": {
        "id": "PHwr1TtWDvX6",
        "colab_type": "code",
        "colab": {}
      },
      "source": [
        "model_dir = '/content/drive/My Drive/colab_data/model_checkpoints/v14'\n",
        "load_path = os.path.join(model_dir,'glove_lstm_batch.pt')\n",
        "if is_cuda:\n",
        "    model.load_state_dict(torch.load(load_path))\n",
        "else:\n",
        "    model.load_state_dict(torch.load(load_path,map_location=torch.device('cpu')))"
      ],
      "execution_count": null,
      "outputs": []
    },
    {
      "cell_type": "code",
      "metadata": {
        "id": "F6nvqkOX136W",
        "colab_type": "code",
        "colab": {}
      },
      "source": [
        "model_version = 'v16'\n",
        "model_name = 'glove_lstm_batch.pt'\n",
        "inf_model = utils.create_inference_model(model_version,model_name,glove,is_cuda,device)"
      ],
      "execution_count": null,
      "outputs": []
    },
    {
      "cell_type": "code",
      "metadata": {
        "id": "7aiDtlQr2ROe",
        "colab_type": "code",
        "colab": {
          "base_uri": "https://localhost:8080/",
          "height": 34
        },
        "outputId": "8e6eff49-dc5e-4b34-953a-6e781845444e"
      },
      "source": [
        "sentence = 'this movie sucks'.split()\n",
        "utils.predict_from_inf_model(sentence, word2idx, inf_model, device, is_cuda, return_prob=True)"
      ],
      "execution_count": null,
      "outputs": [
        {
          "output_type": "execute_result",
          "data": {
            "text/plain": [
              "array([0.805287  , 0.19471297], dtype=float32)"
            ]
          },
          "metadata": {
            "tags": []
          },
          "execution_count": 31
        }
      ]
    },
    {
      "cell_type": "markdown",
      "metadata": {
        "id": "el0E4jVj8CWz",
        "colab_type": "text"
      },
      "source": [
        "## Start tensorboard"
      ]
    },
    {
      "cell_type": "code",
      "metadata": {
        "id": "PWg1ETwr79u0",
        "colab_type": "code",
        "colab": {
          "base_uri": "https://localhost:8080/",
          "height": 34
        },
        "outputId": "aa25e050-6149-430b-b16d-d6d274ba8ff7"
      },
      "source": [
        "log_dir"
      ],
      "execution_count": null,
      "outputs": [
        {
          "output_type": "execute_result",
          "data": {
            "text/plain": [
              "'/content/drive/My Drive/colab_data/model_checkpoints/v14/logs'"
            ]
          },
          "metadata": {
            "tags": []
          },
          "execution_count": 18
        }
      ]
    },
    {
      "cell_type": "code",
      "metadata": {
        "id": "PbDLps3S5yiQ",
        "colab_type": "code",
        "colab": {}
      },
      "source": [
        "%tensorboard --logdir '/content/drive/My Drive/colab_data/model_checkpoints/v14/logs'"
      ],
      "execution_count": null,
      "outputs": []
    },
    {
      "cell_type": "code",
      "metadata": {
        "id": "68r7Yu_76Q-a",
        "colab_type": "code",
        "colab": {}
      },
      "source": [
        ""
      ],
      "execution_count": null,
      "outputs": []
    },
    {
      "cell_type": "code",
      "metadata": {
        "id": "rwrwcQK7V3ms",
        "colab_type": "code",
        "colab": {}
      },
      "source": [
        ""
      ],
      "execution_count": null,
      "outputs": []
    },
    {
      "cell_type": "markdown",
      "metadata": {
        "id": "Ku92Ga-VV4ph",
        "colab_type": "text"
      },
      "source": [
        "## Optuna"
      ]
    },
    {
      "cell_type": "code",
      "metadata": {
        "id": "ujcWYwoZWr22",
        "colab_type": "code",
        "colab": {}
      },
      "source": [
        "fields = 'model_version batch_size p_dropout num_layers num_epochs test_acc test_loss train_acc train_loss'.split()\n",
        "csv_path = '/content/drive/My Drive/colab_data/optuna_search.csv'\n",
        "#utils.init_csv(fields,csv_path)"
      ],
      "execution_count": null,
      "outputs": []
    },
    {
      "cell_type": "code",
      "metadata": {
        "id": "T3kEFqwwV3uK",
        "colab_type": "code",
        "colab": {}
      },
      "source": [
        "def objective(trial, glove, train_data, test_data, val_data, word2idx):\n",
        "    num_labels = 2\n",
        "    vocab_size = 100000\n",
        "    embedding_dim = 300\n",
        "    \n",
        "    hidden = 100\n",
        "    #p_dropout = .3\n",
        "    #batch_size = 100\n",
        "    #num_layers = 2\n",
        "\n",
        "    loss_function = nn.BCELoss()\n",
        "\n",
        "    lr = .001\n",
        "\n",
        "    num_epochs = 30\n",
        "\n",
        "    batch_size = trial.suggest_categorical('batch_size', [10, 100, 500])\n",
        "    p_dropout = trial.suggest_uniform('p_dropout', 0, .5)\n",
        "    num_layers = trial.suggest_int('num_layers', 1, 5)\n",
        "\n",
        "    train_loader,test_loader,val_loader = utils.load_all_tensor_data(train_data, test_data, val_data, batch_size, word2idx)\n",
        "\n",
        "    params = {}\n",
        "    params['num_labels'] = num_labels\n",
        "    params['vocab_size'] = vocab_size\n",
        "    params['embedding_dim'] = embedding_dim\n",
        "    params['num_layers'] = num_layers\n",
        "    params['hidden'] = hidden\n",
        "    params['batch_size'] = batch_size\n",
        "    params['p_dropout'] = p_dropout\n",
        "    params['lr'] = lr\n",
        "    params['is_cuda'] = is_cuda\n",
        "    params['device_name'] = device_name\n",
        "    params['num_epochs'] = num_epochs\n",
        "\n",
        "    model_version = utils.get_run_version()\n",
        "    model_dir,log_dir = utils.setup_dir(model_version)\n",
        "\n",
        "    utils.save_params(model_version,params)\n",
        "\n",
        "    model = models.lstm_clf_batch(num_labels,vocab_size,embedding_dim,num_layers,hidden,batch_size,glove.vectors,device,p_dropout)\n",
        "    model.to(device)\n",
        "\n",
        "    optimizer = optim.Adam(model.parameters(), lr=lr)\n",
        "    print(f'Training model {model_version}')\n",
        "    loss_history,val_loss_min = utils.train_model(model_dir,params,train_loader,val_loader,model,model_version,device,is_cuda,loss_function)\n",
        "    utils.make_loss_plot(loss_history,val_loss_min,model_dir)\n",
        "    plt.close()\n",
        "    model = utils.load_model_checkpoint(model_version,is_cuda,model)\n",
        "    eval_results = utils.eval_model(train_loader,val_loader,test_loader,model,model_version,device,is_cuda,loss_function)\n",
        "\n",
        "    num_layers = params['num_layers']\n",
        "    num_epochs = params['num_epochs']\n",
        "    batch_size = params['batch_size']\n",
        "\n",
        "    train_acc = eval_results['train']['acc']\n",
        "    train_loss = eval_results['train']['mean_loss']\n",
        "\n",
        "    test_acc = eval_results['test']['acc']\n",
        "    test_loss = eval_results['test']['mean_loss']\n",
        "\n",
        "    fields = [model_version,hidden,p_dropout,num_layers,num_epochs,test_acc,test_loss,train_acc,train_loss]\n",
        "    csv_path = '/content/drive/My Drive/colab_data/optuna_search.csv'\n",
        "    utils.write_result_row(fields,csv_path)\n",
        "\n",
        "    return test_loss"
      ],
      "execution_count": null,
      "outputs": []
    },
    {
      "cell_type": "code",
      "metadata": {
        "id": "vc6xOKltV3lB",
        "colab_type": "code",
        "colab": {
          "base_uri": "https://localhost:8080/",
          "height": 34
        },
        "outputId": "3fb13a02-c99c-473f-c249-dbacf9eb3379"
      },
      "source": [
        "test_loss"
      ],
      "execution_count": null,
      "outputs": [
        {
          "output_type": "execute_result",
          "data": {
            "text/plain": [
              "0.461"
            ]
          },
          "metadata": {
            "tags": []
          },
          "execution_count": 21
        }
      ]
    },
    {
      "cell_type": "code",
      "metadata": {
        "id": "0mTv6De8aAhQ",
        "colab_type": "code",
        "colab": {}
      },
      "source": [
        ""
      ],
      "execution_count": null,
      "outputs": []
    },
    {
      "cell_type": "code",
      "metadata": {
        "id": "QtsylgSLaEOj",
        "colab_type": "code",
        "colab": {
          "base_uri": "https://localhost:8080/",
          "height": 34
        },
        "outputId": "095cbe45-bcc9-4ff9-acfb-1c00a8f4adae"
      },
      "source": [
        "study.get_trials()[0].params"
      ],
      "execution_count": null,
      "outputs": [
        {
          "output_type": "execute_result",
          "data": {
            "text/plain": [
              "{'batch_size': 10, 'num_layers': 5, 'p_dropout': 0.2931657388278597}"
            ]
          },
          "metadata": {
            "tags": []
          },
          "execution_count": 19
        }
      ]
    },
    {
      "cell_type": "code",
      "metadata": {
        "id": "QhSRWnXlY4sn",
        "colab_type": "code",
        "colab": {
          "base_uri": "https://localhost:8080/",
          "height": 1000
        },
        "outputId": "e3be8267-6a79-4580-f655-d95b6f2204e8"
      },
      "source": [
        "#study = optuna.create_study(direction='minimize')\n",
        "study.optimize(lambda trial: objective(trial, glove, train_data, test_data, val_data, word2idx), n_trials=5)"
      ],
      "execution_count": null,
      "outputs": [
        {
          "output_type": "stream",
          "text": [
            "Training model v77\n",
            "45 seconds to train epoch\n",
            "Epoch 1/30: train loss of 0.587, val loss of 0.496\n",
            "Val loss decreased inf --> 0.496 saving model...\n",
            "45 seconds to train epoch\n",
            "Epoch 2/30: train loss of 0.452, val loss of 0.463\n",
            "Val loss decreased 0.496 --> 0.463 saving model...\n",
            "45 seconds to train epoch\n",
            "Epoch 3/30: train loss of 0.402, val loss of 0.401\n",
            "Val loss decreased 0.463 --> 0.401 saving model...\n",
            "45 seconds to train epoch\n",
            "Epoch 4/30: train loss of 0.400, val loss of 0.457\n",
            "45 seconds to train epoch\n",
            "Epoch 5/30: train loss of 0.360, val loss of 0.359\n",
            "Val loss decreased 0.401 --> 0.359 saving model...\n",
            "45 seconds to train epoch\n",
            "Epoch 6/30: train loss of 0.329, val loss of 0.332\n",
            "Val loss decreased 0.359 --> 0.332 saving model...\n",
            "45 seconds to train epoch\n",
            "Epoch 7/30: train loss of 0.316, val loss of 0.318\n",
            "Val loss decreased 0.332 --> 0.318 saving model...\n",
            "45 seconds to train epoch\n",
            "Epoch 8/30: train loss of 0.469, val loss of 0.492\n",
            "45 seconds to train epoch\n",
            "Epoch 9/30: train loss of 0.655, val loss of 0.574\n",
            "45 seconds to train epoch\n",
            "Epoch 10/30: train loss of 0.419, val loss of 0.346\n",
            "45 seconds to train epoch\n",
            "Epoch 11/30: train loss of 0.325, val loss of 0.323\n",
            "Val loss has not decreased for 3 epochs...terminating...\n"
          ],
          "name": "stdout"
        },
        {
          "output_type": "stream",
          "text": [
            "[I 2020-07-13 09:39:18,451] Finished trial#15 with value: 0.305 with parameters: {'batch_size': 500, 'p_dropout': 0.03412793834209135, 'num_layers': 2}. Best is trial#13 with value: 0.24.\n"
          ],
          "name": "stderr"
        },
        {
          "output_type": "stream",
          "text": [
            "Training model v78\n",
            "34 seconds to train epoch\n",
            "Epoch 1/30: train loss of 0.597, val loss of 0.588\n",
            "Val loss decreased inf --> 0.588 saving model...\n",
            "34 seconds to train epoch\n",
            "Epoch 2/30: train loss of 0.509, val loss of 0.629\n",
            "34 seconds to train epoch\n",
            "Epoch 3/30: train loss of 0.398, val loss of 0.350\n",
            "Val loss decreased 0.588 --> 0.350 saving model...\n",
            "34 seconds to train epoch\n",
            "Epoch 4/30: train loss of 0.348, val loss of 0.336\n",
            "Val loss decreased 0.350 --> 0.336 saving model...\n",
            "34 seconds to train epoch\n",
            "Epoch 5/30: train loss of 0.317, val loss of 0.320\n",
            "Val loss decreased 0.336 --> 0.320 saving model...\n",
            "34 seconds to train epoch\n",
            "Epoch 6/30: train loss of 0.299, val loss of 0.288\n",
            "Val loss decreased 0.320 --> 0.288 saving model...\n",
            "34 seconds to train epoch\n",
            "Epoch 7/30: train loss of 0.298, val loss of 0.312\n",
            "34 seconds to train epoch\n",
            "Epoch 8/30: train loss of 0.292, val loss of 0.274\n",
            "Val loss decreased 0.288 --> 0.274 saving model...\n",
            "34 seconds to train epoch\n",
            "Epoch 9/30: train loss of 0.274, val loss of 0.263\n",
            "Val loss decreased 0.274 --> 0.263 saving model...\n",
            "33 seconds to train epoch\n",
            "Epoch 10/30: train loss of 0.252, val loss of 0.254\n",
            "Val loss decreased 0.263 --> 0.254 saving model...\n",
            "34 seconds to train epoch\n",
            "Epoch 11/30: train loss of 0.238, val loss of 0.248\n",
            "Val loss decreased 0.254 --> 0.248 saving model...\n",
            "34 seconds to train epoch\n",
            "Epoch 12/30: train loss of 0.233, val loss of 0.237\n",
            "Val loss decreased 0.248 --> 0.237 saving model...\n",
            "34 seconds to train epoch\n",
            "Epoch 13/30: train loss of 0.208, val loss of 0.236\n",
            "Val loss decreased 0.237 --> 0.236 saving model...\n",
            "34 seconds to train epoch\n",
            "Epoch 14/30: train loss of 0.199, val loss of 0.233\n",
            "Val loss decreased 0.236 --> 0.233 saving model...\n",
            "34 seconds to train epoch\n",
            "Epoch 15/30: train loss of 0.188, val loss of 0.245\n",
            "34 seconds to train epoch\n",
            "Epoch 16/30: train loss of 0.170, val loss of 0.242\n",
            "34 seconds to train epoch\n",
            "Epoch 17/30: train loss of 0.148, val loss of 0.253\n",
            "34 seconds to train epoch\n",
            "Epoch 18/30: train loss of 0.131, val loss of 0.280\n",
            "Val loss has not decreased for 3 epochs...terminating...\n"
          ],
          "name": "stdout"
        },
        {
          "output_type": "stream",
          "text": [
            "[I 2020-07-13 09:50:59,212] Finished trial#16 with value: 0.225 with parameters: {'batch_size': 100, 'p_dropout': 0.14066773980033817, 'num_layers': 3}. Best is trial#16 with value: 0.225.\n"
          ],
          "name": "stderr"
        },
        {
          "output_type": "stream",
          "text": [
            "Training model v79\n",
            "40 seconds to train epoch\n",
            "Epoch 1/30: train loss of 0.682, val loss of 0.693\n",
            "Val loss decreased inf --> 0.693 saving model...\n",
            "40 seconds to train epoch\n",
            "Epoch 2/30: train loss of 0.691, val loss of 0.689\n",
            "Val loss decreased 0.693 --> 0.689 saving model...\n",
            "40 seconds to train epoch\n",
            "Epoch 3/30: train loss of 0.687, val loss of 0.692\n",
            "40 seconds to train epoch\n",
            "Epoch 4/30: train loss of 0.611, val loss of 0.373\n",
            "Val loss decreased 0.689 --> 0.373 saving model...\n",
            "41 seconds to train epoch\n",
            "Epoch 5/30: train loss of 0.320, val loss of 0.289\n",
            "Val loss decreased 0.373 --> 0.289 saving model...\n",
            "40 seconds to train epoch\n",
            "Epoch 6/30: train loss of 0.279, val loss of 0.264\n",
            "Val loss decreased 0.289 --> 0.264 saving model...\n",
            "40 seconds to train epoch\n",
            "Epoch 7/30: train loss of 0.253, val loss of 0.259\n",
            "Val loss decreased 0.264 --> 0.259 saving model...\n",
            "41 seconds to train epoch\n",
            "Epoch 8/30: train loss of 0.230, val loss of 0.250\n",
            "Val loss decreased 0.259 --> 0.250 saving model...\n",
            "40 seconds to train epoch\n",
            "Epoch 9/30: train loss of 0.214, val loss of 0.249\n",
            "Val loss decreased 0.250 --> 0.249 saving model...\n",
            "40 seconds to train epoch\n",
            "Epoch 10/30: train loss of 0.197, val loss of 0.252\n",
            "40 seconds to train epoch\n",
            "Epoch 11/30: train loss of 0.171, val loss of 0.256\n",
            "40 seconds to train epoch\n",
            "Epoch 12/30: train loss of 0.148, val loss of 0.263\n",
            "40 seconds to train epoch\n",
            "Epoch 13/30: train loss of 0.126, val loss of 0.308\n",
            "Val loss has not decreased for 3 epochs...terminating...\n"
          ],
          "name": "stdout"
        },
        {
          "output_type": "stream",
          "text": [
            "[I 2020-07-13 10:01:17,649] Finished trial#17 with value: 0.25 with parameters: {'batch_size': 100, 'p_dropout': 0.14236026977284078, 'num_layers': 4}. Best is trial#16 with value: 0.225.\n"
          ],
          "name": "stderr"
        },
        {
          "output_type": "stream",
          "text": [
            "Training model v80\n",
            "40 seconds to train epoch\n",
            "Epoch 1/30: train loss of 0.554, val loss of 0.599\n",
            "Val loss decreased inf --> 0.599 saving model...\n",
            "40 seconds to train epoch\n",
            "Epoch 2/30: train loss of 0.504, val loss of 0.479\n",
            "Val loss decreased 0.599 --> 0.479 saving model...\n",
            "41 seconds to train epoch\n",
            "Epoch 3/30: train loss of 0.424, val loss of 0.383\n",
            "Val loss decreased 0.479 --> 0.383 saving model...\n",
            "41 seconds to train epoch\n",
            "Epoch 4/30: train loss of 0.354, val loss of 0.337\n",
            "Val loss decreased 0.383 --> 0.337 saving model...\n",
            "40 seconds to train epoch\n",
            "Epoch 5/30: train loss of 0.350, val loss of 0.305\n",
            "Val loss decreased 0.337 --> 0.305 saving model...\n",
            "41 seconds to train epoch\n",
            "Epoch 6/30: train loss of 0.290, val loss of 0.266\n",
            "Val loss decreased 0.305 --> 0.266 saving model...\n",
            "41 seconds to train epoch\n",
            "Epoch 7/30: train loss of 0.259, val loss of 0.265\n",
            "Val loss decreased 0.266 --> 0.265 saving model...\n",
            "41 seconds to train epoch\n",
            "Epoch 8/30: train loss of 0.243, val loss of 0.247\n",
            "Val loss decreased 0.265 --> 0.247 saving model...\n",
            "41 seconds to train epoch\n",
            "Epoch 9/30: train loss of 0.227, val loss of 0.243\n",
            "Val loss decreased 0.247 --> 0.243 saving model...\n",
            "40 seconds to train epoch\n",
            "Epoch 10/30: train loss of 0.207, val loss of 0.251\n",
            "40 seconds to train epoch\n",
            "Epoch 11/30: train loss of 0.193, val loss of 0.247\n",
            "40 seconds to train epoch\n",
            "Epoch 12/30: train loss of 0.179, val loss of 0.250\n",
            "40 seconds to train epoch\n",
            "Epoch 13/30: train loss of 0.165, val loss of 0.250\n",
            "Val loss has not decreased for 3 epochs...terminating...\n"
          ],
          "name": "stdout"
        },
        {
          "output_type": "stream",
          "text": [
            "[I 2020-07-13 10:11:38,152] Finished trial#18 with value: 0.24 with parameters: {'batch_size': 100, 'p_dropout': 0.07527210359037816, 'num_layers': 4}. Best is trial#16 with value: 0.225.\n"
          ],
          "name": "stderr"
        },
        {
          "output_type": "stream",
          "text": [
            "Training model v81\n",
            "40 seconds to train epoch\n",
            "Epoch 1/30: train loss of 0.571, val loss of 0.597\n",
            "Val loss decreased inf --> 0.597 saving model...\n",
            "41 seconds to train epoch\n",
            "Epoch 2/30: train loss of 0.555, val loss of 0.479\n",
            "Val loss decreased 0.597 --> 0.479 saving model...\n",
            "41 seconds to train epoch\n",
            "Epoch 3/30: train loss of 0.470, val loss of 0.400\n",
            "Val loss decreased 0.479 --> 0.400 saving model...\n",
            "40 seconds to train epoch\n",
            "Epoch 4/30: train loss of 0.386, val loss of 0.350\n",
            "Val loss decreased 0.400 --> 0.350 saving model...\n",
            "41 seconds to train epoch\n",
            "Epoch 5/30: train loss of 0.337, val loss of 0.318\n",
            "Val loss decreased 0.350 --> 0.318 saving model...\n",
            "41 seconds to train epoch\n",
            "Epoch 6/30: train loss of 0.303, val loss of 0.282\n",
            "Val loss decreased 0.318 --> 0.282 saving model...\n",
            "40 seconds to train epoch\n",
            "Epoch 7/30: train loss of 0.281, val loss of 0.272\n",
            "Val loss decreased 0.282 --> 0.272 saving model...\n",
            "41 seconds to train epoch\n",
            "Epoch 8/30: train loss of 0.301, val loss of 0.279\n",
            "41 seconds to train epoch\n",
            "Epoch 9/30: train loss of 0.260, val loss of 0.263\n",
            "Val loss decreased 0.272 --> 0.263 saving model...\n",
            "41 seconds to train epoch\n",
            "Epoch 10/30: train loss of 0.243, val loss of 0.264\n",
            "41 seconds to train epoch\n",
            "Epoch 11/30: train loss of 0.227, val loss of 0.244\n",
            "Val loss decreased 0.263 --> 0.244 saving model...\n",
            "41 seconds to train epoch\n",
            "Epoch 12/30: train loss of 0.215, val loss of 0.240\n",
            "Val loss decreased 0.244 --> 0.240 saving model...\n",
            "41 seconds to train epoch\n",
            "Epoch 13/30: train loss of 0.197, val loss of 0.250\n",
            "41 seconds to train epoch\n",
            "Epoch 14/30: train loss of 0.182, val loss of 0.248\n",
            "40 seconds to train epoch\n",
            "Epoch 15/30: train loss of 0.165, val loss of 0.246\n",
            "40 seconds to train epoch\n",
            "Epoch 16/30: train loss of 0.147, val loss of 0.266\n",
            "Val loss has not decreased for 3 epochs...terminating...\n"
          ],
          "name": "stdout"
        },
        {
          "output_type": "stream",
          "text": [
            "[I 2020-07-13 10:24:16,355] Finished trial#19 with value: 0.234 with parameters: {'batch_size': 100, 'p_dropout': 0.07082338453692434, 'num_layers': 4}. Best is trial#16 with value: 0.225.\n"
          ],
          "name": "stderr"
        }
      ]
    },
    {
      "cell_type": "code",
      "metadata": {
        "id": "S0xo2QvvY4vt",
        "colab_type": "code",
        "colab": {
          "base_uri": "https://localhost:8080/",
          "height": 51
        },
        "outputId": "0c35932e-00fa-4724-d890-f5f8f828da6a"
      },
      "source": [
        "best_trial = study.best_trial\n",
        "print(f'Metric: {best_trial.value}')\n",
        "print(f'Best hyperparameters: {best_trial.params}')"
      ],
      "execution_count": null,
      "outputs": [
        {
          "output_type": "stream",
          "text": [
            "Metric: 0.225\n",
            "Best hyperparameters: {'batch_size': 100, 'p_dropout': 0.14066773980033817, 'num_layers': 3}\n"
          ],
          "name": "stdout"
        }
      ]
    },
    {
      "cell_type": "code",
      "metadata": {
        "id": "Mv0toXesa4Li",
        "colab_type": "code",
        "colab": {}
      },
      "source": [
        "df = study.trials_dataframe(attrs=('number', 'value', 'params', 'state'))"
      ],
      "execution_count": null,
      "outputs": []
    },
    {
      "cell_type": "code",
      "metadata": {
        "id": "qd9hRBlBc9hq",
        "colab_type": "code",
        "colab": {
          "base_uri": "https://localhost:8080/",
          "height": 669
        },
        "outputId": "62087ff2-bcc6-4687-b14e-70e7f2436b11"
      },
      "source": [
        "df"
      ],
      "execution_count": null,
      "outputs": [
        {
          "output_type": "execute_result",
          "data": {
            "text/html": [
              "<div>\n",
              "<style scoped>\n",
              "    .dataframe tbody tr th:only-of-type {\n",
              "        vertical-align: middle;\n",
              "    }\n",
              "\n",
              "    .dataframe tbody tr th {\n",
              "        vertical-align: top;\n",
              "    }\n",
              "\n",
              "    .dataframe thead th {\n",
              "        text-align: right;\n",
              "    }\n",
              "</style>\n",
              "<table border=\"1\" class=\"dataframe\">\n",
              "  <thead>\n",
              "    <tr style=\"text-align: right;\">\n",
              "      <th></th>\n",
              "      <th>number</th>\n",
              "      <th>value</th>\n",
              "      <th>params_batch_size</th>\n",
              "      <th>params_num_layers</th>\n",
              "      <th>params_p_dropout</th>\n",
              "      <th>state</th>\n",
              "    </tr>\n",
              "  </thead>\n",
              "  <tbody>\n",
              "    <tr>\n",
              "      <th>0</th>\n",
              "      <td>0</td>\n",
              "      <td>0.693</td>\n",
              "      <td>10</td>\n",
              "      <td>5</td>\n",
              "      <td>0.293166</td>\n",
              "      <td>COMPLETE</td>\n",
              "    </tr>\n",
              "    <tr>\n",
              "      <th>1</th>\n",
              "      <td>1</td>\n",
              "      <td>0.252</td>\n",
              "      <td>100</td>\n",
              "      <td>1</td>\n",
              "      <td>0.091056</td>\n",
              "      <td>COMPLETE</td>\n",
              "    </tr>\n",
              "    <tr>\n",
              "      <th>2</th>\n",
              "      <td>2</td>\n",
              "      <td>0.607</td>\n",
              "      <td>100</td>\n",
              "      <td>5</td>\n",
              "      <td>0.325204</td>\n",
              "      <td>COMPLETE</td>\n",
              "    </tr>\n",
              "    <tr>\n",
              "      <th>3</th>\n",
              "      <td>3</td>\n",
              "      <td>0.242</td>\n",
              "      <td>10</td>\n",
              "      <td>1</td>\n",
              "      <td>0.043296</td>\n",
              "      <td>COMPLETE</td>\n",
              "    </tr>\n",
              "    <tr>\n",
              "      <th>4</th>\n",
              "      <td>4</td>\n",
              "      <td>0.412</td>\n",
              "      <td>500</td>\n",
              "      <td>1</td>\n",
              "      <td>0.488119</td>\n",
              "      <td>COMPLETE</td>\n",
              "    </tr>\n",
              "    <tr>\n",
              "      <th>5</th>\n",
              "      <td>5</td>\n",
              "      <td>0.384</td>\n",
              "      <td>500</td>\n",
              "      <td>2</td>\n",
              "      <td>0.033961</td>\n",
              "      <td>COMPLETE</td>\n",
              "    </tr>\n",
              "    <tr>\n",
              "      <th>6</th>\n",
              "      <td>6</td>\n",
              "      <td>0.246</td>\n",
              "      <td>100</td>\n",
              "      <td>3</td>\n",
              "      <td>0.202583</td>\n",
              "      <td>COMPLETE</td>\n",
              "    </tr>\n",
              "    <tr>\n",
              "      <th>7</th>\n",
              "      <td>7</td>\n",
              "      <td>0.245</td>\n",
              "      <td>10</td>\n",
              "      <td>1</td>\n",
              "      <td>0.011884</td>\n",
              "      <td>COMPLETE</td>\n",
              "    </tr>\n",
              "    <tr>\n",
              "      <th>8</th>\n",
              "      <td>8</td>\n",
              "      <td>0.242</td>\n",
              "      <td>100</td>\n",
              "      <td>2</td>\n",
              "      <td>0.212602</td>\n",
              "      <td>COMPLETE</td>\n",
              "    </tr>\n",
              "    <tr>\n",
              "      <th>9</th>\n",
              "      <td>9</td>\n",
              "      <td>0.248</td>\n",
              "      <td>10</td>\n",
              "      <td>3</td>\n",
              "      <td>0.248215</td>\n",
              "      <td>COMPLETE</td>\n",
              "    </tr>\n",
              "    <tr>\n",
              "      <th>10</th>\n",
              "      <td>10</td>\n",
              "      <td>0.246</td>\n",
              "      <td>10</td>\n",
              "      <td>4</td>\n",
              "      <td>0.099710</td>\n",
              "      <td>COMPLETE</td>\n",
              "    </tr>\n",
              "    <tr>\n",
              "      <th>11</th>\n",
              "      <td>11</td>\n",
              "      <td>0.242</td>\n",
              "      <td>100</td>\n",
              "      <td>2</td>\n",
              "      <td>0.397172</td>\n",
              "      <td>COMPLETE</td>\n",
              "    </tr>\n",
              "    <tr>\n",
              "      <th>12</th>\n",
              "      <td>12</td>\n",
              "      <td>0.252</td>\n",
              "      <td>10</td>\n",
              "      <td>2</td>\n",
              "      <td>0.175515</td>\n",
              "      <td>COMPLETE</td>\n",
              "    </tr>\n",
              "    <tr>\n",
              "      <th>13</th>\n",
              "      <td>13</td>\n",
              "      <td>0.240</td>\n",
              "      <td>100</td>\n",
              "      <td>2</td>\n",
              "      <td>0.129012</td>\n",
              "      <td>COMPLETE</td>\n",
              "    </tr>\n",
              "    <tr>\n",
              "      <th>14</th>\n",
              "      <td>14</td>\n",
              "      <td>0.247</td>\n",
              "      <td>10</td>\n",
              "      <td>1</td>\n",
              "      <td>0.128025</td>\n",
              "      <td>COMPLETE</td>\n",
              "    </tr>\n",
              "    <tr>\n",
              "      <th>15</th>\n",
              "      <td>15</td>\n",
              "      <td>0.305</td>\n",
              "      <td>500</td>\n",
              "      <td>2</td>\n",
              "      <td>0.034128</td>\n",
              "      <td>COMPLETE</td>\n",
              "    </tr>\n",
              "    <tr>\n",
              "      <th>16</th>\n",
              "      <td>16</td>\n",
              "      <td>0.225</td>\n",
              "      <td>100</td>\n",
              "      <td>3</td>\n",
              "      <td>0.140668</td>\n",
              "      <td>COMPLETE</td>\n",
              "    </tr>\n",
              "    <tr>\n",
              "      <th>17</th>\n",
              "      <td>17</td>\n",
              "      <td>0.250</td>\n",
              "      <td>100</td>\n",
              "      <td>4</td>\n",
              "      <td>0.142360</td>\n",
              "      <td>COMPLETE</td>\n",
              "    </tr>\n",
              "    <tr>\n",
              "      <th>18</th>\n",
              "      <td>18</td>\n",
              "      <td>0.240</td>\n",
              "      <td>100</td>\n",
              "      <td>4</td>\n",
              "      <td>0.075272</td>\n",
              "      <td>COMPLETE</td>\n",
              "    </tr>\n",
              "    <tr>\n",
              "      <th>19</th>\n",
              "      <td>19</td>\n",
              "      <td>0.234</td>\n",
              "      <td>100</td>\n",
              "      <td>4</td>\n",
              "      <td>0.070823</td>\n",
              "      <td>COMPLETE</td>\n",
              "    </tr>\n",
              "  </tbody>\n",
              "</table>\n",
              "</div>"
            ],
            "text/plain": [
              "    number  value  ...  params_p_dropout     state\n",
              "0        0  0.693  ...          0.293166  COMPLETE\n",
              "1        1  0.252  ...          0.091056  COMPLETE\n",
              "2        2  0.607  ...          0.325204  COMPLETE\n",
              "3        3  0.242  ...          0.043296  COMPLETE\n",
              "4        4  0.412  ...          0.488119  COMPLETE\n",
              "5        5  0.384  ...          0.033961  COMPLETE\n",
              "6        6  0.246  ...          0.202583  COMPLETE\n",
              "7        7  0.245  ...          0.011884  COMPLETE\n",
              "8        8  0.242  ...          0.212602  COMPLETE\n",
              "9        9  0.248  ...          0.248215  COMPLETE\n",
              "10      10  0.246  ...          0.099710  COMPLETE\n",
              "11      11  0.242  ...          0.397172  COMPLETE\n",
              "12      12  0.252  ...          0.175515  COMPLETE\n",
              "13      13  0.240  ...          0.129012  COMPLETE\n",
              "14      14  0.247  ...          0.128025  COMPLETE\n",
              "15      15  0.305  ...          0.034128  COMPLETE\n",
              "16      16  0.225  ...          0.140668  COMPLETE\n",
              "17      17  0.250  ...          0.142360  COMPLETE\n",
              "18      18  0.240  ...          0.075272  COMPLETE\n",
              "19      19  0.234  ...          0.070823  COMPLETE\n",
              "\n",
              "[20 rows x 6 columns]"
            ]
          },
          "metadata": {
            "tags": []
          },
          "execution_count": 30
        }
      ]
    },
    {
      "cell_type": "code",
      "metadata": {
        "id": "5Zyl8vP3a4UD",
        "colab_type": "code",
        "colab": {
          "base_uri": "https://localhost:8080/",
          "height": 34
        },
        "outputId": "5b1a110a-eadd-4dc5-cd4f-11aecc18188d"
      },
      "source": [
        "study_dir = '/content/drive/My Drive/colab_data/optuna_studies/study_v2.pkl'\n",
        "joblib.dump(study,study_dir)"
      ],
      "execution_count": null,
      "outputs": [
        {
          "output_type": "execute_result",
          "data": {
            "text/plain": [
              "['/content/drive/My Drive/colab_data/optuna_studies/study_v2.pkl']"
            ]
          },
          "metadata": {
            "tags": []
          },
          "execution_count": 31
        }
      ]
    },
    {
      "cell_type": "code",
      "metadata": {
        "id": "0cPd6LHmYRtZ",
        "colab_type": "code",
        "colab": {}
      },
      "source": [
        "study = joblib.load(study_dir)"
      ],
      "execution_count": null,
      "outputs": []
    },
    {
      "cell_type": "code",
      "metadata": {
        "id": "Now034iZfBZe",
        "colab_type": "code",
        "colab": {
          "base_uri": "https://localhost:8080/",
          "height": 542
        },
        "outputId": "24afa108-de4c-4384-916d-457ea831116e"
      },
      "source": [
        "optuna.visualization.plot_optimization_history(study)"
      ],
      "execution_count": null,
      "outputs": [
        {
          "output_type": "display_data",
          "data": {
            "text/html": [
              "<html>\n",
              "<head><meta charset=\"utf-8\" /></head>\n",
              "<body>\n",
              "    <div>\n",
              "            <script src=\"https://cdnjs.cloudflare.com/ajax/libs/mathjax/2.7.5/MathJax.js?config=TeX-AMS-MML_SVG\"></script><script type=\"text/javascript\">if (window.MathJax) {MathJax.Hub.Config({SVG: {font: \"STIX-Web\"}});}</script>\n",
              "                <script type=\"text/javascript\">window.PlotlyConfig = {MathJaxConfig: 'local'};</script>\n",
              "        <script src=\"https://cdn.plot.ly/plotly-latest.min.js\"></script>    \n",
              "            <div id=\"2d96ed3c-8293-4e50-8ebd-8dd65454aa7e\" class=\"plotly-graph-div\" style=\"height:525px; width:100%;\"></div>\n",
              "            <script type=\"text/javascript\">\n",
              "                \n",
              "                    window.PLOTLYENV=window.PLOTLYENV || {};\n",
              "                    \n",
              "                if (document.getElementById(\"2d96ed3c-8293-4e50-8ebd-8dd65454aa7e\")) {\n",
              "                    Plotly.newPlot(\n",
              "                        '2d96ed3c-8293-4e50-8ebd-8dd65454aa7e',\n",
              "                        [{\"mode\": \"markers\", \"name\": \"Objective Value\", \"type\": \"scatter\", \"x\": [0, 1, 2, 3, 4, 5, 6, 7, 8, 9, 10, 11, 12, 13, 14, 15, 16, 17, 18, 19], \"y\": [0.693, 0.252, 0.607, 0.242, 0.412, 0.384, 0.246, 0.245, 0.242, 0.248, 0.246, 0.242, 0.252, 0.24, 0.247, 0.305, 0.225, 0.25, 0.24, 0.234]}, {\"name\": \"Best Value\", \"type\": \"scatter\", \"x\": [0, 1, 2, 3, 4, 5, 6, 7, 8, 9, 10, 11, 12, 13, 14, 15, 16, 17, 18, 19], \"y\": [0.693, 0.252, 0.252, 0.242, 0.242, 0.242, 0.242, 0.242, 0.242, 0.242, 0.242, 0.242, 0.242, 0.24, 0.24, 0.24, 0.225, 0.225, 0.225, 0.225]}],\n",
              "                        {\"template\": {\"data\": {\"bar\": [{\"error_x\": {\"color\": \"#2a3f5f\"}, \"error_y\": {\"color\": \"#2a3f5f\"}, \"marker\": {\"line\": {\"color\": \"#E5ECF6\", \"width\": 0.5}}, \"type\": \"bar\"}], \"barpolar\": [{\"marker\": {\"line\": {\"color\": \"#E5ECF6\", \"width\": 0.5}}, \"type\": \"barpolar\"}], \"carpet\": [{\"aaxis\": {\"endlinecolor\": \"#2a3f5f\", \"gridcolor\": \"white\", \"linecolor\": \"white\", \"minorgridcolor\": \"white\", \"startlinecolor\": \"#2a3f5f\"}, \"baxis\": {\"endlinecolor\": \"#2a3f5f\", \"gridcolor\": \"white\", \"linecolor\": \"white\", \"minorgridcolor\": \"white\", \"startlinecolor\": \"#2a3f5f\"}, \"type\": \"carpet\"}], \"choropleth\": [{\"colorbar\": {\"outlinewidth\": 0, \"ticks\": \"\"}, \"type\": \"choropleth\"}], \"contour\": [{\"colorbar\": {\"outlinewidth\": 0, \"ticks\": \"\"}, \"colorscale\": [[0.0, \"#0d0887\"], [0.1111111111111111, \"#46039f\"], [0.2222222222222222, \"#7201a8\"], [0.3333333333333333, \"#9c179e\"], [0.4444444444444444, \"#bd3786\"], [0.5555555555555556, \"#d8576b\"], [0.6666666666666666, \"#ed7953\"], [0.7777777777777778, \"#fb9f3a\"], [0.8888888888888888, \"#fdca26\"], [1.0, \"#f0f921\"]], \"type\": \"contour\"}], \"contourcarpet\": [{\"colorbar\": {\"outlinewidth\": 0, \"ticks\": \"\"}, \"type\": \"contourcarpet\"}], \"heatmap\": [{\"colorbar\": {\"outlinewidth\": 0, \"ticks\": \"\"}, \"colorscale\": [[0.0, \"#0d0887\"], [0.1111111111111111, \"#46039f\"], [0.2222222222222222, \"#7201a8\"], [0.3333333333333333, \"#9c179e\"], [0.4444444444444444, \"#bd3786\"], [0.5555555555555556, \"#d8576b\"], [0.6666666666666666, \"#ed7953\"], [0.7777777777777778, \"#fb9f3a\"], [0.8888888888888888, \"#fdca26\"], [1.0, \"#f0f921\"]], \"type\": \"heatmap\"}], \"heatmapgl\": [{\"colorbar\": {\"outlinewidth\": 0, \"ticks\": \"\"}, \"colorscale\": [[0.0, \"#0d0887\"], [0.1111111111111111, \"#46039f\"], [0.2222222222222222, \"#7201a8\"], [0.3333333333333333, \"#9c179e\"], [0.4444444444444444, \"#bd3786\"], [0.5555555555555556, \"#d8576b\"], [0.6666666666666666, \"#ed7953\"], [0.7777777777777778, \"#fb9f3a\"], [0.8888888888888888, \"#fdca26\"], [1.0, \"#f0f921\"]], \"type\": \"heatmapgl\"}], \"histogram\": [{\"marker\": {\"colorbar\": {\"outlinewidth\": 0, \"ticks\": \"\"}}, \"type\": \"histogram\"}], \"histogram2d\": [{\"colorbar\": {\"outlinewidth\": 0, \"ticks\": \"\"}, \"colorscale\": [[0.0, \"#0d0887\"], [0.1111111111111111, \"#46039f\"], [0.2222222222222222, \"#7201a8\"], [0.3333333333333333, \"#9c179e\"], [0.4444444444444444, \"#bd3786\"], [0.5555555555555556, \"#d8576b\"], [0.6666666666666666, \"#ed7953\"], [0.7777777777777778, \"#fb9f3a\"], [0.8888888888888888, \"#fdca26\"], [1.0, \"#f0f921\"]], \"type\": \"histogram2d\"}], \"histogram2dcontour\": [{\"colorbar\": {\"outlinewidth\": 0, \"ticks\": \"\"}, \"colorscale\": [[0.0, \"#0d0887\"], [0.1111111111111111, \"#46039f\"], [0.2222222222222222, \"#7201a8\"], [0.3333333333333333, \"#9c179e\"], [0.4444444444444444, \"#bd3786\"], [0.5555555555555556, \"#d8576b\"], [0.6666666666666666, \"#ed7953\"], [0.7777777777777778, \"#fb9f3a\"], [0.8888888888888888, \"#fdca26\"], [1.0, \"#f0f921\"]], \"type\": \"histogram2dcontour\"}], \"mesh3d\": [{\"colorbar\": {\"outlinewidth\": 0, \"ticks\": \"\"}, \"type\": \"mesh3d\"}], \"parcoords\": [{\"line\": {\"colorbar\": {\"outlinewidth\": 0, \"ticks\": \"\"}}, \"type\": \"parcoords\"}], \"pie\": [{\"automargin\": true, \"type\": \"pie\"}], \"scatter\": [{\"marker\": {\"colorbar\": {\"outlinewidth\": 0, \"ticks\": \"\"}}, \"type\": \"scatter\"}], \"scatter3d\": [{\"line\": {\"colorbar\": {\"outlinewidth\": 0, \"ticks\": \"\"}}, \"marker\": {\"colorbar\": {\"outlinewidth\": 0, \"ticks\": \"\"}}, \"type\": \"scatter3d\"}], \"scattercarpet\": [{\"marker\": {\"colorbar\": {\"outlinewidth\": 0, \"ticks\": \"\"}}, \"type\": \"scattercarpet\"}], \"scattergeo\": [{\"marker\": {\"colorbar\": {\"outlinewidth\": 0, \"ticks\": \"\"}}, \"type\": \"scattergeo\"}], \"scattergl\": [{\"marker\": {\"colorbar\": {\"outlinewidth\": 0, \"ticks\": \"\"}}, \"type\": \"scattergl\"}], \"scattermapbox\": [{\"marker\": {\"colorbar\": {\"outlinewidth\": 0, \"ticks\": \"\"}}, \"type\": \"scattermapbox\"}], \"scatterpolar\": [{\"marker\": {\"colorbar\": {\"outlinewidth\": 0, \"ticks\": \"\"}}, \"type\": \"scatterpolar\"}], \"scatterpolargl\": [{\"marker\": {\"colorbar\": {\"outlinewidth\": 0, \"ticks\": \"\"}}, \"type\": \"scatterpolargl\"}], \"scatterternary\": [{\"marker\": {\"colorbar\": {\"outlinewidth\": 0, \"ticks\": \"\"}}, \"type\": \"scatterternary\"}], \"surface\": [{\"colorbar\": {\"outlinewidth\": 0, \"ticks\": \"\"}, \"colorscale\": [[0.0, \"#0d0887\"], [0.1111111111111111, \"#46039f\"], [0.2222222222222222, \"#7201a8\"], [0.3333333333333333, \"#9c179e\"], [0.4444444444444444, \"#bd3786\"], [0.5555555555555556, \"#d8576b\"], [0.6666666666666666, \"#ed7953\"], [0.7777777777777778, \"#fb9f3a\"], [0.8888888888888888, \"#fdca26\"], [1.0, \"#f0f921\"]], \"type\": \"surface\"}], \"table\": [{\"cells\": {\"fill\": {\"color\": \"#EBF0F8\"}, \"line\": {\"color\": \"white\"}}, \"header\": {\"fill\": {\"color\": \"#C8D4E3\"}, \"line\": {\"color\": \"white\"}}, \"type\": \"table\"}]}, \"layout\": {\"annotationdefaults\": {\"arrowcolor\": \"#2a3f5f\", \"arrowhead\": 0, \"arrowwidth\": 1}, \"coloraxis\": {\"colorbar\": {\"outlinewidth\": 0, \"ticks\": \"\"}}, \"colorscale\": {\"diverging\": [[0, \"#8e0152\"], [0.1, \"#c51b7d\"], [0.2, \"#de77ae\"], [0.3, \"#f1b6da\"], [0.4, \"#fde0ef\"], [0.5, \"#f7f7f7\"], [0.6, \"#e6f5d0\"], [0.7, \"#b8e186\"], [0.8, \"#7fbc41\"], [0.9, \"#4d9221\"], [1, \"#276419\"]], \"sequential\": [[0.0, \"#0d0887\"], [0.1111111111111111, \"#46039f\"], [0.2222222222222222, \"#7201a8\"], [0.3333333333333333, \"#9c179e\"], [0.4444444444444444, \"#bd3786\"], [0.5555555555555556, \"#d8576b\"], [0.6666666666666666, \"#ed7953\"], [0.7777777777777778, \"#fb9f3a\"], [0.8888888888888888, \"#fdca26\"], [1.0, \"#f0f921\"]], \"sequentialminus\": [[0.0, \"#0d0887\"], [0.1111111111111111, \"#46039f\"], [0.2222222222222222, \"#7201a8\"], [0.3333333333333333, \"#9c179e\"], [0.4444444444444444, \"#bd3786\"], [0.5555555555555556, \"#d8576b\"], [0.6666666666666666, \"#ed7953\"], [0.7777777777777778, \"#fb9f3a\"], [0.8888888888888888, \"#fdca26\"], [1.0, \"#f0f921\"]]}, \"colorway\": [\"#636efa\", \"#EF553B\", \"#00cc96\", \"#ab63fa\", \"#FFA15A\", \"#19d3f3\", \"#FF6692\", \"#B6E880\", \"#FF97FF\", \"#FECB52\"], \"font\": {\"color\": \"#2a3f5f\"}, \"geo\": {\"bgcolor\": \"white\", \"lakecolor\": \"white\", \"landcolor\": \"#E5ECF6\", \"showlakes\": true, \"showland\": true, \"subunitcolor\": \"white\"}, \"hoverlabel\": {\"align\": \"left\"}, \"hovermode\": \"closest\", \"mapbox\": {\"style\": \"light\"}, \"paper_bgcolor\": \"white\", \"plot_bgcolor\": \"#E5ECF6\", \"polar\": {\"angularaxis\": {\"gridcolor\": \"white\", \"linecolor\": \"white\", \"ticks\": \"\"}, \"bgcolor\": \"#E5ECF6\", \"radialaxis\": {\"gridcolor\": \"white\", \"linecolor\": \"white\", \"ticks\": \"\"}}, \"scene\": {\"xaxis\": {\"backgroundcolor\": \"#E5ECF6\", \"gridcolor\": \"white\", \"gridwidth\": 2, \"linecolor\": \"white\", \"showbackground\": true, \"ticks\": \"\", \"zerolinecolor\": \"white\"}, \"yaxis\": {\"backgroundcolor\": \"#E5ECF6\", \"gridcolor\": \"white\", \"gridwidth\": 2, \"linecolor\": \"white\", \"showbackground\": true, \"ticks\": \"\", \"zerolinecolor\": \"white\"}, \"zaxis\": {\"backgroundcolor\": \"#E5ECF6\", \"gridcolor\": \"white\", \"gridwidth\": 2, \"linecolor\": \"white\", \"showbackground\": true, \"ticks\": \"\", \"zerolinecolor\": \"white\"}}, \"shapedefaults\": {\"line\": {\"color\": \"#2a3f5f\"}}, \"ternary\": {\"aaxis\": {\"gridcolor\": \"white\", \"linecolor\": \"white\", \"ticks\": \"\"}, \"baxis\": {\"gridcolor\": \"white\", \"linecolor\": \"white\", \"ticks\": \"\"}, \"bgcolor\": \"#E5ECF6\", \"caxis\": {\"gridcolor\": \"white\", \"linecolor\": \"white\", \"ticks\": \"\"}}, \"title\": {\"x\": 0.05}, \"xaxis\": {\"automargin\": true, \"gridcolor\": \"white\", \"linecolor\": \"white\", \"ticks\": \"\", \"title\": {\"standoff\": 15}, \"zerolinecolor\": \"white\", \"zerolinewidth\": 2}, \"yaxis\": {\"automargin\": true, \"gridcolor\": \"white\", \"linecolor\": \"white\", \"ticks\": \"\", \"title\": {\"standoff\": 15}, \"zerolinecolor\": \"white\", \"zerolinewidth\": 2}}}, \"title\": {\"text\": \"Optimization History Plot\"}, \"xaxis\": {\"title\": {\"text\": \"#Trials\"}}, \"yaxis\": {\"title\": {\"text\": \"Objective Value\"}}},\n",
              "                        {\"responsive\": true}\n",
              "                    ).then(function(){\n",
              "                            \n",
              "var gd = document.getElementById('2d96ed3c-8293-4e50-8ebd-8dd65454aa7e');\n",
              "var x = new MutationObserver(function (mutations, observer) {{\n",
              "        var display = window.getComputedStyle(gd).display;\n",
              "        if (!display || display === 'none') {{\n",
              "            console.log([gd, 'removed!']);\n",
              "            Plotly.purge(gd);\n",
              "            observer.disconnect();\n",
              "        }}\n",
              "}});\n",
              "\n",
              "// Listen for the removal of the full notebook cells\n",
              "var notebookContainer = gd.closest('#notebook-container');\n",
              "if (notebookContainer) {{\n",
              "    x.observe(notebookContainer, {childList: true});\n",
              "}}\n",
              "\n",
              "// Listen for the clearing of the current output cell\n",
              "var outputEl = gd.closest('.output');\n",
              "if (outputEl) {{\n",
              "    x.observe(outputEl, {childList: true});\n",
              "}}\n",
              "\n",
              "                        })\n",
              "                };\n",
              "                \n",
              "            </script>\n",
              "        </div>\n",
              "</body>\n",
              "</html>"
            ]
          },
          "metadata": {
            "tags": []
          }
        }
      ]
    },
    {
      "cell_type": "code",
      "metadata": {
        "id": "ruUR_temfBdM",
        "colab_type": "code",
        "colab": {
          "base_uri": "https://localhost:8080/",
          "height": 542
        },
        "outputId": "89409560-7000-42c9-c8af-235d28b1c3ec"
      },
      "source": [
        "optuna.visualization.plot_slice(study)"
      ],
      "execution_count": null,
      "outputs": [
        {
          "output_type": "display_data",
          "data": {
            "text/html": [
              "<html>\n",
              "<head><meta charset=\"utf-8\" /></head>\n",
              "<body>\n",
              "    <div>\n",
              "            <script src=\"https://cdnjs.cloudflare.com/ajax/libs/mathjax/2.7.5/MathJax.js?config=TeX-AMS-MML_SVG\"></script><script type=\"text/javascript\">if (window.MathJax) {MathJax.Hub.Config({SVG: {font: \"STIX-Web\"}});}</script>\n",
              "                <script type=\"text/javascript\">window.PlotlyConfig = {MathJaxConfig: 'local'};</script>\n",
              "        <script src=\"https://cdn.plot.ly/plotly-latest.min.js\"></script>    \n",
              "            <div id=\"d6351d59-9028-4039-ab78-066eb862a8af\" class=\"plotly-graph-div\" style=\"height:525px; width:100%;\"></div>\n",
              "            <script type=\"text/javascript\">\n",
              "                \n",
              "                    window.PLOTLYENV=window.PLOTLYENV || {};\n",
              "                    \n",
              "                if (document.getElementById(\"d6351d59-9028-4039-ab78-066eb862a8af\")) {\n",
              "                    Plotly.newPlot(\n",
              "                        'd6351d59-9028-4039-ab78-066eb862a8af',\n",
              "                        [{\"marker\": {\"color\": [0, 1, 2, 3, 4, 5, 6, 7, 8, 9, 10, 11, 12, 13, 14, 15, 16, 17, 18, 19], \"colorbar\": {\"title\": {\"text\": \"#Trials\"}, \"x\": 1.0, \"xpad\": 40}, \"colorscale\": [[0.0, \"rgb(247,251,255)\"], [0.125, \"rgb(222,235,247)\"], [0.25, \"rgb(198,219,239)\"], [0.375, \"rgb(158,202,225)\"], [0.5, \"rgb(107,174,214)\"], [0.625, \"rgb(66,146,198)\"], [0.75, \"rgb(33,113,181)\"], [0.875, \"rgb(8,81,156)\"], [1.0, \"rgb(8,48,107)\"]], \"line\": {\"color\": \"Grey\", \"width\": 0.5}, \"showscale\": true}, \"mode\": \"markers\", \"showlegend\": false, \"type\": \"scatter\", \"x\": [10, 100, 100, 10, 500, 500, 100, 10, 100, 10, 10, 100, 10, 100, 10, 500, 100, 100, 100, 100], \"xaxis\": \"x\", \"y\": [0.693, 0.252, 0.607, 0.242, 0.412, 0.384, 0.246, 0.245, 0.242, 0.248, 0.246, 0.242, 0.252, 0.24, 0.247, 0.305, 0.225, 0.25, 0.24, 0.234], \"yaxis\": \"y\"}, {\"marker\": {\"color\": [0, 1, 2, 3, 4, 5, 6, 7, 8, 9, 10, 11, 12, 13, 14, 15, 16, 17, 18, 19], \"colorbar\": {\"title\": {\"text\": \"#Trials\"}, \"x\": 1.0, \"xpad\": 40}, \"colorscale\": [[0.0, \"rgb(247,251,255)\"], [0.125, \"rgb(222,235,247)\"], [0.25, \"rgb(198,219,239)\"], [0.375, \"rgb(158,202,225)\"], [0.5, \"rgb(107,174,214)\"], [0.625, \"rgb(66,146,198)\"], [0.75, \"rgb(33,113,181)\"], [0.875, \"rgb(8,81,156)\"], [1.0, \"rgb(8,48,107)\"]], \"line\": {\"color\": \"Grey\", \"width\": 0.5}, \"showscale\": false}, \"mode\": \"markers\", \"showlegend\": false, \"type\": \"scatter\", \"x\": [5, 1, 5, 1, 1, 2, 3, 1, 2, 3, 4, 2, 2, 2, 1, 2, 3, 4, 4, 4], \"xaxis\": \"x2\", \"y\": [0.693, 0.252, 0.607, 0.242, 0.412, 0.384, 0.246, 0.245, 0.242, 0.248, 0.246, 0.242, 0.252, 0.24, 0.247, 0.305, 0.225, 0.25, 0.24, 0.234], \"yaxis\": \"y2\"}, {\"marker\": {\"color\": [0, 1, 2, 3, 4, 5, 6, 7, 8, 9, 10, 11, 12, 13, 14, 15, 16, 17, 18, 19], \"colorbar\": {\"title\": {\"text\": \"#Trials\"}, \"x\": 1.0, \"xpad\": 40}, \"colorscale\": [[0.0, \"rgb(247,251,255)\"], [0.125, \"rgb(222,235,247)\"], [0.25, \"rgb(198,219,239)\"], [0.375, \"rgb(158,202,225)\"], [0.5, \"rgb(107,174,214)\"], [0.625, \"rgb(66,146,198)\"], [0.75, \"rgb(33,113,181)\"], [0.875, \"rgb(8,81,156)\"], [1.0, \"rgb(8,48,107)\"]], \"line\": {\"color\": \"Grey\", \"width\": 0.5}, \"showscale\": false}, \"mode\": \"markers\", \"showlegend\": false, \"type\": \"scatter\", \"x\": [0.2931657388278597, 0.09105618304607016, 0.32520388257723193, 0.04329554155423815, 0.48811913635003285, 0.033960740510969034, 0.20258293306005787, 0.011884072327102035, 0.212601900233315, 0.24821462690659601, 0.09971031140016415, 0.3971718966772112, 0.1755145199393287, 0.12901208218616017, 0.12802489850587792, 0.03412793834209135, 0.14066773980033817, 0.14236026977284078, 0.07527210359037816, 0.07082338453692434], \"xaxis\": \"x3\", \"y\": [0.693, 0.252, 0.607, 0.242, 0.412, 0.384, 0.246, 0.245, 0.242, 0.248, 0.246, 0.242, 0.252, 0.24, 0.247, 0.305, 0.225, 0.25, 0.24, 0.234], \"yaxis\": \"y3\"}],\n",
              "                        {\"template\": {\"data\": {\"bar\": [{\"error_x\": {\"color\": \"#2a3f5f\"}, \"error_y\": {\"color\": \"#2a3f5f\"}, \"marker\": {\"line\": {\"color\": \"#E5ECF6\", \"width\": 0.5}}, \"type\": \"bar\"}], \"barpolar\": [{\"marker\": {\"line\": {\"color\": \"#E5ECF6\", \"width\": 0.5}}, \"type\": \"barpolar\"}], \"carpet\": [{\"aaxis\": {\"endlinecolor\": \"#2a3f5f\", \"gridcolor\": \"white\", \"linecolor\": \"white\", \"minorgridcolor\": \"white\", \"startlinecolor\": \"#2a3f5f\"}, \"baxis\": {\"endlinecolor\": \"#2a3f5f\", \"gridcolor\": \"white\", \"linecolor\": \"white\", \"minorgridcolor\": \"white\", \"startlinecolor\": \"#2a3f5f\"}, \"type\": \"carpet\"}], \"choropleth\": [{\"colorbar\": {\"outlinewidth\": 0, \"ticks\": \"\"}, \"type\": \"choropleth\"}], \"contour\": [{\"colorbar\": {\"outlinewidth\": 0, \"ticks\": \"\"}, \"colorscale\": [[0.0, \"#0d0887\"], [0.1111111111111111, \"#46039f\"], [0.2222222222222222, \"#7201a8\"], [0.3333333333333333, \"#9c179e\"], [0.4444444444444444, \"#bd3786\"], [0.5555555555555556, \"#d8576b\"], [0.6666666666666666, \"#ed7953\"], [0.7777777777777778, \"#fb9f3a\"], [0.8888888888888888, \"#fdca26\"], [1.0, \"#f0f921\"]], \"type\": \"contour\"}], \"contourcarpet\": [{\"colorbar\": {\"outlinewidth\": 0, \"ticks\": \"\"}, \"type\": \"contourcarpet\"}], \"heatmap\": [{\"colorbar\": {\"outlinewidth\": 0, \"ticks\": \"\"}, \"colorscale\": [[0.0, \"#0d0887\"], [0.1111111111111111, \"#46039f\"], [0.2222222222222222, \"#7201a8\"], [0.3333333333333333, \"#9c179e\"], [0.4444444444444444, \"#bd3786\"], [0.5555555555555556, \"#d8576b\"], [0.6666666666666666, \"#ed7953\"], [0.7777777777777778, \"#fb9f3a\"], [0.8888888888888888, \"#fdca26\"], [1.0, \"#f0f921\"]], \"type\": \"heatmap\"}], \"heatmapgl\": [{\"colorbar\": {\"outlinewidth\": 0, \"ticks\": \"\"}, \"colorscale\": [[0.0, \"#0d0887\"], [0.1111111111111111, \"#46039f\"], [0.2222222222222222, \"#7201a8\"], [0.3333333333333333, \"#9c179e\"], [0.4444444444444444, \"#bd3786\"], [0.5555555555555556, \"#d8576b\"], [0.6666666666666666, \"#ed7953\"], [0.7777777777777778, \"#fb9f3a\"], [0.8888888888888888, \"#fdca26\"], [1.0, \"#f0f921\"]], \"type\": \"heatmapgl\"}], \"histogram\": [{\"marker\": {\"colorbar\": {\"outlinewidth\": 0, \"ticks\": \"\"}}, \"type\": \"histogram\"}], \"histogram2d\": [{\"colorbar\": {\"outlinewidth\": 0, \"ticks\": \"\"}, \"colorscale\": [[0.0, \"#0d0887\"], [0.1111111111111111, \"#46039f\"], [0.2222222222222222, \"#7201a8\"], [0.3333333333333333, \"#9c179e\"], [0.4444444444444444, \"#bd3786\"], [0.5555555555555556, \"#d8576b\"], [0.6666666666666666, \"#ed7953\"], [0.7777777777777778, \"#fb9f3a\"], [0.8888888888888888, \"#fdca26\"], [1.0, \"#f0f921\"]], \"type\": \"histogram2d\"}], \"histogram2dcontour\": [{\"colorbar\": {\"outlinewidth\": 0, \"ticks\": \"\"}, \"colorscale\": [[0.0, \"#0d0887\"], [0.1111111111111111, \"#46039f\"], [0.2222222222222222, \"#7201a8\"], [0.3333333333333333, \"#9c179e\"], [0.4444444444444444, \"#bd3786\"], [0.5555555555555556, \"#d8576b\"], [0.6666666666666666, \"#ed7953\"], [0.7777777777777778, \"#fb9f3a\"], [0.8888888888888888, \"#fdca26\"], [1.0, \"#f0f921\"]], \"type\": \"histogram2dcontour\"}], \"mesh3d\": [{\"colorbar\": {\"outlinewidth\": 0, \"ticks\": \"\"}, \"type\": \"mesh3d\"}], \"parcoords\": [{\"line\": {\"colorbar\": {\"outlinewidth\": 0, \"ticks\": \"\"}}, \"type\": \"parcoords\"}], \"pie\": [{\"automargin\": true, \"type\": \"pie\"}], \"scatter\": [{\"marker\": {\"colorbar\": {\"outlinewidth\": 0, \"ticks\": \"\"}}, \"type\": \"scatter\"}], \"scatter3d\": [{\"line\": {\"colorbar\": {\"outlinewidth\": 0, \"ticks\": \"\"}}, \"marker\": {\"colorbar\": {\"outlinewidth\": 0, \"ticks\": \"\"}}, \"type\": \"scatter3d\"}], \"scattercarpet\": [{\"marker\": {\"colorbar\": {\"outlinewidth\": 0, \"ticks\": \"\"}}, \"type\": \"scattercarpet\"}], \"scattergeo\": [{\"marker\": {\"colorbar\": {\"outlinewidth\": 0, \"ticks\": \"\"}}, \"type\": \"scattergeo\"}], \"scattergl\": [{\"marker\": {\"colorbar\": {\"outlinewidth\": 0, \"ticks\": \"\"}}, \"type\": \"scattergl\"}], \"scattermapbox\": [{\"marker\": {\"colorbar\": {\"outlinewidth\": 0, \"ticks\": \"\"}}, \"type\": \"scattermapbox\"}], \"scatterpolar\": [{\"marker\": {\"colorbar\": {\"outlinewidth\": 0, \"ticks\": \"\"}}, \"type\": \"scatterpolar\"}], \"scatterpolargl\": [{\"marker\": {\"colorbar\": {\"outlinewidth\": 0, \"ticks\": \"\"}}, \"type\": \"scatterpolargl\"}], \"scatterternary\": [{\"marker\": {\"colorbar\": {\"outlinewidth\": 0, \"ticks\": \"\"}}, \"type\": \"scatterternary\"}], \"surface\": [{\"colorbar\": {\"outlinewidth\": 0, \"ticks\": \"\"}, \"colorscale\": [[0.0, \"#0d0887\"], [0.1111111111111111, \"#46039f\"], [0.2222222222222222, \"#7201a8\"], [0.3333333333333333, \"#9c179e\"], [0.4444444444444444, \"#bd3786\"], [0.5555555555555556, \"#d8576b\"], [0.6666666666666666, \"#ed7953\"], [0.7777777777777778, \"#fb9f3a\"], [0.8888888888888888, \"#fdca26\"], [1.0, \"#f0f921\"]], \"type\": \"surface\"}], \"table\": [{\"cells\": {\"fill\": {\"color\": \"#EBF0F8\"}, \"line\": {\"color\": \"white\"}}, \"header\": {\"fill\": {\"color\": \"#C8D4E3\"}, \"line\": {\"color\": \"white\"}}, \"type\": \"table\"}]}, \"layout\": {\"annotationdefaults\": {\"arrowcolor\": \"#2a3f5f\", \"arrowhead\": 0, \"arrowwidth\": 1}, \"coloraxis\": {\"colorbar\": {\"outlinewidth\": 0, \"ticks\": \"\"}}, \"colorscale\": {\"diverging\": [[0, \"#8e0152\"], [0.1, \"#c51b7d\"], [0.2, \"#de77ae\"], [0.3, \"#f1b6da\"], [0.4, \"#fde0ef\"], [0.5, \"#f7f7f7\"], [0.6, \"#e6f5d0\"], [0.7, \"#b8e186\"], [0.8, \"#7fbc41\"], [0.9, \"#4d9221\"], [1, \"#276419\"]], \"sequential\": [[0.0, \"#0d0887\"], [0.1111111111111111, \"#46039f\"], [0.2222222222222222, \"#7201a8\"], [0.3333333333333333, \"#9c179e\"], [0.4444444444444444, \"#bd3786\"], [0.5555555555555556, \"#d8576b\"], [0.6666666666666666, \"#ed7953\"], [0.7777777777777778, \"#fb9f3a\"], [0.8888888888888888, \"#fdca26\"], [1.0, \"#f0f921\"]], \"sequentialminus\": [[0.0, \"#0d0887\"], [0.1111111111111111, \"#46039f\"], [0.2222222222222222, \"#7201a8\"], [0.3333333333333333, \"#9c179e\"], [0.4444444444444444, \"#bd3786\"], [0.5555555555555556, \"#d8576b\"], [0.6666666666666666, \"#ed7953\"], [0.7777777777777778, \"#fb9f3a\"], [0.8888888888888888, \"#fdca26\"], [1.0, \"#f0f921\"]]}, \"colorway\": [\"#636efa\", \"#EF553B\", \"#00cc96\", \"#ab63fa\", \"#FFA15A\", \"#19d3f3\", \"#FF6692\", \"#B6E880\", \"#FF97FF\", \"#FECB52\"], \"font\": {\"color\": \"#2a3f5f\"}, \"geo\": {\"bgcolor\": \"white\", \"lakecolor\": \"white\", \"landcolor\": \"#E5ECF6\", \"showlakes\": true, \"showland\": true, \"subunitcolor\": \"white\"}, \"hoverlabel\": {\"align\": \"left\"}, \"hovermode\": \"closest\", \"mapbox\": {\"style\": \"light\"}, \"paper_bgcolor\": \"white\", \"plot_bgcolor\": \"#E5ECF6\", \"polar\": {\"angularaxis\": {\"gridcolor\": \"white\", \"linecolor\": \"white\", \"ticks\": \"\"}, \"bgcolor\": \"#E5ECF6\", \"radialaxis\": {\"gridcolor\": \"white\", \"linecolor\": \"white\", \"ticks\": \"\"}}, \"scene\": {\"xaxis\": {\"backgroundcolor\": \"#E5ECF6\", \"gridcolor\": \"white\", \"gridwidth\": 2, \"linecolor\": \"white\", \"showbackground\": true, \"ticks\": \"\", \"zerolinecolor\": \"white\"}, \"yaxis\": {\"backgroundcolor\": \"#E5ECF6\", \"gridcolor\": \"white\", \"gridwidth\": 2, \"linecolor\": \"white\", \"showbackground\": true, \"ticks\": \"\", \"zerolinecolor\": \"white\"}, \"zaxis\": {\"backgroundcolor\": \"#E5ECF6\", \"gridcolor\": \"white\", \"gridwidth\": 2, \"linecolor\": \"white\", \"showbackground\": true, \"ticks\": \"\", \"zerolinecolor\": \"white\"}}, \"shapedefaults\": {\"line\": {\"color\": \"#2a3f5f\"}}, \"ternary\": {\"aaxis\": {\"gridcolor\": \"white\", \"linecolor\": \"white\", \"ticks\": \"\"}, \"baxis\": {\"gridcolor\": \"white\", \"linecolor\": \"white\", \"ticks\": \"\"}, \"bgcolor\": \"#E5ECF6\", \"caxis\": {\"gridcolor\": \"white\", \"linecolor\": \"white\", \"ticks\": \"\"}}, \"title\": {\"x\": 0.05}, \"xaxis\": {\"automargin\": true, \"gridcolor\": \"white\", \"linecolor\": \"white\", \"ticks\": \"\", \"title\": {\"standoff\": 15}, \"zerolinecolor\": \"white\", \"zerolinewidth\": 2}, \"yaxis\": {\"automargin\": true, \"gridcolor\": \"white\", \"linecolor\": \"white\", \"ticks\": \"\", \"title\": {\"standoff\": 15}, \"zerolinecolor\": \"white\", \"zerolinewidth\": 2}}}, \"title\": {\"text\": \"Slice Plot\"}, \"xaxis\": {\"anchor\": \"y\", \"domain\": [0.0, 0.2888888888888889], \"title\": {\"text\": \"batch_size\"}}, \"xaxis2\": {\"anchor\": \"y2\", \"domain\": [0.35555555555555557, 0.6444444444444445], \"title\": {\"text\": \"num_layers\"}}, \"xaxis3\": {\"anchor\": \"y3\", \"domain\": [0.7111111111111111, 1.0], \"title\": {\"text\": \"p_dropout\"}}, \"yaxis\": {\"anchor\": \"x\", \"domain\": [0.0, 1.0], \"title\": {\"text\": \"Objective Value\"}}, \"yaxis2\": {\"anchor\": \"x2\", \"domain\": [0.0, 1.0], \"matches\": \"y\", \"showticklabels\": false}, \"yaxis3\": {\"anchor\": \"x3\", \"domain\": [0.0, 1.0], \"matches\": \"y\", \"showticklabels\": false}},\n",
              "                        {\"responsive\": true}\n",
              "                    ).then(function(){\n",
              "                            \n",
              "var gd = document.getElementById('d6351d59-9028-4039-ab78-066eb862a8af');\n",
              "var x = new MutationObserver(function (mutations, observer) {{\n",
              "        var display = window.getComputedStyle(gd).display;\n",
              "        if (!display || display === 'none') {{\n",
              "            console.log([gd, 'removed!']);\n",
              "            Plotly.purge(gd);\n",
              "            observer.disconnect();\n",
              "        }}\n",
              "}});\n",
              "\n",
              "// Listen for the removal of the full notebook cells\n",
              "var notebookContainer = gd.closest('#notebook-container');\n",
              "if (notebookContainer) {{\n",
              "    x.observe(notebookContainer, {childList: true});\n",
              "}}\n",
              "\n",
              "// Listen for the clearing of the current output cell\n",
              "var outputEl = gd.closest('.output');\n",
              "if (outputEl) {{\n",
              "    x.observe(outputEl, {childList: true});\n",
              "}}\n",
              "\n",
              "                        })\n",
              "                };\n",
              "                \n",
              "            </script>\n",
              "        </div>\n",
              "</body>\n",
              "</html>"
            ]
          },
          "metadata": {
            "tags": []
          }
        }
      ]
    },
    {
      "cell_type": "code",
      "metadata": {
        "id": "hb0KPcU-t1S9",
        "colab_type": "code",
        "colab": {
          "base_uri": "https://localhost:8080/",
          "height": 542
        },
        "outputId": "24aa9d9d-591c-4ce4-e7dd-bcd6075c680b"
      },
      "source": [
        "optuna.visualization.plot_parallel_coordinate(study)"
      ],
      "execution_count": null,
      "outputs": [
        {
          "output_type": "display_data",
          "data": {
            "text/html": [
              "<html>\n",
              "<head><meta charset=\"utf-8\" /></head>\n",
              "<body>\n",
              "    <div>\n",
              "            <script src=\"https://cdnjs.cloudflare.com/ajax/libs/mathjax/2.7.5/MathJax.js?config=TeX-AMS-MML_SVG\"></script><script type=\"text/javascript\">if (window.MathJax) {MathJax.Hub.Config({SVG: {font: \"STIX-Web\"}});}</script>\n",
              "                <script type=\"text/javascript\">window.PlotlyConfig = {MathJaxConfig: 'local'};</script>\n",
              "        <script src=\"https://cdn.plot.ly/plotly-latest.min.js\"></script>    \n",
              "            <div id=\"a830e7a7-9acc-4e60-9192-a97a3a89cb39\" class=\"plotly-graph-div\" style=\"height:525px; width:100%;\"></div>\n",
              "            <script type=\"text/javascript\">\n",
              "                \n",
              "                    window.PLOTLYENV=window.PLOTLYENV || {};\n",
              "                    \n",
              "                if (document.getElementById(\"a830e7a7-9acc-4e60-9192-a97a3a89cb39\")) {\n",
              "                    Plotly.newPlot(\n",
              "                        'a830e7a7-9acc-4e60-9192-a97a3a89cb39',\n",
              "                        [{\"dimensions\": [{\"label\": \"Objective Value\", \"range\": [0.225, 0.693], \"values\": [0.693, 0.252, 0.607, 0.242, 0.412, 0.384, 0.246, 0.245, 0.242, 0.248, 0.246, 0.242, 0.252, 0.24, 0.247, 0.305, 0.225, 0.25, 0.24, 0.234]}, {\"label\": \"batch_size\", \"range\": [10, 500], \"values\": [10, 100, 100, 10, 500, 500, 100, 10, 100, 10, 10, 100, 10, 100, 10, 500, 100, 100, 100, 100]}, {\"label\": \"num_layers\", \"range\": [1, 5], \"values\": [5, 1, 5, 1, 1, 2, 3, 1, 2, 3, 4, 2, 2, 2, 1, 2, 3, 4, 4, 4]}, {\"label\": \"p_dropout\", \"range\": [0.011884072327102035, 0.48811913635003285], \"values\": [0.2931657388278597, 0.09105618304607016, 0.32520388257723193, 0.04329554155423815, 0.48811913635003285, 0.033960740510969034, 0.20258293306005787, 0.011884072327102035, 0.212601900233315, 0.24821462690659601, 0.09971031140016415, 0.3971718966772112, 0.1755145199393287, 0.12901208218616017, 0.12802489850587792, 0.03412793834209135, 0.14066773980033817, 0.14236026977284078, 0.07527210359037816, 0.07082338453692434]}], \"labelangle\": 30, \"labelside\": \"bottom\", \"line\": {\"color\": [0.693, 0.252, 0.607, 0.242, 0.412, 0.384, 0.246, 0.245, 0.242, 0.248, 0.246, 0.242, 0.252, 0.24, 0.247, 0.305, 0.225, 0.25, 0.24, 0.234], \"colorbar\": {\"title\": {\"text\": \"Objective Value\"}}, \"colorscale\": [[0.0, \"rgb(247,251,255)\"], [0.125, \"rgb(222,235,247)\"], [0.25, \"rgb(198,219,239)\"], [0.375, \"rgb(158,202,225)\"], [0.5, \"rgb(107,174,214)\"], [0.625, \"rgb(66,146,198)\"], [0.75, \"rgb(33,113,181)\"], [0.875, \"rgb(8,81,156)\"], [1.0, \"rgb(8,48,107)\"]], \"reversescale\": true, \"showscale\": true}, \"type\": \"parcoords\"}],\n",
              "                        {\"template\": {\"data\": {\"bar\": [{\"error_x\": {\"color\": \"#2a3f5f\"}, \"error_y\": {\"color\": \"#2a3f5f\"}, \"marker\": {\"line\": {\"color\": \"#E5ECF6\", \"width\": 0.5}}, \"type\": \"bar\"}], \"barpolar\": [{\"marker\": {\"line\": {\"color\": \"#E5ECF6\", \"width\": 0.5}}, \"type\": \"barpolar\"}], \"carpet\": [{\"aaxis\": {\"endlinecolor\": \"#2a3f5f\", \"gridcolor\": \"white\", \"linecolor\": \"white\", \"minorgridcolor\": \"white\", \"startlinecolor\": \"#2a3f5f\"}, \"baxis\": {\"endlinecolor\": \"#2a3f5f\", \"gridcolor\": \"white\", \"linecolor\": \"white\", \"minorgridcolor\": \"white\", \"startlinecolor\": \"#2a3f5f\"}, \"type\": \"carpet\"}], \"choropleth\": [{\"colorbar\": {\"outlinewidth\": 0, \"ticks\": \"\"}, \"type\": \"choropleth\"}], \"contour\": [{\"colorbar\": {\"outlinewidth\": 0, \"ticks\": \"\"}, \"colorscale\": [[0.0, \"#0d0887\"], [0.1111111111111111, \"#46039f\"], [0.2222222222222222, \"#7201a8\"], [0.3333333333333333, \"#9c179e\"], [0.4444444444444444, \"#bd3786\"], [0.5555555555555556, \"#d8576b\"], [0.6666666666666666, \"#ed7953\"], [0.7777777777777778, \"#fb9f3a\"], [0.8888888888888888, \"#fdca26\"], [1.0, \"#f0f921\"]], \"type\": \"contour\"}], \"contourcarpet\": [{\"colorbar\": {\"outlinewidth\": 0, \"ticks\": \"\"}, \"type\": \"contourcarpet\"}], \"heatmap\": [{\"colorbar\": {\"outlinewidth\": 0, \"ticks\": \"\"}, \"colorscale\": [[0.0, \"#0d0887\"], [0.1111111111111111, \"#46039f\"], [0.2222222222222222, \"#7201a8\"], [0.3333333333333333, \"#9c179e\"], [0.4444444444444444, \"#bd3786\"], [0.5555555555555556, \"#d8576b\"], [0.6666666666666666, \"#ed7953\"], [0.7777777777777778, \"#fb9f3a\"], [0.8888888888888888, \"#fdca26\"], [1.0, \"#f0f921\"]], \"type\": \"heatmap\"}], \"heatmapgl\": [{\"colorbar\": {\"outlinewidth\": 0, \"ticks\": \"\"}, \"colorscale\": [[0.0, \"#0d0887\"], [0.1111111111111111, \"#46039f\"], [0.2222222222222222, \"#7201a8\"], [0.3333333333333333, \"#9c179e\"], [0.4444444444444444, \"#bd3786\"], [0.5555555555555556, \"#d8576b\"], [0.6666666666666666, \"#ed7953\"], [0.7777777777777778, \"#fb9f3a\"], [0.8888888888888888, \"#fdca26\"], [1.0, \"#f0f921\"]], \"type\": \"heatmapgl\"}], \"histogram\": [{\"marker\": {\"colorbar\": {\"outlinewidth\": 0, \"ticks\": \"\"}}, \"type\": \"histogram\"}], \"histogram2d\": [{\"colorbar\": {\"outlinewidth\": 0, \"ticks\": \"\"}, \"colorscale\": [[0.0, \"#0d0887\"], [0.1111111111111111, \"#46039f\"], [0.2222222222222222, \"#7201a8\"], [0.3333333333333333, \"#9c179e\"], [0.4444444444444444, \"#bd3786\"], [0.5555555555555556, \"#d8576b\"], [0.6666666666666666, \"#ed7953\"], [0.7777777777777778, \"#fb9f3a\"], [0.8888888888888888, \"#fdca26\"], [1.0, \"#f0f921\"]], \"type\": \"histogram2d\"}], \"histogram2dcontour\": [{\"colorbar\": {\"outlinewidth\": 0, \"ticks\": \"\"}, \"colorscale\": [[0.0, \"#0d0887\"], [0.1111111111111111, \"#46039f\"], [0.2222222222222222, \"#7201a8\"], [0.3333333333333333, \"#9c179e\"], [0.4444444444444444, \"#bd3786\"], [0.5555555555555556, \"#d8576b\"], [0.6666666666666666, \"#ed7953\"], [0.7777777777777778, \"#fb9f3a\"], [0.8888888888888888, \"#fdca26\"], [1.0, \"#f0f921\"]], \"type\": \"histogram2dcontour\"}], \"mesh3d\": [{\"colorbar\": {\"outlinewidth\": 0, \"ticks\": \"\"}, \"type\": \"mesh3d\"}], \"parcoords\": [{\"line\": {\"colorbar\": {\"outlinewidth\": 0, \"ticks\": \"\"}}, \"type\": \"parcoords\"}], \"pie\": [{\"automargin\": true, \"type\": \"pie\"}], \"scatter\": [{\"marker\": {\"colorbar\": {\"outlinewidth\": 0, \"ticks\": \"\"}}, \"type\": \"scatter\"}], \"scatter3d\": [{\"line\": {\"colorbar\": {\"outlinewidth\": 0, \"ticks\": \"\"}}, \"marker\": {\"colorbar\": {\"outlinewidth\": 0, \"ticks\": \"\"}}, \"type\": \"scatter3d\"}], \"scattercarpet\": [{\"marker\": {\"colorbar\": {\"outlinewidth\": 0, \"ticks\": \"\"}}, \"type\": \"scattercarpet\"}], \"scattergeo\": [{\"marker\": {\"colorbar\": {\"outlinewidth\": 0, \"ticks\": \"\"}}, \"type\": \"scattergeo\"}], \"scattergl\": [{\"marker\": {\"colorbar\": {\"outlinewidth\": 0, \"ticks\": \"\"}}, \"type\": \"scattergl\"}], \"scattermapbox\": [{\"marker\": {\"colorbar\": {\"outlinewidth\": 0, \"ticks\": \"\"}}, \"type\": \"scattermapbox\"}], \"scatterpolar\": [{\"marker\": {\"colorbar\": {\"outlinewidth\": 0, \"ticks\": \"\"}}, \"type\": \"scatterpolar\"}], \"scatterpolargl\": [{\"marker\": {\"colorbar\": {\"outlinewidth\": 0, \"ticks\": \"\"}}, \"type\": \"scatterpolargl\"}], \"scatterternary\": [{\"marker\": {\"colorbar\": {\"outlinewidth\": 0, \"ticks\": \"\"}}, \"type\": \"scatterternary\"}], \"surface\": [{\"colorbar\": {\"outlinewidth\": 0, \"ticks\": \"\"}, \"colorscale\": [[0.0, \"#0d0887\"], [0.1111111111111111, \"#46039f\"], [0.2222222222222222, \"#7201a8\"], [0.3333333333333333, \"#9c179e\"], [0.4444444444444444, \"#bd3786\"], [0.5555555555555556, \"#d8576b\"], [0.6666666666666666, \"#ed7953\"], [0.7777777777777778, \"#fb9f3a\"], [0.8888888888888888, \"#fdca26\"], [1.0, \"#f0f921\"]], \"type\": \"surface\"}], \"table\": [{\"cells\": {\"fill\": {\"color\": \"#EBF0F8\"}, \"line\": {\"color\": \"white\"}}, \"header\": {\"fill\": {\"color\": \"#C8D4E3\"}, \"line\": {\"color\": \"white\"}}, \"type\": \"table\"}]}, \"layout\": {\"annotationdefaults\": {\"arrowcolor\": \"#2a3f5f\", \"arrowhead\": 0, \"arrowwidth\": 1}, \"coloraxis\": {\"colorbar\": {\"outlinewidth\": 0, \"ticks\": \"\"}}, \"colorscale\": {\"diverging\": [[0, \"#8e0152\"], [0.1, \"#c51b7d\"], [0.2, \"#de77ae\"], [0.3, \"#f1b6da\"], [0.4, \"#fde0ef\"], [0.5, \"#f7f7f7\"], [0.6, \"#e6f5d0\"], [0.7, \"#b8e186\"], [0.8, \"#7fbc41\"], [0.9, \"#4d9221\"], [1, \"#276419\"]], \"sequential\": [[0.0, \"#0d0887\"], [0.1111111111111111, \"#46039f\"], [0.2222222222222222, \"#7201a8\"], [0.3333333333333333, \"#9c179e\"], [0.4444444444444444, \"#bd3786\"], [0.5555555555555556, \"#d8576b\"], [0.6666666666666666, \"#ed7953\"], [0.7777777777777778, \"#fb9f3a\"], [0.8888888888888888, \"#fdca26\"], [1.0, \"#f0f921\"]], \"sequentialminus\": [[0.0, \"#0d0887\"], [0.1111111111111111, \"#46039f\"], [0.2222222222222222, \"#7201a8\"], [0.3333333333333333, \"#9c179e\"], [0.4444444444444444, \"#bd3786\"], [0.5555555555555556, \"#d8576b\"], [0.6666666666666666, \"#ed7953\"], [0.7777777777777778, \"#fb9f3a\"], [0.8888888888888888, \"#fdca26\"], [1.0, \"#f0f921\"]]}, \"colorway\": [\"#636efa\", \"#EF553B\", \"#00cc96\", \"#ab63fa\", \"#FFA15A\", \"#19d3f3\", \"#FF6692\", \"#B6E880\", \"#FF97FF\", \"#FECB52\"], \"font\": {\"color\": \"#2a3f5f\"}, \"geo\": {\"bgcolor\": \"white\", \"lakecolor\": \"white\", \"landcolor\": \"#E5ECF6\", \"showlakes\": true, \"showland\": true, \"subunitcolor\": \"white\"}, \"hoverlabel\": {\"align\": \"left\"}, \"hovermode\": \"closest\", \"mapbox\": {\"style\": \"light\"}, \"paper_bgcolor\": \"white\", \"plot_bgcolor\": \"#E5ECF6\", \"polar\": {\"angularaxis\": {\"gridcolor\": \"white\", \"linecolor\": \"white\", \"ticks\": \"\"}, \"bgcolor\": \"#E5ECF6\", \"radialaxis\": {\"gridcolor\": \"white\", \"linecolor\": \"white\", \"ticks\": \"\"}}, \"scene\": {\"xaxis\": {\"backgroundcolor\": \"#E5ECF6\", \"gridcolor\": \"white\", \"gridwidth\": 2, \"linecolor\": \"white\", \"showbackground\": true, \"ticks\": \"\", \"zerolinecolor\": \"white\"}, \"yaxis\": {\"backgroundcolor\": \"#E5ECF6\", \"gridcolor\": \"white\", \"gridwidth\": 2, \"linecolor\": \"white\", \"showbackground\": true, \"ticks\": \"\", \"zerolinecolor\": \"white\"}, \"zaxis\": {\"backgroundcolor\": \"#E5ECF6\", \"gridcolor\": \"white\", \"gridwidth\": 2, \"linecolor\": \"white\", \"showbackground\": true, \"ticks\": \"\", \"zerolinecolor\": \"white\"}}, \"shapedefaults\": {\"line\": {\"color\": \"#2a3f5f\"}}, \"ternary\": {\"aaxis\": {\"gridcolor\": \"white\", \"linecolor\": \"white\", \"ticks\": \"\"}, \"baxis\": {\"gridcolor\": \"white\", \"linecolor\": \"white\", \"ticks\": \"\"}, \"bgcolor\": \"#E5ECF6\", \"caxis\": {\"gridcolor\": \"white\", \"linecolor\": \"white\", \"ticks\": \"\"}}, \"title\": {\"x\": 0.05}, \"xaxis\": {\"automargin\": true, \"gridcolor\": \"white\", \"linecolor\": \"white\", \"ticks\": \"\", \"title\": {\"standoff\": 15}, \"zerolinecolor\": \"white\", \"zerolinewidth\": 2}, \"yaxis\": {\"automargin\": true, \"gridcolor\": \"white\", \"linecolor\": \"white\", \"ticks\": \"\", \"title\": {\"standoff\": 15}, \"zerolinecolor\": \"white\", \"zerolinewidth\": 2}}}, \"title\": {\"text\": \"Parallel Coordinate Plot\"}},\n",
              "                        {\"responsive\": true}\n",
              "                    ).then(function(){\n",
              "                            \n",
              "var gd = document.getElementById('a830e7a7-9acc-4e60-9192-a97a3a89cb39');\n",
              "var x = new MutationObserver(function (mutations, observer) {{\n",
              "        var display = window.getComputedStyle(gd).display;\n",
              "        if (!display || display === 'none') {{\n",
              "            console.log([gd, 'removed!']);\n",
              "            Plotly.purge(gd);\n",
              "            observer.disconnect();\n",
              "        }}\n",
              "}});\n",
              "\n",
              "// Listen for the removal of the full notebook cells\n",
              "var notebookContainer = gd.closest('#notebook-container');\n",
              "if (notebookContainer) {{\n",
              "    x.observe(notebookContainer, {childList: true});\n",
              "}}\n",
              "\n",
              "// Listen for the clearing of the current output cell\n",
              "var outputEl = gd.closest('.output');\n",
              "if (outputEl) {{\n",
              "    x.observe(outputEl, {childList: true});\n",
              "}}\n",
              "\n",
              "                        })\n",
              "                };\n",
              "                \n",
              "            </script>\n",
              "        </div>\n",
              "</body>\n",
              "</html>"
            ]
          },
          "metadata": {
            "tags": []
          }
        }
      ]
    },
    {
      "cell_type": "code",
      "metadata": {
        "id": "6ujNKefIt1is",
        "colab_type": "code",
        "colab": {}
      },
      "source": [
        ""
      ],
      "execution_count": null,
      "outputs": []
    },
    {
      "cell_type": "code",
      "metadata": {
        "id": "EBYLP5z6YVMu",
        "colab_type": "code",
        "colab": {}
      },
      "source": [
        ""
      ],
      "execution_count": null,
      "outputs": []
    }
  ]
}