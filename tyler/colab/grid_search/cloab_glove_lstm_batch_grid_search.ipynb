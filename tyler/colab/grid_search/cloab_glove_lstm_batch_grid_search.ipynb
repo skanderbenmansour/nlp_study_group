{
  "nbformat": 4,
  "nbformat_minor": 0,
  "metadata": {
    "colab": {
      "name": "cloab_glove_lstm_batch_grid_search.ipynb",
      "provenance": [],
      "collapsed_sections": [
        "uOFPRkXJsnob",
        "OiXiwug_tJyL",
        "DecPabA9taNG",
        "98XyGQbftdwb",
        "el0E4jVj8CWz"
      ],
      "mount_file_id": "1W5IMtupKzkDD3KldgZ4X5-df_tQWfy7G",
      "authorship_tag": "ABX9TyMjJk1SOCfYPkQojXSSMZNG",
      "include_colab_link": true
    },
    "kernelspec": {
      "name": "python3",
      "display_name": "Python 3"
    },
    "accelerator": "GPU"
  },
  "cells": [
    {
      "cell_type": "markdown",
      "metadata": {
        "id": "view-in-github",
        "colab_type": "text"
      },
      "source": [
        "<a href=\"https://colab.research.google.com/github/skanderbenmansour/nlp_study_group/blob/master/tyler/colab/grid_search/cloab_glove_lstm_batch_grid_search.ipynb\" target=\"_parent\"><img src=\"https://colab.research.google.com/assets/colab-badge.svg\" alt=\"Open In Colab\"/></a>"
      ]
    },
    {
      "cell_type": "code",
      "metadata": {
        "id": "E0ClpmY4rzxR",
        "colab_type": "code",
        "colab": {
          "base_uri": "https://localhost:8080/",
          "height": 85
        },
        "outputId": "77507f7d-814f-4498-b187-1ff246b5b38f"
      },
      "source": [
        "import torch\n",
        "import torch.nn as nn\n",
        "import torch.nn.functional as F\n",
        "import torch.optim as optim\n",
        "from torch.nn.utils.rnn import pack_sequence,pad_sequence,pack_padded_sequence,pad_packed_sequence\n",
        "from torch.utils.data import TensorDataset, DataLoader\n",
        "\n",
        "import pandas as pd\n",
        "import numpy as np\n",
        "import random\n",
        "\n",
        "torch.manual_seed(1)\n",
        "\n",
        "from tqdm.notebook import tqdm\n",
        "from collections import Counter\n",
        "import nltk\n",
        "nltk.download('punkt')\n",
        "from nltk.tokenize import word_tokenize\n",
        "import matplotlib.pyplot as plt\n",
        "from torch.utils.data import Dataset, DataLoader\n",
        "from gensim.models import KeyedVectors\n",
        "\n",
        "import zipfile\n",
        "from datetime import datetime\n",
        "from glob import glob\n",
        "import os\n",
        "import json\n",
        "import pickle\n",
        "import sys\n",
        "sys.path.append('/content/drive/My Drive/colab_data/')\n",
        "import autoreload\n",
        "%load_ext autoreload\n",
        "%autoreload 2\n",
        "from py_files import utils\n",
        "from py_files import models\n",
        "\n",
        "import tensorboard\n",
        "%load_ext tensorboard\n",
        "from torch.utils.tensorboard import SummaryWriter\n",
        "import seaborn as sns"
      ],
      "execution_count": null,
      "outputs": [
        {
          "output_type": "stream",
          "text": [
            "[nltk_data] Downloading package punkt to /root/nltk_data...\n",
            "[nltk_data]   Unzipping tokenizers/punkt.zip.\n"
          ],
          "name": "stdout"
        },
        {
          "output_type": "stream",
          "text": [
            "/usr/local/lib/python3.6/dist-packages/statsmodels/tools/_testing.py:19: FutureWarning: pandas.util.testing is deprecated. Use the functions in the public API at pandas.testing instead.\n",
            "  import pandas.util.testing as tm\n"
          ],
          "name": "stderr"
        }
      ]
    },
    {
      "cell_type": "markdown",
      "metadata": {
        "id": "rPKvlfdSw4Jc",
        "colab_type": "text"
      },
      "source": [
        "## Set up GPU\n",
        "#### Edit --> settings --> GPU"
      ]
    },
    {
      "cell_type": "code",
      "metadata": {
        "id": "v7G9MzqJw9Oo",
        "colab_type": "code",
        "colab": {}
      },
      "source": [
        "is_cuda = torch.cuda.is_available()\n",
        "\n",
        "if is_cuda:\n",
        "    device = torch.device(\"cuda\")\n",
        "    torch.backends.cudnn.enabled = True\n",
        "    device_name = torch.cuda.get_device_name()\n",
        "else:\n",
        "    device = torch.device(\"cpu\")\n",
        "    device_name = 'cpu'"
      ],
      "execution_count": null,
      "outputs": []
    },
    {
      "cell_type": "code",
      "metadata": {
        "id": "H0dUMBe2tgiP",
        "colab_type": "code",
        "colab": {}
      },
      "source": [
        "## Can force CPU for testing \n",
        "# device = torch.device(\"cpu\")\n",
        "# is_cuda = False"
      ],
      "execution_count": null,
      "outputs": []
    },
    {
      "cell_type": "code",
      "metadata": {
        "id": "8BhWAKGVxO6p",
        "colab_type": "code",
        "colab": {
          "base_uri": "https://localhost:8080/",
          "height": 34
        },
        "outputId": "1c7eed41-61c6-486d-b94c-7dc8e7fd2252"
      },
      "source": [
        "device,is_cuda,device_name"
      ],
      "execution_count": null,
      "outputs": [
        {
          "output_type": "execute_result",
          "data": {
            "text/plain": [
              "(device(type='cuda'), True, 'Tesla K80')"
            ]
          },
          "metadata": {
            "tags": []
          },
          "execution_count": 4
        }
      ]
    },
    {
      "cell_type": "code",
      "metadata": {
        "id": "ln_HhCnVzoxs",
        "colab_type": "code",
        "colab": {}
      },
      "source": [
        ""
      ],
      "execution_count": null,
      "outputs": []
    },
    {
      "cell_type": "markdown",
      "metadata": {
        "id": "n0vYEsgWxXgo",
        "colab_type": "text"
      },
      "source": [
        "## Load data\n",
        "Stanford data downloaded from https://ai.stanford.edu/~amaas/data/sentiment/\n",
        "\n",
        "w2v data from https://www.kaggle.com/c/word2vec-nlp-tutorial/data"
      ]
    },
    {
      "cell_type": "code",
      "metadata": {
        "id": "OJo0X6H2Gcd8",
        "colab_type": "code",
        "colab": {}
      },
      "source": [
        "# data_path = '/content/drive/My Drive/colab_data/word2vec-nlp-tutorial/'\n",
        "# train_data, test_data, val_data = utils.load_and_process_w2v_data(data_path,save=True)\n"
      ],
      "execution_count": null,
      "outputs": []
    },
    {
      "cell_type": "code",
      "metadata": {
        "id": "jIQmoed_Av-F",
        "colab_type": "code",
        "colab": {}
      },
      "source": [
        "data_path = '/content/drive/My Drive/colab_data/stanford_data/processed/'\n",
        "# train_data, test_data, val_data = utils.load_raw_data(data_path,save=True)"
      ],
      "execution_count": null,
      "outputs": []
    },
    {
      "cell_type": "code",
      "metadata": {
        "id": "YYcx_fStsETe",
        "colab_type": "code",
        "colab": {}
      },
      "source": [
        ""
      ],
      "execution_count": null,
      "outputs": []
    },
    {
      "cell_type": "markdown",
      "metadata": {
        "id": "g5kZHxnTpFAm",
        "colab_type": "text"
      },
      "source": [
        "## Prep reviews\n",
        "25k train, 5k val, 20k test"
      ]
    },
    {
      "cell_type": "code",
      "metadata": {
        "id": "VGMpzyZQbhjA",
        "colab_type": "code",
        "colab": {}
      },
      "source": [
        "train_data, test_data, val_data = utils.load_processed_reviews(data_path)"
      ],
      "execution_count": null,
      "outputs": []
    },
    {
      "cell_type": "code",
      "metadata": {
        "id": "4AnMCf94paJ1",
        "colab_type": "code",
        "colab": {
          "base_uri": "https://localhost:8080/",
          "height": 34
        },
        "outputId": "b68fb245-b69e-4b03-fcd7-57d987e8fc99"
      },
      "source": [
        "len(train_data),len(test_data),len(val_data)"
      ],
      "execution_count": null,
      "outputs": [
        {
          "output_type": "execute_result",
          "data": {
            "text/plain": [
              "(25000, 20000, 5000)"
            ]
          },
          "metadata": {
            "tags": []
          },
          "execution_count": 8
        }
      ]
    },
    {
      "cell_type": "markdown",
      "metadata": {
        "id": "lian0Wg4pmwP",
        "colab_type": "text"
      },
      "source": [
        "## Load glove"
      ]
    },
    {
      "cell_type": "code",
      "metadata": {
        "id": "Rph0qDwGpnpG",
        "colab_type": "code",
        "colab": {
          "base_uri": "https://localhost:8080/",
          "height": 71
        },
        "outputId": "58561146-c9a2-4c79-ebd4-c04919495005"
      },
      "source": [
        "path = '/content/drive/My Drive/colab_data/glove/glove_100k_300d.kv'\n",
        "glove = KeyedVectors.load(path)\n",
        "weights = torch.FloatTensor(glove.vectors)"
      ],
      "execution_count": null,
      "outputs": [
        {
          "output_type": "stream",
          "text": [
            "/usr/local/lib/python3.6/dist-packages/smart_open/smart_open_lib.py:253: UserWarning: This function is deprecated, use smart_open.open instead. See the migration notes for details: https://github.com/RaRe-Technologies/smart_open/blob/master/README.rst#migrating-to-the-new-open-function\n",
            "  'See the migration notes for details: %s' % _MIGRATION_NOTES_URL\n"
          ],
          "name": "stderr"
        }
      ]
    },
    {
      "cell_type": "code",
      "metadata": {
        "id": "b_2qNaglpzhX",
        "colab_type": "code",
        "colab": {}
      },
      "source": [
        "word2idx = {word:idx for idx,word in enumerate(glove.vocab.keys())}"
      ],
      "execution_count": null,
      "outputs": []
    },
    {
      "cell_type": "code",
      "metadata": {
        "id": "M7rBytoMwFWp",
        "colab_type": "code",
        "colab": {}
      },
      "source": [
        "idx2word = {idx:word for word,idx in word2idx.items()}"
      ],
      "execution_count": null,
      "outputs": []
    },
    {
      "cell_type": "markdown",
      "metadata": {
        "id": "atsSbPygsDYp",
        "colab_type": "text"
      },
      "source": [
        "## Prep input"
      ]
    },
    {
      "cell_type": "code",
      "metadata": {
        "id": "FCPFjRZPUd93",
        "colab_type": "code",
        "colab": {}
      },
      "source": [
        "batch_size = 100\n",
        "train_loader,test_loader,val_loader = utils.load_all_tensor_data(train_data, test_data, val_data, batch_size, word2idx)"
      ],
      "execution_count": null,
      "outputs": []
    },
    {
      "cell_type": "markdown",
      "metadata": {
        "id": "uOFPRkXJsnob",
        "colab_type": "text"
      },
      "source": [
        "## Set up model"
      ]
    },
    {
      "cell_type": "code",
      "metadata": {
        "id": "W1NC_y-_q4p_",
        "colab_type": "code",
        "colab": {}
      },
      "source": [
        "model_version = utils.get_run_version()\n",
        "model_dir,log_dir = utils.setup_dir(model_version)"
      ],
      "execution_count": null,
      "outputs": []
    },
    {
      "cell_type": "code",
      "metadata": {
        "id": "C0JvW8tlrCFP",
        "colab_type": "code",
        "colab": {
          "base_uri": "https://localhost:8080/",
          "height": 68
        },
        "outputId": "6256a1ef-c5de-4281-a716-513dd1fe43cd"
      },
      "source": [
        "model_version,model_dir,log_dir"
      ],
      "execution_count": null,
      "outputs": [
        {
          "output_type": "execute_result",
          "data": {
            "text/plain": [
              "('v39',\n",
              " '/content/drive/My Drive/colab_data/model_checkpoints/v39',\n",
              " '/content/drive/My Drive/colab_data/model_checkpoints/v39/logs')"
            ]
          },
          "metadata": {
            "tags": []
          },
          "execution_count": 19
        }
      ]
    },
    {
      "cell_type": "code",
      "metadata": {
        "id": "mMtR3pPHhd2Z",
        "colab_type": "code",
        "colab": {}
      },
      "source": [
        ""
      ],
      "execution_count": null,
      "outputs": []
    },
    {
      "cell_type": "code",
      "metadata": {
        "id": "AMvAQd54sx23",
        "colab_type": "code",
        "colab": {}
      },
      "source": [
        "writer = SummaryWriter(log_dir)"
      ],
      "execution_count": null,
      "outputs": []
    },
    {
      "cell_type": "code",
      "metadata": {
        "id": "KxwXeD_mskSC",
        "colab_type": "code",
        "colab": {}
      },
      "source": [
        "num_labels = 2\n",
        "vocab_size = 100000\n",
        "embedding_dim = 300\n",
        "num_layers = 1\n",
        "hidden = 50\n",
        "p_dropout = .3\n",
        "\n",
        "model = models.lstm_clf_batch(num_labels,vocab_size,embedding_dim,num_layers,hidden,batch_size,glove.vectors,device,p_dropout)\n",
        "model.to(device)\n",
        "\n",
        "loss_function = nn.BCELoss()\n",
        "\n",
        "lr = .001\n",
        "optimizer = optim.Adam(model.parameters(), lr=lr)\n",
        "\n",
        "num_epochs = 3"
      ],
      "execution_count": null,
      "outputs": []
    },
    {
      "cell_type": "code",
      "metadata": {
        "id": "WPIfBi7Uryz4",
        "colab_type": "code",
        "colab": {}
      },
      "source": [
        "params = {}\n",
        "params['num_labels'] = num_labels\n",
        "params['vocab_size'] = vocab_size\n",
        "params['embedding_dim'] = embedding_dim\n",
        "params['num_layers'] = num_layers\n",
        "params['hidden'] = hidden\n",
        "params['batch_size'] = batch_size\n",
        "params['p_dropout'] = p_dropout\n",
        "params['lr'] = lr\n",
        "params['is_cuda'] = is_cuda\n",
        "params['device_name'] = device_name\n",
        "params['num_epochs'] = num_epochs\n",
        "\n",
        "utils.save_params(model_version,params)"
      ],
      "execution_count": null,
      "outputs": []
    },
    {
      "cell_type": "markdown",
      "metadata": {
        "id": "OiXiwug_tJyL",
        "colab_type": "text"
      },
      "source": [
        "## Train model"
      ]
    },
    {
      "cell_type": "code",
      "metadata": {
        "id": "AwCcrqSMZl9K",
        "colab_type": "code",
        "colab": {}
      },
      "source": [
        "# Load to continue from previous checkpoint\n",
        "# load_path = os.path.join(model_dir,'glove_lstm_batch.pt')\n",
        "# model.load_state_dict(torch.load(load_path))"
      ],
      "execution_count": null,
      "outputs": []
    },
    {
      "cell_type": "code",
      "metadata": {
        "id": "90KaG2v7U2R9",
        "colab_type": "code",
        "colab": {
          "base_uri": "https://localhost:8080/",
          "height": 170
        },
        "outputId": "6fc11ab5-ebf7-46a5-b358-9a657501030b"
      },
      "source": [
        "save_path = os.path.join(model_dir,'glove_lstm_batch.pt')\n",
        "val_loss_min = np.Inf\n",
        "\n",
        "num_batches = 10e3\n",
        "num_epochs = params['num_epochs']\n",
        "loss_history = []\n",
        "\n",
        "for epoch in range(num_epochs):\n",
        "    train_start = datetime.now()\n",
        "    batch_idx = 0\n",
        "    train_loss = []\n",
        "    model.train()\n",
        "    for inputs,lengths,labels in train_loader:\n",
        "        if batch_idx < num_batches:\n",
        "            \n",
        "            model.zero_grad()\n",
        "            h = model.init_hidden()\n",
        "            inputs, lengths, labels = inputs.to(device), lengths.to(device), labels.to(device)\n",
        "            probs,h = model(inputs,lengths,h)\n",
        "            loss = loss_function(probs, labels)\n",
        "\n",
        "            loss.backward()\n",
        "            optimizer.step()\n",
        "            \n",
        "            train_loss.append(loss.item())\n",
        "            \n",
        "            batch_idx += 1\n",
        "\n",
        "    train_end = datetime.now()\n",
        "    diff = (train_end - train_start).seconds\n",
        "    print(f'{diff} seconds to train epoch')\n",
        "            \n",
        "    batch_idx = 0\n",
        "    val_loss = []\n",
        "    for inputs,lengths,labels in val_loader:\n",
        "        \n",
        "        if batch_idx < num_batches:\n",
        "            model.eval()\n",
        "            h = model.init_hidden()\n",
        "            inputs, lengths, labels = inputs.to(device), lengths.to(device), labels.to(device)\n",
        "            probs,h = model(inputs,lengths,h)\n",
        "            loss = loss_function(probs, labels)\n",
        "            \n",
        "            val_loss.append(loss.item())\n",
        "            \n",
        "            batch_idx += 1\n",
        "            \n",
        "    mean_train_loss = np.mean(train_loss)\n",
        "    mean_val_loss = np.mean(val_loss)\n",
        "  \n",
        "    loss_history.append((mean_train_loss,mean_val_loss))\n",
        "    print(f'Epoch {epoch+1}/{num_epochs}: train loss of {mean_train_loss:.3f}, val loss of {mean_val_loss:.3f}')\n",
        "    \n",
        "    if mean_val_loss <= val_loss_min:\n",
        "        print(f'Val loss decreased {val_loss_min:.3f} --> {mean_val_loss:.3f} saving model...')\n",
        "        torch.save(model.state_dict(),save_path)\n",
        "        val_loss_min = mean_val_loss\n",
        "\n",
        "    writer.add_scalars('Loss',{'train': mean_train_loss,'val': mean_val_loss,}, epoch + 1)"
      ],
      "execution_count": null,
      "outputs": [
        {
          "output_type": "stream",
          "text": [
            "42 seconds to train epoch\n",
            "Epoch 1/3: train loss of 0.664, val loss of 0.713\n",
            "Val loss decreased inf --> 0.713 saving model...\n",
            "37 seconds to train epoch\n",
            "Epoch 2/3: train loss of 0.566, val loss of 0.409\n",
            "Val loss decreased 0.713 --> 0.409 saving model...\n",
            "36 seconds to train epoch\n",
            "Epoch 3/3: train loss of 0.356, val loss of 0.330\n",
            "Val loss decreased 0.409 --> 0.330 saving model...\n"
          ],
          "name": "stdout"
        }
      ]
    },
    {
      "cell_type": "code",
      "metadata": {
        "id": "uJJQODSkU2Ys",
        "colab_type": "code",
        "colab": {}
      },
      "source": [
        ""
      ],
      "execution_count": null,
      "outputs": []
    },
    {
      "cell_type": "code",
      "metadata": {
        "id": "639Wn2zztWn3",
        "colab_type": "code",
        "colab": {
          "base_uri": "https://localhost:8080/",
          "height": 442
        },
        "outputId": "f41fcac5-e2af-4662-b5a8-93b121daf5bf"
      },
      "source": [
        "utils.make_loss_plot(loss_history,val_loss_min,model_dir)"
      ],
      "execution_count": null,
      "outputs": [
        {
          "output_type": "display_data",
          "data": {
            "image/png": "[encoded data removed]",
            "text/plain": [
              "<Figure size 1440x504 with 1 Axes>"
            ]
          },
          "metadata": {
            "tags": [],
            "needs_background": "light"
          }
        }
      ]
    },
    {
      "cell_type": "code",
      "metadata": {
        "id": "uvfsUVXWtZFQ",
        "colab_type": "code",
        "colab": {}
      },
      "source": [
        ""
      ],
      "execution_count": null,
      "outputs": []
    },
    {
      "cell_type": "markdown",
      "metadata": {
        "id": "DecPabA9taNG",
        "colab_type": "text"
      },
      "source": [
        "## Evaluate model"
      ]
    },
    {
      "cell_type": "code",
      "metadata": {
        "id": "cvQZToIdWj9c",
        "colab_type": "code",
        "colab": {
          "base_uri": "https://localhost:8080/",
          "height": 170
        },
        "outputId": "8eec04cb-6843-4564-d64a-f8957e02cfe1"
      },
      "source": [
        "results = {}\n",
        "\n",
        "names = 'train val test'.split()\n",
        "\n",
        "loaders = [train_loader,val_loader,test_loader]\n",
        "num_batches = 10e3\n",
        "\n",
        "val_loss = []\n",
        "for name,loader in zip(names,loaders):\n",
        "    results[name] = {}\n",
        "    eval_loss = []\n",
        "    batch_idx = 0\n",
        "    num_correct = 0\n",
        "    total = 0\n",
        "    for inputs,lengths,labels in loader:\n",
        "        if batch_idx < num_batches:\n",
        "            model.eval()\n",
        "            h = model.init_hidden()\n",
        "            inputs, lengths, labels = inputs.to(device), lengths.to(device), labels.to(device)\n",
        "            probs,h = model(inputs,lengths,h)\n",
        "            loss = loss_function(probs, labels)\n",
        "            label = labels[:,1]\n",
        "            \n",
        "            if is_cuda:\n",
        "                pred = probs.argmax(axis=1).cpu().numpy()\n",
        "                label = labels[:,1].cpu().numpy()\n",
        "            else:\n",
        "                pred = probs.argmax(axis=1).detach().numpy()\n",
        "                label = labels[:,1].detach().numpy()\n",
        "\n",
        "            correct = pred == label\n",
        "            num_correct += correct.sum()\n",
        "            total += label.shape[0]\n",
        "            \n",
        "            eval_loss.append(loss.item())\n",
        "\n",
        "            batch_idx += 1\n",
        "\n",
        "    mean_loss = round(np.mean(eval_loss),3)\n",
        "    acc = round(num_correct*100/total,2)\n",
        "\n",
        "    print(f'----{name} set----'.upper())\n",
        "    print(f'{name} loss of {mean_loss}')\n",
        "    print(f'{name} accuracy of {acc}')\n",
        "\n",
        "    results[name]['mean_loss'] = mean_loss\n",
        "    results[name]['acc'] = acc\n",
        "\n",
        "utils.save_eval(model_version,results)\n"
      ],
      "execution_count": null,
      "outputs": [
        {
          "output_type": "stream",
          "text": [
            "----TRAIN SET----\n",
            "train loss of 0.315\n",
            "train accuracy of 87.34\n",
            "----VAL SET----\n",
            "val loss of 0.33\n",
            "val accuracy of 86.42\n",
            "----TEST SET----\n",
            "test loss of 0.324\n",
            "test accuracy of 86.8\n"
          ],
          "name": "stdout"
        }
      ]
    },
    {
      "cell_type": "code",
      "metadata": {
        "id": "YlFJmgvCJXWt",
        "colab_type": "code",
        "colab": {}
      },
      "source": [
        ""
      ],
      "execution_count": null,
      "outputs": []
    },
    {
      "cell_type": "markdown",
      "metadata": {
        "id": "98XyGQbftdwb",
        "colab_type": "text"
      },
      "source": [
        "## Example predictions"
      ]
    },
    {
      "cell_type": "code",
      "metadata": {
        "id": "PHwr1TtWDvX6",
        "colab_type": "code",
        "colab": {}
      },
      "source": [
        "model_dir = '/content/drive/My Drive/colab_data/model_checkpoints/v14'\n",
        "load_path = os.path.join(model_dir,'glove_lstm_batch.pt')\n",
        "if is_cuda:\n",
        "    model.load_state_dict(torch.load(load_path))\n",
        "else:\n",
        "    model.load_state_dict(torch.load(load_path,map_location=torch.device('cpu')))"
      ],
      "execution_count": null,
      "outputs": []
    },
    {
      "cell_type": "code",
      "metadata": {
        "id": "F6nvqkOX136W",
        "colab_type": "code",
        "colab": {}
      },
      "source": [
        "model_version = 'v16'\n",
        "model_name = 'glove_lstm_batch.pt'\n",
        "inf_model = utils.create_inference_model(model_version,model_name,glove,is_cuda,device)"
      ],
      "execution_count": null,
      "outputs": []
    },
    {
      "cell_type": "code",
      "metadata": {
        "id": "7aiDtlQr2ROe",
        "colab_type": "code",
        "colab": {
          "base_uri": "https://localhost:8080/",
          "height": 34
        },
        "outputId": "8e6eff49-dc5e-4b34-953a-6e781845444e"
      },
      "source": [
        "sentence = 'this movie sucks'.split()\n",
        "utils.predict_from_inf_model(sentence, word2idx, inf_model, device, is_cuda, return_prob=True)"
      ],
      "execution_count": null,
      "outputs": [
        {
          "output_type": "execute_result",
          "data": {
            "text/plain": [
              "array([0.805287  , 0.19471297], dtype=float32)"
            ]
          },
          "metadata": {
            "tags": []
          },
          "execution_count": 31
        }
      ]
    },
    {
      "cell_type": "markdown",
      "metadata": {
        "id": "el0E4jVj8CWz",
        "colab_type": "text"
      },
      "source": [
        "## Start tensorboard"
      ]
    },
    {
      "cell_type": "code",
      "metadata": {
        "id": "PWg1ETwr79u0",
        "colab_type": "code",
        "colab": {
          "base_uri": "https://localhost:8080/",
          "height": 34
        },
        "outputId": "aa25e050-6149-430b-b16d-d6d274ba8ff7"
      },
      "source": [
        "log_dir"
      ],
      "execution_count": null,
      "outputs": [
        {
          "output_type": "execute_result",
          "data": {
            "text/plain": [
              "'/content/drive/My Drive/colab_data/model_checkpoints/v14/logs'"
            ]
          },
          "metadata": {
            "tags": []
          },
          "execution_count": 18
        }
      ]
    },
    {
      "cell_type": "code",
      "metadata": {
        "id": "PbDLps3S5yiQ",
        "colab_type": "code",
        "colab": {}
      },
      "source": [
        "%tensorboard --logdir '/content/drive/My Drive/colab_data/model_checkpoints/v14/logs'"
      ],
      "execution_count": null,
      "outputs": []
    },
    {
      "cell_type": "code",
      "metadata": {
        "id": "68r7Yu_76Q-a",
        "colab_type": "code",
        "colab": {}
      },
      "source": [
        ""
      ],
      "execution_count": null,
      "outputs": []
    },
    {
      "cell_type": "markdown",
      "metadata": {
        "id": "kIk_X-0HOmXy",
        "colab_type": "text"
      },
      "source": [
        "## Grid search"
      ]
    },
    {
      "cell_type": "code",
      "metadata": {
        "id": "et9aEyxKPHrd",
        "colab_type": "code",
        "colab": {}
      },
      "source": [
        "# fields = 'model_version hidden p_dropout num_layers num_epochs test_acc test_loss train_acc train_loss'.split()\n",
        "# utils.init_csv(fields)"
      ],
      "execution_count": null,
      "outputs": []
    },
    {
      "cell_type": "code",
      "metadata": {
        "id": "h6JDbd9NPgb8",
        "colab_type": "code",
        "colab": {}
      },
      "source": [
        "# result = ['v1',50,.1,2,20,.9,1,.9,1]\n",
        "# utils.write_result_row(result)"
      ],
      "execution_count": null,
      "outputs": []
    },
    {
      "cell_type": "code",
      "metadata": {
        "id": "zGtbUNgWQVTM",
        "colab_type": "code",
        "colab": {}
      },
      "source": [
        "csv_path = '/content/drive/My Drive/colab_data/grid_search.csv'\n",
        "res = pd.read_csv(csv_path)"
      ],
      "execution_count": null,
      "outputs": []
    },
    {
      "cell_type": "code",
      "metadata": {
        "id": "t3J4I_TbQjlA",
        "colab_type": "code",
        "colab": {
          "base_uri": "https://localhost:8080/",
          "height": 204
        },
        "outputId": "6d889925-b389-4468-844d-a9aec5a50023"
      },
      "source": [
        "res.head()"
      ],
      "execution_count": null,
      "outputs": [
        {
          "output_type": "execute_result",
          "data": {
            "text/html": [
              "<div>\n",
              "<style scoped>\n",
              "    .dataframe tbody tr th:only-of-type {\n",
              "        vertical-align: middle;\n",
              "    }\n",
              "\n",
              "    .dataframe tbody tr th {\n",
              "        vertical-align: top;\n",
              "    }\n",
              "\n",
              "    .dataframe thead th {\n",
              "        text-align: right;\n",
              "    }\n",
              "</style>\n",
              "<table border=\"1\" class=\"dataframe\">\n",
              "  <thead>\n",
              "    <tr style=\"text-align: right;\">\n",
              "      <th></th>\n",
              "      <th>model_version</th>\n",
              "      <th>hidden</th>\n",
              "      <th>p_dropout</th>\n",
              "      <th>num_layers</th>\n",
              "      <th>num_epochs</th>\n",
              "      <th>test_acc</th>\n",
              "      <th>test_loss</th>\n",
              "      <th>train_acc</th>\n",
              "      <th>train_loss</th>\n",
              "    </tr>\n",
              "  </thead>\n",
              "  <tbody>\n",
              "    <tr>\n",
              "      <th>0</th>\n",
              "      <td>v22</td>\n",
              "      <td>10</td>\n",
              "      <td>0.0</td>\n",
              "      <td>2</td>\n",
              "      <td>20</td>\n",
              "      <td>89.02</td>\n",
              "      <td>0.275</td>\n",
              "      <td>89.81</td>\n",
              "      <td>0.256</td>\n",
              "    </tr>\n",
              "    <tr>\n",
              "      <th>1</th>\n",
              "      <td>v23</td>\n",
              "      <td>20</td>\n",
              "      <td>0.0</td>\n",
              "      <td>2</td>\n",
              "      <td>20</td>\n",
              "      <td>89.76</td>\n",
              "      <td>0.251</td>\n",
              "      <td>91.84</td>\n",
              "      <td>0.213</td>\n",
              "    </tr>\n",
              "    <tr>\n",
              "      <th>2</th>\n",
              "      <td>v24</td>\n",
              "      <td>10</td>\n",
              "      <td>0.1</td>\n",
              "      <td>2</td>\n",
              "      <td>20</td>\n",
              "      <td>88.74</td>\n",
              "      <td>0.277</td>\n",
              "      <td>89.31</td>\n",
              "      <td>0.265</td>\n",
              "    </tr>\n",
              "    <tr>\n",
              "      <th>3</th>\n",
              "      <td>v25</td>\n",
              "      <td>20</td>\n",
              "      <td>0.1</td>\n",
              "      <td>2</td>\n",
              "      <td>20</td>\n",
              "      <td>90.04</td>\n",
              "      <td>0.246</td>\n",
              "      <td>92.40</td>\n",
              "      <td>0.206</td>\n",
              "    </tr>\n",
              "    <tr>\n",
              "      <th>4</th>\n",
              "      <td>v26</td>\n",
              "      <td>50</td>\n",
              "      <td>0.0</td>\n",
              "      <td>2</td>\n",
              "      <td>20</td>\n",
              "      <td>90.44</td>\n",
              "      <td>0.241</td>\n",
              "      <td>93.19</td>\n",
              "      <td>0.184</td>\n",
              "    </tr>\n",
              "  </tbody>\n",
              "</table>\n",
              "</div>"
            ],
            "text/plain": [
              "  model_version  hidden  p_dropout  ...  test_loss  train_acc  train_loss\n",
              "0           v22      10        0.0  ...      0.275      89.81       0.256\n",
              "1           v23      20        0.0  ...      0.251      91.84       0.213\n",
              "2           v24      10        0.1  ...      0.277      89.31       0.265\n",
              "3           v25      20        0.1  ...      0.246      92.40       0.206\n",
              "4           v26      50        0.0  ...      0.241      93.19       0.184\n",
              "\n",
              "[5 rows x 9 columns]"
            ]
          },
          "metadata": {
            "tags": []
          },
          "execution_count": 16
        }
      ]
    },
    {
      "cell_type": "code",
      "metadata": {
        "id": "AzzCF0TJXVaZ",
        "colab_type": "code",
        "colab": {}
      },
      "source": [
        ""
      ],
      "execution_count": null,
      "outputs": []
    },
    {
      "cell_type": "code",
      "metadata": {
        "id": "g2MLs-fxSIic",
        "colab_type": "code",
        "colab": {}
      },
      "source": [
        ""
      ],
      "execution_count": null,
      "outputs": []
    },
    {
      "cell_type": "code",
      "metadata": {
        "id": "aJZsRfzbQkMB",
        "colab_type": "code",
        "colab": {
          "base_uri": "https://localhost:8080/",
          "height": 1000
        },
        "outputId": "e3fbcd22-958b-43cc-9766-42b8f85b921e"
      },
      "source": [
        "num_labels = 2\n",
        "vocab_size = 100000\n",
        "embedding_dim = 300\n",
        "num_layers = 2\n",
        "hidden = 50\n",
        "p_dropout = .3\n",
        "\n",
        "loss_function = nn.BCELoss()\n",
        "\n",
        "lr = .001\n",
        "optimizer = optim.Adam(model.parameters(), lr=lr)\n",
        "\n",
        "num_epochs = 20\n",
        "\n",
        "params = {}\n",
        "params['num_labels'] = num_labels\n",
        "params['vocab_size'] = vocab_size\n",
        "params['embedding_dim'] = embedding_dim\n",
        "params['num_layers'] = num_layers\n",
        "params['hidden'] = hidden\n",
        "params['batch_size'] = batch_size\n",
        "params['p_dropout'] = p_dropout\n",
        "params['lr'] = lr\n",
        "params['is_cuda'] = is_cuda\n",
        "params['device_name'] = device_name\n",
        "params['num_epochs'] = num_epochs\n",
        "\n",
        "    \n",
        "p_dropout_list = [0, .1, .2, .3, .5] #[0, .1, .2, .3] #, .4, .5]\n",
        "hidden_list = [10, 20, 50, 100, 200] #[50,100] #,200,500,1000] \n",
        "\n",
        "grid = [(p_dropout, hidden) for p_dropout in p_dropout_list for hidden in hidden_list]\n",
        "\n",
        "for grid_idx,(p_dropout,hidden) in enumerate(grid):\n",
        "    print(f'IDX {grid_idx + 1} / {len(grid)}: SEARCHING p_droput: {p_dropout}, hidden: {hidden}')\n",
        "\n",
        "    csv_path = '/content/drive/My Drive/colab_data/grid_search.csv'\n",
        "    res = pd.read_csv(csv_path)\n",
        "    if len(res[(res.hidden == hidden) & (res.p_dropout == p_dropout)]) != 0:\n",
        "        print(f'already done')\n",
        "    else:\n",
        "        model_version = utils.get_run_version()\n",
        "        model_dir,log_dir = utils.setup_dir(model_version)\n",
        "\n",
        "        params['hidden'] = hidden\n",
        "        params['p_dropout'] = p_dropout\n",
        "\n",
        "        utils.save_params(model_version,params)\n",
        "\n",
        "        model = models.lstm_clf_batch(num_labels,vocab_size,embedding_dim,num_layers,hidden,batch_size,glove.vectors,device,p_dropout)\n",
        "        model.to(device)\n",
        "\n",
        "        loss_history,val_loss_min = utils.train_model(model_dir,params,train_loader,val_loader,model,model_version,device,is_cuda,loss_function)\n",
        "        utils.make_loss_plot(loss_history,val_loss_min,model_dir)\n",
        "        plt.close()\n",
        "        model = utils.load_model_checkpoint(model_version,is_cuda,model)\n",
        "        eval_results = utils.eval_model(train_loader,val_loader,test_loader,model,model_version,device,is_cuda,loss_function)\n",
        "\n",
        "        num_layers = params['num_layers']\n",
        "        num_epochs = params['num_epochs']\n",
        "\n",
        "        train_acc = eval_results['train']['acc']\n",
        "        train_loss = eval_results['train']['mean_loss']\n",
        "\n",
        "        test_acc = eval_results['test']['acc']\n",
        "        test_loss = eval_results['test']['mean_loss']\n",
        "\n",
        "        fields = [model_version,hidden,p_dropout,num_layers,num_epochs,test_acc,test_loss,train_acc,train_loss]\n",
        "        utils.write_result_row(fields)"
      ],
      "execution_count": null,
      "outputs": [
        {
          "output_type": "stream",
          "text": [
            "IDX 1 / 25: SEARCHING p_droput: 0, hidden: 10\n",
            "already done\n",
            "IDX 2 / 25: SEARCHING p_droput: 0, hidden: 20\n",
            "already done\n",
            "IDX 3 / 25: SEARCHING p_droput: 0, hidden: 50\n",
            "already done\n",
            "IDX 4 / 25: SEARCHING p_droput: 0, hidden: 100\n",
            "already done\n",
            "IDX 5 / 25: SEARCHING p_droput: 0, hidden: 200\n",
            "already done\n",
            "IDX 6 / 25: SEARCHING p_droput: 0.1, hidden: 10\n",
            "already done\n",
            "IDX 7 / 25: SEARCHING p_droput: 0.1, hidden: 20\n",
            "already done\n",
            "IDX 8 / 25: SEARCHING p_droput: 0.1, hidden: 50\n",
            "already done\n",
            "IDX 9 / 25: SEARCHING p_droput: 0.1, hidden: 100\n",
            "already done\n",
            "IDX 10 / 25: SEARCHING p_droput: 0.1, hidden: 200\n",
            "71 seconds to train epoch\n",
            "Epoch 1/20: train loss of 0.640, val loss of 0.671\n",
            "Val loss decreased inf --> 0.671 saving model...\n",
            "71 seconds to train epoch\n",
            "Epoch 2/20: train loss of 0.646, val loss of 0.703\n",
            "72 seconds to train epoch\n",
            "Epoch 3/20: train loss of 0.591, val loss of 0.381\n",
            "Val loss decreased 0.671 --> 0.381 saving model...\n",
            "71 seconds to train epoch\n",
            "Epoch 4/20: train loss of 0.361, val loss of 0.350\n",
            "Val loss decreased 0.381 --> 0.350 saving model...\n",
            "72 seconds to train epoch\n",
            "Epoch 5/20: train loss of 0.325, val loss of 0.301\n",
            "Val loss decreased 0.350 --> 0.301 saving model...\n",
            "72 seconds to train epoch\n",
            "Epoch 6/20: train loss of 0.308, val loss of 0.289\n",
            "Val loss decreased 0.301 --> 0.289 saving model...\n",
            "72 seconds to train epoch\n",
            "Epoch 7/20: train loss of 0.277, val loss of 0.285\n",
            "Val loss decreased 0.289 --> 0.285 saving model...\n",
            "72 seconds to train epoch\n",
            "Epoch 8/20: train loss of 0.264, val loss of 0.272\n",
            "Val loss decreased 0.285 --> 0.272 saving model...\n",
            "71 seconds to train epoch\n",
            "Epoch 9/20: train loss of 0.251, val loss of 0.261\n",
            "Val loss decreased 0.272 --> 0.261 saving model...\n",
            "72 seconds to train epoch\n",
            "Epoch 10/20: train loss of 0.238, val loss of 0.259\n",
            "Val loss decreased 0.261 --> 0.259 saving model...\n",
            "72 seconds to train epoch\n",
            "Epoch 11/20: train loss of 0.224, val loss of 0.255\n",
            "Val loss decreased 0.259 --> 0.255 saving model...\n",
            "72 seconds to train epoch\n",
            "Epoch 12/20: train loss of 0.214, val loss of 0.253\n",
            "Val loss decreased 0.255 --> 0.253 saving model...\n",
            "72 seconds to train epoch\n",
            "Epoch 13/20: train loss of 0.201, val loss of 0.272\n",
            "71 seconds to train epoch\n",
            "Epoch 14/20: train loss of 0.185, val loss of 0.260\n",
            "72 seconds to train epoch\n",
            "Epoch 15/20: train loss of 0.171, val loss of 0.272\n",
            "71 seconds to train epoch\n",
            "Epoch 16/20: train loss of 0.155, val loss of 0.275\n",
            "72 seconds to train epoch\n",
            "Epoch 17/20: train loss of 0.138, val loss of 0.302\n",
            "72 seconds to train epoch\n",
            "Epoch 18/20: train loss of 0.123, val loss of 0.330\n",
            "72 seconds to train epoch\n",
            "Epoch 19/20: train loss of 0.103, val loss of 0.343\n",
            "72 seconds to train epoch\n",
            "Epoch 20/20: train loss of 0.092, val loss of 0.372\n",
            "IDX 11 / 25: SEARCHING p_droput: 0.2, hidden: 10\n",
            "already done\n",
            "IDX 12 / 25: SEARCHING p_droput: 0.2, hidden: 20\n",
            "already done\n",
            "IDX 13 / 25: SEARCHING p_droput: 0.2, hidden: 50\n",
            "already done\n",
            "IDX 14 / 25: SEARCHING p_droput: 0.2, hidden: 100\n",
            "already done\n",
            "IDX 15 / 25: SEARCHING p_droput: 0.2, hidden: 200\n",
            "72 seconds to train epoch\n",
            "Epoch 1/20: train loss of 0.662, val loss of 0.592\n",
            "Val loss decreased inf --> 0.592 saving model...\n",
            "72 seconds to train epoch\n",
            "Epoch 2/20: train loss of 0.595, val loss of 0.493\n",
            "Val loss decreased 0.592 --> 0.493 saving model...\n",
            "72 seconds to train epoch\n",
            "Epoch 3/20: train loss of 0.458, val loss of 0.389\n",
            "Val loss decreased 0.493 --> 0.389 saving model...\n",
            "72 seconds to train epoch\n",
            "Epoch 4/20: train loss of 0.328, val loss of 0.305\n",
            "Val loss decreased 0.389 --> 0.305 saving model...\n",
            "71 seconds to train epoch\n",
            "Epoch 5/20: train loss of 0.285, val loss of 0.278\n",
            "Val loss decreased 0.305 --> 0.278 saving model...\n",
            "72 seconds to train epoch\n",
            "Epoch 6/20: train loss of 0.266, val loss of 0.262\n",
            "Val loss decreased 0.278 --> 0.262 saving model...\n",
            "72 seconds to train epoch\n",
            "Epoch 7/20: train loss of 0.254, val loss of 0.267\n",
            "72 seconds to train epoch\n",
            "Epoch 8/20: train loss of 0.235, val loss of 0.259\n",
            "Val loss decreased 0.262 --> 0.259 saving model...\n",
            "72 seconds to train epoch\n",
            "Epoch 9/20: train loss of 0.217, val loss of 0.253\n",
            "Val loss decreased 0.259 --> 0.253 saving model...\n",
            "72 seconds to train epoch\n",
            "Epoch 10/20: train loss of 0.200, val loss of 0.263\n",
            "71 seconds to train epoch\n",
            "Epoch 11/20: train loss of 0.180, val loss of 0.270\n",
            "71 seconds to train epoch\n",
            "Epoch 12/20: train loss of 0.164, val loss of 0.274\n",
            "72 seconds to train epoch\n",
            "Epoch 13/20: train loss of 0.141, val loss of 0.303\n",
            "71 seconds to train epoch\n",
            "Epoch 14/20: train loss of 0.118, val loss of 0.331\n",
            "71 seconds to train epoch\n",
            "Epoch 15/20: train loss of 0.092, val loss of 0.322\n",
            "72 seconds to train epoch\n",
            "Epoch 16/20: train loss of 0.073, val loss of 0.374\n",
            "72 seconds to train epoch\n",
            "Epoch 17/20: train loss of 0.055, val loss of 0.409\n",
            "72 seconds to train epoch\n",
            "Epoch 18/20: train loss of 0.050, val loss of 0.392\n",
            "72 seconds to train epoch\n",
            "Epoch 19/20: train loss of 0.038, val loss of 0.469\n",
            "72 seconds to train epoch\n",
            "Epoch 20/20: train loss of 0.031, val loss of 0.498\n",
            "IDX 16 / 25: SEARCHING p_droput: 0.3, hidden: 10\n",
            "already done\n",
            "IDX 17 / 25: SEARCHING p_droput: 0.3, hidden: 20\n",
            "already done\n",
            "IDX 18 / 25: SEARCHING p_droput: 0.3, hidden: 50\n",
            "already done\n",
            "IDX 19 / 25: SEARCHING p_droput: 0.3, hidden: 100\n",
            "already done\n",
            "IDX 20 / 25: SEARCHING p_droput: 0.3, hidden: 200\n",
            "already done\n",
            "IDX 21 / 25: SEARCHING p_droput: 0.5, hidden: 10\n",
            "already done\n",
            "IDX 22 / 25: SEARCHING p_droput: 0.5, hidden: 20\n",
            "already done\n",
            "IDX 23 / 25: SEARCHING p_droput: 0.5, hidden: 50\n",
            "already done\n",
            "IDX 24 / 25: SEARCHING p_droput: 0.5, hidden: 100\n",
            "already done\n",
            "IDX 25 / 25: SEARCHING p_droput: 0.5, hidden: 200\n",
            "already done\n"
          ],
          "name": "stdout"
        }
      ]
    },
    {
      "cell_type": "markdown",
      "metadata": {
        "id": "GUQjDfdDXvio",
        "colab_type": "text"
      },
      "source": [
        "## Heatmap"
      ]
    },
    {
      "cell_type": "code",
      "metadata": {
        "id": "VVWPjWiEk4Gq",
        "colab_type": "code",
        "colab": {}
      },
      "source": [
        "csv_path = '/content/drive/My Drive/colab_data/grid_search.csv'\n",
        "res = pd.read_csv(csv_path)"
      ],
      "execution_count": null,
      "outputs": []
    },
    {
      "cell_type": "code",
      "metadata": {
        "id": "UFVwCcBxk5K-",
        "colab_type": "code",
        "colab": {
          "base_uri": "https://localhost:8080/",
          "height": 204
        },
        "outputId": "3388d9e9-24c3-457d-9af7-9efdb621d07a"
      },
      "source": [
        "res.head()"
      ],
      "execution_count": null,
      "outputs": [
        {
          "output_type": "execute_result",
          "data": {
            "text/html": [
              "<div>\n",
              "<style scoped>\n",
              "    .dataframe tbody tr th:only-of-type {\n",
              "        vertical-align: middle;\n",
              "    }\n",
              "\n",
              "    .dataframe tbody tr th {\n",
              "        vertical-align: top;\n",
              "    }\n",
              "\n",
              "    .dataframe thead th {\n",
              "        text-align: right;\n",
              "    }\n",
              "</style>\n",
              "<table border=\"1\" class=\"dataframe\">\n",
              "  <thead>\n",
              "    <tr style=\"text-align: right;\">\n",
              "      <th></th>\n",
              "      <th>model_version</th>\n",
              "      <th>hidden</th>\n",
              "      <th>p_dropout</th>\n",
              "      <th>num_layers</th>\n",
              "      <th>num_epochs</th>\n",
              "      <th>test_acc</th>\n",
              "      <th>test_loss</th>\n",
              "      <th>train_acc</th>\n",
              "      <th>train_loss</th>\n",
              "    </tr>\n",
              "  </thead>\n",
              "  <tbody>\n",
              "    <tr>\n",
              "      <th>0</th>\n",
              "      <td>v22</td>\n",
              "      <td>10</td>\n",
              "      <td>0.0</td>\n",
              "      <td>2</td>\n",
              "      <td>20</td>\n",
              "      <td>89.02</td>\n",
              "      <td>0.275</td>\n",
              "      <td>89.81</td>\n",
              "      <td>0.256</td>\n",
              "    </tr>\n",
              "    <tr>\n",
              "      <th>1</th>\n",
              "      <td>v23</td>\n",
              "      <td>20</td>\n",
              "      <td>0.0</td>\n",
              "      <td>2</td>\n",
              "      <td>20</td>\n",
              "      <td>89.76</td>\n",
              "      <td>0.251</td>\n",
              "      <td>91.84</td>\n",
              "      <td>0.213</td>\n",
              "    </tr>\n",
              "    <tr>\n",
              "      <th>2</th>\n",
              "      <td>v24</td>\n",
              "      <td>10</td>\n",
              "      <td>0.1</td>\n",
              "      <td>2</td>\n",
              "      <td>20</td>\n",
              "      <td>88.74</td>\n",
              "      <td>0.277</td>\n",
              "      <td>89.31</td>\n",
              "      <td>0.265</td>\n",
              "    </tr>\n",
              "    <tr>\n",
              "      <th>3</th>\n",
              "      <td>v25</td>\n",
              "      <td>20</td>\n",
              "      <td>0.1</td>\n",
              "      <td>2</td>\n",
              "      <td>20</td>\n",
              "      <td>90.04</td>\n",
              "      <td>0.246</td>\n",
              "      <td>92.40</td>\n",
              "      <td>0.206</td>\n",
              "    </tr>\n",
              "    <tr>\n",
              "      <th>4</th>\n",
              "      <td>v26</td>\n",
              "      <td>50</td>\n",
              "      <td>0.0</td>\n",
              "      <td>2</td>\n",
              "      <td>20</td>\n",
              "      <td>90.44</td>\n",
              "      <td>0.241</td>\n",
              "      <td>93.19</td>\n",
              "      <td>0.184</td>\n",
              "    </tr>\n",
              "  </tbody>\n",
              "</table>\n",
              "</div>"
            ],
            "text/plain": [
              "  model_version  hidden  p_dropout  ...  test_loss  train_acc  train_loss\n",
              "0           v22      10        0.0  ...      0.275      89.81       0.256\n",
              "1           v23      20        0.0  ...      0.251      91.84       0.213\n",
              "2           v24      10        0.1  ...      0.277      89.31       0.265\n",
              "3           v25      20        0.1  ...      0.246      92.40       0.206\n",
              "4           v26      50        0.0  ...      0.241      93.19       0.184\n",
              "\n",
              "[5 rows x 9 columns]"
            ]
          },
          "metadata": {
            "tags": []
          },
          "execution_count": 6
        }
      ]
    },
    {
      "cell_type": "code",
      "metadata": {
        "id": "kk8qWO14VOmC",
        "colab_type": "code",
        "colab": {}
      },
      "source": [
        "hidden_values = res.hidden.nunique()\n",
        "p_dropout_values = res.p_dropout.nunique()\n",
        "\n",
        "matrix = np.zeros((hidden_values,p_dropout_values))\n",
        "res_sorted = res.sort_values(['hidden','p_dropout']).copy()"
      ],
      "execution_count": null,
      "outputs": []
    },
    {
      "cell_type": "code",
      "metadata": {
        "id": "BRoeOIA21yag",
        "colab_type": "code",
        "colab": {
          "base_uri": "https://localhost:8080/",
          "height": 34
        },
        "outputId": "9385b900-5f2a-46e0-98cb-ddedc3722ce5"
      },
      "source": [
        "res_sorted.test_acc.values.shape"
      ],
      "execution_count": null,
      "outputs": [
        {
          "output_type": "execute_result",
          "data": {
            "text/plain": [
              "(25,)"
            ]
          },
          "metadata": {
            "tags": []
          },
          "execution_count": 8
        }
      ]
    },
    {
      "cell_type": "code",
      "metadata": {
        "id": "XBmsS4QN15cx",
        "colab_type": "code",
        "colab": {}
      },
      "source": [
        "for h in list(res.hidden.unique()):\n",
        "    for p in list(res.p_dropout.unique()):\n",
        "        num = len(res_sorted[(res_sorted.hidden == h) & (res_sorted.p_dropout == p)])\n",
        "        if num == 0:\n",
        "            to_append = {}\n",
        "            to_append['hidden'] = h\n",
        "            to_append['p_dropout'] = p\n",
        "            res_sorted = res_sorted.append(to_append,ignore_index=True)\n",
        "\n",
        "res_sorted = res_sorted.sort_values(['hidden','p_dropout']).copy()"
      ],
      "execution_count": null,
      "outputs": []
    },
    {
      "cell_type": "code",
      "metadata": {
        "id": "nkMzVkM42KhD",
        "colab_type": "code",
        "colab": {}
      },
      "source": [
        "# res_sorted"
      ],
      "execution_count": null,
      "outputs": []
    },
    {
      "cell_type": "code",
      "metadata": {
        "id": "_nra4zBz0tW_",
        "colab_type": "code",
        "colab": {}
      },
      "source": [
        "test_acc = res_sorted.test_acc.values\n",
        "test_acc = test_acc.reshape(matrix.shape)\n",
        "\n",
        "train_acc = res_sorted.train_acc.values\n",
        "train_acc = train_acc.reshape(matrix.shape)\n",
        "\n",
        "test_loss = res_sorted.test_loss.values\n",
        "test_loss = test_loss.reshape(matrix.shape)\n",
        "\n",
        "train_loss = res_sorted.train_loss.values\n",
        "train_loss = train_loss.reshape(matrix.shape)"
      ],
      "execution_count": null,
      "outputs": []
    },
    {
      "cell_type": "code",
      "metadata": {
        "id": "PHgbrUxc0x_x",
        "colab_type": "code",
        "colab": {
          "base_uri": "https://localhost:8080/",
          "height": 513
        },
        "outputId": "80402474-d888-42b7-95cf-f0aa6a88a48e"
      },
      "source": [
        "_ = sns.heatmap(test_acc,cmap='Blues',linecolor='black',linewidths=1,annot=True,fmt='g')\n",
        "fig,ax = plt.gcf(),plt.gca()\n",
        "_ = ax.set_xlabel('prob. dropout')\n",
        "_ = ax.set_ylabel('hidden dim.')\n",
        "\n",
        "_ = ax.set_xticklabels(res.p_dropout.unique())\n",
        "_ = ax.set_yticklabels(res.hidden.unique())\n",
        "_ = plt.title('Test Acc.')\n",
        "\n",
        "fig.set_size_inches(10,8)\n",
        "fig_path = '/content/drive/My Drive/colab_data/test_acc.png'\n",
        "plt.savefig(fig_path)"
      ],
      "execution_count": null,
      "outputs": [
        {
          "output_type": "display_data",
          "data": {
            "image/png": "[encoded data removed]",
            "text/plain": [
              "<Figure size 720x576 with 2 Axes>"
            ]
          },
          "metadata": {
            "tags": [],
            "needs_background": "light"
          }
        }
      ]
    },
    {
      "cell_type": "code",
      "metadata": {
        "id": "zsWK_6dVYE2W",
        "colab_type": "code",
        "colab": {
          "base_uri": "https://localhost:8080/",
          "height": 513
        },
        "outputId": "adc6065c-fe5f-4dba-a968-10ab7cbb5956"
      },
      "source": [
        "_ = sns.heatmap(test_loss,cmap='Blues',linecolor='black',linewidths=1,annot=True,fmt='g')\n",
        "fig,ax = plt.gcf(),plt.gca()\n",
        "_ = ax.set_xlabel('prob. dropout')\n",
        "_ = ax.set_ylabel('hidden dim.')\n",
        "\n",
        "_ = ax.set_xticklabels(res.p_dropout.unique())\n",
        "_ = ax.set_yticklabels(res.hidden.unique())\n",
        "_ = plt.title('Test Loss')\n",
        "\n",
        "fig.set_size_inches(10,8)\n",
        "fig_path = '/content/drive/My Drive/colab_data/test_loss.png'\n",
        "plt.savefig(fig_path)"
      ],
      "execution_count": null,
      "outputs": [
        {
          "output_type": "display_data",
          "data": {
            "image/png": "[encoded data removed]",
            "text/plain": [
              "<Figure size 720x576 with 2 Axes>"
            ]
          },
          "metadata": {
            "tags": [],
            "needs_background": "light"
          }
        }
      ]
    },
    {
      "cell_type": "code",
      "metadata": {
        "id": "8iV6XgfpV6y8",
        "colab_type": "code",
        "colab": {
          "base_uri": "https://localhost:8080/",
          "height": 513
        },
        "outputId": "a483d74c-d075-4134-f933-c1911877699c"
      },
      "source": [
        "_ = sns.heatmap(train_acc,cmap='Blues',linecolor='black',linewidths=1,annot=True,fmt='g')\n",
        "fig,ax = plt.gcf(),plt.gca()\n",
        "_ = ax.set_xlabel('prob. dropout')\n",
        "_ = ax.set_ylabel('hidden dim.')\n",
        "\n",
        "_ = ax.set_xticklabels(res.p_dropout.unique())\n",
        "_ = ax.set_yticklabels(res.hidden.unique())\n",
        "_ = plt.title('Train Acc.')\n",
        "\n",
        "fig.set_size_inches(10,8)\n",
        "fig_path = '/content/drive/My Drive/colab_data/train_acc.png'\n",
        "plt.savefig(fig_path)"
      ],
      "execution_count": null,
      "outputs": [
        {
          "output_type": "display_data",
          "data": {
            "image/png": "[encoded data removed]",
            "text/plain": [
              "<Figure size 720x576 with 2 Axes>"
            ]
          },
          "metadata": {
            "tags": [],
            "needs_background": "light"
          }
        }
      ]
    },
    {
      "cell_type": "code",
      "metadata": {
        "id": "j7BJSkisXpWH",
        "colab_type": "code",
        "colab": {
          "base_uri": "https://localhost:8080/",
          "height": 513
        },
        "outputId": "decf9e24-499f-40d5-eb75-f669f0bc1869"
      },
      "source": [
        "_ = sns.heatmap(train_loss,cmap='Blues',linecolor='black',linewidths=1,annot=True,fmt='g')\n",
        "fig,ax = plt.gcf(),plt.gca()\n",
        "_ = ax.set_xlabel('prob. dropout')\n",
        "_ = ax.set_ylabel('hidden dim.')\n",
        "\n",
        "_ = ax.set_xticklabels(res.p_dropout.unique())\n",
        "_ = ax.set_yticklabels(res.hidden.unique())\n",
        "_ = plt.title('Train Loss')\n",
        "\n",
        "fig.set_size_inches(10,8)\n",
        "fig_path = '/content/drive/My Drive/colab_data/train_loss.png'\n",
        "plt.savefig(fig_path)"
      ],
      "execution_count": null,
      "outputs": [
        {
          "output_type": "display_data",
          "data": {
            "image/png": "[encoded data removed]",
            "text/plain": [
              "<Figure size 720x576 with 2 Axes>"
            ]
          },
          "metadata": {
            "tags": [],
            "needs_background": "light"
          }
        }
      ]
    },
    {
      "cell_type": "code",
      "metadata": {
        "id": "EBYLP5z6YVMu",
        "colab_type": "code",
        "colab": {}
      },
      "source": [
        ""
      ],
      "execution_count": null,
      "outputs": []
    }
  ]
}