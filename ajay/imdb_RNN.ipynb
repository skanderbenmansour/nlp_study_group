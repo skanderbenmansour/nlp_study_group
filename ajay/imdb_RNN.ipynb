{
 "cells": [
  {
   "cell_type": "code",
   "execution_count": 1,
   "metadata": {},
   "outputs": [],
   "source": [
    "import pandas as pd\n",
    "from bs4 import BeautifulSoup\n",
    "from unidecode import unidecode\n",
    "\n",
    "from gensim import corpora\n",
    "from gensim.utils import simple_preprocess\n",
    "\n",
    "import torch\n",
    "import torch.nn as nn\n",
    "import torch.nn.functional as F\n",
    "import torch.optim as optim"
   ]
  },
  {
   "cell_type": "code",
   "execution_count": 2,
   "metadata": {},
   "outputs": [],
   "source": [
    "df = pd.read_csv('imdb-dataset-of-50k-movie-reviews.zip')"
   ]
  },
  {
   "cell_type": "code",
   "execution_count": 3,
   "metadata": {},
   "outputs": [
    {
     "name": "stdout",
     "output_type": "stream",
     "text": [
      "<class 'pandas.core.frame.DataFrame'>\n",
      "RangeIndex: 50000 entries, 0 to 49999\n",
      "Data columns (total 2 columns):\n",
      " #   Column     Non-Null Count  Dtype \n",
      "---  ------     --------------  ----- \n",
      " 0   review     50000 non-null  object\n",
      " 1   sentiment  50000 non-null  object\n",
      "dtypes: object(2)\n",
      "memory usage: 781.4+ KB\n"
     ]
    },
    {
     "data": {
      "text/plain": [
       "positive    25000\n",
       "negative    25000\n",
       "Name: sentiment, dtype: int64"
      ]
     },
     "execution_count": 3,
     "metadata": {},
     "output_type": "execute_result"
    }
   ],
   "source": [
    "df.info()\n",
    "df['sentiment'].value_counts()"
   ]
  },
  {
   "cell_type": "code",
   "execution_count": 4,
   "metadata": {},
   "outputs": [
    {
     "data": {
      "text/plain": [
       "count    50000.000000\n",
       "mean      1309.431020\n",
       "std        989.728014\n",
       "min         32.000000\n",
       "25%        699.000000\n",
       "50%        970.000000\n",
       "75%       1590.250000\n",
       "max      13704.000000\n",
       "Name: review, dtype: float64"
      ]
     },
     "execution_count": 4,
     "metadata": {},
     "output_type": "execute_result"
    }
   ],
   "source": [
    "df['review'].str.len().describe()"
   ]
  },
  {
   "cell_type": "code",
   "execution_count": 5,
   "metadata": {},
   "outputs": [],
   "source": [
    "def preprocess_df(df):\n",
    "    print(\"Removing HTML tags\")\n",
    "    df['review'] = df['review'].apply(lambda t: BeautifulSoup(t, 'html.parser').get_text())\n",
    "    print(\"Removing diacritics\")\n",
    "    df['review'] = df['review'].apply(unidecode)\n",
    "    print('Applying Gensim simple preprocessing')\n",
    "    df['review-tokenized'] = df['review'].apply(simple_preprocess)\n",
    "    print('positive -> 1, negative -> 0')\n",
    "    df['sentiment'] = df['sentiment'].replace({\"positive\": 1, \"negative\": 0})\n",
    "    return df"
   ]
  },
  {
   "cell_type": "code",
   "execution_count": 6,
   "metadata": {},
   "outputs": [],
   "source": [
    "def train_val_test_split(df):\n",
    "    df = df.sample(frac=1).reset_index(drop=True)\n",
    "    train = df[:17500]\n",
    "    validation = df[17500:25000]\n",
    "    test = df[40000:]\n",
    "    return train, validation, test"
   ]
  },
  {
   "cell_type": "code",
   "execution_count": 7,
   "metadata": {},
   "outputs": [],
   "source": [
    "def prepare_sequence(seq, to_ix):\n",
    "    idxs = [to_ix[w] for w in seq]\n",
    "    return torch.tensor(idxs, dtype=torch.long)"
   ]
  },
  {
   "cell_type": "code",
   "execution_count": 8,
   "metadata": {},
   "outputs": [
    {
     "name": "stdout",
     "output_type": "stream",
     "text": [
      "Removing HTML tags\n",
      "Removing diacritics\n",
      "Applying Gensim simple preprocessing\n",
      "positive -> 1, negative -> 0\n"
     ]
    }
   ],
   "source": [
    "train, validation, test = train_val_test_split(preprocess_df(df))"
   ]
  },
  {
   "cell_type": "code",
   "execution_count": 9,
   "metadata": {},
   "outputs": [],
   "source": [
    "vocab = corpora.Dictionary(train['review-tokenized']) # like a dictionary that's easy to use both ways"
   ]
  },
  {
   "cell_type": "code",
   "execution_count": 10,
   "metadata": {},
   "outputs": [
    {
     "data": {
      "text/plain": [
       "65692"
      ]
     },
     "execution_count": 10,
     "metadata": {},
     "output_type": "execute_result"
    }
   ],
   "source": [
    "vocab_size = len(vocab)\n",
    "vocab_size"
   ]
  },
  {
   "cell_type": "code",
   "execution_count": 11,
   "metadata": {},
   "outputs": [],
   "source": [
    "class RNN(nn.Module):\n",
    "    def __init__(self, input_dim, embedding_dim, hidden_dim, output_dim):\n",
    "        super().__init__()\n",
    "        self.embedding = nn.Embedding(input_dim, embedding_dim)\n",
    "        self.rnn = nn.RNN(embedding_dim, hidden_dim)\n",
    "        self.linear = nn.Linear(hidden_dim, output_dim)\n",
    "        \n",
    "    def forward(self, text):\n",
    "        embedded = self.embedding(text)\n",
    "        output, hidden = self.rnn(embedded)\n",
    "        linear_out = self.linear(hidden)\n",
    "        return F.log_softmax(linear_out.view(1, 2), dim=1)"
   ]
  },
  {
   "cell_type": "code",
   "execution_count": 12,
   "metadata": {},
   "outputs": [],
   "source": [
    "input_dim = vocab_size\n",
    "embedding_dim = 25\n",
    "hidden_dim = 256\n",
    "output_dim = 2\n",
    "\n",
    "model = RNN(input_dim, embedding_dim, hidden_dim, output_dim)\n",
    "optimizer = optim.SGD(model.parameters(), lr=1e-3)\n",
    "loss_function = nn.NLLLoss()"
   ]
  },
  {
   "cell_type": "code",
   "execution_count": 13,
   "metadata": {},
   "outputs": [],
   "source": [
    "epochs = 5"
   ]
  },
  {
   "cell_type": "code",
   "execution_count": 14,
   "metadata": {
    "scrolled": false
   },
   "outputs": [
    {
     "name": "stdout",
     "output_type": "stream",
     "text": [
      "EPOCH 0\n",
      "[35.10572922229767]\n",
      "EPOCH 1\n",
      "[35.10572922229767, 35.00071334838867]\n",
      "EPOCH 2\n",
      "[35.10572922229767, 35.00071334838867, 35.40304356813431]\n",
      "EPOCH 3\n",
      "[35.10572922229767, 35.00071334838867, 35.40304356813431, 35.342559814453125]\n",
      "EPOCH 4\n",
      "[35.10572922229767, 35.00071334838867, 35.40304356813431, 35.342559814453125, 34.431629061698914]\n"
     ]
    }
   ],
   "source": [
    "epoch_losses = []\n",
    "\n",
    "for epoch in range(epochs):\n",
    "    print(\"EPOCH\", epoch)\n",
    "    epoch_loss = 0\n",
    "    for text, sentiment in zip(train.sample(50)[\"review-tokenized\"], train.sample(50)[\"sentiment\"]):\n",
    "        model.zero_grad()\n",
    "        text_in = prepare_sequence(text, vocab.token2id)\n",
    "        target = torch.LongTensor([sentiment])\n",
    "        prediction = model.forward(text_in.view(-1, 1)).view(1, -1)\n",
    "        loss = loss_function(prediction, target)\n",
    "        loss.backward()\n",
    "        optimizer.step()\n",
    "        epoch_loss += loss.item()\n",
    "    epoch_losses.append(epoch_loss)\n",
    "    print(epoch_losses)"
   ]
  },
  {
   "cell_type": "code",
   "execution_count": null,
   "metadata": {},
   "outputs": [],
   "source": []
  }
 ],
 "metadata": {
  "kernelspec": {
   "display_name": "Python 3",
   "language": "python",
   "name": "python3"
  },
  "language_info": {
   "codemirror_mode": {
    "name": "ipython",
    "version": 3
   },
   "file_extension": ".py",
   "mimetype": "text/x-python",
   "name": "python",
   "nbconvert_exporter": "python",
   "pygments_lexer": "ipython3",
   "version": "3.7.7"
  }
 },
 "nbformat": 4,
 "nbformat_minor": 4
}
