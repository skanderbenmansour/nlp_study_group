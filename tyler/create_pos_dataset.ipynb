{
 "cells": [
  {
   "cell_type": "markdown",
   "metadata": {},
   "source": [
    "## Create POS dataset from NLTK"
   ]
  },
  {
   "cell_type": "code",
   "execution_count": 17,
   "metadata": {},
   "outputs": [],
   "source": [
    "import nltk\n",
    "import torch\n",
    "import torch.nn as nn\n",
    "import torch.nn.functional as F\n",
    "import torch.optim as optim\n",
    "\n",
    "torch.manual_seed(1)\n",
    "\n",
    "import numpy as np\n",
    "\n",
    "import torch.autograd as autograd\n",
    "from tqdm.notebook import trange\n",
    "from tqdm.notebook import tqdm\n",
    "from collections import Counter"
   ]
  },
  {
   "cell_type": "markdown",
   "metadata": {},
   "source": [
    "#### Download POS tagger"
   ]
  },
  {
   "cell_type": "code",
   "execution_count": 7,
   "metadata": {},
   "outputs": [
    {
     "name": "stdout",
     "output_type": "stream",
     "text": [
      "[nltk_data] Downloading package averaged_perceptron_tagger to\n",
      "[nltk_data]     /Users/tyler/nltk_data...\n",
      "[nltk_data]   Package averaged_perceptron_tagger is already up-to-\n",
      "[nltk_data]       date!\n"
     ]
    },
    {
     "data": {
      "text/plain": [
       "True"
      ]
     },
     "execution_count": 7,
     "metadata": {},
     "output_type": "execute_result"
    }
   ],
   "source": [
    "nltk.download('averaged_perceptron_tagger')"
   ]
  },
  {
   "cell_type": "code",
   "execution_count": 8,
   "metadata": {},
   "outputs": [],
   "source": [
    "text = nltk.word_tokenize(\"And now for something completely different\")"
   ]
  },
  {
   "cell_type": "code",
   "execution_count": 9,
   "metadata": {},
   "outputs": [
    {
     "data": {
      "text/plain": [
       "[('And', 'CC'),\n",
       " ('now', 'RB'),\n",
       " ('for', 'IN'),\n",
       " ('something', 'NN'),\n",
       " ('completely', 'RB'),\n",
       " ('different', 'JJ')]"
      ]
     },
     "execution_count": 9,
     "metadata": {},
     "output_type": "execute_result"
    }
   ],
   "source": [
    "nltk.pos_tag(text)"
   ]
  },
  {
   "cell_type": "markdown",
   "metadata": {},
   "source": [
    "#### Download and tag corpus"
   ]
  },
  {
   "cell_type": "code",
   "execution_count": 10,
   "metadata": {},
   "outputs": [
    {
     "name": "stdout",
     "output_type": "stream",
     "text": [
      "[nltk_data] Downloading package brown to /Users/tyler/nltk_data...\n",
      "[nltk_data]   Package brown is already up-to-date!\n"
     ]
    },
    {
     "data": {
      "text/plain": [
       "True"
      ]
     },
     "execution_count": 10,
     "metadata": {},
     "output_type": "execute_result"
    }
   ],
   "source": [
    "nltk.download('brown')"
   ]
  },
  {
   "cell_type": "code",
   "execution_count": 11,
   "metadata": {},
   "outputs": [
    {
     "data": {
      "text/plain": [
       "['The', 'Fulton', 'County', 'Grand', 'Jury', 'said', ...]"
      ]
     },
     "execution_count": 11,
     "metadata": {},
     "output_type": "execute_result"
    }
   ],
   "source": [
    "nltk.corpus.brown.words()"
   ]
  },
  {
   "cell_type": "code",
   "execution_count": 12,
   "metadata": {},
   "outputs": [],
   "source": [
    "text = nltk.Text(word.lower() for word in nltk.corpus.brown.words())"
   ]
  },
  {
   "cell_type": "code",
   "execution_count": 13,
   "metadata": {},
   "outputs": [],
   "source": [
    "all_text = ''.join(f'{word} ' for word in text)"
   ]
  },
  {
   "cell_type": "code",
   "execution_count": 14,
   "metadata": {},
   "outputs": [
    {
     "data": {
      "text/plain": [
       "\"the fulton county grand jury said friday an investigation of atlanta's recent primary election produ\""
      ]
     },
     "execution_count": 14,
     "metadata": {},
     "output_type": "execute_result"
    }
   ],
   "source": [
    "all_text[:100]"
   ]
  },
  {
   "cell_type": "code",
   "execution_count": 15,
   "metadata": {},
   "outputs": [],
   "source": [
    "sent_text = nltk.sent_tokenize(all_text)"
   ]
  },
  {
   "cell_type": "code",
   "execution_count": 18,
   "metadata": {},
   "outputs": [
    {
     "data": {
      "application/vnd.jupyter.widget-view+json": {
       "model_id": "0eac655ead7c438da1482b7bbfd2950c",
       "version_major": 2,
       "version_minor": 0
      },
      "text/plain": [
       "HBox(children=(FloatProgress(value=0.0, max=56534.0), HTML(value='')))"
      ]
     },
     "metadata": {},
     "output_type": "display_data"
    },
    {
     "name": "stdout",
     "output_type": "stream",
     "text": [
      "\n"
     ]
    }
   ],
   "source": [
    "tagged_sentences = [nltk.pos_tag(s.split()) for s in tqdm(sent_text)]"
   ]
  },
  {
   "cell_type": "markdown",
   "metadata": {},
   "source": [
    "#### Decide which tags to keep"
   ]
  },
  {
   "cell_type": "code",
   "execution_count": 19,
   "metadata": {},
   "outputs": [],
   "source": [
    "tag_counts = {}\n",
    "\n",
    "tag_list = []\n",
    "for sentence in tagged_sentences:\n",
    "    for word,tag in sentence:\n",
    "        tag_list.append(tag)\n",
    "        \n",
    "tag_counts = Counter(tag_list)"
   ]
  },
  {
   "cell_type": "code",
   "execution_count": 20,
   "metadata": {},
   "outputs": [],
   "source": [
    "keep_tags = []\n",
    "for key,item in tag_counts.most_common(18):\n",
    "    if key != '.' and key != ',' and '$' not in key:\n",
    "        keep_tags.append(key)"
   ]
  },
  {
   "cell_type": "code",
   "execution_count": 21,
   "metadata": {},
   "outputs": [
    {
     "data": {
      "text/plain": [
       "15"
      ]
     },
     "execution_count": 21,
     "metadata": {},
     "output_type": "execute_result"
    }
   ],
   "source": [
    "len(keep_tags)"
   ]
  },
  {
   "cell_type": "markdown",
   "metadata": {},
   "source": [
    "#### Create training data in same format from tutorial"
   ]
  },
  {
   "cell_type": "code",
   "execution_count": 22,
   "metadata": {},
   "outputs": [],
   "source": [
    "training_data = []\n",
    "for sentence in tagged_sentences[:1000]:\n",
    "    running_sentence,running_tag = [],[]\n",
    "    for word,tag in sentence:\n",
    "        if tag in keep_tags:\n",
    "            running_sentence.append(word)\n",
    "            running_tag.append(tag)\n",
    "    if len(running_sentence) > 3:\n",
    "        training_data.append((running_sentence,running_tag))"
   ]
  },
  {
   "cell_type": "code",
   "execution_count": 25,
   "metadata": {},
   "outputs": [
    {
     "data": {
      "text/plain": [
       "967"
      ]
     },
     "execution_count": 25,
     "metadata": {},
     "output_type": "execute_result"
    }
   ],
   "source": [
    "len(training_data)"
   ]
  },
  {
   "cell_type": "code",
   "execution_count": 26,
   "metadata": {},
   "outputs": [
    {
     "data": {
      "text/plain": [
       "(['the',\n",
       "  'fulton',\n",
       "  'county',\n",
       "  'grand',\n",
       "  'jury',\n",
       "  'said',\n",
       "  'an',\n",
       "  'investigation',\n",
       "  'of',\n",
       "  \"atlanta's\",\n",
       "  'recent',\n",
       "  'primary',\n",
       "  'election',\n",
       "  'produced',\n",
       "  'no',\n",
       "  'evidence',\n",
       "  'that',\n",
       "  'any',\n",
       "  'irregularities',\n",
       "  'took',\n",
       "  'place'],\n",
       " ['DT',\n",
       "  'NN',\n",
       "  'NN',\n",
       "  'JJ',\n",
       "  'NN',\n",
       "  'VBD',\n",
       "  'DT',\n",
       "  'NN',\n",
       "  'IN',\n",
       "  'JJ',\n",
       "  'JJ',\n",
       "  'JJ',\n",
       "  'NN',\n",
       "  'VBD',\n",
       "  'DT',\n",
       "  'NN',\n",
       "  'IN',\n",
       "  'DT',\n",
       "  'NNS',\n",
       "  'VBD',\n",
       "  'NN'])"
      ]
     },
     "execution_count": 26,
     "metadata": {},
     "output_type": "execute_result"
    }
   ],
   "source": [
    "training_data[0]"
   ]
  },
  {
   "cell_type": "markdown",
   "metadata": {},
   "source": [
    "## Show example"
   ]
  },
  {
   "cell_type": "code",
   "execution_count": 32,
   "metadata": {},
   "outputs": [],
   "source": [
    "def prepare_sequence(seq, to_ix):\n",
    "    idxs = [to_ix[w] for w in seq]\n",
    "    return torch.tensor(idxs, dtype=torch.long)\n",
    "\n",
    "def prepare_sequence_char(seq, to_ix):\n",
    "    sentence_tensor = []\n",
    "    for word in seq:\n",
    "        idxs = [to_ix[w] for w in word]\n",
    "        word_tensor = torch.tensor(idxs, dtype=torch.long)\n",
    "        sentence_tensor.append(word_tensor)\n",
    "    return sentence_tensor\n",
    "\n",
    "def sent_to_char(sent):\n",
    "    char_list = []\n",
    "    for word in sent:\n",
    "        word_chars = []\n",
    "        for character in word:\n",
    "            word_chars.append(character)\n",
    "        char_list.append(word_chars)\n",
    "    return char_list"
   ]
  },
  {
   "cell_type": "code",
   "execution_count": 33,
   "metadata": {},
   "outputs": [],
   "source": [
    "word_to_ix = {}\n",
    "for sent, tags in training_data:\n",
    "    for word in sent:\n",
    "        if word not in word_to_ix:\n",
    "            word_to_ix[word] = len(word_to_ix)"
   ]
  },
  {
   "cell_type": "code",
   "execution_count": 34,
   "metadata": {},
   "outputs": [],
   "source": [
    "tag_to_ix = {tag:idx for idx,tag in enumerate(keep_tags)}"
   ]
  },
  {
   "cell_type": "code",
   "execution_count": 35,
   "metadata": {},
   "outputs": [],
   "source": [
    "ix_to_tag = {ix:tag for tag,ix in tag_to_ix.items()}\n",
    "ix_to_word = {ix:word for word,ix in word_to_ix.items()}"
   ]
  },
  {
   "cell_type": "code",
   "execution_count": 36,
   "metadata": {},
   "outputs": [],
   "source": [
    "char_to_ix = {}\n",
    "for sent, tags in training_data:\n",
    "    for word in sent_to_char(sent):\n",
    "        for char in word:\n",
    "            if char not in char_to_ix:\n",
    "                char_to_ix[char] = len(char_to_ix)"
   ]
  },
  {
   "cell_type": "code",
   "execution_count": 37,
   "metadata": {},
   "outputs": [],
   "source": [
    "class char_lstm(nn.Module):\n",
    "\n",
    "    def __init__(self, embedding_dim, hidden_dim, vocab_size, vocab_size_char, tagset_size):\n",
    "        super(char_lstm, self).__init__()\n",
    "        self.hidden_dim = hidden_dim\n",
    "\n",
    "        self.char_embeddings = nn.Embedding(vocab_size_char, embedding_dim)\n",
    "        self.lstm_char = nn.LSTM(embedding_dim, hidden_dim)\n",
    "        \n",
    "        self.word_embeddings = nn.Embedding(vocab_size, embedding_dim)\n",
    "        self.lstm = nn.LSTM(embedding_dim + hidden_dim, hidden_dim)\n",
    "\n",
    "        self.hidden2tag = nn.Linear(hidden_dim, tagset_size)\n",
    "                \n",
    "        self.hidden = self.init_hidden(self.hidden_dim)\n",
    "        self.hidden_char = self.init_hidden(self.hidden_dim)\n",
    "\n",
    "    def forward(self, sentence_in, char_in):\n",
    "        num_words = sentence_in.shape[0]\n",
    "        embeds = self.word_embeddings(sentence_in)\n",
    "                \n",
    "        char_output_list = []\n",
    "        for word_chars in char_in:\n",
    "            \n",
    "            ## reset the hidden layer to remove make the representation for consecutive words independent\n",
    "            self.hidden_char = self.init_hidden(self.hidden_dim)\n",
    "            char_emb = self.char_embeddings(word_chars)\n",
    "            lstm_out_1, self.hidden_char = self.lstm_char(char_emb.view(char_emb.shape[0], 1, -1),self.hidden_char)        \n",
    "            \n",
    "            ## this keeps only the last output from each charcter sequence\n",
    "            char_output_list.append(lstm_out_1[-1])\n",
    "\n",
    "        char_output_tensor = torch.cat(char_output_list)\n",
    "\n",
    "        merged = torch.cat([embeds, char_output_tensor], dim=1) \n",
    "        \n",
    "        self.hidden = self.init_hidden(self.hidden_dim)\n",
    "        \n",
    "        lstm_out_2, self.hidden = self.lstm(merged.view(num_words, 1, -1),self.hidden)\n",
    "        lstm_out_2 = lstm_out_2.view(num_words,-1)\n",
    "        \n",
    "        tag_scores = self.hidden2tag(lstm_out_2)        \n",
    "        tag_scores = F.log_softmax(tag_scores, dim=1)\n",
    "        \n",
    "        return tag_scores\n",
    "    \n",
    "    def init_hidden(self,size):\n",
    "        return (torch.zeros(1, 1, size),torch.zeros(1, 1, size))"
   ]
  },
  {
   "cell_type": "code",
   "execution_count": 38,
   "metadata": {},
   "outputs": [],
   "source": [
    "EMBEDDING_DIM,HIDDEN_DIM = 6,10\n",
    "model = char_lstm(EMBEDDING_DIM, HIDDEN_DIM, len(word_to_ix), len(char_to_ix), len(tag_to_ix))\n",
    "\n",
    "loss_function = nn.NLLLoss()\n",
    "optimizer = optim.Adam(model.parameters(), lr=0.001)"
   ]
  },
  {
   "cell_type": "code",
   "execution_count": 39,
   "metadata": {},
   "outputs": [],
   "source": [
    "## Try a forward pass\n",
    "for sentence, tags in training_data:\n",
    "    sentence_in = prepare_sequence(sentence, word_to_ix)\n",
    "    char_in = prepare_sequence_char(sent_to_char(sentence), char_to_ix)\n",
    "    targets = prepare_sequence(tags, tag_to_ix)\n",
    "    tag_scores = model(sentence_in,char_in)\n",
    "    break"
   ]
  },
  {
   "cell_type": "code",
   "execution_count": 40,
   "metadata": {},
   "outputs": [
    {
     "data": {
      "application/vnd.jupyter.widget-view+json": {
       "model_id": "f231b0aebec348b49ddc2c853dafca6c",
       "version_major": 2,
       "version_minor": 0
      },
      "text/plain": [
       "HBox(children=(FloatProgress(value=0.0, max=10.0), HTML(value='')))"
      ]
     },
     "metadata": {},
     "output_type": "display_data"
    },
    {
     "name": "stdout",
     "output_type": "stream",
     "text": [
      "Epoch 1/10: train loss of 1.697\n",
      "Epoch 2/10: train loss of 0.848\n",
      "Epoch 3/10: train loss of 0.551\n",
      "Epoch 4/10: train loss of 0.487\n",
      "Epoch 5/10: train loss of 0.381\n",
      "Epoch 6/10: train loss of 0.325\n",
      "Epoch 7/10: train loss of 0.281\n",
      "Epoch 8/10: train loss of 0.277\n",
      "Epoch 9/10: train loss of 0.257\n",
      "Epoch 10/10: train loss of 0.257\n",
      "\n"
     ]
    }
   ],
   "source": [
    "EMBEDDING_DIM,HIDDEN_DIM = 6,10\n",
    "model = char_lstm(EMBEDDING_DIM, HIDDEN_DIM, len(word_to_ix), len(char_to_ix), len(tag_to_ix))\n",
    "\n",
    "loss_function = nn.NLLLoss()\n",
    "optimizer = optim.Adam(model.parameters(), lr=0.001)\n",
    "\n",
    "num_epochs = 10\n",
    "for epoch in trange(num_epochs):\n",
    "    model.zero_grad()\n",
    "    train_loss = []\n",
    "    for sentence, tags in training_data:\n",
    "        \n",
    "        sentence_in = prepare_sequence(sentence, word_to_ix)\n",
    "        char_in = prepare_sequence_char(sent_to_char(sentence), char_to_ix)\n",
    "        targets = prepare_sequence(tags, tag_to_ix)\n",
    "        \n",
    "        tag_scores = model(sentence_in,char_in)\n",
    "\n",
    "        loss = loss_function(tag_scores, targets)\n",
    "        train_loss.append(loss.item())\n",
    "        \n",
    "        loss.backward()\n",
    "        optimizer.step()\n",
    "        \n",
    "    mean_train_loss = np.mean(train_loss)\n",
    "    print(f'Epoch {epoch+1}/{num_epochs}: train loss of {mean_train_loss:.3f}')"
   ]
  },
  {
   "cell_type": "code",
   "execution_count": null,
   "metadata": {},
   "outputs": [],
   "source": []
  },
  {
   "cell_type": "code",
   "execution_count": 41,
   "metadata": {},
   "outputs": [
    {
     "name": "stdout",
     "output_type": "stream",
     "text": [
      "['the', 'fulton', 'county', 'grand', 'jury', 'said', 'an', 'investigation', 'of', \"atlanta's\", 'recent', 'primary', 'election', 'produced', 'no', 'evidence', 'that', 'any', 'irregularities', 'took', 'place']\n",
      "Preds: ['DT', 'NN', 'NN', 'JJ', 'NN', 'VBD', 'DT', 'NN', 'IN', 'JJ', 'JJ', 'NN', 'NN', 'VBD', 'DT', 'NN', 'IN', 'DT', 'NNS', 'VBD', 'VBN']\n",
      "Tags:  ['DT', 'NN', 'NN', 'JJ', 'NN', 'VBD', 'DT', 'NN', 'IN', 'JJ', 'JJ', 'JJ', 'NN', 'VBD', 'DT', 'NN', 'IN', 'DT', 'NNS', 'VBD', 'NN']\n",
      "-------------------------------\n",
      "['the', 'jury', 'further', 'said', 'in', 'term-end', 'presentments', 'that', 'the', 'city', 'executive', 'committee', 'had', 'over-all', 'charge', 'of', 'the', 'election', 'deserves', 'the', 'praise', 'and', 'thanks', 'of', 'the', 'city', 'of', 'atlanta', 'for', 'the', 'manner', 'in', 'the', 'election', 'was', 'conducted']\n",
      "Preds: ['DT', 'NN', 'RB', 'VBD', 'IN', 'VBN', 'NNS', 'IN', 'DT', 'NN', 'NN', 'NN', 'VBD', 'JJ', 'NN', 'IN', 'DT', 'NN', 'VBZ', 'DT', 'NN', 'CC', 'NNS', 'IN', 'DT', 'NN', 'IN', 'JJ', 'IN', 'DT', 'NN', 'IN', 'DT', 'NN', 'VBD', 'VBN']\n",
      "Tags:  ['DT', 'NN', 'RB', 'VBD', 'IN', 'JJ', 'NNS', 'IN', 'DT', 'NN', 'NN', 'NN', 'VBD', 'JJ', 'NN', 'IN', 'DT', 'NN', 'VBZ', 'DT', 'NN', 'CC', 'NNS', 'IN', 'DT', 'NN', 'IN', 'NN', 'IN', 'DT', 'NN', 'IN', 'DT', 'NN', 'VBD', 'VBN']\n",
      "-------------------------------\n",
      "['the', 'september-october', 'term', 'jury', 'had', 'been', 'charged', 'by', 'fulton', 'superior', 'court', 'judge', 'durwood', 'pye', 'to', 'investigate', 'reports', 'of', 'possible', 'irregularities', 'in', 'the', 'hard-fought', 'primary', 'was', 'won', 'by', 'mayor-nominate', 'ivan', 'allen', 'jr.']\n",
      "Preds: ['DT', 'JJ', 'NN', 'NN', 'VBD', 'VBN', 'VBN', 'IN', 'NN', 'NN', 'NN', 'NN', 'NN', 'NN', 'TO', 'VB', 'NNS', 'IN', 'JJ', 'NNS', 'IN', 'DT', 'JJ', 'NN', 'VBD', 'VBD', 'IN', 'JJ', 'NN', 'VBN', 'NN']\n",
      "Tags:  ['DT', 'JJ', 'NN', 'NN', 'VBD', 'VBN', 'VBN', 'IN', 'JJ', 'JJ', 'NN', 'NN', 'NN', 'NN', 'TO', 'VB', 'NNS', 'IN', 'JJ', 'NNS', 'IN', 'DT', 'JJ', 'NN', 'VBD', 'VBN', 'IN', 'JJ', 'NN', 'VBN', 'NN']\n",
      "-------------------------------\n",
      "['only', 'a', 'relative', 'handful', 'of', 'such', 'reports', 'was', 'received', 'the', 'jury', 'said', 'considering', 'the', 'widespread', 'interest', 'in', 'the', 'election', 'the', 'number', 'of', 'voters', 'and', 'the', 'size', 'of', 'this', 'city']\n",
      "Preds: ['RB', 'DT', 'JJ', 'NN', 'IN', 'JJ', 'NNS', 'VBD', 'VBD', 'DT', 'NN', 'VBD', 'VBG', 'DT', 'JJ', 'NN', 'IN', 'DT', 'NN', 'DT', 'NN', 'IN', 'NNS', 'CC', 'DT', 'NN', 'IN', 'DT', 'NN']\n",
      "Tags:  ['RB', 'DT', 'JJ', 'NN', 'IN', 'JJ', 'NNS', 'VBD', 'VBN', 'DT', 'NN', 'VBD', 'VBG', 'DT', 'JJ', 'NN', 'IN', 'DT', 'NN', 'DT', 'NN', 'IN', 'NNS', 'CC', 'DT', 'NN', 'IN', 'DT', 'NN']\n",
      "-------------------------------\n",
      "['the', 'jury', 'said', 'it', 'did', 'find', 'that', 'many', 'of', \"georgia's\", 'registration', 'and', 'election', 'laws', 'are', 'outmoded', 'or', 'inadequate', 'and', 'often', 'ambiguous']\n",
      "Preds: ['DT', 'NN', 'VBD', 'VBG', 'VBD', 'VB', 'IN', 'JJ', 'IN', 'NN', 'NN', 'CC', 'NN', 'NNS', 'VBP', 'VBN', 'CC', 'NN', 'CC', 'RB', 'VBN']\n",
      "Tags:  ['DT', 'NN', 'VBD', 'PRP', 'VBD', 'VB', 'IN', 'JJ', 'IN', 'JJ', 'NN', 'CC', 'NN', 'NNS', 'VBP', 'VBN', 'CC', 'JJ', 'CC', 'RB', 'JJ']\n",
      "-------------------------------\n"
     ]
    }
   ],
   "source": [
    "# See what the scores are after training\n",
    "with torch.no_grad():\n",
    "    for sentence, tags in training_data[:5]:\n",
    "        sentence_in = prepare_sequence(sentence, word_to_ix)\n",
    "        char_in = prepare_sequence_char(sent_to_char(sentence), char_to_ix)\n",
    "        tag_scores = model(sentence_in,char_in)\n",
    "\n",
    "        preds_ix = np.argmax(tag_scores.detach().numpy(),axis=1)\n",
    "        preds = [ix_to_tag[p] for p in preds_ix]\n",
    "        print(sentence)\n",
    "        \n",
    "        print(f'Preds: {preds}')\n",
    "        print(f'Tags:  {tags}')\n",
    "        \n",
    "        print(f'-------------------------------')"
   ]
  },
  {
   "cell_type": "code",
   "execution_count": null,
   "metadata": {},
   "outputs": [],
   "source": []
  }
 ],
 "metadata": {
  "kernelspec": {
   "display_name": "Python 3",
   "language": "python",
   "name": "python3"
  },
  "language_info": {
   "codemirror_mode": {
    "name": "ipython",
    "version": 3
   },
   "file_extension": ".py",
   "mimetype": "text/x-python",
   "name": "python",
   "nbconvert_exporter": "python",
   "pygments_lexer": "ipython3",
   "version": "3.6.8"
  }
 },
 "nbformat": 4,
 "nbformat_minor": 2
}
