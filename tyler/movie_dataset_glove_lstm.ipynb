{
 "cells": [
  {
   "cell_type": "code",
   "execution_count": 1,
   "metadata": {},
   "outputs": [],
   "source": [
    "import torch\n",
    "import torch.nn as nn\n",
    "import torch.nn.functional as F\n",
    "import torch.optim as optim\n",
    "\n",
    "import pandas as pd\n",
    "import numpy as np\n",
    "\n",
    "torch.manual_seed(1)\n",
    "\n",
    "#from tqdm import tqdm_notebook as tqdm\n",
    "from tqdm.notebook import tqdm\n",
    "from collections import Counter\n",
    "import nltk\n",
    "from nltk.tokenize import word_tokenize\n",
    "import matplotlib.pyplot as plt\n",
    "from torch.utils.data import Dataset, DataLoader\n",
    "from gensim.models import KeyedVectors"
   ]
  },
  {
   "cell_type": "markdown",
   "metadata": {},
   "source": [
    "## Load data\n",
    "source is https://www.kaggle.com/c/word2vec-nlp-tutorial/data"
   ]
  },
  {
   "cell_type": "code",
   "execution_count": 2,
   "metadata": {},
   "outputs": [],
   "source": [
    "data_path = '/Users/tyler/Documents/programming/pytorch_nlp/data/word2vec-nlp-tutorial/'"
   ]
  },
  {
   "cell_type": "code",
   "execution_count": 3,
   "metadata": {},
   "outputs": [],
   "source": [
    "df = pd.read_csv(data_path+'labeledTrainData.tsv',sep='\\t')"
   ]
  },
  {
   "cell_type": "code",
   "execution_count": 4,
   "metadata": {},
   "outputs": [
    {
     "data": {
      "text/html": [
       "<div>\n",
       "<style scoped>\n",
       "    .dataframe tbody tr th:only-of-type {\n",
       "        vertical-align: middle;\n",
       "    }\n",
       "\n",
       "    .dataframe tbody tr th {\n",
       "        vertical-align: top;\n",
       "    }\n",
       "\n",
       "    .dataframe thead th {\n",
       "        text-align: right;\n",
       "    }\n",
       "</style>\n",
       "<table border=\"1\" class=\"dataframe\">\n",
       "  <thead>\n",
       "    <tr style=\"text-align: right;\">\n",
       "      <th></th>\n",
       "      <th>id</th>\n",
       "      <th>sentiment</th>\n",
       "      <th>review</th>\n",
       "    </tr>\n",
       "  </thead>\n",
       "  <tbody>\n",
       "    <tr>\n",
       "      <th>0</th>\n",
       "      <td>5814_8</td>\n",
       "      <td>1</td>\n",
       "      <td>With all this stuff going down at the moment w...</td>\n",
       "    </tr>\n",
       "    <tr>\n",
       "      <th>1</th>\n",
       "      <td>2381_9</td>\n",
       "      <td>1</td>\n",
       "      <td>\\The Classic War of the Worlds\\\" by Timothy Hi...</td>\n",
       "    </tr>\n",
       "    <tr>\n",
       "      <th>2</th>\n",
       "      <td>7759_3</td>\n",
       "      <td>0</td>\n",
       "      <td>The film starts with a manager (Nicholas Bell)...</td>\n",
       "    </tr>\n",
       "    <tr>\n",
       "      <th>3</th>\n",
       "      <td>3630_4</td>\n",
       "      <td>0</td>\n",
       "      <td>It must be assumed that those who praised this...</td>\n",
       "    </tr>\n",
       "    <tr>\n",
       "      <th>4</th>\n",
       "      <td>9495_8</td>\n",
       "      <td>1</td>\n",
       "      <td>Superbly trashy and wondrously unpretentious 8...</td>\n",
       "    </tr>\n",
       "  </tbody>\n",
       "</table>\n",
       "</div>"
      ],
      "text/plain": [
       "       id  sentiment                                             review\n",
       "0  5814_8          1  With all this stuff going down at the moment w...\n",
       "1  2381_9          1  \\The Classic War of the Worlds\\\" by Timothy Hi...\n",
       "2  7759_3          0  The film starts with a manager (Nicholas Bell)...\n",
       "3  3630_4          0  It must be assumed that those who praised this...\n",
       "4  9495_8          1  Superbly trashy and wondrously unpretentious 8..."
      ]
     },
     "execution_count": 4,
     "metadata": {},
     "output_type": "execute_result"
    }
   ],
   "source": [
    "df.head()"
   ]
  },
  {
   "cell_type": "code",
   "execution_count": 5,
   "metadata": {},
   "outputs": [],
   "source": [
    "train = df[:15000]\n",
    "val = df[15000:20000]\n",
    "test = df[20000:]"
   ]
  },
  {
   "cell_type": "code",
   "execution_count": 6,
   "metadata": {},
   "outputs": [
    {
     "data": {
      "text/plain": [
       "(15000, 5000, 5000)"
      ]
     },
     "execution_count": 6,
     "metadata": {},
     "output_type": "execute_result"
    }
   ],
   "source": [
    "len(train),len(val),len(test)"
   ]
  },
  {
   "cell_type": "code",
   "execution_count": 7,
   "metadata": {},
   "outputs": [],
   "source": [
    "def process_review(review):\n",
    "    chars = ['/','\\\\','>','<','-','br']\n",
    "    chars.extend('1 2 3 4 5 6 7 8 9 0'.split())\n",
    "    for char in chars:\n",
    "        review = review.replace(char,'')\n",
    "    \n",
    "    tokens = word_tokenize(review)\n",
    "    tokens = [t.lower() for t in tokens]\n",
    "    return tokens"
   ]
  },
  {
   "cell_type": "markdown",
   "metadata": {},
   "source": [
    "## Make vocab and train data"
   ]
  },
  {
   "cell_type": "code",
   "execution_count": 8,
   "metadata": {},
   "outputs": [
    {
     "data": {
      "application/vnd.jupyter.widget-view+json": {
       "model_id": "7f16d838917d46c6b509fcbd6508b494",
       "version_major": 2,
       "version_minor": 0
      },
      "text/plain": [
       "HBox(children=(FloatProgress(value=0.0, max=15000.0), HTML(value='')))"
      ]
     },
     "metadata": {},
     "output_type": "display_data"
    },
    {
     "name": "stdout",
     "output_type": "stream",
     "text": [
      "\n"
     ]
    }
   ],
   "source": [
    "labels = list(train.sentiment)\n",
    "reviews = list(train.review.values)\n",
    "\n",
    "all_words = [process_review(review) for review in tqdm(reviews)]\n",
    "\n",
    "train_data = list(zip(all_words,labels))"
   ]
  },
  {
   "cell_type": "code",
   "execution_count": 9,
   "metadata": {},
   "outputs": [],
   "source": [
    "flat_list = [item for sublist in all_words for item in sublist]\n",
    "vocab = set(flat_list)\n",
    "\n",
    "len(vocab)\n",
    "\n",
    "word_to_idx = {word:idx for idx,word in enumerate(list(vocab))}\n",
    "\n",
    "counts = Counter(flat_list)"
   ]
  },
  {
   "cell_type": "code",
   "execution_count": 10,
   "metadata": {},
   "outputs": [],
   "source": [
    "counts = Counter(flat_list).most_common()"
   ]
  },
  {
   "cell_type": "code",
   "execution_count": 11,
   "metadata": {},
   "outputs": [],
   "source": [
    "start = 10\n",
    "keep = counts[start:20000+start]"
   ]
  },
  {
   "cell_type": "code",
   "execution_count": 12,
   "metadata": {},
   "outputs": [
    {
     "data": {
      "text/plain": [
       "[('i', 52046), ('this', 45732), ('that', 44178), (\"'s\", 37794), ('was', 30368)]"
      ]
     },
     "execution_count": 12,
     "metadata": {},
     "output_type": "execute_result"
    }
   ],
   "source": [
    "keep[:5]"
   ]
  },
  {
   "cell_type": "code",
   "execution_count": 14,
   "metadata": {},
   "outputs": [],
   "source": [
    "vocab = [word for word,count in keep]\n",
    "vocab.append('UNK')"
   ]
  },
  {
   "cell_type": "code",
   "execution_count": 15,
   "metadata": {},
   "outputs": [],
   "source": [
    "word_to_idx = {word:idx for idx,word in enumerate(list(vocab))}\n",
    "idx_to_word = {idx:word for word,idx in word_to_idx.items()}"
   ]
  },
  {
   "cell_type": "markdown",
   "metadata": {},
   "source": [
    "## Make validation and test data"
   ]
  },
  {
   "cell_type": "code",
   "execution_count": 16,
   "metadata": {
    "scrolled": true
   },
   "outputs": [
    {
     "data": {
      "application/vnd.jupyter.widget-view+json": {
       "model_id": "b108ca85887d48dbb552cd29e70bceb0",
       "version_major": 2,
       "version_minor": 0
      },
      "text/plain": [
       "HBox(children=(FloatProgress(value=0.0, max=5000.0), HTML(value='')))"
      ]
     },
     "metadata": {},
     "output_type": "display_data"
    },
    {
     "name": "stdout",
     "output_type": "stream",
     "text": [
      "\n"
     ]
    }
   ],
   "source": [
    "labels = list(test.sentiment)\n",
    "reviews = list(test.review.values)\n",
    "\n",
    "all_words = [process_review(review) for review in tqdm(reviews)]\n",
    "\n",
    "test_data = list(zip(all_words,labels))"
   ]
  },
  {
   "cell_type": "code",
   "execution_count": 17,
   "metadata": {},
   "outputs": [
    {
     "data": {
      "application/vnd.jupyter.widget-view+json": {
       "model_id": "c56d605f52924e918b779840b4c94b5c",
       "version_major": 2,
       "version_minor": 0
      },
      "text/plain": [
       "HBox(children=(FloatProgress(value=0.0, max=5000.0), HTML(value='')))"
      ]
     },
     "metadata": {},
     "output_type": "display_data"
    },
    {
     "name": "stdout",
     "output_type": "stream",
     "text": [
      "\n"
     ]
    }
   ],
   "source": [
    "labels = list(val.sentiment)\n",
    "reviews = list(val.review.values)\n",
    "\n",
    "all_words = [process_review(review) for review in tqdm(reviews)]\n",
    "\n",
    "val_data = list(zip(all_words,labels))"
   ]
  },
  {
   "cell_type": "code",
   "execution_count": null,
   "metadata": {},
   "outputs": [],
   "source": []
  },
  {
   "cell_type": "markdown",
   "metadata": {},
   "source": [
    "## Use pretained word vectors"
   ]
  },
  {
   "cell_type": "code",
   "execution_count": null,
   "metadata": {},
   "outputs": [],
   "source": []
  },
  {
   "cell_type": "code",
   "execution_count": 18,
   "metadata": {},
   "outputs": [],
   "source": [
    "path = '/Users/tyler/Documents/programming/embeddings/models/glove.840B.300d.model'\n",
    "glove = KeyedVectors.load_word2vec_format(path,limit=100000)\n",
    "weights = torch.FloatTensor(glove.vectors)"
   ]
  },
  {
   "cell_type": "code",
   "execution_count": 19,
   "metadata": {},
   "outputs": [],
   "source": [
    "from torch.nn.utils.rnn import pad_sequence"
   ]
  },
  {
   "cell_type": "code",
   "execution_count": 108,
   "metadata": {},
   "outputs": [],
   "source": [
    "# a = torch.tensor([0,1],dtype=torch.float)\n",
    "# b = torch.tensor([.5,.5],dtype=torch.float)\n",
    "# loss_function(a,b)"
   ]
  },
  {
   "cell_type": "code",
   "execution_count": 21,
   "metadata": {},
   "outputs": [
    {
     "data": {
      "text/plain": [
       "torch.Size([100000, 300])"
      ]
     },
     "execution_count": 21,
     "metadata": {},
     "output_type": "execute_result"
    }
   ],
   "source": [
    "weights.shape"
   ]
  },
  {
   "cell_type": "code",
   "execution_count": 22,
   "metadata": {},
   "outputs": [
    {
     "data": {
      "text/plain": [
       "'of'"
      ]
     },
     "execution_count": 22,
     "metadata": {},
     "output_type": "execute_result"
    }
   ],
   "source": [
    "glove.index2word[5]"
   ]
  },
  {
   "cell_type": "code",
   "execution_count": 23,
   "metadata": {},
   "outputs": [],
   "source": [
    "word2idx = {word:idx for idx,word in enumerate(glove.vocab.keys())}"
   ]
  },
  {
   "cell_type": "code",
   "execution_count": 24,
   "metadata": {},
   "outputs": [],
   "source": [
    "def make_input(sentence, word2idx):\n",
    "    vec = torch.zeros(len(word2idx),dtype=torch.long)\n",
    "    for word in sentence:\n",
    "        if word in word2idx:\n",
    "            vec[word2idx[word]] = 1\n",
    "    return vec.view(1, -1)"
   ]
  },
  {
   "cell_type": "code",
   "execution_count": 46,
   "metadata": {},
   "outputs": [],
   "source": [
    "def make_wv_input(sentence, word2idx):\n",
    "    vec = []\n",
    "    for word in sentence:\n",
    "        if word in word2idx:\n",
    "            vec.append(glove[word])\n",
    "    vec = np.vstack(vec)\n",
    "    ten = torch.tensor(vec,dtype=torch.float)\n",
    "    return ten"
   ]
  },
  {
   "cell_type": "code",
   "execution_count": 48,
   "metadata": {},
   "outputs": [],
   "source": [
    "sentence = 'this is a sentence'.split()\n",
    "ten = make_wv_input(sentence, word2idx)"
   ]
  },
  {
   "cell_type": "code",
   "execution_count": null,
   "metadata": {},
   "outputs": [],
   "source": []
  },
  {
   "cell_type": "code",
   "execution_count": 25,
   "metadata": {},
   "outputs": [],
   "source": [
    "def make_padded_input(sentence, word2idx):\n",
    "    max_len = 500\n",
    "    vec = np.zeros((max_len,300))\n",
    "    vec_idx = 0\n",
    "    vec = []\n",
    "    for word in sentence:\n",
    "        if vec_idx < max_len:\n",
    "            if word in glove:\n",
    "                #vec[vec_idx] = glove[word]\n",
    "                vec.append(glove[word])\n",
    "                vec_idx += 1\n",
    "    vec = np.vstack(vec)\n",
    "    vec = vec.mean(axis=0)\n",
    "    ten = torch.tensor(vec,dtype=torch.float)\n",
    "    \n",
    "    return ten"
   ]
  },
  {
   "cell_type": "code",
   "execution_count": null,
   "metadata": {},
   "outputs": [],
   "source": []
  },
  {
   "cell_type": "code",
   "execution_count": 26,
   "metadata": {},
   "outputs": [],
   "source": [
    "sentence = ', , this is a sentence asdf'.split()\n",
    "x = make_padded_input(sentence, word2idx)"
   ]
  },
  {
   "cell_type": "code",
   "execution_count": 27,
   "metadata": {},
   "outputs": [
    {
     "data": {
      "text/plain": [
       "torch.Size([300])"
      ]
     },
     "execution_count": 27,
     "metadata": {},
     "output_type": "execute_result"
    }
   ],
   "source": [
    "x.shape"
   ]
  },
  {
   "cell_type": "code",
   "execution_count": null,
   "metadata": {},
   "outputs": [],
   "source": []
  },
  {
   "cell_type": "code",
   "execution_count": 64,
   "metadata": {},
   "outputs": [],
   "source": [
    "class lstm_clf(nn.Module):\n",
    "    def __init__(self, num_labels, vocab_size, embedding_dim, hidden, weight,max_len):\n",
    "        \n",
    "        super(lstm_clf, self).__init__()\n",
    "        self.hidden_dim = hidden\n",
    "        self.embedding_dim = embedding_dim\n",
    "        self.linear = nn.Linear(embedding_dim * max_len, self.hidden_dim)\n",
    "        self.linear_2 = nn.Linear(self.hidden_dim, num_labels)\n",
    "        self.dropout = nn.Dropout(p=.3)\n",
    "        self.embedding = nn.Embedding.from_pretrained(torch.FloatTensor(weight))\n",
    "        self.embedding.requires_grad = False\n",
    "        \n",
    "        self.lstm = nn.LSTM(embedding_dim, self.hidden_dim, num_layers=1,batch_first=True)\n",
    "        self.hidden = self.init_hidden()\n",
    "\n",
    "    def forward(self, inputs,h):\n",
    "        x = inputs.view(1,-1)\n",
    "        x = x.view(1,-1,self.embedding_dim)\n",
    "        #embeds = self.embedding(torch.LongTensor(inputs))\n",
    "        #embeds = embeds.view(1,-1,self.embedding_dim)\n",
    "        lstm_out, h = self.lstm(x,h)\n",
    "        #print(lstm_out.shape)\n",
    "        \n",
    "        x = self.linear_2(lstm_out[:,-1])\n",
    "        #x = self.dropout(x)\n",
    "        probs = F.softmax((x), dim=1)\n",
    "        return probs[0],h\n",
    "    \n",
    "    def init_hidden(self):\n",
    "        #return (autograd.Variable(torch.zeros(1, 1, size)),autograd.Variable(torch.zeros(1, 1, size)))\n",
    "        batch_size = 1\n",
    "        h0 = torch.zeros((1,batch_size,self.hidden_dim))\n",
    "        c0 = torch.zeros((1,batch_size,self.hidden_dim))\n",
    "        hidden = (h0,c0)\n",
    "        return hidden"
   ]
  },
  {
   "cell_type": "code",
   "execution_count": 65,
   "metadata": {},
   "outputs": [],
   "source": [
    "NUM_LABELS = 2\n",
    "VOCAB_SIZE = 100000\n",
    "embedding_dim = 300\n",
    "hidden = 100\n",
    "max_len = 50\n",
    "\n",
    "model = lstm_clf(NUM_LABELS, VOCAB_SIZE,embedding_dim,hidden,glove.vectors,max_len)\n",
    "\n",
    "\n",
    "loss_function = nn.NLLLoss()\n",
    "loss_function = nn.BCELoss()\n",
    "\n",
    "lr = .001\n",
    "#optimizer = optim.SGD(model.parameters(), lr=0.0001)\n",
    "optimizer = optim.Adam(model.parameters(), lr=lr)"
   ]
  },
  {
   "cell_type": "code",
   "execution_count": null,
   "metadata": {},
   "outputs": [],
   "source": []
  },
  {
   "cell_type": "code",
   "execution_count": 66,
   "metadata": {},
   "outputs": [],
   "source": [
    "sentence = ', , this is a sentence asdf'.split()\n",
    "x = make_padded_input(sentence, word2idx)\n",
    "x = make_input(sentence, word2idx)\n",
    "\n",
    "sentence = 'this is a sentence'.split()\n",
    "x = make_wv_input(sentence, word2idx)"
   ]
  },
  {
   "cell_type": "code",
   "execution_count": 67,
   "metadata": {},
   "outputs": [
    {
     "data": {
      "text/plain": [
       "torch.Size([4, 300])"
      ]
     },
     "execution_count": 67,
     "metadata": {},
     "output_type": "execute_result"
    }
   ],
   "source": [
    "x.shape"
   ]
  },
  {
   "cell_type": "code",
   "execution_count": 68,
   "metadata": {},
   "outputs": [],
   "source": [
    "x = x.view(1,-1,300)\n",
    "#embeds = self.embedding(torch.LongTensor(inputs))\n",
    "#embeds = embeds.view(1,-1,self.embedding_dim)\n",
    "lstm_out, h = model.lstm(x,h)"
   ]
  },
  {
   "cell_type": "code",
   "execution_count": 69,
   "metadata": {},
   "outputs": [
    {
     "data": {
      "text/plain": [
       "torch.Size([1, 4, 100])"
      ]
     },
     "execution_count": 69,
     "metadata": {},
     "output_type": "execute_result"
    }
   ],
   "source": [
    "lstm_out.shape"
   ]
  },
  {
   "cell_type": "code",
   "execution_count": 70,
   "metadata": {},
   "outputs": [],
   "source": [
    "h = model.init_hidden()\n",
    "probs,h = model(x,h)"
   ]
  },
  {
   "cell_type": "code",
   "execution_count": null,
   "metadata": {},
   "outputs": [],
   "source": []
  },
  {
   "cell_type": "code",
   "execution_count": 172,
   "metadata": {},
   "outputs": [
    {
     "data": {
      "text/plain": [
       "5000"
      ]
     },
     "execution_count": 172,
     "metadata": {},
     "output_type": "execute_result"
    }
   ],
   "source": [
    "len(val_data)"
   ]
  },
  {
   "cell_type": "code",
   "execution_count": null,
   "metadata": {},
   "outputs": [],
   "source": []
  },
  {
   "cell_type": "code",
   "execution_count": 86,
   "metadata": {},
   "outputs": [
    {
     "name": "stdout",
     "output_type": "stream",
     "text": [
      "Epoch 1/5: train loss of 0.323, val loss of 0.408\n",
      "Val loss decreased inf --> 0.408 saving model...\n",
      "Epoch 2/5: train loss of 0.206, val loss of 0.447\n",
      "Epoch 3/5: train loss of 0.099, val loss of 0.464\n",
      "Epoch 4/5: train loss of 0.068, val loss of 0.503\n",
      "Epoch 5/5: train loss of 0.046, val loss of 0.540\n"
     ]
    }
   ],
   "source": [
    "save_path = 'model_checkpoints/glove_lstm.pt'\n",
    "val_loss_min = np.Inf\n",
    "#val_loss_min = 0.694\n",
    "num_epochs = 5\n",
    "num_examples = 500\n",
    "loss_history = []\n",
    "for epoch in range(num_epochs):\n",
    "    train_loss = []\n",
    "    \n",
    "    h = model.init_hidden()\n",
    "    \n",
    "    for sentence, label in train_data[:num_examples]:\n",
    "        h = tuple([each.data for each in h])\n",
    "        \n",
    "        model.zero_grad()\n",
    "\n",
    "        vec = make_wv_input(sentence, word2idx)\n",
    "        \n",
    "        if label == 0:\n",
    "            target = torch.tensor([1,0],dtype=torch.float)\n",
    "        else:\n",
    "            target = torch.tensor([0,1],dtype=torch.float)\n",
    "\n",
    "        probs,h = model(vec,h)\n",
    "        loss = loss_function(probs, target)\n",
    "        #print(loss)\n",
    "        loss.backward()\n",
    "        optimizer.step()\n",
    "        \n",
    "        train_loss.append(loss.item())\n",
    "        \n",
    "    mean_train_loss = np.mean(train_loss)\n",
    "    val_loss = []\n",
    "    \n",
    "    h = model.init_hidden()\n",
    "    \n",
    "    for sentence, label in val_data[:num_examples]:\n",
    "        h = tuple([each.data for each in h])\n",
    "        \n",
    "        model.eval()\n",
    "\n",
    "        vec = make_wv_input(sentence, word2idx)\n",
    "        if label == 0:\n",
    "            target = torch.tensor([1,0],dtype=torch.float)\n",
    "        else:\n",
    "            target = torch.tensor([0,1],dtype=torch.float)\n",
    "        \n",
    "        probs,h = model(vec,h)\n",
    "        loss = loss_function(probs, target)\n",
    "        pred = probs.argmax().detach().numpy()\n",
    "\n",
    "        val_loss.append(loss.item())\n",
    "        \n",
    "    mean_val_loss = np.mean(val_loss)\n",
    "    \n",
    "    loss_history.append((mean_train_loss,mean_val_loss))\n",
    "    print(f'Epoch {epoch+1}/{num_epochs}: train loss of {mean_train_loss:.3f}, val loss of {mean_val_loss:.3f}')\n",
    "    \n",
    "    if mean_val_loss <= val_loss_min:\n",
    "        print(f'Val loss decreased {val_loss_min:.3f} --> {mean_val_loss:.3f} saving model...')\n",
    "        torch.save(model.state_dict(),save_path)\n",
    "        val_loss_min = mean_val_loss\n"
   ]
  },
  {
   "cell_type": "code",
   "execution_count": null,
   "metadata": {},
   "outputs": [],
   "source": []
  },
  {
   "cell_type": "code",
   "execution_count": null,
   "metadata": {},
   "outputs": [],
   "source": []
  },
  {
   "cell_type": "code",
   "execution_count": null,
   "metadata": {},
   "outputs": [],
   "source": []
  },
  {
   "cell_type": "code",
   "execution_count": 87,
   "metadata": {},
   "outputs": [
    {
     "data": {
      "image/png": "[encoded data removed]",
      "text/plain": [
       "<Figure size 1440x504 with 1 Axes>"
      ]
     },
     "metadata": {
      "needs_background": "light"
     },
     "output_type": "display_data"
    }
   ],
   "source": [
    "loss_array = np.array(loss_history)\n",
    "train_loss = loss_array[:,0]\n",
    "val_loss = loss_array[:,1]\n",
    "\n",
    "x = np.arange(1,loss_array.shape[0]+1)\n",
    "y = train_loss\n",
    "plt.plot(x,y,c='blue',label='train loss')\n",
    "\n",
    "x = np.arange(1,loss_array.shape[0]+1)\n",
    "y = val_loss\n",
    "plt.plot(x,y,c='red',label='val loss')\n",
    "\n",
    "x0 = np.array([1,loss_array.shape[0]])\n",
    "y0 = np.array([val_loss_min,val_loss_min])\n",
    "plt.plot(x0,y0,c='black',label='val loss min',linestyle='--')\n",
    "\n",
    "plt.grid(which='both') \n",
    "plt.legend()\n",
    "fig,ax = plt.gcf(),plt.gca()\n",
    "ax.set_xticks(x)\n",
    "ax.set_xlabel('Epoch Number')\n",
    "ax.set_ylabel('Mean Loss')\n",
    "\n",
    "fig.set_size_inches(20,7)"
   ]
  },
  {
   "cell_type": "markdown",
   "metadata": {},
   "source": [
    "## Evaluate Model"
   ]
  },
  {
   "cell_type": "code",
   "execution_count": 90,
   "metadata": {},
   "outputs": [
    {
     "name": "stdout",
     "output_type": "stream",
     "text": [
      "----TRAIN SET----\n",
      "train loss of 0.016\n",
      "train accuracy of 99.8\n",
      "----VAL SET----\n",
      "val loss of 0.54\n",
      "val accuracy of 83.2\n",
      "----TEST SET----\n",
      "test loss of 0.622\n",
      "test accuracy of 81.8\n"
     ]
    }
   ],
   "source": [
    "names = 'train val test'.split()\n",
    "num = 500\n",
    "data_list = [train_data[:num],val_data[:num],test_data[:num]]\n",
    "#data_list = [train_data,val_data,test_data]\n",
    "\n",
    "for name,data in zip(names,data_list):\n",
    "    eval_loss = []\n",
    "    num_correct = 0\n",
    "    to_eval = test_data\n",
    "    \n",
    "    h = model.init_hidden()\n",
    "    \n",
    "    for sentence, label in data:\n",
    "        h = tuple([each.data for each in h])\n",
    "        \n",
    "        model.eval()\n",
    "\n",
    "        vec = make_wv_input(sentence, word2idx)        \n",
    "        if label == 0:\n",
    "            target = torch.tensor([1,0],dtype=torch.float)\n",
    "        else:\n",
    "            target = torch.tensor([0,1],dtype=torch.float)\n",
    "\n",
    "        probs,h = model(vec,h)\n",
    "        loss = loss_function(probs, target)\n",
    "        \n",
    "        pred = probs.argmax().detach().numpy()\n",
    "        correct = int(pred == label)\n",
    "        num_correct += correct\n",
    "        loss = loss_function(probs, target)\n",
    "\n",
    "        eval_loss.append(loss.item())\n",
    "    \n",
    "    mean_loss = np.mean(eval_loss)\n",
    "    print(f'----{name} set----'.upper())\n",
    "    print(f'{name} loss of {round(mean_loss,3)}')\n",
    "    print(f'{name} accuracy of {round(num_correct*100/len(data),2)}')\n"
   ]
  },
  {
   "cell_type": "code",
   "execution_count": 93,
   "metadata": {},
   "outputs": [],
   "source": [
    "sentence = 'i liked the movie'.split()\n",
    "vec = make_wv_input(sentence, word2idx) \n",
    "\n",
    "probs,h = model(vec,h)\n",
    "loss = loss_function(probs, target)\n",
    "\n",
    "pred = probs.argmax().detach().numpy()"
   ]
  },
  {
   "cell_type": "code",
   "execution_count": 106,
   "metadata": {},
   "outputs": [
    {
     "data": {
      "text/plain": [
       "array(1)"
      ]
     },
     "execution_count": 106,
     "metadata": {},
     "output_type": "execute_result"
    }
   ],
   "source": [
    "sentence = 'this movie rocks'.split()\n",
    "predict_sentence(sentence,word2idx,model)"
   ]
  },
  {
   "cell_type": "code",
   "execution_count": 107,
   "metadata": {},
   "outputs": [
    {
     "data": {
      "text/plain": [
       "array(0)"
      ]
     },
     "execution_count": 107,
     "metadata": {},
     "output_type": "execute_result"
    }
   ],
   "source": [
    "sentence = 'this movie sucks'.split()\n",
    "predict_sentence(sentence,word2idx,model)"
   ]
  },
  {
   "cell_type": "code",
   "execution_count": 97,
   "metadata": {},
   "outputs": [],
   "source": [
    "def predict_sentence(sentence,word2idx,model):\n",
    "    vec = make_wv_input(sentence, word2idx) \n",
    "    \n",
    "    h = model.init_hidden()\n",
    "    h = tuple([each.data for each in h])\n",
    "    \n",
    "    probs,h = model(vec,h)\n",
    "    loss = loss_function(probs, target)\n",
    "\n",
    "    pred = probs.argmax().detach().numpy()\n",
    "    \n",
    "    return pred"
   ]
  },
  {
   "cell_type": "code",
   "execution_count": null,
   "metadata": {},
   "outputs": [],
   "source": []
  }
 ],
 "metadata": {
  "kernelspec": {
   "display_name": "Python 3",
   "language": "python",
   "name": "python3"
  },
  "language_info": {
   "codemirror_mode": {
    "name": "ipython",
    "version": 3
   },
   "file_extension": ".py",
   "mimetype": "text/x-python",
   "name": "python",
   "nbconvert_exporter": "python",
   "pygments_lexer": "ipython3",
   "version": "3.6.8"
  }
 },
 "nbformat": 4,
 "nbformat_minor": 2
}
