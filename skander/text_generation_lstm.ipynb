{
  "nbformat": 4,
  "nbformat_minor": 0,
  "metadata": {
    "colab": {
      "name": "LSTM_char_level.ipynb",
      "provenance": [],
      "collapsed_sections": [],
      "include_colab_link": true
    },
    "kernelspec": {
      "display_name": "Python 3",
      "language": "python",
      "name": "python3"
    },
    "language_info": {
      "codemirror_mode": {
        "name": "ipython",
        "version": 3
      },
      "file_extension": ".py",
      "mimetype": "text/x-python",
      "name": "python",
      "nbconvert_exporter": "python",
      "pygments_lexer": "ipython3",
      "version": "3.6.5"
    },
    "accelerator": "GPU",
    "widgets": {
      "application/vnd.jupyter.widget-state+json": {
        "23df8540cc7c4dd9bcf0f0819706869f": {
          "model_module": "@jupyter-widgets/controls",
          "model_name": "HBoxModel",
          "state": {
            "_view_name": "HBoxView",
            "_dom_classes": [],
            "_model_name": "HBoxModel",
            "_view_module": "@jupyter-widgets/controls",
            "_model_module_version": "1.5.0",
            "_view_count": null,
            "_view_module_version": "1.5.0",
            "box_style": "",
            "layout": "IPY_MODEL_2ff42fd500a74f74b13387e91d0ab7c0",
            "_model_module": "@jupyter-widgets/controls",
            "children": [
              "IPY_MODEL_d7023983a4be4b13b0b9d4a5c7a2cab0",
              "IPY_MODEL_aae3465ac9354a3e81c4baab2c6c7ec5"
            ]
          }
        },
        "2ff42fd500a74f74b13387e91d0ab7c0": {
          "model_module": "@jupyter-widgets/base",
          "model_name": "LayoutModel",
          "state": {
            "_view_name": "LayoutView",
            "grid_template_rows": null,
            "right": null,
            "justify_content": null,
            "_view_module": "@jupyter-widgets/base",
            "overflow": null,
            "_model_module_version": "1.2.0",
            "_view_count": null,
            "flex_flow": null,
            "width": null,
            "min_width": null,
            "border": null,
            "align_items": null,
            "bottom": null,
            "_model_module": "@jupyter-widgets/base",
            "top": null,
            "grid_column": null,
            "overflow_y": null,
            "overflow_x": null,
            "grid_auto_flow": null,
            "grid_area": null,
            "grid_template_columns": null,
            "flex": null,
            "_model_name": "LayoutModel",
            "justify_items": null,
            "grid_row": null,
            "max_height": null,
            "align_content": null,
            "visibility": null,
            "align_self": null,
            "height": null,
            "min_height": null,
            "padding": null,
            "grid_auto_rows": null,
            "grid_gap": null,
            "max_width": null,
            "order": null,
            "_view_module_version": "1.2.0",
            "grid_template_areas": null,
            "object_position": null,
            "object_fit": null,
            "grid_auto_columns": null,
            "margin": null,
            "display": null,
            "left": null
          }
        },
        "d7023983a4be4b13b0b9d4a5c7a2cab0": {
          "model_module": "@jupyter-widgets/controls",
          "model_name": "IntProgressModel",
          "state": {
            "_view_name": "ProgressView",
            "style": "IPY_MODEL_84e5f6a7cdde44ddb18a0e9678edd9be",
            "_dom_classes": [],
            "description": "",
            "_model_name": "IntProgressModel",
            "bar_style": "success",
            "max": 1,
            "_view_module": "@jupyter-widgets/controls",
            "_model_module_version": "1.5.0",
            "value": 1,
            "_view_count": null,
            "_view_module_version": "1.5.0",
            "orientation": "horizontal",
            "min": 0,
            "description_tooltip": null,
            "_model_module": "@jupyter-widgets/controls",
            "layout": "IPY_MODEL_26d04938ee834971b217dee24bb7528f"
          }
        },
        "aae3465ac9354a3e81c4baab2c6c7ec5": {
          "model_module": "@jupyter-widgets/controls",
          "model_name": "HTMLModel",
          "state": {
            "_view_name": "HTMLView",
            "style": "IPY_MODEL_70d340cfb64b4a678fb18e39fee59a53",
            "_dom_classes": [],
            "description": "",
            "_model_name": "HTMLModel",
            "placeholder": "​",
            "_view_module": "@jupyter-widgets/controls",
            "_model_module_version": "1.5.0",
            "value": " 346355/? [00:24&lt;00:00, 13946.46it/s]",
            "_view_count": null,
            "_view_module_version": "1.5.0",
            "description_tooltip": null,
            "_model_module": "@jupyter-widgets/controls",
            "layout": "IPY_MODEL_d27ff36f70264175ac2507ac6f4e1ae3"
          }
        },
        "84e5f6a7cdde44ddb18a0e9678edd9be": {
          "model_module": "@jupyter-widgets/controls",
          "model_name": "ProgressStyleModel",
          "state": {
            "_view_name": "StyleView",
            "_model_name": "ProgressStyleModel",
            "description_width": "initial",
            "_view_module": "@jupyter-widgets/base",
            "_model_module_version": "1.5.0",
            "_view_count": null,
            "_view_module_version": "1.2.0",
            "bar_color": null,
            "_model_module": "@jupyter-widgets/controls"
          }
        },
        "26d04938ee834971b217dee24bb7528f": {
          "model_module": "@jupyter-widgets/base",
          "model_name": "LayoutModel",
          "state": {
            "_view_name": "LayoutView",
            "grid_template_rows": null,
            "right": null,
            "justify_content": null,
            "_view_module": "@jupyter-widgets/base",
            "overflow": null,
            "_model_module_version": "1.2.0",
            "_view_count": null,
            "flex_flow": null,
            "width": null,
            "min_width": null,
            "border": null,
            "align_items": null,
            "bottom": null,
            "_model_module": "@jupyter-widgets/base",
            "top": null,
            "grid_column": null,
            "overflow_y": null,
            "overflow_x": null,
            "grid_auto_flow": null,
            "grid_area": null,
            "grid_template_columns": null,
            "flex": null,
            "_model_name": "LayoutModel",
            "justify_items": null,
            "grid_row": null,
            "max_height": null,
            "align_content": null,
            "visibility": null,
            "align_self": null,
            "height": null,
            "min_height": null,
            "padding": null,
            "grid_auto_rows": null,
            "grid_gap": null,
            "max_width": null,
            "order": null,
            "_view_module_version": "1.2.0",
            "grid_template_areas": null,
            "object_position": null,
            "object_fit": null,
            "grid_auto_columns": null,
            "margin": null,
            "display": null,
            "left": null
          }
        },
        "70d340cfb64b4a678fb18e39fee59a53": {
          "model_module": "@jupyter-widgets/controls",
          "model_name": "DescriptionStyleModel",
          "state": {
            "_view_name": "StyleView",
            "_model_name": "DescriptionStyleModel",
            "description_width": "",
            "_view_module": "@jupyter-widgets/base",
            "_model_module_version": "1.5.0",
            "_view_count": null,
            "_view_module_version": "1.2.0",
            "_model_module": "@jupyter-widgets/controls"
          }
        },
        "d27ff36f70264175ac2507ac6f4e1ae3": {
          "model_module": "@jupyter-widgets/base",
          "model_name": "LayoutModel",
          "state": {
            "_view_name": "LayoutView",
            "grid_template_rows": null,
            "right": null,
            "justify_content": null,
            "_view_module": "@jupyter-widgets/base",
            "overflow": null,
            "_model_module_version": "1.2.0",
            "_view_count": null,
            "flex_flow": null,
            "width": null,
            "min_width": null,
            "border": null,
            "align_items": null,
            "bottom": null,
            "_model_module": "@jupyter-widgets/base",
            "top": null,
            "grid_column": null,
            "overflow_y": null,
            "overflow_x": null,
            "grid_auto_flow": null,
            "grid_area": null,
            "grid_template_columns": null,
            "flex": null,
            "_model_name": "LayoutModel",
            "justify_items": null,
            "grid_row": null,
            "max_height": null,
            "align_content": null,
            "visibility": null,
            "align_self": null,
            "height": null,
            "min_height": null,
            "padding": null,
            "grid_auto_rows": null,
            "grid_gap": null,
            "max_width": null,
            "order": null,
            "_view_module_version": "1.2.0",
            "grid_template_areas": null,
            "object_position": null,
            "object_fit": null,
            "grid_auto_columns": null,
            "margin": null,
            "display": null,
            "left": null
          }
        },
        "74f011f5938146c49c3e54ff972ff61e": {
          "model_module": "@jupyter-widgets/controls",
          "model_name": "HBoxModel",
          "state": {
            "_view_name": "HBoxView",
            "_dom_classes": [],
            "_model_name": "HBoxModel",
            "_view_module": "@jupyter-widgets/controls",
            "_model_module_version": "1.5.0",
            "_view_count": null,
            "_view_module_version": "1.5.0",
            "box_style": "",
            "layout": "IPY_MODEL_a284e96fe765483a9be6871e31e62992",
            "_model_module": "@jupyter-widgets/controls",
            "children": [
              "IPY_MODEL_649ebcb23a4a4cabb6e40a910da22cec",
              "IPY_MODEL_3ac14954098b4a4e8bee31bc4ea545a8"
            ]
          }
        },
        "a284e96fe765483a9be6871e31e62992": {
          "model_module": "@jupyter-widgets/base",
          "model_name": "LayoutModel",
          "state": {
            "_view_name": "LayoutView",
            "grid_template_rows": null,
            "right": null,
            "justify_content": null,
            "_view_module": "@jupyter-widgets/base",
            "overflow": null,
            "_model_module_version": "1.2.0",
            "_view_count": null,
            "flex_flow": null,
            "width": null,
            "min_width": null,
            "border": null,
            "align_items": null,
            "bottom": null,
            "_model_module": "@jupyter-widgets/base",
            "top": null,
            "grid_column": null,
            "overflow_y": null,
            "overflow_x": null,
            "grid_auto_flow": null,
            "grid_area": null,
            "grid_template_columns": null,
            "flex": null,
            "_model_name": "LayoutModel",
            "justify_items": null,
            "grid_row": null,
            "max_height": null,
            "align_content": null,
            "visibility": null,
            "align_self": null,
            "height": null,
            "min_height": null,
            "padding": null,
            "grid_auto_rows": null,
            "grid_gap": null,
            "max_width": null,
            "order": null,
            "_view_module_version": "1.2.0",
            "grid_template_areas": null,
            "object_position": null,
            "object_fit": null,
            "grid_auto_columns": null,
            "margin": null,
            "display": null,
            "left": null
          }
        },
        "649ebcb23a4a4cabb6e40a910da22cec": {
          "model_module": "@jupyter-widgets/controls",
          "model_name": "IntProgressModel",
          "state": {
            "_view_name": "ProgressView",
            "style": "IPY_MODEL_b2e5cec704d94d259e896373243a924c",
            "_dom_classes": [],
            "description": "  0%",
            "_model_name": "IntProgressModel",
            "bar_style": "danger",
            "max": 230498,
            "_view_module": "@jupyter-widgets/controls",
            "_model_module_version": "1.5.0",
            "value": 200,
            "_view_count": null,
            "_view_module_version": "1.5.0",
            "orientation": "horizontal",
            "min": 0,
            "description_tooltip": null,
            "_model_module": "@jupyter-widgets/controls",
            "layout": "IPY_MODEL_ff193a168c6f495daba0db61b9829d35"
          }
        },
        "3ac14954098b4a4e8bee31bc4ea545a8": {
          "model_module": "@jupyter-widgets/controls",
          "model_name": "HTMLModel",
          "state": {
            "_view_name": "HTMLView",
            "style": "IPY_MODEL_b730f0a0c5704cc3861657f33f3ac3d6",
            "_dom_classes": [],
            "description": "",
            "_model_name": "HTMLModel",
            "placeholder": "​",
            "_view_module": "@jupyter-widgets/controls",
            "_model_module_version": "1.5.0",
            "value": " 200/230498 [05:12&lt;99:58:30,  1.56s/it]",
            "_view_count": null,
            "_view_module_version": "1.5.0",
            "description_tooltip": null,
            "_model_module": "@jupyter-widgets/controls",
            "layout": "IPY_MODEL_23d2c87e07c84efaa32267c8c62adabb"
          }
        },
        "b2e5cec704d94d259e896373243a924c": {
          "model_module": "@jupyter-widgets/controls",
          "model_name": "ProgressStyleModel",
          "state": {
            "_view_name": "StyleView",
            "_model_name": "ProgressStyleModel",
            "description_width": "initial",
            "_view_module": "@jupyter-widgets/base",
            "_model_module_version": "1.5.0",
            "_view_count": null,
            "_view_module_version": "1.2.0",
            "bar_color": null,
            "_model_module": "@jupyter-widgets/controls"
          }
        },
        "ff193a168c6f495daba0db61b9829d35": {
          "model_module": "@jupyter-widgets/base",
          "model_name": "LayoutModel",
          "state": {
            "_view_name": "LayoutView",
            "grid_template_rows": null,
            "right": null,
            "justify_content": null,
            "_view_module": "@jupyter-widgets/base",
            "overflow": null,
            "_model_module_version": "1.2.0",
            "_view_count": null,
            "flex_flow": null,
            "width": null,
            "min_width": null,
            "border": null,
            "align_items": null,
            "bottom": null,
            "_model_module": "@jupyter-widgets/base",
            "top": null,
            "grid_column": null,
            "overflow_y": null,
            "overflow_x": null,
            "grid_auto_flow": null,
            "grid_area": null,
            "grid_template_columns": null,
            "flex": null,
            "_model_name": "LayoutModel",
            "justify_items": null,
            "grid_row": null,
            "max_height": null,
            "align_content": null,
            "visibility": null,
            "align_self": null,
            "height": null,
            "min_height": null,
            "padding": null,
            "grid_auto_rows": null,
            "grid_gap": null,
            "max_width": null,
            "order": null,
            "_view_module_version": "1.2.0",
            "grid_template_areas": null,
            "object_position": null,
            "object_fit": null,
            "grid_auto_columns": null,
            "margin": null,
            "display": null,
            "left": null
          }
        },
        "b730f0a0c5704cc3861657f33f3ac3d6": {
          "model_module": "@jupyter-widgets/controls",
          "model_name": "DescriptionStyleModel",
          "state": {
            "_view_name": "StyleView",
            "_model_name": "DescriptionStyleModel",
            "description_width": "",
            "_view_module": "@jupyter-widgets/base",
            "_model_module_version": "1.5.0",
            "_view_count": null,
            "_view_module_version": "1.2.0",
            "_model_module": "@jupyter-widgets/controls"
          }
        },
        "23d2c87e07c84efaa32267c8c62adabb": {
          "model_module": "@jupyter-widgets/base",
          "model_name": "LayoutModel",
          "state": {
            "_view_name": "LayoutView",
            "grid_template_rows": null,
            "right": null,
            "justify_content": null,
            "_view_module": "@jupyter-widgets/base",
            "overflow": null,
            "_model_module_version": "1.2.0",
            "_view_count": null,
            "flex_flow": null,
            "width": null,
            "min_width": null,
            "border": null,
            "align_items": null,
            "bottom": null,
            "_model_module": "@jupyter-widgets/base",
            "top": null,
            "grid_column": null,
            "overflow_y": null,
            "overflow_x": null,
            "grid_auto_flow": null,
            "grid_area": null,
            "grid_template_columns": null,
            "flex": null,
            "_model_name": "LayoutModel",
            "justify_items": null,
            "grid_row": null,
            "max_height": null,
            "align_content": null,
            "visibility": null,
            "align_self": null,
            "height": null,
            "min_height": null,
            "padding": null,
            "grid_auto_rows": null,
            "grid_gap": null,
            "max_width": null,
            "order": null,
            "_view_module_version": "1.2.0",
            "grid_template_areas": null,
            "object_position": null,
            "object_fit": null,
            "grid_auto_columns": null,
            "margin": null,
            "display": null,
            "left": null
          }
        }
      }
    }
  },
  "cells": [
    {
      "cell_type": "markdown",
      "metadata": {
        "id": "view-in-github",
        "colab_type": "text"
      },
      "source": [
        "<a href=\"https://colab.research.google.com/github/skanderbenmansour/nlp_study_group/blob/master/skander/LSTM_char_level.ipynb\" target=\"_parent\"><img src=\"https://colab.research.google.com/assets/colab-badge.svg\" alt=\"Open In Colab\"/></a>"
      ]
    },
    {
      "cell_type": "code",
      "metadata": {
        "colab_type": "code",
        "id": "P8X5BSymDQ_w",
        "outputId": "aa1cd269-8aaa-4ee9-c012-28c1875ba477",
        "colab": {
          "base_uri": "https://localhost:8080/",
          "height": 34
        }
      },
      "source": [
        "%matplotlib inline \n",
        "import matplotlib.pyplot as plt\n",
        "\n",
        "import torch\n",
        "import torch.nn as nn\n",
        "import torch.nn.functional as F\n",
        "import torch.optim as optim\n",
        "\n",
        "import string\n",
        "from collections import defaultdict, Counter\n",
        "import numpy as np\n",
        "from tqdm import tqdm_notebook as tqdm\n",
        "\n",
        "import pandas as pd\n",
        "import json\n",
        "import re\n",
        "\n",
        "torch.manual_seed(1)"
      ],
      "execution_count": 0,
      "outputs": [
        {
          "output_type": "execute_result",
          "data": {
            "text/plain": [
              "<torch._C.Generator at 0x7f2b49684790>"
            ]
          },
          "metadata": {
            "tags": []
          },
          "execution_count": 1
        }
      ]
    },
    {
      "cell_type": "code",
      "metadata": {
        "id": "4l0v2aCGShsU",
        "colab_type": "code",
        "outputId": "d5b4f0ac-d034-4c18-a11e-a606dc4414cc",
        "colab": {
          "base_uri": "https://localhost:8080/",
          "height": 121
        }
      },
      "source": [
        "from google.colab import drive\n",
        "drive.mount('/content/drive')"
      ],
      "execution_count": 0,
      "outputs": [
        {
          "output_type": "stream",
          "text": [
            "Go to this URL in a browser: https://accounts.google.com/o/oauth2/auth?client_id=947318989803-6bn6qk8qdgf4n4g3pfee6491hc0brc4i.apps.googleusercontent.com&redirect_uri=urn%3aietf%3awg%3aoauth%3a2.0%3aoob&response_type=code&scope=email%20https%3a%2f%2fwww.googleapis.com%2fauth%2fdocs.test%20https%3a%2f%2fwww.googleapis.com%2fauth%2fdrive%20https%3a%2f%2fwww.googleapis.com%2fauth%2fdrive.photos.readonly%20https%3a%2f%2fwww.googleapis.com%2fauth%2fpeopleapi.readonly\n",
            "\n",
            "Enter your authorization code:\n",
            "··········\n",
            "Mounted at /content/drive\n"
          ],
          "name": "stdout"
        }
      ]
    },
    {
      "cell_type": "code",
      "metadata": {
        "id": "fzMhVA1zSiIu",
        "colab_type": "code",
        "colab": {}
      },
      "source": [
        "path = '/content/drive/My Drive/Health_and_Personal_Care_5.json'"
      ],
      "execution_count": 0,
      "outputs": []
    },
    {
      "cell_type": "code",
      "metadata": {
        "id": "e7JbyuvZSfCW",
        "colab_type": "code",
        "colab": {}
      },
      "source": [
        "# path = 'C:/Users/skand/Downloads/reviews_Health_and_Personal_Care_5.json/Health_and_Personal_Care_5.json'"
      ],
      "execution_count": 0,
      "outputs": []
    },
    {
      "cell_type": "code",
      "metadata": {
        "id": "KnO-j8P0SfC2",
        "colab_type": "code",
        "outputId": "98fb1c53-5842-4499-c893-41b613e8d3f7",
        "colab": {
          "base_uri": "https://localhost:8080/",
          "height": 116,
          "referenced_widgets": [
            "23df8540cc7c4dd9bcf0f0819706869f",
            "2ff42fd500a74f74b13387e91d0ab7c0",
            "d7023983a4be4b13b0b9d4a5c7a2cab0",
            "aae3465ac9354a3e81c4baab2c6c7ec5",
            "84e5f6a7cdde44ddb18a0e9678edd9be",
            "26d04938ee834971b217dee24bb7528f",
            "70d340cfb64b4a678fb18e39fee59a53",
            "d27ff36f70264175ac2507ac6f4e1ae3"
          ]
        }
      },
      "source": [
        "data = []\n",
        "\n",
        "with open(path,'r',encoding='utf8') as file:\n",
        "  for line in tqdm(file):\n",
        "    data.append(json.loads(line.strip()))"
      ],
      "execution_count": 0,
      "outputs": [
        {
          "output_type": "stream",
          "text": [
            "/usr/local/lib/python3.6/dist-packages/ipykernel_launcher.py:4: TqdmDeprecationWarning: This function will be removed in tqdm==5.0.0\n",
            "Please use `tqdm.notebook.tqdm` instead of `tqdm.tqdm_notebook`\n",
            "  after removing the cwd from sys.path.\n"
          ],
          "name": "stderr"
        },
        {
          "output_type": "display_data",
          "data": {
            "application/vnd.jupyter.widget-view+json": {
              "model_id": "23df8540cc7c4dd9bcf0f0819706869f",
              "version_minor": 0,
              "version_major": 2
            },
            "text/plain": [
              "HBox(children=(IntProgress(value=1, bar_style='info', max=1), HTML(value='')))"
            ]
          },
          "metadata": {
            "tags": []
          }
        },
        {
          "output_type": "stream",
          "text": [
            "\n"
          ],
          "name": "stdout"
        }
      ]
    },
    {
      "cell_type": "code",
      "metadata": {
        "id": "lGgSMZH-SfDg",
        "colab_type": "code",
        "outputId": "4edd11a5-f705-4d68-a7fc-7350fae66cc3",
        "colab": {
          "base_uri": "https://localhost:8080/",
          "height": 212
        }
      },
      "source": [
        "df = pd.DataFrame(data)\n",
        "print(df.shape)\n",
        "df.head()"
      ],
      "execution_count": 0,
      "outputs": [
        {
          "output_type": "stream",
          "text": [
            "(346355, 9)\n"
          ],
          "name": "stdout"
        },
        {
          "output_type": "execute_result",
          "data": {
            "text/html": [
              "<div>\n",
              "<style scoped>\n",
              "    .dataframe tbody tr th:only-of-type {\n",
              "        vertical-align: middle;\n",
              "    }\n",
              "\n",
              "    .dataframe tbody tr th {\n",
              "        vertical-align: top;\n",
              "    }\n",
              "\n",
              "    .dataframe thead th {\n",
              "        text-align: right;\n",
              "    }\n",
              "</style>\n",
              "<table border=\"1\" class=\"dataframe\">\n",
              "  <thead>\n",
              "    <tr style=\"text-align: right;\">\n",
              "      <th></th>\n",
              "      <th>reviewerID</th>\n",
              "      <th>asin</th>\n",
              "      <th>reviewerName</th>\n",
              "      <th>helpful</th>\n",
              "      <th>reviewText</th>\n",
              "      <th>overall</th>\n",
              "      <th>summary</th>\n",
              "      <th>unixReviewTime</th>\n",
              "      <th>reviewTime</th>\n",
              "    </tr>\n",
              "  </thead>\n",
              "  <tbody>\n",
              "    <tr>\n",
              "      <th>0</th>\n",
              "      <td>ALC5GH8CAMAI7</td>\n",
              "      <td>159985130X</td>\n",
              "      <td>AnnN</td>\n",
              "      <td>[1, 1]</td>\n",
              "      <td>This is a great little gadget to have around. ...</td>\n",
              "      <td>5.0</td>\n",
              "      <td>Handy little gadget</td>\n",
              "      <td>1294185600</td>\n",
              "      <td>01 5, 2011</td>\n",
              "    </tr>\n",
              "    <tr>\n",
              "      <th>1</th>\n",
              "      <td>AHKSURW85PJUE</td>\n",
              "      <td>159985130X</td>\n",
              "      <td>AZ buyer \"AZ buyer\"</td>\n",
              "      <td>[1, 1]</td>\n",
              "      <td>I would recommend this for a travel magnifier ...</td>\n",
              "      <td>4.0</td>\n",
              "      <td>Small &amp; may need to encourage battery</td>\n",
              "      <td>1329523200</td>\n",
              "      <td>02 18, 2012</td>\n",
              "    </tr>\n",
              "    <tr>\n",
              "      <th>2</th>\n",
              "      <td>A38RMU1Y5TDP9</td>\n",
              "      <td>159985130X</td>\n",
              "      <td>Bob Tobias \"Robert Tobias\"</td>\n",
              "      <td>[75, 77]</td>\n",
              "      <td>What I liked was the quality of the lens and t...</td>\n",
              "      <td>4.0</td>\n",
              "      <td>Very good but not great</td>\n",
              "      <td>1275955200</td>\n",
              "      <td>06 8, 2010</td>\n",
              "    </tr>\n",
              "    <tr>\n",
              "      <th>3</th>\n",
              "      <td>A1XZUG7DFXXOS4</td>\n",
              "      <td>159985130X</td>\n",
              "      <td>Cat lover</td>\n",
              "      <td>[56, 60]</td>\n",
              "      <td>Love the Great point light pocket magnifier!  ...</td>\n",
              "      <td>4.0</td>\n",
              "      <td>great addition to your purse</td>\n",
              "      <td>1202428800</td>\n",
              "      <td>02 8, 2008</td>\n",
              "    </tr>\n",
              "    <tr>\n",
              "      <th>4</th>\n",
              "      <td>A1MS3M7M7AM13X</td>\n",
              "      <td>159985130X</td>\n",
              "      <td>Cricketoes</td>\n",
              "      <td>[1, 1]</td>\n",
              "      <td>This is very nice. You pull out on the magnifi...</td>\n",
              "      <td>5.0</td>\n",
              "      <td>Very nice and convenient.</td>\n",
              "      <td>1313452800</td>\n",
              "      <td>08 16, 2011</td>\n",
              "    </tr>\n",
              "  </tbody>\n",
              "</table>\n",
              "</div>"
            ],
            "text/plain": [
              "       reviewerID        asin  ... unixReviewTime   reviewTime\n",
              "0   ALC5GH8CAMAI7  159985130X  ...     1294185600   01 5, 2011\n",
              "1   AHKSURW85PJUE  159985130X  ...     1329523200  02 18, 2012\n",
              "2   A38RMU1Y5TDP9  159985130X  ...     1275955200   06 8, 2010\n",
              "3  A1XZUG7DFXXOS4  159985130X  ...     1202428800   02 8, 2008\n",
              "4  A1MS3M7M7AM13X  159985130X  ...     1313452800  08 16, 2011\n",
              "\n",
              "[5 rows x 9 columns]"
            ]
          },
          "metadata": {
            "tags": []
          },
          "execution_count": 5
        }
      ]
    },
    {
      "cell_type": "code",
      "metadata": {
        "id": "0_gJ0ZnKSfD5",
        "colab_type": "code",
        "outputId": "51a5d976-ac67-4d4d-d58a-531cd0bf01d0",
        "colab": {
          "base_uri": "https://localhost:8080/",
          "height": 282
        }
      },
      "source": [
        "df['n_chars'] = df['reviewText'].apply(len)\n",
        "df['n_chars'].hist(bins = 100)"
      ],
      "execution_count": 0,
      "outputs": [
        {
          "output_type": "execute_result",
          "data": {
            "text/plain": [
              "<matplotlib.axes._subplots.AxesSubplot at 0x7f2b265f9f28>"
            ]
          },
          "metadata": {
            "tags": []
          },
          "execution_count": 6
        },
        {
          "output_type": "display_data",
          "data": {
            "image/png": "[encoded data removed]",
            "text/plain": [
              "<Figure size 432x288 with 1 Axes>"
            ]
          },
          "metadata": {
            "tags": [],
            "needs_background": "light"
          }
        }
      ]
    },
    {
      "cell_type": "code",
      "metadata": {
        "id": "gVJsqygjSfEU",
        "colab_type": "code",
        "outputId": "36bb2a48-c758-4afb-a470-4f5778aeffd3",
        "colab": {
          "base_uri": "https://localhost:8080/",
          "height": 50
        }
      },
      "source": [
        "print(df.shape)\n",
        "df = df[df['n_chars'] < 2000]\n",
        "df.shape"
      ],
      "execution_count": 0,
      "outputs": [
        {
          "output_type": "stream",
          "text": [
            "(346355, 10)\n"
          ],
          "name": "stdout"
        },
        {
          "output_type": "execute_result",
          "data": {
            "text/plain": [
              "(337115, 10)"
            ]
          },
          "metadata": {
            "tags": []
          },
          "execution_count": 7
        }
      ]
    },
    {
      "cell_type": "code",
      "metadata": {
        "id": "DYlwv02MSfEu",
        "colab_type": "code",
        "outputId": "66863dc7-c1f8-4c3d-d6eb-f507c226dd9b",
        "colab": {
          "base_uri": "https://localhost:8080/",
          "height": 50
        }
      },
      "source": [
        "print(df.shape)\n",
        "df = df[df['n_chars'] > 200]\n",
        "df.shape"
      ],
      "execution_count": 0,
      "outputs": [
        {
          "output_type": "stream",
          "text": [
            "(337115, 10)\n"
          ],
          "name": "stdout"
        },
        {
          "output_type": "execute_result",
          "data": {
            "text/plain": [
              "(230498, 10)"
            ]
          },
          "metadata": {
            "tags": []
          },
          "execution_count": 8
        }
      ]
    },
    {
      "cell_type": "code",
      "metadata": {
        "id": "MglgUtihSfFR",
        "colab_type": "code",
        "outputId": "83448d1b-489c-4a6c-b2c4-418b91dab818",
        "colab": {
          "base_uri": "https://localhost:8080/",
          "height": 34
        }
      },
      "source": [
        "regex_sentences = re.compile(r'[^\\.!?]*[\\.!?]*', re.M)\n",
        "get_sentences = lambda text: [sentence.strip() for sentence in regex_sentences.findall(text.lower()) if sentence.strip()]\n",
        "text = 'Hello how, aren\\'t you! !? Friend! Bla'\n",
        "get_sentences(text)"
      ],
      "execution_count": 0,
      "outputs": [
        {
          "output_type": "execute_result",
          "data": {
            "text/plain": [
              "[\"hello how, aren't you!\", '!?', 'friend!', 'bla']"
            ]
          },
          "metadata": {
            "tags": []
          },
          "execution_count": 9
        }
      ]
    },
    {
      "cell_type": "code",
      "metadata": {
        "id": "ISMNEeXZSfFo",
        "colab_type": "code",
        "outputId": "14f9ca18-0e0f-4342-82f3-57d3b7f44563",
        "colab": {
          "base_uri": "https://localhost:8080/",
          "height": 50
        }
      },
      "source": [
        "regex_text = re.compile(r\"[\\w']+\")\n",
        "get_text = lambda text: [word for word in regex_text.findall(text.lower()) if word]\n",
        "\n",
        "regex_ending = re.compile('[\\.!?]+')\n",
        "get_ending = lambda text: regex_ending.findall(text)\n",
        "\n",
        "get_words = lambda text: get_text(text) + get_ending(text)\n",
        "\n",
        "get_all = lambda text: [word \n",
        "                        for words in [get_text(text) + get_ending(text) for text in get_sentences(text)] \n",
        "                        for word in words\n",
        "                        if word] + ['STOP']\n",
        "\n",
        "print(text)\n",
        "print(get_all(text))\n"
      ],
      "execution_count": 0,
      "outputs": [
        {
          "output_type": "stream",
          "text": [
            "Hello how, aren't you! !? Friend! Bla\n",
            "['hello', 'how', \"aren't\", 'you', '!', '!?', 'friend', '!', 'bla', 'STOP']\n"
          ],
          "name": "stdout"
        }
      ]
    },
    {
      "cell_type": "code",
      "metadata": {
        "id": "CwvJ1rZsSfF6",
        "colab_type": "code",
        "colab": {}
      },
      "source": [
        ""
      ],
      "execution_count": 0,
      "outputs": []
    },
    {
      "cell_type": "code",
      "metadata": {
        "id": "m-UvjE6HSfGP",
        "colab_type": "code",
        "outputId": "260cbd53-08a6-4455-f09f-17607ca67907",
        "colab": {
          "base_uri": "https://localhost:8080/",
          "height": 118
        }
      },
      "source": [
        "df['sentences'] = df['reviewText'].apply(get_all)\n",
        "df['sentences'].head()"
      ],
      "execution_count": 0,
      "outputs": [
        {
          "output_type": "execute_result",
          "data": {
            "text/plain": [
              "0    [this, is, a, great, little, gadget, to, have,...\n",
              "1    [i, would, recommend, this, for, a, travel, ma...\n",
              "2    [what, i, liked, was, the, quality, of, the, l...\n",
              "3    [love, the, great, point, light, pocket, magni...\n",
              "4    [this, is, very, nice, ., you, pull, out, on, ...\n",
              "Name: sentences, dtype: object"
            ]
          },
          "metadata": {
            "tags": []
          },
          "execution_count": 11
        }
      ]
    },
    {
      "cell_type": "code",
      "metadata": {
        "id": "70Z42CkWSfGk",
        "colab_type": "code",
        "outputId": "9219b8c3-06c5-4f92-dad3-bcbf79842603",
        "colab": {
          "base_uri": "https://localhost:8080/",
          "height": 286
        }
      },
      "source": [
        "df['sentences'].apply(len).hist(bins=100)"
      ],
      "execution_count": 0,
      "outputs": [
        {
          "output_type": "execute_result",
          "data": {
            "text/plain": [
              "<matplotlib.axes._subplots.AxesSubplot at 0x7f2ad2fefc88>"
            ]
          },
          "metadata": {
            "tags": []
          },
          "execution_count": 12
        },
        {
          "output_type": "display_data",
          "data": {
            "image/png": "[encoded data removed]",
            "text/plain": [
              "<Figure size 432x288 with 1 Axes>"
            ]
          },
          "metadata": {
            "tags": [],
            "needs_background": "light"
          }
        }
      ]
    },
    {
      "cell_type": "code",
      "metadata": {
        "id": "VHzi4hFcSfG2",
        "colab_type": "code",
        "colab": {}
      },
      "source": [
        "vocab = Counter([word for words in df['sentences'] for word in words])"
      ],
      "execution_count": 0,
      "outputs": []
    },
    {
      "cell_type": "code",
      "metadata": {
        "id": "nHzxtegCSfHB",
        "colab_type": "code",
        "outputId": "279deac1-8819-4dbb-a995-a9ef322f9098",
        "colab": {
          "base_uri": "https://localhost:8080/",
          "height": 195
        }
      },
      "source": [
        "vocab = pd.DataFrame(vocab.items(),columns=['word','count'])\n",
        "vocab.head()"
      ],
      "execution_count": 0,
      "outputs": [
        {
          "output_type": "execute_result",
          "data": {
            "text/html": [
              "<div>\n",
              "<style scoped>\n",
              "    .dataframe tbody tr th:only-of-type {\n",
              "        vertical-align: middle;\n",
              "    }\n",
              "\n",
              "    .dataframe tbody tr th {\n",
              "        vertical-align: top;\n",
              "    }\n",
              "\n",
              "    .dataframe thead th {\n",
              "        text-align: right;\n",
              "    }\n",
              "</style>\n",
              "<table border=\"1\" class=\"dataframe\">\n",
              "  <thead>\n",
              "    <tr style=\"text-align: right;\">\n",
              "      <th></th>\n",
              "      <th>word</th>\n",
              "      <th>count</th>\n",
              "    </tr>\n",
              "  </thead>\n",
              "  <tbody>\n",
              "    <tr>\n",
              "      <th>0</th>\n",
              "      <td>this</td>\n",
              "      <td>370761</td>\n",
              "    </tr>\n",
              "    <tr>\n",
              "      <th>1</th>\n",
              "      <td>is</td>\n",
              "      <td>373361</td>\n",
              "    </tr>\n",
              "    <tr>\n",
              "      <th>2</th>\n",
              "      <td>a</td>\n",
              "      <td>659864</td>\n",
              "    </tr>\n",
              "    <tr>\n",
              "      <th>3</th>\n",
              "      <td>great</td>\n",
              "      <td>65617</td>\n",
              "    </tr>\n",
              "    <tr>\n",
              "      <th>4</th>\n",
              "      <td>little</td>\n",
              "      <td>41371</td>\n",
              "    </tr>\n",
              "  </tbody>\n",
              "</table>\n",
              "</div>"
            ],
            "text/plain": [
              "     word   count\n",
              "0    this  370761\n",
              "1      is  373361\n",
              "2       a  659864\n",
              "3   great   65617\n",
              "4  little   41371"
            ]
          },
          "metadata": {
            "tags": []
          },
          "execution_count": 14
        }
      ]
    },
    {
      "cell_type": "code",
      "metadata": {
        "id": "jD6AhArTSfHY",
        "colab_type": "code",
        "outputId": "5d8f2284-e28f-4636-c9a1-e6e6da418643",
        "colab": {
          "base_uri": "https://localhost:8080/",
          "height": 282
        }
      },
      "source": [
        "vocab['count'].hist(bins=100,range=(0,100))"
      ],
      "execution_count": 0,
      "outputs": [
        {
          "output_type": "execute_result",
          "data": {
            "text/plain": [
              "<matplotlib.axes._subplots.AxesSubplot at 0x7f2ad2e8a6a0>"
            ]
          },
          "metadata": {
            "tags": []
          },
          "execution_count": 15
        },
        {
          "output_type": "display_data",
          "data": {
            "image/png": "[encoded data removed]",
            "text/plain": [
              "<Figure size 432x288 with 1 Axes>"
            ]
          },
          "metadata": {
            "tags": [],
            "needs_background": "light"
          }
        }
      ]
    },
    {
      "cell_type": "code",
      "metadata": {
        "id": "9BbUrSp8SfHw",
        "colab_type": "code",
        "outputId": "d1f7e5d7-faa5-45f6-c5f1-4717280221dd",
        "colab": {
          "base_uri": "https://localhost:8080/",
          "height": 34
        }
      },
      "source": [
        "threshold = 200\n",
        "len(vocab),sum(vocab['count']>threshold)"
      ],
      "execution_count": 0,
      "outputs": [
        {
          "output_type": "execute_result",
          "data": {
            "text/plain": [
              "(124107, 5678)"
            ]
          },
          "metadata": {
            "tags": []
          },
          "execution_count": 16
        }
      ]
    },
    {
      "cell_type": "code",
      "metadata": {
        "id": "Psu8J79HSfID",
        "colab_type": "code",
        "colab": {}
      },
      "source": [
        "vocab = vocab[vocab['count']>threshold]\n",
        "word_id = dict(zip(vocab.sort_values('count',ascending=False)['word'],range(len(vocab))))"
      ],
      "execution_count": 0,
      "outputs": []
    },
    {
      "cell_type": "code",
      "metadata": {
        "id": "xBijWne9SfIc",
        "colab_type": "code",
        "colab": {}
      },
      "source": [
        "inverse_word_id = {v:k for k,v in word_id.items()}"
      ],
      "execution_count": 0,
      "outputs": []
    },
    {
      "cell_type": "code",
      "metadata": {
        "id": "Ypz7wU6kSfIv",
        "colab_type": "code",
        "colab": {}
      },
      "source": [
        "VOCAB_SIZE = len(word_id)"
      ],
      "execution_count": 0,
      "outputs": []
    },
    {
      "cell_type": "code",
      "metadata": {
        "colab_type": "code",
        "id": "MsZymdAKDRAB",
        "colab": {}
      },
      "source": [
        "def prepare_sequence(seq, to_ix):\n",
        "    idxs = [to_ix[w] for w in seq]\n",
        "    return torch.tensor(idxs, dtype=torch.long)"
      ],
      "execution_count": 0,
      "outputs": []
    },
    {
      "cell_type": "code",
      "metadata": {
        "colab_type": "code",
        "id": "0l_VaRV5N9Ld",
        "outputId": "9d1aa0a1-66f6-4886-849a-8f330bc0b10b",
        "colab": {
          "base_uri": "https://localhost:8080/",
          "height": 34
        }
      },
      "source": [
        "prepare_sequence('the dog ate the apple'.split(),word_id)"
      ],
      "execution_count": 0,
      "outputs": [
        {
          "output_type": "execute_result",
          "data": {
            "text/plain": [
              "tensor([   1, 1129, 2163,    1, 1814])"
            ]
          },
          "metadata": {
            "tags": []
          },
          "execution_count": 21
        }
      ]
    },
    {
      "cell_type": "code",
      "metadata": {
        "colab_type": "code",
        "id": "1A9feXpDKRSr",
        "colab": {}
      },
      "source": [
        "WORD_EMBEDDING_SIZE = 10\n",
        "HIDDEN_DIM_LSTM = 10"
      ],
      "execution_count": 0,
      "outputs": []
    },
    {
      "cell_type": "code",
      "metadata": {
        "colab_type": "code",
        "id": "QkMXsMRupHzc",
        "colab": {}
      },
      "source": [
        "def init_hidden(dim):\n",
        "        return (torch.zeros(1, 1, dim),\n",
        "                torch.zeros(1, 1, dim))"
      ],
      "execution_count": 0,
      "outputs": []
    },
    {
      "cell_type": "code",
      "metadata": {
        "id": "HemgCFfiSfJ5",
        "colab_type": "code",
        "colab": {}
      },
      "source": [
        "class WordLevelSTM(nn.Module):\n",
        "\n",
        "    def __init__(self):\n",
        "        super(WordLevelSTM, self).__init__()\n",
        "        \n",
        "        self.nn_word_embeddings = nn.Embedding(VOCAB_SIZE, WORD_EMBEDDING_SIZE)\n",
        "        self.lstm_full = nn.LSTM(WORD_EMBEDDING_SIZE, HIDDEN_DIM_LSTM)  \n",
        "        self.hidden_full = init_hidden(HIDDEN_DIM_LSTM)\n",
        "        self.hidden_pred = nn.Linear(HIDDEN_DIM_LSTM, VOCAB_SIZE)    \n",
        "\n",
        "    def forward(self, sentence):\n",
        "        \n",
        "        self.hidden_full = init_hidden(HIDDEN_DIM_LSTM)\n",
        "\n",
        "        n_words = len(sentence)\n",
        "    \n",
        "        tensor = prepare_sequence(sentence,word_id)\n",
        "        embedding = self.nn_word_embeddings(tensor)\n",
        "\n",
        "        out, self.hidden_full = self.lstm_full(embedding.view(n_words, 1, -1), self.hidden_full)\n",
        "\n",
        "        pred = self.hidden_pred(out[-1])\n",
        "        scores = F.log_softmax(pred,dim=1)\n",
        "\n",
        "        return scores"
      ],
      "execution_count": 0,
      "outputs": []
    },
    {
      "cell_type": "code",
      "metadata": {
        "colab_type": "code",
        "id": "Xzubr5h7nl_1",
        "colab": {}
      },
      "source": [
        "model = WordLevelSTM()\n",
        "        \n",
        "        \n",
        "loss_function = nn.CrossEntropyLoss()\n",
        "optimizer = optim.Adam(model.parameters(), lr=0.001)"
      ],
      "execution_count": 0,
      "outputs": []
    },
    {
      "cell_type": "code",
      "metadata": {
        "id": "NdjwbH1_SfKY",
        "colab_type": "code",
        "outputId": "9feb1211-3d6f-42be-cd6b-9b30ad0776d7",
        "colab": {
          "base_uri": "https://localhost:8080/",
          "height": 1000,
          "referenced_widgets": [
            "74f011f5938146c49c3e54ff972ff61e",
            "a284e96fe765483a9be6871e31e62992",
            "649ebcb23a4a4cabb6e40a910da22cec",
            "3ac14954098b4a4e8bee31bc4ea545a8",
            "b2e5cec704d94d259e896373243a924c",
            "ff193a168c6f495daba0db61b9829d35",
            "b730f0a0c5704cc3861657f33f3ac3d6",
            "23d2c87e07c84efaa32267c8c62adabb"
          ]
        }
      },
      "source": [
        "alpha = 0.99\n",
        "\n",
        "ewma_loss = 0\n",
        "for epoch in range(10):\n",
        "\n",
        "    for t,sentence in enumerate(tqdm(df['sentences'])):\n",
        "        \n",
        "        sentence = [word for word in sentence if word in word_id]\n",
        "        n_words = len(sentence)\n",
        "\n",
        "        for pos in range(1,n_words-1):\n",
        "            words = sentence[:pos]\n",
        "            target = sentence[pos]\n",
        "\n",
        "            scores = model(words)\n",
        "\n",
        "            target_tensor = prepare_sequence([target],word_id)\n",
        "\n",
        "            loss = loss_function(scores, target_tensor)\n",
        "            loss.backward()\n",
        "            optimizer.step()\n",
        "\n",
        "\n",
        "            ewma_loss = loss if t == 0 else alpha*ewma_loss + (1-alpha)*loss\n",
        "            \n",
        "            if t and t % 10 == 0 and pos < 20:\n",
        "                \n",
        "                if pos == 1:\n",
        "                  print('\\n\\nEpoch #%2s : %5.2fm sentences --> loss = %5.3f' % (epoch,t/1000000,ewma_loss))\n",
        "                argmax = int(scores.argmax())\n",
        "                pred_word = inverse_word_id[argmax]\n",
        "                print('%15s [%15s] : %s' % (pred_word.upper() if pred_word == target else pred_word,target,' '.join(words)))\n"
      ],
      "execution_count": 37,
      "outputs": [
        {
          "output_type": "stream",
          "text": [
            "/usr/local/lib/python3.6/dist-packages/ipykernel_launcher.py:6: TqdmDeprecationWarning: This function will be removed in tqdm==5.0.0\n",
            "Please use `tqdm.notebook.tqdm` instead of `tqdm.tqdm_notebook`\n",
            "  \n"
          ],
          "name": "stderr"
        },
        {
          "output_type": "display_data",
          "data": {
            "application/vnd.jupyter.widget-view+json": {
              "model_id": "74f011f5938146c49c3e54ff972ff61e",
              "version_minor": 0,
              "version_major": 2
            },
            "text/plain": [
              "HBox(children=(IntProgress(value=0, max=230498), HTML(value='')))"
            ]
          },
          "metadata": {
            "tags": []
          }
        },
        {
          "output_type": "stream",
          "text": [
            "\n",
            "\n",
            "Epoch # 0 :  0.00m sentences --> loss = 118.717\n",
            "        install [          admit] : i'll\n",
            "      magnifier [             it] : i'll admit\n",
            "         should [              .] : i'll admit it\n",
            "             it [              i] : i'll admit it .\n",
            "              . [           like] : i'll admit it . i\n",
            "           lens [          crazy] : i'll admit it . i like\n",
            "            god [           when] : i'll admit it . i like crazy\n",
            "             do [         people] : i'll admit it . i like crazy when\n",
            "             to [        started] : i'll admit it . i like crazy when people\n",
            "          think [           that] : i'll admit it . i like crazy when people started\n",
            "              . [              i] : i'll admit it . i like crazy when people started that\n",
            "              . [            get] : i'll admit it . i like crazy when people started that i\n",
            "          deals [              a] : i'll admit it . i like crazy when people started that i get\n",
            "           this [     magnifying] : i'll admit it . i like crazy when people started that i get a\n",
            "              . [          glass] : i'll admit it . i like crazy when people started that i get a magnifying\n",
            "            top [              .] : i'll admit it . i like crazy when people started that i get a magnifying glass\n",
            "           want [            yes] : i'll admit it . i like crazy when people started that i get a magnifying glass .\n",
            "          think [              i] : i'll admit it . i like crazy when people started that i get a magnifying glass . yes\n",
            "              . [          could] : i'll admit it . i like crazy when people started that i get a magnifying glass . yes i\n",
            "\n",
            "\n",
            "Epoch # 0 :  0.00m sentences --> loss = 188.158\n",
            "              . [        surgery] : after\n",
            "         within [              i] : after surgery\n",
            "              . [            was] : after surgery i\n",
            "         during [         unable] : after surgery i was\n",
            "           seem [             to] : after surgery i was unable\n",
            "          razor [           read] : after surgery i was unable to\n",
            "              . [              .] : after surgery i was unable to read\n",
            "           page [           this] : after surgery i was unable to read .\n",
            "            age [      magnifier] : after surgery i was unable to read . this\n",
            "              a [            was] : after surgery i was unable to read . this magnifier\n",
            "      magnifier [              a] : after surgery i was unable to read . this magnifier was\n",
            "            the [            big] : after surgery i was unable to read . this magnifier was a\n",
            "             is [           help] : after surgery i was unable to read . this magnifier was a big\n",
            "            fat [             in] : after surgery i was unable to read . this magnifier was a big help\n",
            "           case [         seeing] : after surgery i was unable to read . this magnifier was a big help in\n",
            "              . [          small] : after surgery i was unable to read . this magnifier was a big help in seeing\n",
            "           work [          print] : after surgery i was unable to read . this magnifier was a big help in seeing small\n",
            "            the [            and] : after surgery i was unable to read . this magnifier was a big help in seeing small print\n",
            "           this [           even] : after surgery i was unable to read . this magnifier was a big help in seeing small print and\n",
            "\n",
            "\n",
            "Epoch # 0 :  0.00m sentences --> loss = 156.664\n",
            "             to [           nice] : real\n",
            "            for [          build] : real nice\n",
            "              d [             to] : real nice build\n",
            "           read [           this] : real nice build to\n",
            "         longer [          razor] : real nice build to this\n",
            "      magnifier [              .] : real nice build to this razor\n",
            "            big [           it's] : real nice build to this razor .\n",
            "      important [           hard] : real nice build to this razor . it's\n",
            "          clear [             to] : real nice build to this razor . it's hard\n",
            "           read [           beat] : real nice build to this razor . it's hard to\n",
            "             to [            the] : real nice build to this razor . it's hard to beat\n",
            "           were [        quality] : real nice build to this razor . it's hard to beat the\n",
            "            all [              .] : real nice build to this razor . it's hard to beat the quality\n",
            "              i [        however] : real nice build to this razor . it's hard to beat the quality .\n",
            "         merkur [              i] : real nice build to this razor . it's hard to beat the quality . however\n",
            "            for [        believe] : real nice build to this razor . it's hard to beat the quality . however i\n",
            "           give [           this] : real nice build to this razor . it's hard to beat the quality . however i believe\n",
            "           size [          razor] : real nice build to this razor . it's hard to beat the quality . however i believe this\n",
            "         normal [             is] : real nice build to this razor . it's hard to beat the quality . however i believe this razor\n",
            "\n",
            "\n",
            "Epoch # 0 :  0.00m sentences --> loss = 158.504\n",
            "             be [           need] : i\n",
            "          bonus [          these] : i need\n",
            "         extras [      batteries] : i need these\n",
            "         outlet [            for] : i need these batteries\n",
            "          there [          light] : i need these batteries for\n",
            "              ? [              .] : i need these batteries for light\n",
            "             as [              i] : i need these batteries for light .\n",
            "             be [           have] : i need these batteries for light . i\n",
            "           side [          three] : i need these batteries for light . i have\n",
            "              a [            and] : i need these batteries for light . i have three\n",
            "        quality [           each] : i need these batteries for light . i have three and\n",
            "            and [          takes] : i need these batteries for light . i have three and each\n",
            "            and [            two] : i need these batteries for light . i have three and each takes\n",
            "         itself [      batteries] : i need these batteries for light . i have three and each takes two\n",
            "        willing [              .] : i need these batteries for light . i have three and each takes two batteries\n",
            "           then [            the] : i need these batteries for light . i have three and each takes two batteries .\n",
            "              . [          price] : i need these batteries for light . i have three and each takes two batteries . the\n",
            "        minutes [             of] : i need these batteries for light . i have three and each takes two batteries . the price\n",
            "          which [          these] : i need these batteries for light . i have three and each takes two batteries . the price of\n",
            "\n",
            "\n",
            "Epoch # 0 :  0.00m sentences --> loss = 177.745\n",
            "          price [           been] : i've\n",
            "            may [          using] : i've been\n",
            "          using [          these] : i've been using\n",
            "       rotation [            for] : i've been using these\n",
            "          issue [          years] : i've been using these for\n",
            "         better [            for] : i've been using these for years\n",
            "          issue [             my] : i've been using these for years for\n",
            "            the [            360] : i've been using these for years for my\n",
            "            the [            and] : i've been using these for years for my 360\n",
            "              . [        various] : i've been using these for years for my 360 and\n",
            "          never [          other] : i've been using these for years for my 360 and various\n",
            "            may [      household] : i've been using these for years for my 360 and various other\n",
            "             as [          items] : i've been using these for years for my 360 and various other household\n",
            "          while [           that] : i've been using these for years for my 360 and various other household items\n",
            "            the [        require] : i've been using these for years for my 360 and various other household items that\n",
            "              . [             aa] : i've been using these for years for my 360 and various other household items that require\n",
            "            the [              .] : i've been using these for years for my 360 and various other household items that require aa\n",
            "           it's [          these] : i've been using these for years for my 360 and various other household items that require aa .\n",
            "      shouldn't [           lose] : i've been using these for years for my 360 and various other household items that require aa . these\n",
            "\n",
            "\n",
            "Epoch # 0 :  0.00m sentences --> loss = 170.051\n",
            "              . [            use] : i\n",
            "            and [             my] : i use\n",
            "            the [      batteries] : i use my\n",
            "     adequately [            for] : i use my batteries\n",
            "           this [           just] : i use my batteries for\n",
            "              . [          about] : i use my batteries for just\n",
            "       duracell [     everything] : i use my batteries for just about\n",
            "              . [              .] : i use my batteries for just about everything\n",
            "          these [             be] : i use my batteries for just about everything .\n",
            "           hike [             it] : i use my batteries for just about everything . be\n",
            "            are [         remote] : i use my batteries for just about everything . be it\n",
            "          their [       controls] : i use my batteries for just about everything . be it remote\n",
            "             to [            and] : i use my batteries for just about everything . be it remote controls\n",
            "           also [    flashlights] : i use my batteries for just about everything . be it remote controls and\n",
            "           good [            and] : i use my batteries for just about everything . be it remote controls and flashlights\n",
            "              . [              i] : i use my batteries for just about everything . be it remote controls and flashlights and\n",
            "              . [        haven't] : i use my batteries for just about everything . be it remote controls and flashlights and i\n",
            "            and [        noticed] : i use my batteries for just about everything . be it remote controls and flashlights and i haven't\n",
            "           once [            any] : i use my batteries for just about everything . be it remote controls and flashlights and i haven't noticed\n",
            "\n",
            "\n",
            "Epoch # 0 :  0.00m sentences --> loss = 179.093\n",
            "            you [            the] : if\n",
            "           they [       original] : if the\n",
            "              . [      energizer] : if the original\n",
            "              . [             aa] : if the original energizer\n",
            "              . [       alkaline] : if the original energizer aa\n",
            "             12 [        battery] : if the original energizer aa alkaline\n",
            "       computer [             is] : if the original energizer aa alkaline battery\n",
            "            day [            the] : if the original energizer aa alkaline battery is\n",
            "            you [              a] : if the original energizer aa alkaline battery is the\n",
            "    replacement [        digital] : if the original energizer aa alkaline battery is the a\n",
            "          might [         camera] : if the original energizer aa alkaline battery is the a digital\n",
            "             so [             is] : if the original energizer aa alkaline battery is the a digital camera\n",
            "      complaint [              a] : if the original energizer aa alkaline battery is the a digital camera is\n",
            "    replacement [         hungry] : if the original energizer aa alkaline battery is the a digital camera is a\n",
            "              . [              2] : if the original energizer aa alkaline battery is the a digital camera is a hungry\n",
            "          bulky [             or] : if the original energizer aa alkaline battery is the a digital camera is a hungry 2\n",
            "           away [              4] : if the original energizer aa alkaline battery is the a digital camera is a hungry 2 or\n",
            "           away [             of] : if the original energizer aa alkaline battery is the a digital camera is a hungry 2 or 4\n",
            "              a [           them] : if the original energizer aa alkaline battery is the a digital camera is a hungry 2 or 4 of\n",
            "\n",
            "\n",
            "Epoch # 0 :  0.00m sentences --> loss = 187.176\n",
            "            the [          these] : avoid\n",
            "          types [      batteries] : avoid these\n",
            "       properly [             my] : avoid these batteries\n",
            "          where [     experience] : avoid these batteries my\n",
            "             IS [             is] : avoid these batteries my experience\n",
            "           much [        similar] : avoid these batteries my experience is\n",
            "           such [             to] : avoid these batteries my experience is similar\n",
            "           back [           many] : avoid these batteries my experience is similar to\n",
            "              . [         others] : avoid these batteries my experience is similar to many\n",
            "           cool [              .] : avoid these batteries my experience is similar to many others\n",
            "          after [           good] : avoid these batteries my experience is similar to many others .\n",
            "        handled [        initial] : avoid these batteries my experience is similar to many others . good\n",
            "             on [    performance] : avoid these batteries my experience is similar to many others . good initial\n",
            "         buying [            and] : avoid these batteries my experience is similar to many others . good initial performance\n",
            "             is [           then] : avoid these batteries my experience is similar to many others . good initial performance and\n",
            "      batteries [          these] : avoid these batteries my experience is similar to many others . good initial performance and then\n",
            "        justify [      energizer] : avoid these batteries my experience is similar to many others . good initial performance and then these\n",
            "             on [      batteries] : avoid these batteries my experience is similar to many others . good initial performance and then these energizer\n",
            "          don't [          can't] : avoid these batteries my experience is similar to many others . good initial performance and then these energizer batteries\n",
            "\n",
            "\n",
            "Epoch # 0 :  0.00m sentences --> loss = 172.071\n",
            "             to [            had] : i\n",
            "            the [           this] : i had\n",
            "       positive [          until] : i had this\n",
            "              ? [            for] : i had this until\n",
            "             my [           just] : i had this until for\n",
            "             to [           over] : i had this until for just\n",
            "             to [              1] : i had this until for just over\n",
            "             as [           year] : i had this until for just over 1\n",
            "          handy [            and] : i had this until for just over 1 year\n",
            "            the [             it] : i had this until for just over 1 year and\n",
            "         charge [           just] : i had this until for just over 1 year and it\n",
            "         charge [        stopped] : i had this until for just over 1 year and it just\n",
            "        because [        working] : i had this until for just over 1 year and it just stopped\n",
            "            the [            for] : i had this until for just over 1 year and it just stopped working\n",
            "        quickly [             no] : i had this until for just over 1 year and it just stopped working for\n",
            "            buy [       apparent] : i had this until for just over 1 year and it just stopped working for no\n",
            "            the [         reason] : i had this until for just over 1 year and it just stopped working for no apparent\n",
            "             to [              .] : i had this until for just over 1 year and it just stopped working for no apparent reason\n",
            "           hard [            the] : i had this until for just over 1 year and it just stopped working for no apparent reason .\n",
            "\n",
            "\n",
            "Epoch # 0 :  0.00m sentences --> loss = 184.592\n",
            "            and [           want] : you\n",
            "            and [              a] : you want\n",
            "            and [        battery] : you want a\n",
            "    alternative [           that] : you want a battery\n",
            "              i [             is] : you want a battery that\n",
            "              4 [          going] : you want a battery that is\n",
            "           self [             to] : you want a battery that is going\n",
            "             be [           last] : you want a battery that is going to\n",
            "           many [           then] : you want a battery that is going to last\n",
            "           take [            you] : you want a battery that is going to last then\n",
            "            and [          can't] : you want a battery that is going to last then you\n",
            "           some [             go] : you want a battery that is going to last then you can't\n",
            "      available [          wrong] : you want a battery that is going to last then you can't go\n",
            "         likely [           with] : you want a battery that is going to last then you can't go wrong\n",
            "            and [           this] : you want a battery that is going to last then you can't go wrong with\n",
            "          sanyo [            one] : you want a battery that is going to last then you can't go wrong with this\n",
            "           them [              .] : you want a battery that is going to last then you can't go wrong with this one\n",
            "            and [              i] : you want a battery that is going to last then you can't go wrong with this one .\n",
            "             it [         bought] : you want a battery that is going to last then you can't go wrong with this one . i\n",
            "\n",
            "\n",
            "Epoch # 0 :  0.00m sentences --> loss = 189.606\n",
            "        charges [      batteries] : duracell\n",
            "         seeing [            are] : duracell batteries\n",
            "          threw [             my] : duracell batteries are\n",
            "          being [       favorite] : duracell batteries are my\n",
            "          about [            for] : duracell batteries are my favorite\n",
            "             an [            and] : duracell batteries are my favorite for\n",
            "          about [      endurance] : duracell batteries are my favorite for and\n",
            "              . [              .] : duracell batteries are my favorite for and endurance\n",
            "              . [             in] : duracell batteries are my favorite for and endurance .\n",
            "             MY [             my] : duracell batteries are my favorite for and endurance . in\n",
            "           were [        opinion] : duracell batteries are my favorite for and endurance . in my\n",
            "         camera [           they] : duracell batteries are my favorite for and endurance . in my opinion\n",
            "            and [        provide] : duracell batteries are my favorite for and endurance . in my opinion they\n",
            "      batteries [           more] : duracell batteries are my favorite for and endurance . in my opinion they provide\n",
            "            the [     continuous] : duracell batteries are my favorite for and endurance . in my opinion they provide more\n",
            "             do [         output] : duracell batteries are my favorite for and endurance . in my opinion they provide more continuous\n",
            "            off [           than] : duracell batteries are my favorite for and endurance . in my opinion they provide more continuous output\n",
            "              . [            any] : duracell batteries are my favorite for and endurance . in my opinion they provide more continuous output than\n",
            "          twice [          other] : duracell batteries are my favorite for and endurance . in my opinion they provide more continuous output than any\n",
            "\n",
            "\n",
            "Epoch # 0 :  0.00m sentences --> loss = 189.617\n",
            "             of [            you] : if\n",
            "            the [            can] : if you\n",
            "             at [           wait] : if you can\n",
            "              d [              a] : if you can wait\n",
            "           even [         couple] : if you can wait a\n",
            "             of [           days] : if you can wait a couple\n",
            "           them [            for] : if you can wait a couple days\n",
            "           long [           your] : if you can wait a couple days for\n",
            "        restore [      batteries] : if you can wait a couple days for your\n",
            "          don't [            buy] : if you can wait a couple days for your batteries\n",
            "            but [           them] : if you can wait a couple days for your batteries buy\n",
            "            the [           here] : if you can wait a couple days for your batteries buy them\n",
            "          ready [              !] : if you can wait a couple days for your batteries buy them here\n",
            "      daughters [           they] : if you can wait a couple days for your batteries buy them here !\n",
            "            got [            are] : if you can wait a couple days for your batteries buy them here ! they\n",
            "       needless [              a] : if you can wait a couple days for your batteries buy them here ! they are\n",
            "           them [            lot] : if you can wait a couple days for your batteries buy them here ! they are a\n",
            "          going [        cheaper] : if you can wait a couple days for your batteries buy them here ! they are a lot\n",
            "           want [             on] : if you can wait a couple days for your batteries buy them here ! they are a lot cheaper\n",
            "\n",
            "\n",
            "Epoch # 0 :  0.00m sentences --> loss = 224.634\n",
            "             to [      batteries] : yes\n",
            "             is [              a] : yes batteries\n",
            "            for [         review] : yes batteries a\n",
            "              i [            too] : yes batteries a review\n",
            "            the [              .] : yes batteries a review too\n",
            "           good [           been] : yes batteries a review too .\n",
            "            low [          using] : yes batteries a review too . been\n",
            "          today [          these] : yes batteries a review too . been using\n",
            "           took [         copper] : yes batteries a review too . been using these\n",
            "           jump [           tops] : yes batteries a review too . been using these copper\n",
            "             to [            for] : yes batteries a review too . been using these copper tops\n",
            "              1 [          years] : yes batteries a review too . been using these copper tops for\n",
            "            and [              .] : yes batteries a review too . been using these copper tops for years\n",
            "           with [            not] : yes batteries a review too . been using these copper tops for years .\n",
            "             to [           sure] : yes batteries a review too . been using these copper tops for years . not\n",
            "           been [            why] : yes batteries a review too . been using these copper tops for years . not sure\n",
            "         before [              .] : yes batteries a review too . been using these copper tops for years . not sure why\n",
            "        battery [              i] : yes batteries a review too . been using these copper tops for years . not sure why .\n",
            "             to [          guess] : yes batteries a review too . been using these copper tops for years . not sure why . i\n",
            "\n",
            "\n",
            "Epoch # 0 :  0.00m sentences --> loss = 195.596\n",
            "      batteries [           face] : let's\n",
            "           ones [             it] : let's face\n",
            "           that [       duracell] : let's face it\n",
            "         simply [            has] : let's face it duracell\n",
            "            two [   successfully] : let's face it duracell has\n",
            "    immediately [        branded] : let's face it duracell has successfully\n",
            "             10 [     themselves] : let's face it duracell has successfully branded\n",
            "              . [             as] : let's face it duracell has successfully branded themselves\n",
            "            buy [            the] : let's face it duracell has successfully branded themselves as\n",
            "             in [           best] : let's face it duracell has successfully branded themselves as the\n",
            "             to [        battery] : let's face it duracell has successfully branded themselves as the best\n",
            "     exercising [         around] : let's face it duracell has successfully branded themselves as the best battery\n",
            "           that [              .] : let's face it duracell has successfully branded themselves as the best battery around\n",
            "            not [            and] : let's face it duracell has successfully branded themselves as the best battery around .\n",
            "             to [            the] : let's face it duracell has successfully branded themselves as the best battery around . and\n",
            "           hard [          truth] : let's face it duracell has successfully branded themselves as the best battery around . and the\n",
            "           have [             is] : let's face it duracell has successfully branded themselves as the best battery around . and the truth\n",
            "             to [              i] : let's face it duracell has successfully branded themselves as the best battery around . and the truth is\n",
            "      batteries [            get] : let's face it duracell has successfully branded themselves as the best battery around . and the truth is i\n",
            "\n",
            "\n",
            "Epoch # 0 :  0.00m sentences --> loss = 214.165\n",
            "             to [        chinese] : had\n",
            "              i [             on] : had chinese\n",
            "              i [            the] : had chinese on\n",
            "             to [         bottom] : had chinese on the\n",
            "           .... [            and] : had chinese on the bottom\n",
            "              i [        warning] : had chinese on the bottom and\n",
            "              i [             on] : had chinese on the bottom and warning\n",
            "              i [            the] : had chinese on the bottom and warning on\n",
            "          maybe [           side] : had chinese on the bottom and warning on the\n",
            "            lot [              .] : had chinese on the bottom and warning on the side\n",
            "        digital [          can't] : had chinese on the bottom and warning on the side .\n",
            "           lens [           find] : had chinese on the bottom and warning on the side . can't\n",
            "             to [            any] : had chinese on the bottom and warning on the side . can't find\n",
            "       stronger [             in] : had chinese on the bottom and warning on the side . can't find any\n",
            "           lens [            the] : had chinese on the bottom and warning on the side . can't find any in\n",
            "          these [            usa] : had chinese on the bottom and warning on the side . can't find any in the\n",
            "        bottles [           with] : had chinese on the bottom and warning on the side . can't find any in the usa\n",
            "              i [          these] : had chinese on the bottom and warning on the side . can't find any in the usa with\n",
            "           them [              .] : had chinese on the bottom and warning on the side . can't find any in the usa with these\n",
            "\n",
            "\n",
            "Epoch # 0 :  0.00m sentences --> loss = 242.893\n",
            "             on [        ordered] : i\n",
            "           well [            one] : i ordered\n",
            "          quite [             of] : i ordered one\n",
            "          those [          these] : i ordered one of\n",
            "     frequently [          about] : i ordered one of these\n",
            "              d [              a] : i ordered one of these about\n",
            "             is [           year] : i ordered one of these about a\n",
            "             is [            ago] : i ordered one of these about a year\n",
            "           half [            for] : i ordered one of these about a year ago\n",
            "           when [             my] : i ordered one of these about a year ago for\n",
            "             is [        husband] : i ordered one of these about a year ago for my\n",
            "         amount [            who] : i ordered one of these about a year ago for my husband\n",
            "           i've [            was] : i ordered one of these about a year ago for my husband who\n",
            "            say [        working] : i ordered one of these about a year ago for my husband who was\n",
            "     especially [            for] : i ordered one of these about a year ago for my husband who was working\n",
            "       duracell [             an] : i ordered one of these about a year ago for my husband who was working for\n",
            "             is [           auto] : i ordered one of these about a year ago for my husband who was working for an\n",
            "      batteries [           shop] : i ordered one of these about a year ago for my husband who was working for an auto\n",
            "          video [             at] : i ordered one of these about a year ago for my husband who was working for an auto shop\n",
            "\n",
            "\n",
            "Epoch # 0 :  0.00m sentences --> loss = 253.757\n",
            "            the [           been] : i've\n",
            "         seller [     purchasing] : i've been\n",
            "             at [    flashlights] : i've been purchasing\n",
            "        working [            for] : i've been purchasing flashlights\n",
            "       duracell [          years] : i've been purchasing flashlights for\n",
            "              . [            and] : i've been purchasing flashlights for years\n",
            "            and [          years] : i've been purchasing flashlights for years and\n",
            "              . [              .] : i've been purchasing flashlights for years and years\n",
            "           this [            the] : i've been purchasing flashlights for years and years .\n",
            "            the [        quality] : i've been purchasing flashlights for years and years . the\n",
            "            the [             is] : i've been purchasing flashlights for years and years . the quality\n",
            "            out [          among] : i've been purchasing flashlights for years and years . the quality is\n",
            "              i [            the] : i've been purchasing flashlights for years and years . the quality is among\n",
            "           with [           best] : i've been purchasing flashlights for years and years . the quality is among the\n",
            "              a [            out] : i've been purchasing flashlights for years and years . the quality is among the best\n",
            "              i [          there] : i've been purchasing flashlights for years and years . the quality is among the best out\n",
            "           this [              .] : i've been purchasing flashlights for years and years . the quality is among the best out there\n",
            "         single [              i] : i've been purchasing flashlights for years and years . the quality is among the best out there .\n",
            "      batteries [           also] : i've been purchasing flashlights for years and years . the quality is among the best out there . i\n",
            "\n",
            "\n",
            "Epoch # 0 :  0.00m sentences --> loss = 296.168\n",
            "       securely [            yet] : has\n",
            "        they're [             to] : has yet\n",
            "              i [     disappoint] : has yet to\n",
            "             it [             me] : has yet to disappoint\n",
            "         stated [            and] : has yet to disappoint me\n",
            "             it [           this] : has yet to disappoint me and\n",
            "           last [             is] : has yet to disappoint me and this\n",
            "        various [             no] : has yet to disappoint me and this is\n",
            "              a [      exception] : has yet to disappoint me and this is no\n",
            "            and [          great] : has yet to disappoint me and this is no exception\n",
            "            and [          light] : has yet to disappoint me and this is no exception great\n",
            "         strong [          solid] : has yet to disappoint me and this is no exception great light\n",
            "            and [          extra] : has yet to disappoint me and this is no exception great light solid\n",
            "             it [           bulb] : has yet to disappoint me and this is no exception great light solid extra\n",
            "         better [             in] : has yet to disappoint me and this is no exception great light solid extra bulb\n",
            "              . [             34] : has yet to disappoint me and this is no exception great light solid extra bulb in\n",
            "          can't [             34] : has yet to disappoint me and this is no exception great light solid extra bulb in 34\n",
            "          can't [            ...] : has yet to disappoint me and this is no exception great light solid extra bulb in 34 34\n",
            "           look [            and] : has yet to disappoint me and this is no exception great light solid extra bulb in 34 34 ...\n",
            "\n",
            "\n",
            "Epoch # 0 :  0.00m sentences --> loss = 271.838\n",
            "              . [           able] : focus\n",
            "          hours [             is] : focus able\n",
            "          years [           nice] : focus able is\n",
            "              a [              .] : focus able is nice\n",
            "           belt [              i] : focus able is nice .\n",
            "              a [            had] : focus able is nice . i\n",
            "              a [        already] : focus able is nice . i had\n",
            "          label [         bought] : focus able is nice . i had already\n",
            "        version [              a] : focus able is nice . i had already bought\n",
            "             my [        extreme] : focus able is nice . i had already bought a\n",
            "          years [        upgrade] : focus able is nice . i had already bought a extreme\n",
            "           with [            for] : focus able is nice . i had already bought a extreme upgrade\n",
            "     protection [             my] : focus able is nice . i had already bought a extreme upgrade for\n",
            "             an [       existing] : focus able is nice . i had already bought a extreme upgrade for my\n",
            "              a [            mag] : focus able is nice . i had already bought a extreme upgrade for my existing\n",
            "          years [            and] : focus able is nice . i had already bought a extreme upgrade for my existing mag\n",
            "          years [          liked] : focus able is nice . i had already bought a extreme upgrade for my existing mag and\n",
            "            and [             it] : focus able is nice . i had already bought a extreme upgrade for my existing mag and liked\n",
            "              a [             so] : focus able is nice . i had already bought a extreme upgrade for my existing mag and liked it\n",
            "\n",
            "\n",
            "Epoch # 0 :  0.00m sentences --> loss = 288.716\n",
            "             of [            big] : this\n",
            "            and [           pack] : this big\n",
            "         damage [            was] : this big pack\n",
            "            too [              a] : this big pack was\n",
            "           very [           huge] : this big pack was a\n",
            "           sons [        problem] : this big pack was a huge\n",
            "           them [            for] : this big pack was a huge problem\n",
            "           part [             us] : this big pack was a huge problem for\n",
            "             or [              .] : this big pack was a huge problem for us\n",
            "             or [             we] : this big pack was a huge problem for us .\n",
            "             by [          don't] : this big pack was a huge problem for us . we\n",
            "             to [           have] : this big pack was a huge problem for us . we don't\n",
            "           them [              a] : this big pack was a huge problem for us . we don't have\n",
            "           very [            car] : this big pack was a huge problem for us . we don't have a\n",
            "           have [             so] : this big pack was a huge problem for us . we don't have a car\n",
            "           have [             we] : this big pack was a huge problem for us . we don't have a car so\n",
            "             by [            the] : this big pack was a huge problem for us . we don't have a car so we\n",
            "           with [       shopping] : this big pack was a huge problem for us . we don't have a car so we the\n",
            "           have [         chores] : this big pack was a huge problem for us . we don't have a car so we the shopping\n"
          ],
          "name": "stdout"
        },
        {
          "output_type": "error",
          "ename": "KeyboardInterrupt",
          "evalue": "ignored",
          "traceback": [
            "\u001b[0;31m---------------------------------------------------------------------------\u001b[0m",
            "\u001b[0;31mKeyboardInterrupt\u001b[0m                         Traceback (most recent call last)",
            "\u001b[0;32m<ipython-input-37-daffa31e1343>\u001b[0m in \u001b[0;36m<module>\u001b[0;34m()\u001b[0m\n\u001b[1;32m     18\u001b[0m \u001b[0;34m\u001b[0m\u001b[0m\n\u001b[1;32m     19\u001b[0m             \u001b[0mloss\u001b[0m \u001b[0;34m=\u001b[0m \u001b[0mloss_function\u001b[0m\u001b[0;34m(\u001b[0m\u001b[0mscores\u001b[0m\u001b[0;34m,\u001b[0m \u001b[0mtarget_tensor\u001b[0m\u001b[0;34m)\u001b[0m\u001b[0;34m\u001b[0m\u001b[0;34m\u001b[0m\u001b[0m\n\u001b[0;32m---> 20\u001b[0;31m             \u001b[0mloss\u001b[0m\u001b[0;34m.\u001b[0m\u001b[0mbackward\u001b[0m\u001b[0;34m(\u001b[0m\u001b[0;34m)\u001b[0m\u001b[0;34m\u001b[0m\u001b[0;34m\u001b[0m\u001b[0m\n\u001b[0m\u001b[1;32m     21\u001b[0m             \u001b[0moptimizer\u001b[0m\u001b[0;34m.\u001b[0m\u001b[0mstep\u001b[0m\u001b[0;34m(\u001b[0m\u001b[0;34m)\u001b[0m\u001b[0;34m\u001b[0m\u001b[0;34m\u001b[0m\u001b[0m\n\u001b[1;32m     22\u001b[0m \u001b[0;34m\u001b[0m\u001b[0m\n",
            "\u001b[0;32m/usr/local/lib/python3.6/dist-packages/torch/tensor.py\u001b[0m in \u001b[0;36mbackward\u001b[0;34m(self, gradient, retain_graph, create_graph)\u001b[0m\n\u001b[1;32m    196\u001b[0m                 \u001b[0mproducts\u001b[0m\u001b[0;34m.\u001b[0m \u001b[0mDefaults\u001b[0m \u001b[0mto\u001b[0m\u001b[0;31m \u001b[0m\u001b[0;31m`\u001b[0m\u001b[0;31m`\u001b[0m\u001b[0;32mFalse\u001b[0m\u001b[0;31m`\u001b[0m\u001b[0;31m`\u001b[0m\u001b[0;34m.\u001b[0m\u001b[0;34m\u001b[0m\u001b[0;34m\u001b[0m\u001b[0m\n\u001b[1;32m    197\u001b[0m         \"\"\"\n\u001b[0;32m--> 198\u001b[0;31m         \u001b[0mtorch\u001b[0m\u001b[0;34m.\u001b[0m\u001b[0mautograd\u001b[0m\u001b[0;34m.\u001b[0m\u001b[0mbackward\u001b[0m\u001b[0;34m(\u001b[0m\u001b[0mself\u001b[0m\u001b[0;34m,\u001b[0m \u001b[0mgradient\u001b[0m\u001b[0;34m,\u001b[0m \u001b[0mretain_graph\u001b[0m\u001b[0;34m,\u001b[0m \u001b[0mcreate_graph\u001b[0m\u001b[0;34m)\u001b[0m\u001b[0;34m\u001b[0m\u001b[0;34m\u001b[0m\u001b[0m\n\u001b[0m\u001b[1;32m    199\u001b[0m \u001b[0;34m\u001b[0m\u001b[0m\n\u001b[1;32m    200\u001b[0m     \u001b[0;32mdef\u001b[0m \u001b[0mregister_hook\u001b[0m\u001b[0;34m(\u001b[0m\u001b[0mself\u001b[0m\u001b[0;34m,\u001b[0m \u001b[0mhook\u001b[0m\u001b[0;34m)\u001b[0m\u001b[0;34m:\u001b[0m\u001b[0;34m\u001b[0m\u001b[0;34m\u001b[0m\u001b[0m\n",
            "\u001b[0;32m/usr/local/lib/python3.6/dist-packages/torch/autograd/__init__.py\u001b[0m in \u001b[0;36mbackward\u001b[0;34m(tensors, grad_tensors, retain_graph, create_graph, grad_variables)\u001b[0m\n\u001b[1;32m     98\u001b[0m     Variable._execution_engine.run_backward(\n\u001b[1;32m     99\u001b[0m         \u001b[0mtensors\u001b[0m\u001b[0;34m,\u001b[0m \u001b[0mgrad_tensors\u001b[0m\u001b[0;34m,\u001b[0m \u001b[0mretain_graph\u001b[0m\u001b[0;34m,\u001b[0m \u001b[0mcreate_graph\u001b[0m\u001b[0;34m,\u001b[0m\u001b[0;34m\u001b[0m\u001b[0;34m\u001b[0m\u001b[0m\n\u001b[0;32m--> 100\u001b[0;31m         allow_unreachable=True)  # allow_unreachable flag\n\u001b[0m\u001b[1;32m    101\u001b[0m \u001b[0;34m\u001b[0m\u001b[0m\n\u001b[1;32m    102\u001b[0m \u001b[0;34m\u001b[0m\u001b[0m\n",
            "\u001b[0;31mKeyboardInterrupt\u001b[0m: "
          ]
        }
      ]
    },
    {
      "cell_type": "code",
      "metadata": {
        "id": "C9EKDlQ8SfKp",
        "colab_type": "code",
        "colab": {}
      },
      "source": [
        ""
      ],
      "execution_count": 0,
      "outputs": []
    },
    {
      "cell_type": "code",
      "metadata": {
        "id": "BUtaItyVSfK3",
        "colab_type": "code",
        "colab": {}
      },
      "source": [
        ""
      ],
      "execution_count": 0,
      "outputs": []
    },
    {
      "cell_type": "code",
      "metadata": {
        "id": "lxH7UBeWSfLE",
        "colab_type": "code",
        "colab": {}
      },
      "source": [
        ""
      ],
      "execution_count": 0,
      "outputs": []
    },
    {
      "cell_type": "code",
      "metadata": {
        "id": "cPC_VjlLSfLR",
        "colab_type": "code",
        "colab": {}
      },
      "source": [
        "\n",
        "# sentence = 'the dog ate the apple'.split()\n",
        "# n_words = len(sentence)\n",
        "# word_ids = prepare_sequence(sentence,word_id)\n",
        "# print(word_ids)\n",
        "# word_embeddings = nn_word_embeddings(word_ids)\n",
        "# print(word_embeddings)\n",
        "\n",
        "\n",
        "# # initialise hidden state\n",
        "# hidden_full = init_hidden(HIDDEN_DIM_LSTM)\n",
        "\n",
        "# for pos in range(len(sentence)-1):\n",
        "#     word = sentence[word]\n",
        "#     tensor = nn_word_embeddings(np.)\n",
        "    \n",
        "    \n",
        "#     tag_space = self.hidden2tag(all_outs.view(n_words, -1))\n",
        "#     tag_scores = F.log_softmax(tag_space, dim=1)\n",
        "\n",
        "\n",
        "# for word_embedding in word_embeddings:\n",
        "#     print(word_embedding.dtype)\n",
        "#     # Step through the sequence one element at a time.\n",
        "#     # after each step, hidden contains the hidden state.\n",
        "#     out, hidden_full = lstm_full(word_embedding.view(1, 1, -1), hidden_full)\n",
        "\n",
        "# print(out)\n",
        "# # out is our final embedding\n",
        "# print(hidden_full)"
      ],
      "execution_count": 0,
      "outputs": []
    },
    {
      "cell_type": "code",
      "metadata": {
        "id": "MxXeBCQZSfLj",
        "colab_type": "code",
        "colab": {}
      },
      "source": [
        ""
      ],
      "execution_count": 0,
      "outputs": []
    },
    {
      "cell_type": "code",
      "metadata": {
        "id": "yGrK_bQ4SfLt",
        "colab_type": "code",
        "colab": {}
      },
      "source": [
        ""
      ],
      "execution_count": 0,
      "outputs": []
    }
  ]
}