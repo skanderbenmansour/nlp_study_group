{
  "nbformat": 4,
  "nbformat_minor": 0,
  "metadata": {
    "colab": {
      "name": "cloab_glove_lstm_batch_grid_search.ipynb",
      "provenance": [],
      "collapsed_sections": [],
      "mount_file_id": "1W5IMtupKzkDD3KldgZ4X5-df_tQWfy7G",
      "authorship_tag": "ABX9TyMTBxfevjd41j7CBaHZjPrr",
      "include_colab_link": true
    },
    "kernelspec": {
      "name": "python3",
      "display_name": "Python 3"
    },
    "accelerator": "GPU"
  },
  "cells": [
    {
      "cell_type": "markdown",
      "metadata": {
        "id": "view-in-github",
        "colab_type": "text"
      },
      "source": [
        "<a href=\"https://colab.research.google.com/github/skanderbenmansour/nlp_study_group/blob/master/tyler/colab/cloab_glove_lstm_batch_grid_search.ipynb\" target=\"_parent\"><img src=\"https://colab.research.google.com/assets/colab-badge.svg\" alt=\"Open In Colab\"/></a>"
      ]
    },
    {
      "cell_type": "code",
      "metadata": {
        "id": "E0ClpmY4rzxR",
        "colab_type": "code",
        "colab": {
          "base_uri": "https://localhost:8080/",
          "height": 51
        },
        "outputId": "6393b091-d32a-4f90-9a57-5fdc5dda142c"
      },
      "source": [
        "import torch\n",
        "import torch.nn as nn\n",
        "import torch.nn.functional as F\n",
        "import torch.optim as optim\n",
        "from torch.nn.utils.rnn import pack_sequence,pad_sequence,pack_padded_sequence,pad_packed_sequence\n",
        "from torch.utils.data import TensorDataset, DataLoader\n",
        "\n",
        "import pandas as pd\n",
        "import numpy as np\n",
        "import random\n",
        "\n",
        "torch.manual_seed(1)\n",
        "\n",
        "from tqdm.notebook import tqdm\n",
        "from collections import Counter\n",
        "import nltk\n",
        "nltk.download('punkt')\n",
        "from nltk.tokenize import word_tokenize\n",
        "import matplotlib.pyplot as plt\n",
        "from torch.utils.data import Dataset, DataLoader\n",
        "from gensim.models import KeyedVectors\n",
        "\n",
        "import zipfile\n",
        "from datetime import datetime\n",
        "from glob import glob\n",
        "import os\n",
        "import json\n",
        "import pickle\n",
        "import sys\n",
        "sys.path.append('/content/drive/My Drive/colab_data/')\n",
        "import autoreload\n",
        "%load_ext autoreload\n",
        "%autoreload 2\n",
        "from py_files import utils\n",
        "from py_files import models\n",
        "\n",
        "import tensorboard\n",
        "%load_ext tensorboard\n",
        "from torch.utils.tensorboard import SummaryWriter\n"
      ],
      "execution_count": 1,
      "outputs": [
        {
          "output_type": "stream",
          "text": [
            "[nltk_data] Downloading package punkt to /root/nltk_data...\n",
            "[nltk_data]   Unzipping tokenizers/punkt.zip.\n"
          ],
          "name": "stdout"
        }
      ]
    },
    {
      "cell_type": "markdown",
      "metadata": {
        "id": "rPKvlfdSw4Jc",
        "colab_type": "text"
      },
      "source": [
        "## Set up GPU\n",
        "#### Edit --> settings --> GPU"
      ]
    },
    {
      "cell_type": "code",
      "metadata": {
        "id": "v7G9MzqJw9Oo",
        "colab_type": "code",
        "colab": {}
      },
      "source": [
        "is_cuda = torch.cuda.is_available()\n",
        "\n",
        "if is_cuda:\n",
        "    device = torch.device(\"cuda\")\n",
        "    torch.backends.cudnn.enabled = True\n",
        "    device_name = torch.cuda.get_device_name()\n",
        "else:\n",
        "    device = torch.device(\"cpu\")\n",
        "    device_name = 'cpu'"
      ],
      "execution_count": 2,
      "outputs": []
    },
    {
      "cell_type": "code",
      "metadata": {
        "id": "H0dUMBe2tgiP",
        "colab_type": "code",
        "colab": {}
      },
      "source": [
        "## Can force CPU for testing \n",
        "# device = torch.device(\"cpu\")\n",
        "# is_cuda = False"
      ],
      "execution_count": 3,
      "outputs": []
    },
    {
      "cell_type": "code",
      "metadata": {
        "id": "8BhWAKGVxO6p",
        "colab_type": "code",
        "colab": {
          "base_uri": "https://localhost:8080/",
          "height": 34
        },
        "outputId": "2f4ae6a2-5c01-46c6-8a8c-8bfc5baf9bc1"
      },
      "source": [
        "device,is_cuda,device_name"
      ],
      "execution_count": 4,
      "outputs": [
        {
          "output_type": "execute_result",
          "data": {
            "text/plain": [
              "(device(type='cuda'), True, 'Tesla K80')"
            ]
          },
          "metadata": {
            "tags": []
          },
          "execution_count": 4
        }
      ]
    },
    {
      "cell_type": "code",
      "metadata": {
        "id": "ln_HhCnVzoxs",
        "colab_type": "code",
        "colab": {}
      },
      "source": [
        ""
      ],
      "execution_count": 4,
      "outputs": []
    },
    {
      "cell_type": "markdown",
      "metadata": {
        "id": "n0vYEsgWxXgo",
        "colab_type": "text"
      },
      "source": [
        "## Load data\n",
        "Stanford data downloaded from https://ai.stanford.edu/~amaas/data/sentiment/\n",
        "\n",
        "w2v data from https://www.kaggle.com/c/word2vec-nlp-tutorial/data"
      ]
    },
    {
      "cell_type": "code",
      "metadata": {
        "id": "OJo0X6H2Gcd8",
        "colab_type": "code",
        "colab": {}
      },
      "source": [
        "# data_path = '/content/drive/My Drive/colab_data/word2vec-nlp-tutorial/'\n",
        "# train_data, test_data, val_data = utils.load_and_process_w2v_data(data_path,save=True)\n"
      ],
      "execution_count": 5,
      "outputs": []
    },
    {
      "cell_type": "code",
      "metadata": {
        "id": "jIQmoed_Av-F",
        "colab_type": "code",
        "colab": {}
      },
      "source": [
        "data_path = '/content/drive/My Drive/colab_data/stanford_data/processed/'\n",
        "# train_data, test_data, val_data = utils.load_raw_data(data_path,save=True)"
      ],
      "execution_count": 6,
      "outputs": []
    },
    {
      "cell_type": "code",
      "metadata": {
        "id": "YYcx_fStsETe",
        "colab_type": "code",
        "colab": {}
      },
      "source": [
        ""
      ],
      "execution_count": 6,
      "outputs": []
    },
    {
      "cell_type": "markdown",
      "metadata": {
        "id": "g5kZHxnTpFAm",
        "colab_type": "text"
      },
      "source": [
        "## Prep reviews\n",
        "25k train, 5k val, 20k test"
      ]
    },
    {
      "cell_type": "code",
      "metadata": {
        "id": "VGMpzyZQbhjA",
        "colab_type": "code",
        "colab": {}
      },
      "source": [
        "train_data, test_data, val_data = utils.load_processed_reviews(data_path)"
      ],
      "execution_count": 7,
      "outputs": []
    },
    {
      "cell_type": "code",
      "metadata": {
        "id": "4AnMCf94paJ1",
        "colab_type": "code",
        "colab": {
          "base_uri": "https://localhost:8080/",
          "height": 34
        },
        "outputId": "12a85e3f-0a0b-4f0d-cebb-9e184358645f"
      },
      "source": [
        "len(train_data),len(test_data),len(val_data)"
      ],
      "execution_count": 8,
      "outputs": [
        {
          "output_type": "execute_result",
          "data": {
            "text/plain": [
              "(25000, 20000, 5000)"
            ]
          },
          "metadata": {
            "tags": []
          },
          "execution_count": 8
        }
      ]
    },
    {
      "cell_type": "markdown",
      "metadata": {
        "id": "lian0Wg4pmwP",
        "colab_type": "text"
      },
      "source": [
        "## Load glove"
      ]
    },
    {
      "cell_type": "code",
      "metadata": {
        "id": "Rph0qDwGpnpG",
        "colab_type": "code",
        "colab": {
          "base_uri": "https://localhost:8080/",
          "height": 71
        },
        "outputId": "14d7abda-87c9-4c8b-d519-99cb7a467e02"
      },
      "source": [
        "path = '/content/drive/My Drive/colab_data/glove/glove_100k_300d.kv'\n",
        "glove = KeyedVectors.load(path)\n",
        "weights = torch.FloatTensor(glove.vectors)"
      ],
      "execution_count": 9,
      "outputs": [
        {
          "output_type": "stream",
          "text": [
            "/usr/local/lib/python3.6/dist-packages/smart_open/smart_open_lib.py:253: UserWarning: This function is deprecated, use smart_open.open instead. See the migration notes for details: https://github.com/RaRe-Technologies/smart_open/blob/master/README.rst#migrating-to-the-new-open-function\n",
            "  'See the migration notes for details: %s' % _MIGRATION_NOTES_URL\n"
          ],
          "name": "stderr"
        }
      ]
    },
    {
      "cell_type": "code",
      "metadata": {
        "id": "b_2qNaglpzhX",
        "colab_type": "code",
        "colab": {}
      },
      "source": [
        "word2idx = {word:idx for idx,word in enumerate(glove.vocab.keys())}"
      ],
      "execution_count": 10,
      "outputs": []
    },
    {
      "cell_type": "code",
      "metadata": {
        "id": "M7rBytoMwFWp",
        "colab_type": "code",
        "colab": {}
      },
      "source": [
        "idx2word = {idx:word for word,idx in word2idx.items()}"
      ],
      "execution_count": 11,
      "outputs": []
    },
    {
      "cell_type": "markdown",
      "metadata": {
        "id": "atsSbPygsDYp",
        "colab_type": "text"
      },
      "source": [
        "## Prep input"
      ]
    },
    {
      "cell_type": "code",
      "metadata": {
        "id": "FCPFjRZPUd93",
        "colab_type": "code",
        "colab": {}
      },
      "source": [
        "batch_size = 100\n",
        "train_loader,test_loader,val_loader = utils.load_all_tensor_data(train_data, test_data, val_data, batch_size, word2idx)"
      ],
      "execution_count": 12,
      "outputs": []
    },
    {
      "cell_type": "markdown",
      "metadata": {
        "id": "uOFPRkXJsnob",
        "colab_type": "text"
      },
      "source": [
        "## Set up model"
      ]
    },
    {
      "cell_type": "code",
      "metadata": {
        "id": "W1NC_y-_q4p_",
        "colab_type": "code",
        "colab": {}
      },
      "source": [
        "model_version = utils.get_run_version()\n",
        "model_dir,log_dir = utils.setup_dir(model_version)"
      ],
      "execution_count": 13,
      "outputs": []
    },
    {
      "cell_type": "code",
      "metadata": {
        "id": "C0JvW8tlrCFP",
        "colab_type": "code",
        "colab": {
          "base_uri": "https://localhost:8080/",
          "height": 68
        },
        "outputId": "d6aec535-05d1-452d-abc3-70809aaf3dfd"
      },
      "source": [
        "model_version,model_dir,log_dir"
      ],
      "execution_count": 14,
      "outputs": [
        {
          "output_type": "execute_result",
          "data": {
            "text/plain": [
              "('v19',\n",
              " '/content/drive/My Drive/colab_data/model_checkpoints/v19',\n",
              " '/content/drive/My Drive/colab_data/model_checkpoints/v19/logs')"
            ]
          },
          "metadata": {
            "tags": []
          },
          "execution_count": 14
        }
      ]
    },
    {
      "cell_type": "code",
      "metadata": {
        "id": "mMtR3pPHhd2Z",
        "colab_type": "code",
        "colab": {}
      },
      "source": [
        ""
      ],
      "execution_count": null,
      "outputs": []
    },
    {
      "cell_type": "code",
      "metadata": {
        "id": "AMvAQd54sx23",
        "colab_type": "code",
        "colab": {}
      },
      "source": [
        "writer = SummaryWriter(log_dir)"
      ],
      "execution_count": 33,
      "outputs": []
    },
    {
      "cell_type": "code",
      "metadata": {
        "id": "KxwXeD_mskSC",
        "colab_type": "code",
        "colab": {}
      },
      "source": [
        "num_labels = 2\n",
        "vocab_size = 100000\n",
        "embedding_dim = 300\n",
        "num_layers = 1\n",
        "hidden = 50\n",
        "p_dropout = .3\n",
        "\n",
        "model = models.lstm_clf_batch(num_labels,vocab_size,embedding_dim,num_layers,hidden,batch_size,glove.vectors,device,p_dropout)\n",
        "model.to(device)\n",
        "\n",
        "loss_function = nn.BCELoss()\n",
        "\n",
        "lr = .001\n",
        "optimizer = optim.Adam(model.parameters(), lr=lr)\n",
        "\n",
        "num_epochs = 3"
      ],
      "execution_count": 30,
      "outputs": []
    },
    {
      "cell_type": "code",
      "metadata": {
        "id": "WPIfBi7Uryz4",
        "colab_type": "code",
        "colab": {}
      },
      "source": [
        "params = {}\n",
        "params['num_labels'] = num_labels\n",
        "params['vocab_size'] = vocab_size\n",
        "params['embedding_dim'] = embedding_dim\n",
        "params['num_layers'] = num_layers\n",
        "params['hidden'] = hidden\n",
        "params['batch_size'] = batch_size\n",
        "params['p_dropout'] = p_dropout\n",
        "params['lr'] = lr\n",
        "params['is_cuda'] = is_cuda\n",
        "params['device_name'] = device_name\n",
        "params['num_epochs'] = num_epochs\n",
        "\n",
        "utils.save_params(model_version,params)"
      ],
      "execution_count": 46,
      "outputs": []
    },
    {
      "cell_type": "markdown",
      "metadata": {
        "id": "OiXiwug_tJyL",
        "colab_type": "text"
      },
      "source": [
        "## Train model"
      ]
    },
    {
      "cell_type": "code",
      "metadata": {
        "id": "AwCcrqSMZl9K",
        "colab_type": "code",
        "colab": {}
      },
      "source": [
        "# Load to continue from previous checkpoint\n",
        "# load_path = os.path.join(model_dir,'glove_lstm_batch.pt')\n",
        "# model.load_state_dict(torch.load(load_path))"
      ],
      "execution_count": null,
      "outputs": []
    },
    {
      "cell_type": "code",
      "metadata": {
        "id": "90KaG2v7U2R9",
        "colab_type": "code",
        "colab": {
          "base_uri": "https://localhost:8080/",
          "height": 170
        },
        "outputId": "6fc11ab5-ebf7-46a5-b358-9a657501030b"
      },
      "source": [
        "save_path = os.path.join(model_dir,'glove_lstm_batch.pt')\n",
        "val_loss_min = np.Inf\n",
        "\n",
        "num_batches = 10e3\n",
        "num_epochs = params['num_epochs']\n",
        "loss_history = []\n",
        "\n",
        "for epoch in range(num_epochs):\n",
        "    train_start = datetime.now()\n",
        "    batch_idx = 0\n",
        "    train_loss = []\n",
        "    model.train()\n",
        "    for inputs,lengths,labels in train_loader:\n",
        "        if batch_idx < num_batches:\n",
        "            \n",
        "            model.zero_grad()\n",
        "            h = model.init_hidden()\n",
        "            inputs, lengths, labels = inputs.to(device), lengths.to(device), labels.to(device)\n",
        "            probs,h = model(inputs,lengths,h)\n",
        "            loss = loss_function(probs, labels)\n",
        "\n",
        "            loss.backward()\n",
        "            optimizer.step()\n",
        "            \n",
        "            train_loss.append(loss.item())\n",
        "            \n",
        "            batch_idx += 1\n",
        "\n",
        "    train_end = datetime.now()\n",
        "    diff = (train_end - train_start).seconds\n",
        "    print(f'{diff} seconds to train epoch')\n",
        "            \n",
        "    batch_idx = 0\n",
        "    val_loss = []\n",
        "    for inputs,lengths,labels in val_loader:\n",
        "        \n",
        "        if batch_idx < num_batches:\n",
        "            model.eval()\n",
        "            h = model.init_hidden()\n",
        "            inputs, lengths, labels = inputs.to(device), lengths.to(device), labels.to(device)\n",
        "            probs,h = model(inputs,lengths,h)\n",
        "            loss = loss_function(probs, labels)\n",
        "            \n",
        "            val_loss.append(loss.item())\n",
        "            \n",
        "            batch_idx += 1\n",
        "            \n",
        "    mean_train_loss = np.mean(train_loss)\n",
        "    mean_val_loss = np.mean(val_loss)\n",
        "  \n",
        "    loss_history.append((mean_train_loss,mean_val_loss))\n",
        "    print(f'Epoch {epoch+1}/{num_epochs}: train loss of {mean_train_loss:.3f}, val loss of {mean_val_loss:.3f}')\n",
        "    \n",
        "    if mean_val_loss <= val_loss_min:\n",
        "        print(f'Val loss decreased {val_loss_min:.3f} --> {mean_val_loss:.3f} saving model...')\n",
        "        torch.save(model.state_dict(),save_path)\n",
        "        val_loss_min = mean_val_loss\n",
        "\n",
        "    writer.add_scalars('Loss',{'train': mean_train_loss,'val': mean_val_loss,}, epoch + 1)"
      ],
      "execution_count": 34,
      "outputs": [
        {
          "output_type": "stream",
          "text": [
            "42 seconds to train epoch\n",
            "Epoch 1/3: train loss of 0.664, val loss of 0.713\n",
            "Val loss decreased inf --> 0.713 saving model...\n",
            "37 seconds to train epoch\n",
            "Epoch 2/3: train loss of 0.566, val loss of 0.409\n",
            "Val loss decreased 0.713 --> 0.409 saving model...\n",
            "36 seconds to train epoch\n",
            "Epoch 3/3: train loss of 0.356, val loss of 0.330\n",
            "Val loss decreased 0.409 --> 0.330 saving model...\n"
          ],
          "name": "stdout"
        }
      ]
    },
    {
      "cell_type": "code",
      "metadata": {
        "id": "uJJQODSkU2Ys",
        "colab_type": "code",
        "colab": {}
      },
      "source": [
        ""
      ],
      "execution_count": null,
      "outputs": []
    },
    {
      "cell_type": "code",
      "metadata": {
        "id": "639Wn2zztWn3",
        "colab_type": "code",
        "colab": {
          "base_uri": "https://localhost:8080/",
          "height": 442
        },
        "outputId": "f41fcac5-e2af-4662-b5a8-93b121daf5bf"
      },
      "source": [
        "utils.make_loss_plot(loss_history,val_loss_min,model_dir)"
      ],
      "execution_count": 35,
      "outputs": [
        {
          "output_type": "display_data",
          "data": {
            "image/png": "[encoded data removed]",
            "text/plain": [
              "<Figure size 1440x504 with 1 Axes>"
            ]
          },
          "metadata": {
            "tags": [],
            "needs_background": "light"
          }
        }
      ]
    },
    {
      "cell_type": "code",
      "metadata": {
        "id": "uvfsUVXWtZFQ",
        "colab_type": "code",
        "colab": {}
      },
      "source": [
        ""
      ],
      "execution_count": 35,
      "outputs": []
    },
    {
      "cell_type": "markdown",
      "metadata": {
        "id": "DecPabA9taNG",
        "colab_type": "text"
      },
      "source": [
        "## Evaluate model"
      ]
    },
    {
      "cell_type": "code",
      "metadata": {
        "id": "cvQZToIdWj9c",
        "colab_type": "code",
        "colab": {
          "base_uri": "https://localhost:8080/",
          "height": 170
        },
        "outputId": "8eec04cb-6843-4564-d64a-f8957e02cfe1"
      },
      "source": [
        "results = {}\n",
        "\n",
        "names = 'train val test'.split()\n",
        "\n",
        "loaders = [train_loader,val_loader,test_loader]\n",
        "num_batches = 10e3\n",
        "\n",
        "val_loss = []\n",
        "for name,loader in zip(names,loaders):\n",
        "    results[name] = {}\n",
        "    eval_loss = []\n",
        "    batch_idx = 0\n",
        "    num_correct = 0\n",
        "    total = 0\n",
        "    for inputs,lengths,labels in loader:\n",
        "        if batch_idx < num_batches:\n",
        "            model.eval()\n",
        "            h = model.init_hidden()\n",
        "            inputs, lengths, labels = inputs.to(device), lengths.to(device), labels.to(device)\n",
        "            probs,h = model(inputs,lengths,h)\n",
        "            loss = loss_function(probs, labels)\n",
        "            label = labels[:,1]\n",
        "            \n",
        "            if is_cuda:\n",
        "                pred = probs.argmax(axis=1).cpu().numpy()\n",
        "                label = labels[:,1].cpu().numpy()\n",
        "            else:\n",
        "                pred = probs.argmax(axis=1).detach().numpy()\n",
        "                label = labels[:,1].detach().numpy()\n",
        "\n",
        "            correct = pred == label\n",
        "            num_correct += correct.sum()\n",
        "            total += label.shape[0]\n",
        "            \n",
        "            eval_loss.append(loss.item())\n",
        "\n",
        "            batch_idx += 1\n",
        "\n",
        "    mean_loss = round(np.mean(eval_loss),3)\n",
        "    acc = round(num_correct*100/total,2)\n",
        "\n",
        "    print(f'----{name} set----'.upper())\n",
        "    print(f'{name} loss of {mean_loss}')\n",
        "    print(f'{name} accuracy of {acc}')\n",
        "\n",
        "    results[name]['mean_loss'] = mean_loss\n",
        "    results[name]['acc'] = acc\n",
        "\n",
        "utils.save_eval(model_version,results)\n"
      ],
      "execution_count": 36,
      "outputs": [
        {
          "output_type": "stream",
          "text": [
            "----TRAIN SET----\n",
            "train loss of 0.315\n",
            "train accuracy of 87.34\n",
            "----VAL SET----\n",
            "val loss of 0.33\n",
            "val accuracy of 86.42\n",
            "----TEST SET----\n",
            "test loss of 0.324\n",
            "test accuracy of 86.8\n"
          ],
          "name": "stdout"
        }
      ]
    },
    {
      "cell_type": "code",
      "metadata": {
        "id": "YlFJmgvCJXWt",
        "colab_type": "code",
        "colab": {}
      },
      "source": [
        ""
      ],
      "execution_count": null,
      "outputs": []
    },
    {
      "cell_type": "markdown",
      "metadata": {
        "id": "98XyGQbftdwb",
        "colab_type": "text"
      },
      "source": [
        "## Example predictions"
      ]
    },
    {
      "cell_type": "code",
      "metadata": {
        "id": "PHwr1TtWDvX6",
        "colab_type": "code",
        "colab": {}
      },
      "source": [
        "model_dir = '/content/drive/My Drive/colab_data/model_checkpoints/v14'\n",
        "load_path = os.path.join(model_dir,'glove_lstm_batch.pt')\n",
        "if is_cuda:\n",
        "    model.load_state_dict(torch.load(load_path))\n",
        "else:\n",
        "    model.load_state_dict(torch.load(load_path,map_location=torch.device('cpu')))"
      ],
      "execution_count": null,
      "outputs": []
    },
    {
      "cell_type": "code",
      "metadata": {
        "id": "F6nvqkOX136W",
        "colab_type": "code",
        "colab": {}
      },
      "source": [
        "model_version = 'v16'\n",
        "model_name = 'glove_lstm_batch.pt'\n",
        "inf_model = utils.create_inference_model(model_version,model_name,glove,is_cuda,device)"
      ],
      "execution_count": null,
      "outputs": []
    },
    {
      "cell_type": "code",
      "metadata": {
        "id": "7aiDtlQr2ROe",
        "colab_type": "code",
        "colab": {
          "base_uri": "https://localhost:8080/",
          "height": 34
        },
        "outputId": "8e6eff49-dc5e-4b34-953a-6e781845444e"
      },
      "source": [
        "sentence = 'this movie sucks'.split()\n",
        "utils.predict_from_inf_model(sentence, word2idx, inf_model, device, is_cuda, return_prob=True)"
      ],
      "execution_count": null,
      "outputs": [
        {
          "output_type": "execute_result",
          "data": {
            "text/plain": [
              "array([0.805287  , 0.19471297], dtype=float32)"
            ]
          },
          "metadata": {
            "tags": []
          },
          "execution_count": 31
        }
      ]
    },
    {
      "cell_type": "markdown",
      "metadata": {
        "id": "el0E4jVj8CWz",
        "colab_type": "text"
      },
      "source": [
        "## Start tensorboard"
      ]
    },
    {
      "cell_type": "code",
      "metadata": {
        "id": "PWg1ETwr79u0",
        "colab_type": "code",
        "colab": {
          "base_uri": "https://localhost:8080/",
          "height": 34
        },
        "outputId": "aa25e050-6149-430b-b16d-d6d274ba8ff7"
      },
      "source": [
        "log_dir"
      ],
      "execution_count": null,
      "outputs": [
        {
          "output_type": "execute_result",
          "data": {
            "text/plain": [
              "'/content/drive/My Drive/colab_data/model_checkpoints/v14/logs'"
            ]
          },
          "metadata": {
            "tags": []
          },
          "execution_count": 18
        }
      ]
    },
    {
      "cell_type": "code",
      "metadata": {
        "id": "PbDLps3S5yiQ",
        "colab_type": "code",
        "colab": {}
      },
      "source": [
        "%tensorboard --logdir '/content/drive/My Drive/colab_data/model_checkpoints/v14/logs'"
      ],
      "execution_count": null,
      "outputs": []
    },
    {
      "cell_type": "code",
      "metadata": {
        "id": "68r7Yu_76Q-a",
        "colab_type": "code",
        "colab": {}
      },
      "source": [
        ""
      ],
      "execution_count": null,
      "outputs": []
    },
    {
      "cell_type": "markdown",
      "metadata": {
        "id": "kIk_X-0HOmXy",
        "colab_type": "text"
      },
      "source": [
        "## Grid search"
      ]
    },
    {
      "cell_type": "code",
      "metadata": {
        "id": "et9aEyxKPHrd",
        "colab_type": "code",
        "colab": {}
      },
      "source": [
        "fields = 'model_version hidden p_dropout num_layers num_epochs test_acc test_loss train_acc train_loss'.split()\n",
        "utils.init_csv(fields)"
      ],
      "execution_count": 22,
      "outputs": []
    },
    {
      "cell_type": "code",
      "metadata": {
        "id": "h6JDbd9NPgb8",
        "colab_type": "code",
        "colab": {}
      },
      "source": [
        "result = ['v1',50,.1,2,20,.9,1,.9,1]\n",
        "utils.write_result_row(result)"
      ],
      "execution_count": 27,
      "outputs": []
    },
    {
      "cell_type": "code",
      "metadata": {
        "id": "zGtbUNgWQVTM",
        "colab_type": "code",
        "colab": {}
      },
      "source": [
        "csv_path = '/content/drive/My Drive/colab_data/grid_search.csv'\n",
        "res = pd.read_csv(csv_path)"
      ],
      "execution_count": 64,
      "outputs": []
    },
    {
      "cell_type": "code",
      "metadata": {
        "id": "t3J4I_TbQjlA",
        "colab_type": "code",
        "colab": {
          "base_uri": "https://localhost:8080/",
          "height": 111
        },
        "outputId": "4245dabc-4b8a-41e9-f7d7-0fbac8cd2e56"
      },
      "source": [
        "res"
      ],
      "execution_count": 65,
      "outputs": [
        {
          "output_type": "execute_result",
          "data": {
            "text/html": [
              "<div>\n",
              "<style scoped>\n",
              "    .dataframe tbody tr th:only-of-type {\n",
              "        vertical-align: middle;\n",
              "    }\n",
              "\n",
              "    .dataframe tbody tr th {\n",
              "        vertical-align: top;\n",
              "    }\n",
              "\n",
              "    .dataframe thead th {\n",
              "        text-align: right;\n",
              "    }\n",
              "</style>\n",
              "<table border=\"1\" class=\"dataframe\">\n",
              "  <thead>\n",
              "    <tr style=\"text-align: right;\">\n",
              "      <th></th>\n",
              "      <th>model_version</th>\n",
              "      <th>hidden</th>\n",
              "      <th>p_dropout</th>\n",
              "      <th>num_layers</th>\n",
              "      <th>num_epochs</th>\n",
              "      <th>test_acc</th>\n",
              "      <th>test_loss</th>\n",
              "      <th>train_acc</th>\n",
              "      <th>train_loss</th>\n",
              "    </tr>\n",
              "  </thead>\n",
              "  <tbody>\n",
              "    <tr>\n",
              "      <th>0</th>\n",
              "      <td>v1</td>\n",
              "      <td>50</td>\n",
              "      <td>0.1</td>\n",
              "      <td>2</td>\n",
              "      <td>20</td>\n",
              "      <td>0.90</td>\n",
              "      <td>1.000</td>\n",
              "      <td>0.90</td>\n",
              "      <td>1.000</td>\n",
              "    </tr>\n",
              "    <tr>\n",
              "      <th>1</th>\n",
              "      <td>v21</td>\n",
              "      <td>10</td>\n",
              "      <td>0.3</td>\n",
              "      <td>2</td>\n",
              "      <td>20</td>\n",
              "      <td>50.06</td>\n",
              "      <td>0.693</td>\n",
              "      <td>49.96</td>\n",
              "      <td>0.693</td>\n",
              "    </tr>\n",
              "  </tbody>\n",
              "</table>\n",
              "</div>"
            ],
            "text/plain": [
              "  model_version  hidden  p_dropout  ...  test_loss  train_acc  train_loss\n",
              "0            v1      50        0.1  ...      1.000       0.90       1.000\n",
              "1           v21      10        0.3  ...      0.693      49.96       0.693\n",
              "\n",
              "[2 rows x 9 columns]"
            ]
          },
          "metadata": {
            "tags": []
          },
          "execution_count": 65
        }
      ]
    },
    {
      "cell_type": "code",
      "metadata": {
        "id": "AzzCF0TJXVaZ",
        "colab_type": "code",
        "colab": {
          "base_uri": "https://localhost:8080/",
          "height": 49
        },
        "outputId": "89675dc7-b98b-466c-8c65-d27d12c65049"
      },
      "source": [
        ""
      ],
      "execution_count": 69,
      "outputs": [
        {
          "output_type": "execute_result",
          "data": {
            "text/html": [
              "<div>\n",
              "<style scoped>\n",
              "    .dataframe tbody tr th:only-of-type {\n",
              "        vertical-align: middle;\n",
              "    }\n",
              "\n",
              "    .dataframe tbody tr th {\n",
              "        vertical-align: top;\n",
              "    }\n",
              "\n",
              "    .dataframe thead th {\n",
              "        text-align: right;\n",
              "    }\n",
              "</style>\n",
              "<table border=\"1\" class=\"dataframe\">\n",
              "  <thead>\n",
              "    <tr style=\"text-align: right;\">\n",
              "      <th></th>\n",
              "      <th>model_version</th>\n",
              "      <th>hidden</th>\n",
              "      <th>p_dropout</th>\n",
              "      <th>num_layers</th>\n",
              "      <th>num_epochs</th>\n",
              "      <th>test_acc</th>\n",
              "      <th>test_loss</th>\n",
              "      <th>train_acc</th>\n",
              "      <th>train_loss</th>\n",
              "    </tr>\n",
              "  </thead>\n",
              "  <tbody>\n",
              "  </tbody>\n",
              "</table>\n",
              "</div>"
            ],
            "text/plain": [
              "Empty DataFrame\n",
              "Columns: [model_version, hidden, p_dropout, num_layers, num_epochs, test_acc, test_loss, train_acc, train_loss]\n",
              "Index: []"
            ]
          },
          "metadata": {
            "tags": []
          },
          "execution_count": 69
        }
      ]
    },
    {
      "cell_type": "code",
      "metadata": {
        "id": "g2MLs-fxSIic",
        "colab_type": "code",
        "colab": {}
      },
      "source": [
        ""
      ],
      "execution_count": null,
      "outputs": []
    },
    {
      "cell_type": "code",
      "metadata": {
        "id": "aJZsRfzbQkMB",
        "colab_type": "code",
        "colab": {
          "base_uri": "https://localhost:8080/",
          "height": 1000
        },
        "outputId": "a770925d-1f88-4302-c2c5-3826d61acdbd"
      },
      "source": [
        "num_labels = 2\n",
        "vocab_size = 100000\n",
        "embedding_dim = 300\n",
        "num_layers = 2\n",
        "hidden = 50\n",
        "p_dropout = .3\n",
        "\n",
        "loss_function = nn.BCELoss()\n",
        "\n",
        "lr = .001\n",
        "optimizer = optim.Adam(model.parameters(), lr=lr)\n",
        "\n",
        "num_epochs = 20\n",
        "\n",
        "params = {}\n",
        "params['num_labels'] = num_labels\n",
        "params['vocab_size'] = vocab_size\n",
        "params['embedding_dim'] = embedding_dim\n",
        "params['num_layers'] = num_layers\n",
        "params['hidden'] = hidden\n",
        "params['batch_size'] = batch_size\n",
        "params['p_dropout'] = p_dropout\n",
        "params['lr'] = lr\n",
        "params['is_cuda'] = is_cuda\n",
        "params['device_name'] = device_name\n",
        "params['num_epochs'] = num_epochs\n",
        "\n",
        "    \n",
        "p_dropout_list = [0, .1] #, .2, .3, .4, .5]\n",
        "hidden_list = [10, 20, 50] #[100] #[50,100] #,200,500,1000] \n",
        "\n",
        "grid = [(p_dropout, hidden) for p_dropout in p_dropout_list for hidden in hidden_list]\n",
        "\n",
        "for grid_idx,(p_dropout,hidden) in enumerate(grid):\n",
        "    print(f'IDX {grid_idx + 1} / {len(grid)}: SEARCHING p_droput: {p_dropout}, hidden: {hidden}')\n",
        "\n",
        "    csv_path = '/content/drive/My Drive/colab_data/grid_search.csv'\n",
        "    res = pd.read_csv(csv_path)\n",
        "    if len(res[(res.hidden == hidden) & (res.p_dropout == p_dropout)]) != 0:\n",
        "        print(f'already done')\n",
        "    else:\n",
        "        model_version = utils.get_run_version()\n",
        "        model_dir,log_dir = utils.setup_dir(model_version)\n",
        "\n",
        "        params['hidden'] = hidden\n",
        "        params['p_dropout'] = p_dropout\n",
        "\n",
        "        utils.save_params(model_version,params)\n",
        "\n",
        "        model = models.lstm_clf_batch(num_labels,vocab_size,embedding_dim,num_layers,hidden,batch_size,glove.vectors,device,p_dropout)\n",
        "        model.to(device)\n",
        "\n",
        "        loss_history,val_loss_min = utils.train_model(model_dir,params,train_loader,val_loader,model,model_version,device,is_cuda,loss_function)\n",
        "        utils.make_loss_plot(loss_history,val_loss_min,model_dir)\n",
        "        plt.close()\n",
        "        model = utils.load_model_checkpoint(model_version,is_cuda,model)\n",
        "        eval_results = utils.eval_model(train_loader,val_loader,test_loader,model,model_version,device,is_cuda,loss_function)\n",
        "\n",
        "        num_layers = params['num_layers']\n",
        "        num_epochs = params['num_epochs']\n",
        "\n",
        "        train_acc = eval_results['train']['acc']\n",
        "        train_loss = eval_results['train']['mean_loss']\n",
        "\n",
        "        test_acc = eval_results['test']['acc']\n",
        "        test_loss = eval_results['test']['mean_loss']\n",
        "\n",
        "        fields = [model_version,hidden,p_dropout,num_layers,num_epochs,test_acc,test_loss,train_acc,train_loss]\n",
        "        utils.write_result_row(fields)"
      ],
      "execution_count": 85,
      "outputs": [
        {
          "output_type": "stream",
          "text": [
            "IDX 1 / 6: SEARCHING p_droput: 0, hidden: 10\n",
            "already done\n",
            "IDX 2 / 6: SEARCHING p_droput: 0, hidden: 20\n",
            "already done\n",
            "IDX 3 / 6: SEARCHING p_droput: 0, hidden: 50\n",
            "50 seconds to train epoch\n",
            "Epoch 1/20: train loss of 0.649, val loss of 0.653\n",
            "Val loss decreased inf --> 0.653 saving model...\n",
            "50 seconds to train epoch\n",
            "Epoch 2/20: train loss of 0.551, val loss of 0.546\n",
            "Val loss decreased 0.653 --> 0.546 saving model...\n",
            "50 seconds to train epoch\n",
            "Epoch 3/20: train loss of 0.564, val loss of 0.511\n",
            "Val loss decreased 0.546 --> 0.511 saving model...\n",
            "50 seconds to train epoch\n",
            "Epoch 4/20: train loss of 0.384, val loss of 0.343\n",
            "Val loss decreased 0.511 --> 0.343 saving model...\n",
            "50 seconds to train epoch\n",
            "Epoch 5/20: train loss of 0.310, val loss of 0.296\n",
            "Val loss decreased 0.343 --> 0.296 saving model...\n",
            "51 seconds to train epoch\n",
            "Epoch 6/20: train loss of 0.281, val loss of 0.278\n",
            "Val loss decreased 0.296 --> 0.278 saving model...\n",
            "50 seconds to train epoch\n",
            "Epoch 7/20: train loss of 0.265, val loss of 0.269\n",
            "Val loss decreased 0.278 --> 0.269 saving model...\n",
            "50 seconds to train epoch\n",
            "Epoch 8/20: train loss of 0.252, val loss of 0.254\n",
            "Val loss decreased 0.269 --> 0.254 saving model...\n",
            "50 seconds to train epoch\n",
            "Epoch 9/20: train loss of 0.238, val loss of 0.273\n",
            "50 seconds to train epoch\n",
            "Epoch 10/20: train loss of 0.231, val loss of 0.246\n",
            "Val loss decreased 0.254 --> 0.246 saving model...\n",
            "51 seconds to train epoch\n",
            "Epoch 11/20: train loss of 0.219, val loss of 0.262\n",
            "50 seconds to train epoch\n",
            "Epoch 12/20: train loss of 0.208, val loss of 0.242\n",
            "Val loss decreased 0.246 --> 0.242 saving model...\n",
            "50 seconds to train epoch\n",
            "Epoch 13/20: train loss of 0.195, val loss of 0.253\n",
            "50 seconds to train epoch\n",
            "Epoch 14/20: train loss of 0.182, val loss of 0.293\n",
            "50 seconds to train epoch\n",
            "Epoch 15/20: train loss of 0.170, val loss of 0.252\n",
            "50 seconds to train epoch\n",
            "Epoch 16/20: train loss of 0.155, val loss of 0.271\n",
            "50 seconds to train epoch\n",
            "Epoch 17/20: train loss of 0.145, val loss of 0.277\n",
            "50 seconds to train epoch\n",
            "Epoch 18/20: train loss of 0.128, val loss of 0.329\n",
            "50 seconds to train epoch\n",
            "Epoch 19/20: train loss of 0.113, val loss of 0.313\n",
            "51 seconds to train epoch\n",
            "Epoch 20/20: train loss of 0.099, val loss of 0.334\n",
            "IDX 4 / 6: SEARCHING p_droput: 0.1, hidden: 10\n",
            "already done\n",
            "IDX 5 / 6: SEARCHING p_droput: 0.1, hidden: 20\n",
            "already done\n",
            "IDX 6 / 6: SEARCHING p_droput: 0.1, hidden: 50\n",
            "50 seconds to train epoch\n",
            "Epoch 1/20: train loss of 0.616, val loss of 0.555\n",
            "Val loss decreased inf --> 0.555 saving model...\n",
            "50 seconds to train epoch\n",
            "Epoch 2/20: train loss of 0.505, val loss of 0.481\n",
            "Val loss decreased 0.555 --> 0.481 saving model...\n",
            "50 seconds to train epoch\n",
            "Epoch 3/20: train loss of 0.421, val loss of 0.377\n",
            "Val loss decreased 0.481 --> 0.377 saving model...\n",
            "50 seconds to train epoch\n",
            "Epoch 4/20: train loss of 0.343, val loss of 0.328\n",
            "Val loss decreased 0.377 --> 0.328 saving model...\n",
            "50 seconds to train epoch\n",
            "Epoch 5/20: train loss of 0.307, val loss of 0.301\n",
            "Val loss decreased 0.328 --> 0.301 saving model...\n",
            "50 seconds to train epoch\n",
            "Epoch 6/20: train loss of 0.281, val loss of 0.290\n",
            "Val loss decreased 0.301 --> 0.290 saving model...\n",
            "50 seconds to train epoch\n",
            "Epoch 7/20: train loss of 0.261, val loss of 0.279\n",
            "Val loss decreased 0.290 --> 0.279 saving model...\n",
            "50 seconds to train epoch\n",
            "Epoch 8/20: train loss of 0.247, val loss of 0.257\n",
            "Val loss decreased 0.279 --> 0.257 saving model...\n",
            "50 seconds to train epoch\n",
            "Epoch 9/20: train loss of 0.233, val loss of 0.253\n",
            "Val loss decreased 0.257 --> 0.253 saving model...\n",
            "50 seconds to train epoch\n",
            "Epoch 10/20: train loss of 0.220, val loss of 0.242\n",
            "Val loss decreased 0.253 --> 0.242 saving model...\n",
            "50 seconds to train epoch\n",
            "Epoch 11/20: train loss of 0.207, val loss of 0.243\n",
            "50 seconds to train epoch\n",
            "Epoch 12/20: train loss of 0.193, val loss of 0.254\n",
            "50 seconds to train epoch\n",
            "Epoch 13/20: train loss of 0.185, val loss of 0.242\n",
            "50 seconds to train epoch\n",
            "Epoch 14/20: train loss of 0.166, val loss of 0.243\n",
            "50 seconds to train epoch\n",
            "Epoch 15/20: train loss of 0.152, val loss of 0.251\n",
            "50 seconds to train epoch\n",
            "Epoch 16/20: train loss of 0.140, val loss of 0.258\n",
            "50 seconds to train epoch\n",
            "Epoch 17/20: train loss of 0.124, val loss of 0.278\n",
            "50 seconds to train epoch\n",
            "Epoch 18/20: train loss of 0.109, val loss of 0.303\n",
            "51 seconds to train epoch\n",
            "Epoch 19/20: train loss of 0.102, val loss of 0.311\n",
            "50 seconds to train epoch\n",
            "Epoch 20/20: train loss of 0.080, val loss of 0.323\n"
          ],
          "name": "stdout"
        }
      ]
    },
    {
      "cell_type": "code",
      "metadata": {
        "id": "82UEhr9b3Lj3",
        "colab_type": "code",
        "colab": {}
      },
      "source": [
        "csv_path = '/content/drive/My Drive/colab_data/grid_search.csv'\n",
        "res = pd.read_csv(csv_path)"
      ],
      "execution_count": 86,
      "outputs": []
    },
    {
      "cell_type": "code",
      "metadata": {
        "id": "DxVSE5VhS7Ie",
        "colab_type": "code",
        "colab": {
          "base_uri": "https://localhost:8080/",
          "height": 235
        },
        "outputId": "87f79db9-d4c2-46ef-b335-a9be02d503da"
      },
      "source": [
        "res"
      ],
      "execution_count": 87,
      "outputs": [
        {
          "output_type": "execute_result",
          "data": {
            "text/html": [
              "<div>\n",
              "<style scoped>\n",
              "    .dataframe tbody tr th:only-of-type {\n",
              "        vertical-align: middle;\n",
              "    }\n",
              "\n",
              "    .dataframe tbody tr th {\n",
              "        vertical-align: top;\n",
              "    }\n",
              "\n",
              "    .dataframe thead th {\n",
              "        text-align: right;\n",
              "    }\n",
              "</style>\n",
              "<table border=\"1\" class=\"dataframe\">\n",
              "  <thead>\n",
              "    <tr style=\"text-align: right;\">\n",
              "      <th></th>\n",
              "      <th>model_version</th>\n",
              "      <th>hidden</th>\n",
              "      <th>p_dropout</th>\n",
              "      <th>num_layers</th>\n",
              "      <th>num_epochs</th>\n",
              "      <th>test_acc</th>\n",
              "      <th>test_loss</th>\n",
              "      <th>train_acc</th>\n",
              "      <th>train_loss</th>\n",
              "    </tr>\n",
              "  </thead>\n",
              "  <tbody>\n",
              "    <tr>\n",
              "      <th>0</th>\n",
              "      <td>v22</td>\n",
              "      <td>10</td>\n",
              "      <td>0.0</td>\n",
              "      <td>2</td>\n",
              "      <td>20</td>\n",
              "      <td>89.02</td>\n",
              "      <td>0.275</td>\n",
              "      <td>89.81</td>\n",
              "      <td>0.256</td>\n",
              "    </tr>\n",
              "    <tr>\n",
              "      <th>1</th>\n",
              "      <td>v23</td>\n",
              "      <td>20</td>\n",
              "      <td>0.0</td>\n",
              "      <td>2</td>\n",
              "      <td>20</td>\n",
              "      <td>89.76</td>\n",
              "      <td>0.251</td>\n",
              "      <td>91.84</td>\n",
              "      <td>0.213</td>\n",
              "    </tr>\n",
              "    <tr>\n",
              "      <th>2</th>\n",
              "      <td>v24</td>\n",
              "      <td>10</td>\n",
              "      <td>0.1</td>\n",
              "      <td>2</td>\n",
              "      <td>20</td>\n",
              "      <td>88.74</td>\n",
              "      <td>0.277</td>\n",
              "      <td>89.31</td>\n",
              "      <td>0.265</td>\n",
              "    </tr>\n",
              "    <tr>\n",
              "      <th>3</th>\n",
              "      <td>v25</td>\n",
              "      <td>20</td>\n",
              "      <td>0.1</td>\n",
              "      <td>2</td>\n",
              "      <td>20</td>\n",
              "      <td>90.04</td>\n",
              "      <td>0.246</td>\n",
              "      <td>92.40</td>\n",
              "      <td>0.206</td>\n",
              "    </tr>\n",
              "    <tr>\n",
              "      <th>4</th>\n",
              "      <td>v26</td>\n",
              "      <td>50</td>\n",
              "      <td>0.0</td>\n",
              "      <td>2</td>\n",
              "      <td>20</td>\n",
              "      <td>90.44</td>\n",
              "      <td>0.241</td>\n",
              "      <td>93.19</td>\n",
              "      <td>0.184</td>\n",
              "    </tr>\n",
              "    <tr>\n",
              "      <th>5</th>\n",
              "      <td>v27</td>\n",
              "      <td>50</td>\n",
              "      <td>0.1</td>\n",
              "      <td>2</td>\n",
              "      <td>20</td>\n",
              "      <td>90.65</td>\n",
              "      <td>0.235</td>\n",
              "      <td>92.50</td>\n",
              "      <td>0.197</td>\n",
              "    </tr>\n",
              "  </tbody>\n",
              "</table>\n",
              "</div>"
            ],
            "text/plain": [
              "  model_version  hidden  p_dropout  ...  test_loss  train_acc  train_loss\n",
              "0           v22      10        0.0  ...      0.275      89.81       0.256\n",
              "1           v23      20        0.0  ...      0.251      91.84       0.213\n",
              "2           v24      10        0.1  ...      0.277      89.31       0.265\n",
              "3           v25      20        0.1  ...      0.246      92.40       0.206\n",
              "4           v26      50        0.0  ...      0.241      93.19       0.184\n",
              "5           v27      50        0.1  ...      0.235      92.50       0.197\n",
              "\n",
              "[6 rows x 9 columns]"
            ]
          },
          "metadata": {
            "tags": []
          },
          "execution_count": 87
        }
      ]
    },
    {
      "cell_type": "markdown",
      "metadata": {
        "id": "GUQjDfdDXvio",
        "colab_type": "text"
      },
      "source": [
        "## Heatmap"
      ]
    },
    {
      "cell_type": "code",
      "metadata": {
        "id": "kk8qWO14VOmC",
        "colab_type": "code",
        "colab": {
          "base_uri": "https://localhost:8080/",
          "height": 71
        },
        "outputId": "dfffac55-4165-4cfe-897f-6c7b20653553"
      },
      "source": [
        "import seaborn as sns"
      ],
      "execution_count": 88,
      "outputs": [
        {
          "output_type": "stream",
          "text": [
            "/usr/local/lib/python3.6/dist-packages/statsmodels/tools/_testing.py:19: FutureWarning: pandas.util.testing is deprecated. Use the functions in the public API at pandas.testing instead.\n",
            "  import pandas.util.testing as tm\n"
          ],
          "name": "stderr"
        }
      ]
    },
    {
      "cell_type": "code",
      "metadata": {
        "id": "_nra4zBz0tW_",
        "colab_type": "code",
        "colab": {}
      },
      "source": [
        "hidden_values = res.hidden.nunique()\n",
        "p_dropout_values = res.p_dropout.nunique()\n",
        "\n",
        "matrix = np.zeros((hidden_values,p_dropout_values))\n",
        "res_sorted = res.sort_values(['hidden','p_dropout']).copy()\n",
        "\n",
        "test_acc = res_sorted.test_acc.values\n",
        "test_acc = test_acc.reshape(matrix.shape)\n",
        "\n",
        "train_acc = res_sorted.train_acc.values\n",
        "train_acc = train_acc.reshape(matrix.shape)"
      ],
      "execution_count": 102,
      "outputs": []
    },
    {
      "cell_type": "code",
      "metadata": {
        "id": "PHgbrUxc0x_x",
        "colab_type": "code",
        "colab": {
          "base_uri": "https://localhost:8080/",
          "height": 497
        },
        "outputId": "8d9c38b8-c639-45da-d123-61b8adb81f99"
      },
      "source": [
        "_ = sns.heatmap(test_acc,cmap='Blues',linecolor='black',linewidths=1,annot=True)\n",
        "fig,ax = plt.gcf(),plt.gca()\n",
        "_ = ax.set_xlabel('prob. dropout')\n",
        "_ = ax.set_ylabel('hidden dim.')\n",
        "\n",
        "_ = ax.set_xticklabels(res.p_dropout.unique())\n",
        "_ = ax.set_yticklabels(res.hidden.unique())\n",
        "\n",
        "fig.set_size_inches(10,8)"
      ],
      "execution_count": 105,
      "outputs": [
        {
          "output_type": "display_data",
          "data": {
            "image/png": "[encoded data removed]",
            "text/plain": [
              "<Figure size 720x576 with 2 Axes>"
            ]
          },
          "metadata": {
            "tags": [],
            "needs_background": "light"
          }
        }
      ]
    },
    {
      "cell_type": "code",
      "metadata": {
        "id": "8iV6XgfpV6y8",
        "colab_type": "code",
        "colab": {
          "base_uri": "https://localhost:8080/",
          "height": 497
        },
        "outputId": "81626285-2fe3-4756-a03d-9b80a4b309fa"
      },
      "source": [
        "_ = sns.heatmap(train_acc,cmap='Blues',linecolor='black',linewidths=1,annot=True)\n",
        "fig,ax = plt.gcf(),plt.gca()\n",
        "_ = ax.set_xlabel('prob. dropout')\n",
        "_ = ax.set_ylabel('hidden dim.')\n",
        "\n",
        "_ = ax.set_xticklabels(res.p_dropout.unique())\n",
        "_ = ax.set_yticklabels(res.hidden.unique())\n",
        "\n",
        "fig.set_size_inches(10,8)"
      ],
      "execution_count": 106,
      "outputs": [
        {
          "output_type": "display_data",
          "data": {
            "image/png": "[encoded data removed]",
            "text/plain": [
              "<Figure size 720x576 with 2 Axes>"
            ]
          },
          "metadata": {
            "tags": [],
            "needs_background": "light"
          }
        }
      ]
    },
    {
      "cell_type": "code",
      "metadata": {
        "id": "j7BJSkisXpWH",
        "colab_type": "code",
        "colab": {}
      },
      "source": [
        ""
      ],
      "execution_count": null,
      "outputs": []
    }
  ]
}