{
  "nbformat": 4,
  "nbformat_minor": 0,
  "metadata": {
    "colab": {
      "name": "NLP SD - Tutorial3",
      "provenance": [],
      "authorship_tag": "ABX9TyNAadUqRpAJpny2BcgS5F72",
      "include_colab_link": true
    },
    "kernelspec": {
      "name": "python3",
      "display_name": "Python 3"
    },
    "accelerator": "GPU",
    "widgets": {
      "application/vnd.jupyter.widget-state+json": {
        "93d5e6fbbeb04b77a0654ea9301b7c75": {
          "model_module": "@jupyter-widgets/controls",
          "model_name": "HBoxModel",
          "state": {
            "_view_name": "HBoxView",
            "_dom_classes": [],
            "_model_name": "HBoxModel",
            "_view_module": "@jupyter-widgets/controls",
            "_model_module_version": "1.5.0",
            "_view_count": null,
            "_view_module_version": "1.5.0",
            "box_style": "",
            "layout": "IPY_MODEL_e86475c9b0904471b4f8c13a20d218d3",
            "_model_module": "@jupyter-widgets/controls",
            "children": [
              "IPY_MODEL_3915ee7ead174a53bf1c53eaf2d44df3",
              "IPY_MODEL_ee92a63fe0f74281b2699462b828485f"
            ]
          }
        },
        "e86475c9b0904471b4f8c13a20d218d3": {
          "model_module": "@jupyter-widgets/base",
          "model_name": "LayoutModel",
          "state": {
            "_view_name": "LayoutView",
            "grid_template_rows": null,
            "right": null,
            "justify_content": null,
            "_view_module": "@jupyter-widgets/base",
            "overflow": null,
            "_model_module_version": "1.2.0",
            "_view_count": null,
            "flex_flow": null,
            "width": null,
            "min_width": null,
            "border": null,
            "align_items": null,
            "bottom": null,
            "_model_module": "@jupyter-widgets/base",
            "top": null,
            "grid_column": null,
            "overflow_y": null,
            "overflow_x": null,
            "grid_auto_flow": null,
            "grid_area": null,
            "grid_template_columns": null,
            "flex": null,
            "_model_name": "LayoutModel",
            "justify_items": null,
            "grid_row": null,
            "max_height": null,
            "align_content": null,
            "visibility": null,
            "align_self": null,
            "height": null,
            "min_height": null,
            "padding": null,
            "grid_auto_rows": null,
            "grid_gap": null,
            "max_width": null,
            "order": null,
            "_view_module_version": "1.2.0",
            "grid_template_areas": null,
            "object_position": null,
            "object_fit": null,
            "grid_auto_columns": null,
            "margin": null,
            "display": null,
            "left": null
          }
        },
        "3915ee7ead174a53bf1c53eaf2d44df3": {
          "model_module": "@jupyter-widgets/controls",
          "model_name": "IntProgressModel",
          "state": {
            "_view_name": "ProgressView",
            "style": "IPY_MODEL_35f9705ec8374b68ab1bfba76cc4a17e",
            "_dom_classes": [],
            "description": "",
            "_model_name": "IntProgressModel",
            "bar_style": "success",
            "max": 1,
            "_view_module": "@jupyter-widgets/controls",
            "_model_module_version": "1.5.0",
            "value": 1,
            "_view_count": null,
            "_view_module_version": "1.5.0",
            "orientation": "horizontal",
            "min": 0,
            "description_tooltip": null,
            "_model_module": "@jupyter-widgets/controls",
            "layout": "IPY_MODEL_936aa599b2574a8c948f45e1cda2df16"
          }
        },
        "ee92a63fe0f74281b2699462b828485f": {
          "model_module": "@jupyter-widgets/controls",
          "model_name": "HTMLModel",
          "state": {
            "_view_name": "HTMLView",
            "style": "IPY_MODEL_f10eb3d7fa094546ac374415e62762c9",
            "_dom_classes": [],
            "description": "",
            "_model_name": "HTMLModel",
            "placeholder": "​",
            "_view_module": "@jupyter-widgets/controls",
            "_model_module_version": "1.5.0",
            "value": " 346355/? [00:29&lt;00:00, 11921.37it/s]",
            "_view_count": null,
            "_view_module_version": "1.5.0",
            "description_tooltip": null,
            "_model_module": "@jupyter-widgets/controls",
            "layout": "IPY_MODEL_6ebb4da684b24d71a21a7f3969369865"
          }
        },
        "35f9705ec8374b68ab1bfba76cc4a17e": {
          "model_module": "@jupyter-widgets/controls",
          "model_name": "ProgressStyleModel",
          "state": {
            "_view_name": "StyleView",
            "_model_name": "ProgressStyleModel",
            "description_width": "initial",
            "_view_module": "@jupyter-widgets/base",
            "_model_module_version": "1.5.0",
            "_view_count": null,
            "_view_module_version": "1.2.0",
            "bar_color": null,
            "_model_module": "@jupyter-widgets/controls"
          }
        },
        "936aa599b2574a8c948f45e1cda2df16": {
          "model_module": "@jupyter-widgets/base",
          "model_name": "LayoutModel",
          "state": {
            "_view_name": "LayoutView",
            "grid_template_rows": null,
            "right": null,
            "justify_content": null,
            "_view_module": "@jupyter-widgets/base",
            "overflow": null,
            "_model_module_version": "1.2.0",
            "_view_count": null,
            "flex_flow": null,
            "width": null,
            "min_width": null,
            "border": null,
            "align_items": null,
            "bottom": null,
            "_model_module": "@jupyter-widgets/base",
            "top": null,
            "grid_column": null,
            "overflow_y": null,
            "overflow_x": null,
            "grid_auto_flow": null,
            "grid_area": null,
            "grid_template_columns": null,
            "flex": null,
            "_model_name": "LayoutModel",
            "justify_items": null,
            "grid_row": null,
            "max_height": null,
            "align_content": null,
            "visibility": null,
            "align_self": null,
            "height": null,
            "min_height": null,
            "padding": null,
            "grid_auto_rows": null,
            "grid_gap": null,
            "max_width": null,
            "order": null,
            "_view_module_version": "1.2.0",
            "grid_template_areas": null,
            "object_position": null,
            "object_fit": null,
            "grid_auto_columns": null,
            "margin": null,
            "display": null,
            "left": null
          }
        },
        "f10eb3d7fa094546ac374415e62762c9": {
          "model_module": "@jupyter-widgets/controls",
          "model_name": "DescriptionStyleModel",
          "state": {
            "_view_name": "StyleView",
            "_model_name": "DescriptionStyleModel",
            "description_width": "",
            "_view_module": "@jupyter-widgets/base",
            "_model_module_version": "1.5.0",
            "_view_count": null,
            "_view_module_version": "1.2.0",
            "_model_module": "@jupyter-widgets/controls"
          }
        },
        "6ebb4da684b24d71a21a7f3969369865": {
          "model_module": "@jupyter-widgets/base",
          "model_name": "LayoutModel",
          "state": {
            "_view_name": "LayoutView",
            "grid_template_rows": null,
            "right": null,
            "justify_content": null,
            "_view_module": "@jupyter-widgets/base",
            "overflow": null,
            "_model_module_version": "1.2.0",
            "_view_count": null,
            "flex_flow": null,
            "width": null,
            "min_width": null,
            "border": null,
            "align_items": null,
            "bottom": null,
            "_model_module": "@jupyter-widgets/base",
            "top": null,
            "grid_column": null,
            "overflow_y": null,
            "overflow_x": null,
            "grid_auto_flow": null,
            "grid_area": null,
            "grid_template_columns": null,
            "flex": null,
            "_model_name": "LayoutModel",
            "justify_items": null,
            "grid_row": null,
            "max_height": null,
            "align_content": null,
            "visibility": null,
            "align_self": null,
            "height": null,
            "min_height": null,
            "padding": null,
            "grid_auto_rows": null,
            "grid_gap": null,
            "max_width": null,
            "order": null,
            "_view_module_version": "1.2.0",
            "grid_template_areas": null,
            "object_position": null,
            "object_fit": null,
            "grid_auto_columns": null,
            "margin": null,
            "display": null,
            "left": null
          }
        },
        "15452146c3314ea299c1f43470f26d61": {
          "model_module": "@jupyter-widgets/controls",
          "model_name": "HBoxModel",
          "state": {
            "_view_name": "HBoxView",
            "_dom_classes": [],
            "_model_name": "HBoxModel",
            "_view_module": "@jupyter-widgets/controls",
            "_model_module_version": "1.5.0",
            "_view_count": null,
            "_view_module_version": "1.5.0",
            "box_style": "",
            "layout": "IPY_MODEL_fd454d9457724c3a9a0a35b7055ba0e8",
            "_model_module": "@jupyter-widgets/controls",
            "children": [
              "IPY_MODEL_e5836256a7ce4fbb90db5f1343fa14c6",
              "IPY_MODEL_35d2c5a7ff8f4119bdf1a9ca9ef99285"
            ]
          }
        },
        "fd454d9457724c3a9a0a35b7055ba0e8": {
          "model_module": "@jupyter-widgets/base",
          "model_name": "LayoutModel",
          "state": {
            "_view_name": "LayoutView",
            "grid_template_rows": null,
            "right": null,
            "justify_content": null,
            "_view_module": "@jupyter-widgets/base",
            "overflow": null,
            "_model_module_version": "1.2.0",
            "_view_count": null,
            "flex_flow": null,
            "width": null,
            "min_width": null,
            "border": null,
            "align_items": null,
            "bottom": null,
            "_model_module": "@jupyter-widgets/base",
            "top": null,
            "grid_column": null,
            "overflow_y": null,
            "overflow_x": null,
            "grid_auto_flow": null,
            "grid_area": null,
            "grid_template_columns": null,
            "flex": null,
            "_model_name": "LayoutModel",
            "justify_items": null,
            "grid_row": null,
            "max_height": null,
            "align_content": null,
            "visibility": null,
            "align_self": null,
            "height": null,
            "min_height": null,
            "padding": null,
            "grid_auto_rows": null,
            "grid_gap": null,
            "max_width": null,
            "order": null,
            "_view_module_version": "1.2.0",
            "grid_template_areas": null,
            "object_position": null,
            "object_fit": null,
            "grid_auto_columns": null,
            "margin": null,
            "display": null,
            "left": null
          }
        },
        "e5836256a7ce4fbb90db5f1343fa14c6": {
          "model_module": "@jupyter-widgets/controls",
          "model_name": "IntProgressModel",
          "state": {
            "_view_name": "ProgressView",
            "style": "IPY_MODEL_6e10d3ec50d74f05a3fa0f63c7baf500",
            "_dom_classes": [],
            "description": " 20%",
            "_model_name": "IntProgressModel",
            "bar_style": "",
            "max": 10,
            "_view_module": "@jupyter-widgets/controls",
            "_model_module_version": "1.5.0",
            "value": 2,
            "_view_count": null,
            "_view_module_version": "1.5.0",
            "orientation": "horizontal",
            "min": 0,
            "description_tooltip": null,
            "_model_module": "@jupyter-widgets/controls",
            "layout": "IPY_MODEL_5ddeb7a908614e369b8e33a964ea19ab"
          }
        },
        "35d2c5a7ff8f4119bdf1a9ca9ef99285": {
          "model_module": "@jupyter-widgets/controls",
          "model_name": "HTMLModel",
          "state": {
            "_view_name": "HTMLView",
            "style": "IPY_MODEL_389171ed6311420c8adaab47e913c57f",
            "_dom_classes": [],
            "description": "",
            "_model_name": "HTMLModel",
            "placeholder": "​",
            "_view_module": "@jupyter-widgets/controls",
            "_model_module_version": "1.5.0",
            "value": " 2/10 [07:08&lt;28:41, 215.23s/it]",
            "_view_count": null,
            "_view_module_version": "1.5.0",
            "description_tooltip": null,
            "_model_module": "@jupyter-widgets/controls",
            "layout": "IPY_MODEL_aeeb8244fc1f4ec797d656e0bc712da6"
          }
        },
        "6e10d3ec50d74f05a3fa0f63c7baf500": {
          "model_module": "@jupyter-widgets/controls",
          "model_name": "ProgressStyleModel",
          "state": {
            "_view_name": "StyleView",
            "_model_name": "ProgressStyleModel",
            "description_width": "initial",
            "_view_module": "@jupyter-widgets/base",
            "_model_module_version": "1.5.0",
            "_view_count": null,
            "_view_module_version": "1.2.0",
            "bar_color": null,
            "_model_module": "@jupyter-widgets/controls"
          }
        },
        "5ddeb7a908614e369b8e33a964ea19ab": {
          "model_module": "@jupyter-widgets/base",
          "model_name": "LayoutModel",
          "state": {
            "_view_name": "LayoutView",
            "grid_template_rows": null,
            "right": null,
            "justify_content": null,
            "_view_module": "@jupyter-widgets/base",
            "overflow": null,
            "_model_module_version": "1.2.0",
            "_view_count": null,
            "flex_flow": null,
            "width": null,
            "min_width": null,
            "border": null,
            "align_items": null,
            "bottom": null,
            "_model_module": "@jupyter-widgets/base",
            "top": null,
            "grid_column": null,
            "overflow_y": null,
            "overflow_x": null,
            "grid_auto_flow": null,
            "grid_area": null,
            "grid_template_columns": null,
            "flex": null,
            "_model_name": "LayoutModel",
            "justify_items": null,
            "grid_row": null,
            "max_height": null,
            "align_content": null,
            "visibility": null,
            "align_self": null,
            "height": null,
            "min_height": null,
            "padding": null,
            "grid_auto_rows": null,
            "grid_gap": null,
            "max_width": null,
            "order": null,
            "_view_module_version": "1.2.0",
            "grid_template_areas": null,
            "object_position": null,
            "object_fit": null,
            "grid_auto_columns": null,
            "margin": null,
            "display": null,
            "left": null
          }
        },
        "389171ed6311420c8adaab47e913c57f": {
          "model_module": "@jupyter-widgets/controls",
          "model_name": "DescriptionStyleModel",
          "state": {
            "_view_name": "StyleView",
            "_model_name": "DescriptionStyleModel",
            "description_width": "",
            "_view_module": "@jupyter-widgets/base",
            "_model_module_version": "1.5.0",
            "_view_count": null,
            "_view_module_version": "1.2.0",
            "_model_module": "@jupyter-widgets/controls"
          }
        },
        "aeeb8244fc1f4ec797d656e0bc712da6": {
          "model_module": "@jupyter-widgets/base",
          "model_name": "LayoutModel",
          "state": {
            "_view_name": "LayoutView",
            "grid_template_rows": null,
            "right": null,
            "justify_content": null,
            "_view_module": "@jupyter-widgets/base",
            "overflow": null,
            "_model_module_version": "1.2.0",
            "_view_count": null,
            "flex_flow": null,
            "width": null,
            "min_width": null,
            "border": null,
            "align_items": null,
            "bottom": null,
            "_model_module": "@jupyter-widgets/base",
            "top": null,
            "grid_column": null,
            "overflow_y": null,
            "overflow_x": null,
            "grid_auto_flow": null,
            "grid_area": null,
            "grid_template_columns": null,
            "flex": null,
            "_model_name": "LayoutModel",
            "justify_items": null,
            "grid_row": null,
            "max_height": null,
            "align_content": null,
            "visibility": null,
            "align_self": null,
            "height": null,
            "min_height": null,
            "padding": null,
            "grid_auto_rows": null,
            "grid_gap": null,
            "max_width": null,
            "order": null,
            "_view_module_version": "1.2.0",
            "grid_template_areas": null,
            "object_position": null,
            "object_fit": null,
            "grid_auto_columns": null,
            "margin": null,
            "display": null,
            "left": null
          }
        },
        "deb57dca2d0b4ecd8d398a559ecb01bf": {
          "model_module": "@jupyter-widgets/controls",
          "model_name": "HBoxModel",
          "state": {
            "_view_name": "HBoxView",
            "_dom_classes": [],
            "_model_name": "HBoxModel",
            "_view_module": "@jupyter-widgets/controls",
            "_model_module_version": "1.5.0",
            "_view_count": null,
            "_view_module_version": "1.5.0",
            "box_style": "",
            "layout": "IPY_MODEL_4971c824b5bd4874adcca0f4819d9dc9",
            "_model_module": "@jupyter-widgets/controls",
            "children": [
              "IPY_MODEL_0df9915340c64bc1b9bc4f5102cecdd4",
              "IPY_MODEL_6b3eb823fd774cc7abd8f47ef67cdd98"
            ]
          }
        },
        "4971c824b5bd4874adcca0f4819d9dc9": {
          "model_module": "@jupyter-widgets/base",
          "model_name": "LayoutModel",
          "state": {
            "_view_name": "LayoutView",
            "grid_template_rows": null,
            "right": null,
            "justify_content": null,
            "_view_module": "@jupyter-widgets/base",
            "overflow": null,
            "_model_module_version": "1.2.0",
            "_view_count": null,
            "flex_flow": null,
            "width": null,
            "min_width": null,
            "border": null,
            "align_items": null,
            "bottom": null,
            "_model_module": "@jupyter-widgets/base",
            "top": null,
            "grid_column": null,
            "overflow_y": null,
            "overflow_x": null,
            "grid_auto_flow": null,
            "grid_area": null,
            "grid_template_columns": null,
            "flex": null,
            "_model_name": "LayoutModel",
            "justify_items": null,
            "grid_row": null,
            "max_height": null,
            "align_content": null,
            "visibility": null,
            "align_self": null,
            "height": null,
            "min_height": null,
            "padding": null,
            "grid_auto_rows": null,
            "grid_gap": null,
            "max_width": null,
            "order": null,
            "_view_module_version": "1.2.0",
            "grid_template_areas": null,
            "object_position": null,
            "object_fit": null,
            "grid_auto_columns": null,
            "margin": null,
            "display": null,
            "left": null
          }
        },
        "0df9915340c64bc1b9bc4f5102cecdd4": {
          "model_module": "@jupyter-widgets/controls",
          "model_name": "IntProgressModel",
          "state": {
            "_view_name": "ProgressView",
            "style": "IPY_MODEL_5e921226387f400b975e48283b941f66",
            "_dom_classes": [],
            "description": "",
            "_model_name": "IntProgressModel",
            "bar_style": "success",
            "max": 1,
            "_view_module": "@jupyter-widgets/controls",
            "_model_module_version": "1.5.0",
            "value": 1,
            "_view_count": null,
            "_view_module_version": "1.5.0",
            "orientation": "horizontal",
            "min": 0,
            "description_tooltip": null,
            "_model_module": "@jupyter-widgets/controls",
            "layout": "IPY_MODEL_8b7ff9b463a841f88fbe4477ffa7c569"
          }
        },
        "6b3eb823fd774cc7abd8f47ef67cdd98": {
          "model_module": "@jupyter-widgets/controls",
          "model_name": "HTMLModel",
          "state": {
            "_view_name": "HTMLView",
            "style": "IPY_MODEL_965b3a217f824d51bce33af6b8a31d5d",
            "_dom_classes": [],
            "description": "",
            "_model_name": "HTMLModel",
            "placeholder": "​",
            "_view_module": "@jupyter-widgets/controls",
            "_model_module_version": "1.5.0",
            "value": " 52943/? [06:19&lt;00:00, 139.39it/s]",
            "_view_count": null,
            "_view_module_version": "1.5.0",
            "description_tooltip": null,
            "_model_module": "@jupyter-widgets/controls",
            "layout": "IPY_MODEL_827dc90a922a4068aadcefed30ad495c"
          }
        },
        "5e921226387f400b975e48283b941f66": {
          "model_module": "@jupyter-widgets/controls",
          "model_name": "ProgressStyleModel",
          "state": {
            "_view_name": "StyleView",
            "_model_name": "ProgressStyleModel",
            "description_width": "initial",
            "_view_module": "@jupyter-widgets/base",
            "_model_module_version": "1.5.0",
            "_view_count": null,
            "_view_module_version": "1.2.0",
            "bar_color": null,
            "_model_module": "@jupyter-widgets/controls"
          }
        },
        "8b7ff9b463a841f88fbe4477ffa7c569": {
          "model_module": "@jupyter-widgets/base",
          "model_name": "LayoutModel",
          "state": {
            "_view_name": "LayoutView",
            "grid_template_rows": null,
            "right": null,
            "justify_content": null,
            "_view_module": "@jupyter-widgets/base",
            "overflow": null,
            "_model_module_version": "1.2.0",
            "_view_count": null,
            "flex_flow": null,
            "width": null,
            "min_width": null,
            "border": null,
            "align_items": null,
            "bottom": null,
            "_model_module": "@jupyter-widgets/base",
            "top": null,
            "grid_column": null,
            "overflow_y": null,
            "overflow_x": null,
            "grid_auto_flow": null,
            "grid_area": null,
            "grid_template_columns": null,
            "flex": null,
            "_model_name": "LayoutModel",
            "justify_items": null,
            "grid_row": null,
            "max_height": null,
            "align_content": null,
            "visibility": null,
            "align_self": null,
            "height": null,
            "min_height": null,
            "padding": null,
            "grid_auto_rows": null,
            "grid_gap": null,
            "max_width": null,
            "order": null,
            "_view_module_version": "1.2.0",
            "grid_template_areas": null,
            "object_position": null,
            "object_fit": null,
            "grid_auto_columns": null,
            "margin": null,
            "display": null,
            "left": null
          }
        },
        "965b3a217f824d51bce33af6b8a31d5d": {
          "model_module": "@jupyter-widgets/controls",
          "model_name": "DescriptionStyleModel",
          "state": {
            "_view_name": "StyleView",
            "_model_name": "DescriptionStyleModel",
            "description_width": "",
            "_view_module": "@jupyter-widgets/base",
            "_model_module_version": "1.5.0",
            "_view_count": null,
            "_view_module_version": "1.2.0",
            "_model_module": "@jupyter-widgets/controls"
          }
        },
        "827dc90a922a4068aadcefed30ad495c": {
          "model_module": "@jupyter-widgets/base",
          "model_name": "LayoutModel",
          "state": {
            "_view_name": "LayoutView",
            "grid_template_rows": null,
            "right": null,
            "justify_content": null,
            "_view_module": "@jupyter-widgets/base",
            "overflow": null,
            "_model_module_version": "1.2.0",
            "_view_count": null,
            "flex_flow": null,
            "width": null,
            "min_width": null,
            "border": null,
            "align_items": null,
            "bottom": null,
            "_model_module": "@jupyter-widgets/base",
            "top": null,
            "grid_column": null,
            "overflow_y": null,
            "overflow_x": null,
            "grid_auto_flow": null,
            "grid_area": null,
            "grid_template_columns": null,
            "flex": null,
            "_model_name": "LayoutModel",
            "justify_items": null,
            "grid_row": null,
            "max_height": null,
            "align_content": null,
            "visibility": null,
            "align_self": null,
            "height": null,
            "min_height": null,
            "padding": null,
            "grid_auto_rows": null,
            "grid_gap": null,
            "max_width": null,
            "order": null,
            "_view_module_version": "1.2.0",
            "grid_template_areas": null,
            "object_position": null,
            "object_fit": null,
            "grid_auto_columns": null,
            "margin": null,
            "display": null,
            "left": null
          }
        },
        "bd168c426d0840229b306ea2d516b7e0": {
          "model_module": "@jupyter-widgets/controls",
          "model_name": "HBoxModel",
          "state": {
            "_view_name": "HBoxView",
            "_dom_classes": [],
            "_model_name": "HBoxModel",
            "_view_module": "@jupyter-widgets/controls",
            "_model_module_version": "1.5.0",
            "_view_count": null,
            "_view_module_version": "1.5.0",
            "box_style": "",
            "layout": "IPY_MODEL_c9d2d9e8641d4b34a0dd405c81689351",
            "_model_module": "@jupyter-widgets/controls",
            "children": [
              "IPY_MODEL_c9d8e2dd75784933b33f19d9b837f01b",
              "IPY_MODEL_39256936467346d18319034f0b8b8389"
            ]
          }
        },
        "c9d2d9e8641d4b34a0dd405c81689351": {
          "model_module": "@jupyter-widgets/base",
          "model_name": "LayoutModel",
          "state": {
            "_view_name": "LayoutView",
            "grid_template_rows": null,
            "right": null,
            "justify_content": null,
            "_view_module": "@jupyter-widgets/base",
            "overflow": null,
            "_model_module_version": "1.2.0",
            "_view_count": null,
            "flex_flow": null,
            "width": null,
            "min_width": null,
            "border": null,
            "align_items": null,
            "bottom": null,
            "_model_module": "@jupyter-widgets/base",
            "top": null,
            "grid_column": null,
            "overflow_y": null,
            "overflow_x": null,
            "grid_auto_flow": null,
            "grid_area": null,
            "grid_template_columns": null,
            "flex": null,
            "_model_name": "LayoutModel",
            "justify_items": null,
            "grid_row": null,
            "max_height": null,
            "align_content": null,
            "visibility": null,
            "align_self": null,
            "height": null,
            "min_height": null,
            "padding": null,
            "grid_auto_rows": null,
            "grid_gap": null,
            "max_width": null,
            "order": null,
            "_view_module_version": "1.2.0",
            "grid_template_areas": null,
            "object_position": null,
            "object_fit": null,
            "grid_auto_columns": null,
            "margin": null,
            "display": null,
            "left": null
          }
        },
        "c9d8e2dd75784933b33f19d9b837f01b": {
          "model_module": "@jupyter-widgets/controls",
          "model_name": "IntProgressModel",
          "state": {
            "_view_name": "ProgressView",
            "style": "IPY_MODEL_abdbc253fafe4a82995b1410cc7c3462",
            "_dom_classes": [],
            "description": "",
            "_model_name": "IntProgressModel",
            "bar_style": "success",
            "max": 1,
            "_view_module": "@jupyter-widgets/controls",
            "_model_module_version": "1.5.0",
            "value": 1,
            "_view_count": null,
            "_view_module_version": "1.5.0",
            "orientation": "horizontal",
            "min": 0,
            "description_tooltip": null,
            "_model_module": "@jupyter-widgets/controls",
            "layout": "IPY_MODEL_f4700a58e5ef4b9098a56ff30f51f82c"
          }
        },
        "39256936467346d18319034f0b8b8389": {
          "model_module": "@jupyter-widgets/controls",
          "model_name": "HTMLModel",
          "state": {
            "_view_name": "HTMLView",
            "style": "IPY_MODEL_d79d49aa42d34157979cd69341a4cb5a",
            "_dom_classes": [],
            "description": "",
            "_model_name": "HTMLModel",
            "placeholder": "​",
            "_view_module": "@jupyter-widgets/controls",
            "_model_module_version": "1.5.0",
            "value": " 52943/? [03:31&lt;00:00, 250.91it/s]",
            "_view_count": null,
            "_view_module_version": "1.5.0",
            "description_tooltip": null,
            "_model_module": "@jupyter-widgets/controls",
            "layout": "IPY_MODEL_c849567bc8ee46aca2135b6b704b81e9"
          }
        },
        "abdbc253fafe4a82995b1410cc7c3462": {
          "model_module": "@jupyter-widgets/controls",
          "model_name": "ProgressStyleModel",
          "state": {
            "_view_name": "StyleView",
            "_model_name": "ProgressStyleModel",
            "description_width": "initial",
            "_view_module": "@jupyter-widgets/base",
            "_model_module_version": "1.5.0",
            "_view_count": null,
            "_view_module_version": "1.2.0",
            "bar_color": null,
            "_model_module": "@jupyter-widgets/controls"
          }
        },
        "f4700a58e5ef4b9098a56ff30f51f82c": {
          "model_module": "@jupyter-widgets/base",
          "model_name": "LayoutModel",
          "state": {
            "_view_name": "LayoutView",
            "grid_template_rows": null,
            "right": null,
            "justify_content": null,
            "_view_module": "@jupyter-widgets/base",
            "overflow": null,
            "_model_module_version": "1.2.0",
            "_view_count": null,
            "flex_flow": null,
            "width": null,
            "min_width": null,
            "border": null,
            "align_items": null,
            "bottom": null,
            "_model_module": "@jupyter-widgets/base",
            "top": null,
            "grid_column": null,
            "overflow_y": null,
            "overflow_x": null,
            "grid_auto_flow": null,
            "grid_area": null,
            "grid_template_columns": null,
            "flex": null,
            "_model_name": "LayoutModel",
            "justify_items": null,
            "grid_row": null,
            "max_height": null,
            "align_content": null,
            "visibility": null,
            "align_self": null,
            "height": null,
            "min_height": null,
            "padding": null,
            "grid_auto_rows": null,
            "grid_gap": null,
            "max_width": null,
            "order": null,
            "_view_module_version": "1.2.0",
            "grid_template_areas": null,
            "object_position": null,
            "object_fit": null,
            "grid_auto_columns": null,
            "margin": null,
            "display": null,
            "left": null
          }
        },
        "d79d49aa42d34157979cd69341a4cb5a": {
          "model_module": "@jupyter-widgets/controls",
          "model_name": "DescriptionStyleModel",
          "state": {
            "_view_name": "StyleView",
            "_model_name": "DescriptionStyleModel",
            "description_width": "",
            "_view_module": "@jupyter-widgets/base",
            "_model_module_version": "1.5.0",
            "_view_count": null,
            "_view_module_version": "1.2.0",
            "_model_module": "@jupyter-widgets/controls"
          }
        },
        "c849567bc8ee46aca2135b6b704b81e9": {
          "model_module": "@jupyter-widgets/base",
          "model_name": "LayoutModel",
          "state": {
            "_view_name": "LayoutView",
            "grid_template_rows": null,
            "right": null,
            "justify_content": null,
            "_view_module": "@jupyter-widgets/base",
            "overflow": null,
            "_model_module_version": "1.2.0",
            "_view_count": null,
            "flex_flow": null,
            "width": null,
            "min_width": null,
            "border": null,
            "align_items": null,
            "bottom": null,
            "_model_module": "@jupyter-widgets/base",
            "top": null,
            "grid_column": null,
            "overflow_y": null,
            "overflow_x": null,
            "grid_auto_flow": null,
            "grid_area": null,
            "grid_template_columns": null,
            "flex": null,
            "_model_name": "LayoutModel",
            "justify_items": null,
            "grid_row": null,
            "max_height": null,
            "align_content": null,
            "visibility": null,
            "align_self": null,
            "height": null,
            "min_height": null,
            "padding": null,
            "grid_auto_rows": null,
            "grid_gap": null,
            "max_width": null,
            "order": null,
            "_view_module_version": "1.2.0",
            "grid_template_areas": null,
            "object_position": null,
            "object_fit": null,
            "grid_auto_columns": null,
            "margin": null,
            "display": null,
            "left": null
          }
        },
        "41fc3b02dc724894af7034d636485471": {
          "model_module": "@jupyter-widgets/controls",
          "model_name": "HBoxModel",
          "state": {
            "_view_name": "HBoxView",
            "_dom_classes": [],
            "_model_name": "HBoxModel",
            "_view_module": "@jupyter-widgets/controls",
            "_model_module_version": "1.5.0",
            "_view_count": null,
            "_view_module_version": "1.5.0",
            "box_style": "",
            "layout": "IPY_MODEL_a56285fa0f8942a7ae3222518104ccf8",
            "_model_module": "@jupyter-widgets/controls",
            "children": [
              "IPY_MODEL_77f9cf24df574dc0aa0b424c4467bfb4",
              "IPY_MODEL_b4e4e54c6d4843f19131c3ceb9425e86"
            ]
          }
        },
        "a56285fa0f8942a7ae3222518104ccf8": {
          "model_module": "@jupyter-widgets/base",
          "model_name": "LayoutModel",
          "state": {
            "_view_name": "LayoutView",
            "grid_template_rows": null,
            "right": null,
            "justify_content": null,
            "_view_module": "@jupyter-widgets/base",
            "overflow": null,
            "_model_module_version": "1.2.0",
            "_view_count": null,
            "flex_flow": null,
            "width": null,
            "min_width": null,
            "border": null,
            "align_items": null,
            "bottom": null,
            "_model_module": "@jupyter-widgets/base",
            "top": null,
            "grid_column": null,
            "overflow_y": null,
            "overflow_x": null,
            "grid_auto_flow": null,
            "grid_area": null,
            "grid_template_columns": null,
            "flex": null,
            "_model_name": "LayoutModel",
            "justify_items": null,
            "grid_row": null,
            "max_height": null,
            "align_content": null,
            "visibility": null,
            "align_self": null,
            "height": null,
            "min_height": null,
            "padding": null,
            "grid_auto_rows": null,
            "grid_gap": null,
            "max_width": null,
            "order": null,
            "_view_module_version": "1.2.0",
            "grid_template_areas": null,
            "object_position": null,
            "object_fit": null,
            "grid_auto_columns": null,
            "margin": null,
            "display": null,
            "left": null
          }
        },
        "77f9cf24df574dc0aa0b424c4467bfb4": {
          "model_module": "@jupyter-widgets/controls",
          "model_name": "IntProgressModel",
          "state": {
            "_view_name": "ProgressView",
            "style": "IPY_MODEL_05ef1b26e5aa41c29e5d6f6e2e2373e1",
            "_dom_classes": [],
            "description": "",
            "_model_name": "IntProgressModel",
            "bar_style": "info",
            "max": 1,
            "_view_module": "@jupyter-widgets/controls",
            "_model_module_version": "1.5.0",
            "value": 1,
            "_view_count": null,
            "_view_module_version": "1.5.0",
            "orientation": "horizontal",
            "min": 0,
            "description_tooltip": null,
            "_model_module": "@jupyter-widgets/controls",
            "layout": "IPY_MODEL_3b7b5b50fe2e4764974acfffc13555eb"
          }
        },
        "b4e4e54c6d4843f19131c3ceb9425e86": {
          "model_module": "@jupyter-widgets/controls",
          "model_name": "HTMLModel",
          "state": {
            "_view_name": "HTMLView",
            "style": "IPY_MODEL_992223e072a347e2b21f02c32e5771bf",
            "_dom_classes": [],
            "description": "",
            "_model_name": "HTMLModel",
            "placeholder": "​",
            "_view_module": "@jupyter-widgets/controls",
            "_model_module_version": "1.5.0",
            "value": " 4946/? [00:24&lt;00:00, 326.07it/s]",
            "_view_count": null,
            "_view_module_version": "1.5.0",
            "description_tooltip": null,
            "_model_module": "@jupyter-widgets/controls",
            "layout": "IPY_MODEL_27b2353bd49d476388aedc75398221f3"
          }
        },
        "05ef1b26e5aa41c29e5d6f6e2e2373e1": {
          "model_module": "@jupyter-widgets/controls",
          "model_name": "ProgressStyleModel",
          "state": {
            "_view_name": "StyleView",
            "_model_name": "ProgressStyleModel",
            "description_width": "initial",
            "_view_module": "@jupyter-widgets/base",
            "_model_module_version": "1.5.0",
            "_view_count": null,
            "_view_module_version": "1.2.0",
            "bar_color": null,
            "_model_module": "@jupyter-widgets/controls"
          }
        },
        "3b7b5b50fe2e4764974acfffc13555eb": {
          "model_module": "@jupyter-widgets/base",
          "model_name": "LayoutModel",
          "state": {
            "_view_name": "LayoutView",
            "grid_template_rows": null,
            "right": null,
            "justify_content": null,
            "_view_module": "@jupyter-widgets/base",
            "overflow": null,
            "_model_module_version": "1.2.0",
            "_view_count": null,
            "flex_flow": null,
            "width": null,
            "min_width": null,
            "border": null,
            "align_items": null,
            "bottom": null,
            "_model_module": "@jupyter-widgets/base",
            "top": null,
            "grid_column": null,
            "overflow_y": null,
            "overflow_x": null,
            "grid_auto_flow": null,
            "grid_area": null,
            "grid_template_columns": null,
            "flex": null,
            "_model_name": "LayoutModel",
            "justify_items": null,
            "grid_row": null,
            "max_height": null,
            "align_content": null,
            "visibility": null,
            "align_self": null,
            "height": null,
            "min_height": null,
            "padding": null,
            "grid_auto_rows": null,
            "grid_gap": null,
            "max_width": null,
            "order": null,
            "_view_module_version": "1.2.0",
            "grid_template_areas": null,
            "object_position": null,
            "object_fit": null,
            "grid_auto_columns": null,
            "margin": null,
            "display": null,
            "left": null
          }
        },
        "992223e072a347e2b21f02c32e5771bf": {
          "model_module": "@jupyter-widgets/controls",
          "model_name": "DescriptionStyleModel",
          "state": {
            "_view_name": "StyleView",
            "_model_name": "DescriptionStyleModel",
            "description_width": "",
            "_view_module": "@jupyter-widgets/base",
            "_model_module_version": "1.5.0",
            "_view_count": null,
            "_view_module_version": "1.2.0",
            "_model_module": "@jupyter-widgets/controls"
          }
        },
        "27b2353bd49d476388aedc75398221f3": {
          "model_module": "@jupyter-widgets/base",
          "model_name": "LayoutModel",
          "state": {
            "_view_name": "LayoutView",
            "grid_template_rows": null,
            "right": null,
            "justify_content": null,
            "_view_module": "@jupyter-widgets/base",
            "overflow": null,
            "_model_module_version": "1.2.0",
            "_view_count": null,
            "flex_flow": null,
            "width": null,
            "min_width": null,
            "border": null,
            "align_items": null,
            "bottom": null,
            "_model_module": "@jupyter-widgets/base",
            "top": null,
            "grid_column": null,
            "overflow_y": null,
            "overflow_x": null,
            "grid_auto_flow": null,
            "grid_area": null,
            "grid_template_columns": null,
            "flex": null,
            "_model_name": "LayoutModel",
            "justify_items": null,
            "grid_row": null,
            "max_height": null,
            "align_content": null,
            "visibility": null,
            "align_self": null,
            "height": null,
            "min_height": null,
            "padding": null,
            "grid_auto_rows": null,
            "grid_gap": null,
            "max_width": null,
            "order": null,
            "_view_module_version": "1.2.0",
            "grid_template_areas": null,
            "object_position": null,
            "object_fit": null,
            "grid_auto_columns": null,
            "margin": null,
            "display": null,
            "left": null
          }
        }
      }
    }
  },
  "cells": [
    {
      "cell_type": "markdown",
      "metadata": {
        "id": "view-in-github",
        "colab_type": "text"
      },
      "source": [
        "<a href=\"https://colab.research.google.com/github/skanderbenmansour/nlp_study_group/blob/master/NLP_SD_Tutorial3.ipynb\" target=\"_parent\"><img src=\"https://colab.research.google.com/assets/colab-badge.svg\" alt=\"Open In Colab\"/></a>"
      ]
    },
    {
      "cell_type": "markdown",
      "metadata": {
        "id": "n3AFIG5pRj1U",
        "colab_type": "text"
      },
      "source": [
        "Connecting to Google Drive"
      ]
    },
    {
      "cell_type": "code",
      "metadata": {
        "id": "5l_-OuD65NQe",
        "colab_type": "code",
        "outputId": "ded0651b-546f-4d84-f735-4800cc817afd",
        "colab": {
          "base_uri": "https://localhost:8080/",
          "height": 121
        }
      },
      "source": [
        "from google.colab import drive\n",
        "drive.mount('/content/drive')"
      ],
      "execution_count": 0,
      "outputs": [
        {
          "output_type": "stream",
          "text": [
            "Go to this URL in a browser: https://accounts.google.com/o/oauth2/auth?client_id=947318989803-6bn6qk8qdgf4n4g3pfee6491hc0brc4i.apps.googleusercontent.com&redirect_uri=urn%3aietf%3awg%3aoauth%3a2.0%3aoob&response_type=code&scope=email%20https%3a%2f%2fwww.googleapis.com%2fauth%2fdocs.test%20https%3a%2f%2fwww.googleapis.com%2fauth%2fdrive%20https%3a%2f%2fwww.googleapis.com%2fauth%2fdrive.photos.readonly%20https%3a%2f%2fwww.googleapis.com%2fauth%2fpeopleapi.readonly\n",
            "\n",
            "Enter your authorization code:\n",
            "··········\n",
            "Mounted at /content/drive\n"
          ],
          "name": "stdout"
        }
      ]
    },
    {
      "cell_type": "markdown",
      "metadata": {
        "id": "7mqEyS-lRtLe",
        "colab_type": "text"
      },
      "source": [
        "Loading the data"
      ]
    },
    {
      "cell_type": "code",
      "metadata": {
        "id": "cT5QysxJ5OwR",
        "colab_type": "code",
        "colab": {}
      },
      "source": [
        "import pandas as pd\n",
        "import numpy as np\n",
        "from sklearn.metrics import confusion_matrix, f1_score\n",
        "import json\n",
        "import re\n",
        "from tqdm import tqdm_notebook as tqdm\n",
        "from sklearn.model_selection import train_test_split\n",
        "from collections import defaultdict"
      ],
      "execution_count": 0,
      "outputs": []
    },
    {
      "cell_type": "code",
      "metadata": {
        "id": "s0B56fIs5dwy",
        "colab_type": "code",
        "colab": {}
      },
      "source": [
        "path = '/content/drive/My Drive/Health_and_Personal_Care_5.json'"
      ],
      "execution_count": 0,
      "outputs": []
    },
    {
      "cell_type": "code",
      "metadata": {
        "id": "4xw5uI7L5tX1",
        "colab_type": "code",
        "outputId": "39465a2a-c6f7-4c01-a5b4-3788a1f06962",
        "colab": {
          "base_uri": "https://localhost:8080/",
          "height": 116,
          "referenced_widgets": [
            "93d5e6fbbeb04b77a0654ea9301b7c75",
            "e86475c9b0904471b4f8c13a20d218d3",
            "3915ee7ead174a53bf1c53eaf2d44df3",
            "ee92a63fe0f74281b2699462b828485f",
            "35f9705ec8374b68ab1bfba76cc4a17e",
            "936aa599b2574a8c948f45e1cda2df16",
            "f10eb3d7fa094546ac374415e62762c9",
            "6ebb4da684b24d71a21a7f3969369865"
          ]
        }
      },
      "source": [
        "data = []\n",
        "\n",
        "with open(path,'r',encoding='utf8') as file:\n",
        "  for line in tqdm(file):\n",
        "    data.append(json.loads(line.strip()))\n",
        "    "
      ],
      "execution_count": 0,
      "outputs": [
        {
          "output_type": "stream",
          "text": [
            "/usr/local/lib/python3.6/dist-packages/ipykernel_launcher.py:4: TqdmDeprecationWarning: This function will be removed in tqdm==5.0.0\n",
            "Please use `tqdm.notebook.tqdm` instead of `tqdm.tqdm_notebook`\n",
            "  after removing the cwd from sys.path.\n"
          ],
          "name": "stderr"
        },
        {
          "output_type": "display_data",
          "data": {
            "application/vnd.jupyter.widget-view+json": {
              "model_id": "93d5e6fbbeb04b77a0654ea9301b7c75",
              "version_minor": 0,
              "version_major": 2
            },
            "text/plain": [
              "HBox(children=(IntProgress(value=1, bar_style='info', max=1), HTML(value='')))"
            ]
          },
          "metadata": {
            "tags": []
          }
        },
        {
          "output_type": "stream",
          "text": [
            "\n"
          ],
          "name": "stdout"
        }
      ]
    },
    {
      "cell_type": "code",
      "metadata": {
        "id": "kzNU4Wr15vzO",
        "colab_type": "code",
        "outputId": "b12c729c-c1bf-47e9-a712-4fa7aac66c50",
        "colab": {
          "base_uri": "https://localhost:8080/",
          "height": 212
        }
      },
      "source": [
        "df = pd.DataFrame(data)\n",
        "print(df.shape)\n",
        "df.head()"
      ],
      "execution_count": 0,
      "outputs": [
        {
          "output_type": "stream",
          "text": [
            "(346355, 9)\n"
          ],
          "name": "stdout"
        },
        {
          "output_type": "execute_result",
          "data": {
            "text/html": [
              "<div>\n",
              "<style scoped>\n",
              "    .dataframe tbody tr th:only-of-type {\n",
              "        vertical-align: middle;\n",
              "    }\n",
              "\n",
              "    .dataframe tbody tr th {\n",
              "        vertical-align: top;\n",
              "    }\n",
              "\n",
              "    .dataframe thead th {\n",
              "        text-align: right;\n",
              "    }\n",
              "</style>\n",
              "<table border=\"1\" class=\"dataframe\">\n",
              "  <thead>\n",
              "    <tr style=\"text-align: right;\">\n",
              "      <th></th>\n",
              "      <th>reviewerID</th>\n",
              "      <th>asin</th>\n",
              "      <th>reviewerName</th>\n",
              "      <th>helpful</th>\n",
              "      <th>reviewText</th>\n",
              "      <th>overall</th>\n",
              "      <th>summary</th>\n",
              "      <th>unixReviewTime</th>\n",
              "      <th>reviewTime</th>\n",
              "    </tr>\n",
              "  </thead>\n",
              "  <tbody>\n",
              "    <tr>\n",
              "      <th>0</th>\n",
              "      <td>ALC5GH8CAMAI7</td>\n",
              "      <td>159985130X</td>\n",
              "      <td>AnnN</td>\n",
              "      <td>[1, 1]</td>\n",
              "      <td>This is a great little gadget to have around. ...</td>\n",
              "      <td>5.0</td>\n",
              "      <td>Handy little gadget</td>\n",
              "      <td>1294185600</td>\n",
              "      <td>01 5, 2011</td>\n",
              "    </tr>\n",
              "    <tr>\n",
              "      <th>1</th>\n",
              "      <td>AHKSURW85PJUE</td>\n",
              "      <td>159985130X</td>\n",
              "      <td>AZ buyer \"AZ buyer\"</td>\n",
              "      <td>[1, 1]</td>\n",
              "      <td>I would recommend this for a travel magnifier ...</td>\n",
              "      <td>4.0</td>\n",
              "      <td>Small &amp; may need to encourage battery</td>\n",
              "      <td>1329523200</td>\n",
              "      <td>02 18, 2012</td>\n",
              "    </tr>\n",
              "    <tr>\n",
              "      <th>2</th>\n",
              "      <td>A38RMU1Y5TDP9</td>\n",
              "      <td>159985130X</td>\n",
              "      <td>Bob Tobias \"Robert Tobias\"</td>\n",
              "      <td>[75, 77]</td>\n",
              "      <td>What I liked was the quality of the lens and t...</td>\n",
              "      <td>4.0</td>\n",
              "      <td>Very good but not great</td>\n",
              "      <td>1275955200</td>\n",
              "      <td>06 8, 2010</td>\n",
              "    </tr>\n",
              "    <tr>\n",
              "      <th>3</th>\n",
              "      <td>A1XZUG7DFXXOS4</td>\n",
              "      <td>159985130X</td>\n",
              "      <td>Cat lover</td>\n",
              "      <td>[56, 60]</td>\n",
              "      <td>Love the Great point light pocket magnifier!  ...</td>\n",
              "      <td>4.0</td>\n",
              "      <td>great addition to your purse</td>\n",
              "      <td>1202428800</td>\n",
              "      <td>02 8, 2008</td>\n",
              "    </tr>\n",
              "    <tr>\n",
              "      <th>4</th>\n",
              "      <td>A1MS3M7M7AM13X</td>\n",
              "      <td>159985130X</td>\n",
              "      <td>Cricketoes</td>\n",
              "      <td>[1, 1]</td>\n",
              "      <td>This is very nice. You pull out on the magnifi...</td>\n",
              "      <td>5.0</td>\n",
              "      <td>Very nice and convenient.</td>\n",
              "      <td>1313452800</td>\n",
              "      <td>08 16, 2011</td>\n",
              "    </tr>\n",
              "  </tbody>\n",
              "</table>\n",
              "</div>"
            ],
            "text/plain": [
              "       reviewerID        asin  ... unixReviewTime   reviewTime\n",
              "0   ALC5GH8CAMAI7  159985130X  ...     1294185600   01 5, 2011\n",
              "1   AHKSURW85PJUE  159985130X  ...     1329523200  02 18, 2012\n",
              "2   A38RMU1Y5TDP9  159985130X  ...     1275955200   06 8, 2010\n",
              "3  A1XZUG7DFXXOS4  159985130X  ...     1202428800   02 8, 2008\n",
              "4  A1MS3M7M7AM13X  159985130X  ...     1313452800  08 16, 2011\n",
              "\n",
              "[5 rows x 9 columns]"
            ]
          },
          "metadata": {
            "tags": []
          },
          "execution_count": 10
        }
      ]
    },
    {
      "cell_type": "markdown",
      "metadata": {
        "id": "FdTFLldhRw4r",
        "colab_type": "text"
      },
      "source": [
        "Breaking sentences into words"
      ]
    },
    {
      "cell_type": "code",
      "metadata": {
        "id": "_DeGkawA8c3b",
        "colab_type": "code",
        "outputId": "7610bec8-a653-462d-ac23-e62137e79add",
        "colab": {
          "base_uri": "https://localhost:8080/",
          "height": 34
        }
      },
      "source": [
        "regex_words = re.compile(r\"[\\w']+\")\n",
        "get_words = lambda text: [word for word in regex_words.findall(text.lower()) if word]\n",
        "get_words('Hello how, are you ? Friend')"
      ],
      "execution_count": 0,
      "outputs": [
        {
          "output_type": "execute_result",
          "data": {
            "text/plain": [
              "['hello', 'how', 'are', 'you', 'friend']"
            ]
          },
          "metadata": {
            "tags": []
          },
          "execution_count": 11
        }
      ]
    },
    {
      "cell_type": "code",
      "metadata": {
        "id": "ek-__tZq-vs5",
        "colab_type": "code",
        "outputId": "e508c3ad-c95f-4dd9-cf7b-e8531fc483d0",
        "colab": {
          "base_uri": "https://localhost:8080/",
          "height": 279
        }
      },
      "source": [
        "df['words'] = df['reviewText'].apply(get_words)\n",
        "df.head()"
      ],
      "execution_count": 0,
      "outputs": [
        {
          "output_type": "execute_result",
          "data": {
            "text/html": [
              "<div>\n",
              "<style scoped>\n",
              "    .dataframe tbody tr th:only-of-type {\n",
              "        vertical-align: middle;\n",
              "    }\n",
              "\n",
              "    .dataframe tbody tr th {\n",
              "        vertical-align: top;\n",
              "    }\n",
              "\n",
              "    .dataframe thead th {\n",
              "        text-align: right;\n",
              "    }\n",
              "</style>\n",
              "<table border=\"1\" class=\"dataframe\">\n",
              "  <thead>\n",
              "    <tr style=\"text-align: right;\">\n",
              "      <th></th>\n",
              "      <th>reviewerID</th>\n",
              "      <th>asin</th>\n",
              "      <th>reviewerName</th>\n",
              "      <th>helpful</th>\n",
              "      <th>reviewText</th>\n",
              "      <th>overall</th>\n",
              "      <th>summary</th>\n",
              "      <th>unixReviewTime</th>\n",
              "      <th>reviewTime</th>\n",
              "      <th>words</th>\n",
              "    </tr>\n",
              "  </thead>\n",
              "  <tbody>\n",
              "    <tr>\n",
              "      <th>0</th>\n",
              "      <td>ALC5GH8CAMAI7</td>\n",
              "      <td>159985130X</td>\n",
              "      <td>AnnN</td>\n",
              "      <td>[1, 1]</td>\n",
              "      <td>This is a great little gadget to have around. ...</td>\n",
              "      <td>5.0</td>\n",
              "      <td>Handy little gadget</td>\n",
              "      <td>1294185600</td>\n",
              "      <td>01 5, 2011</td>\n",
              "      <td>[this, is, a, great, little, gadget, to, have,...</td>\n",
              "    </tr>\n",
              "    <tr>\n",
              "      <th>1</th>\n",
              "      <td>AHKSURW85PJUE</td>\n",
              "      <td>159985130X</td>\n",
              "      <td>AZ buyer \"AZ buyer\"</td>\n",
              "      <td>[1, 1]</td>\n",
              "      <td>I would recommend this for a travel magnifier ...</td>\n",
              "      <td>4.0</td>\n",
              "      <td>Small &amp; may need to encourage battery</td>\n",
              "      <td>1329523200</td>\n",
              "      <td>02 18, 2012</td>\n",
              "      <td>[i, would, recommend, this, for, a, travel, ma...</td>\n",
              "    </tr>\n",
              "    <tr>\n",
              "      <th>2</th>\n",
              "      <td>A38RMU1Y5TDP9</td>\n",
              "      <td>159985130X</td>\n",
              "      <td>Bob Tobias \"Robert Tobias\"</td>\n",
              "      <td>[75, 77]</td>\n",
              "      <td>What I liked was the quality of the lens and t...</td>\n",
              "      <td>4.0</td>\n",
              "      <td>Very good but not great</td>\n",
              "      <td>1275955200</td>\n",
              "      <td>06 8, 2010</td>\n",
              "      <td>[what, i, liked, was, the, quality, of, the, l...</td>\n",
              "    </tr>\n",
              "    <tr>\n",
              "      <th>3</th>\n",
              "      <td>A1XZUG7DFXXOS4</td>\n",
              "      <td>159985130X</td>\n",
              "      <td>Cat lover</td>\n",
              "      <td>[56, 60]</td>\n",
              "      <td>Love the Great point light pocket magnifier!  ...</td>\n",
              "      <td>4.0</td>\n",
              "      <td>great addition to your purse</td>\n",
              "      <td>1202428800</td>\n",
              "      <td>02 8, 2008</td>\n",
              "      <td>[love, the, great, point, light, pocket, magni...</td>\n",
              "    </tr>\n",
              "    <tr>\n",
              "      <th>4</th>\n",
              "      <td>A1MS3M7M7AM13X</td>\n",
              "      <td>159985130X</td>\n",
              "      <td>Cricketoes</td>\n",
              "      <td>[1, 1]</td>\n",
              "      <td>This is very nice. You pull out on the magnifi...</td>\n",
              "      <td>5.0</td>\n",
              "      <td>Very nice and convenient.</td>\n",
              "      <td>1313452800</td>\n",
              "      <td>08 16, 2011</td>\n",
              "      <td>[this, is, very, nice, you, pull, out, on, the...</td>\n",
              "    </tr>\n",
              "  </tbody>\n",
              "</table>\n",
              "</div>"
            ],
            "text/plain": [
              "       reviewerID  ...                                              words\n",
              "0   ALC5GH8CAMAI7  ...  [this, is, a, great, little, gadget, to, have,...\n",
              "1   AHKSURW85PJUE  ...  [i, would, recommend, this, for, a, travel, ma...\n",
              "2   A38RMU1Y5TDP9  ...  [what, i, liked, was, the, quality, of, the, l...\n",
              "3  A1XZUG7DFXXOS4  ...  [love, the, great, point, light, pocket, magni...\n",
              "4  A1MS3M7M7AM13X  ...  [this, is, very, nice, you, pull, out, on, the...\n",
              "\n",
              "[5 rows x 10 columns]"
            ]
          },
          "metadata": {
            "tags": []
          },
          "execution_count": 12
        }
      ]
    },
    {
      "cell_type": "markdown",
      "metadata": {
        "id": "Sj6xhsDvSKmK",
        "colab_type": "text"
      },
      "source": [
        "Removing outliers with too many words"
      ]
    },
    {
      "cell_type": "code",
      "metadata": {
        "id": "POjaU1m3xfpW",
        "colab_type": "code",
        "outputId": "6d4bba7e-6d0a-4f1d-d3ae-d1644039dd71",
        "colab": {
          "base_uri": "https://localhost:8080/",
          "height": 282
        }
      },
      "source": [
        "df['n_words'] = df['words'].apply(len)\n",
        "df['n_words'].hist(bins = 100)"
      ],
      "execution_count": 0,
      "outputs": [
        {
          "output_type": "execute_result",
          "data": {
            "text/plain": [
              "<matplotlib.axes._subplots.AxesSubplot at 0x7f5ed51b6080>"
            ]
          },
          "metadata": {
            "tags": []
          },
          "execution_count": 13
        },
        {
          "output_type": "display_data",
          "data": {
            "image/png": "[encoded data removed]",
            "text/plain": [
              "<Figure size 432x288 with 1 Axes>"
            ]
          },
          "metadata": {
            "tags": [],
            "needs_background": "light"
          }
        }
      ]
    },
    {
      "cell_type": "code",
      "metadata": {
        "id": "OIaI2sWnxfm0",
        "colab_type": "code",
        "outputId": "ddffa2d2-70bc-4832-e828-7a61a1f2582f",
        "colab": {
          "base_uri": "https://localhost:8080/",
          "height": 50
        }
      },
      "source": [
        "print(df.shape)\n",
        "df = df[df['n_words'] < 300]\n",
        "df.shape"
      ],
      "execution_count": 0,
      "outputs": [
        {
          "output_type": "stream",
          "text": [
            "(346355, 11)\n"
          ],
          "name": "stdout"
        },
        {
          "output_type": "execute_result",
          "data": {
            "text/plain": [
              "(330893, 11)"
            ]
          },
          "metadata": {
            "tags": []
          },
          "execution_count": 14
        }
      ]
    },
    {
      "cell_type": "markdown",
      "metadata": {
        "id": "_k4Jf5P7STH3",
        "colab_type": "text"
      },
      "source": [
        "Let's rebalance the 5 classes"
      ]
    },
    {
      "cell_type": "code",
      "metadata": {
        "id": "Iu7rzRAH-yKw",
        "colab_type": "code",
        "outputId": "7fad5632-49d4-4bee-d79c-80e6389324fa",
        "colab": {
          "base_uri": "https://localhost:8080/",
          "height": 282
        }
      },
      "source": [
        "df['overall'].hist()"
      ],
      "execution_count": 0,
      "outputs": [
        {
          "output_type": "execute_result",
          "data": {
            "text/plain": [
              "<matplotlib.axes._subplots.AxesSubplot at 0x7f5ed520e6a0>"
            ]
          },
          "metadata": {
            "tags": []
          },
          "execution_count": 15
        },
        {
          "output_type": "display_data",
          "data": {
            "image/png": "[encoded data removed]",
            "text/plain": [
              "<Figure size 432x288 with 1 Axes>"
            ]
          },
          "metadata": {
            "tags": [],
            "needs_background": "light"
          }
        }
      ]
    },
    {
      "cell_type": "code",
      "metadata": {
        "id": "gVnb3Gn_w3jI",
        "colab_type": "code",
        "outputId": "8f422ea0-5a22-4749-f41e-3296799dabe5",
        "colab": {
          "base_uri": "https://localhost:8080/",
          "height": 118
        }
      },
      "source": [
        "classes_freq = df['overall'].value_counts()\n",
        "smallest_class = classes_freq.min()\n",
        "display(classes_freq)"
      ],
      "execution_count": 0,
      "outputs": [
        {
          "output_type": "display_data",
          "data": {
            "text/plain": [
              "5.0    204131\n",
              "4.0     63887\n",
              "3.0     31242\n",
              "1.0     15829\n",
              "2.0     15804\n",
              "Name: overall, dtype: int64"
            ]
          },
          "metadata": {
            "tags": []
          }
        }
      ]
    },
    {
      "cell_type": "code",
      "metadata": {
        "id": "C6PmNcq7w3hh",
        "colab_type": "code",
        "outputId": "a4292aea-9fa9-4ffa-99db-9a87b8688f82",
        "colab": {
          "base_uri": "https://localhost:8080/",
          "height": 118
        }
      },
      "source": [
        "balanced_subset = df.groupby('overall').apply(lambda df: df.sample(smallest_class))\n",
        "balanced_subset['overall'].value_counts()"
      ],
      "execution_count": 0,
      "outputs": [
        {
          "output_type": "execute_result",
          "data": {
            "text/plain": [
              "5.0    15804\n",
              "4.0    15804\n",
              "3.0    15804\n",
              "2.0    15804\n",
              "1.0    15804\n",
              "Name: overall, dtype: int64"
            ]
          },
          "metadata": {
            "tags": []
          },
          "execution_count": 17
        }
      ]
    },
    {
      "cell_type": "code",
      "metadata": {
        "id": "AofYysHRw3d3",
        "colab_type": "code",
        "colab": {}
      },
      "source": [
        ""
      ],
      "execution_count": 0,
      "outputs": []
    },
    {
      "cell_type": "markdown",
      "metadata": {
        "id": "d00KFLVwSd85",
        "colab_type": "text"
      },
      "source": [
        "Let's create a nice dataset with:\n",
        "- array of words ids![alt text](https://)\n",
        "- array of labels (here numerical from 0 to 4)\n",
        "\n",
        "And also break into training and test"
      ]
    },
    {
      "cell_type": "code",
      "metadata": {
        "id": "OKzb_9xEAZFn",
        "colab_type": "code",
        "colab": {}
      },
      "source": [
        ""
      ],
      "execution_count": 0,
      "outputs": []
    },
    {
      "cell_type": "code",
      "metadata": {
        "id": "eETpCEFxAf74",
        "colab_type": "code",
        "outputId": "d9d0fb03-74fc-4eee-ff42-7db811d07d1d",
        "colab": {
          "base_uri": "https://localhost:8080/",
          "height": 34
        }
      },
      "source": [
        ""
      ],
      "execution_count": 0,
      "outputs": [
        {
          "output_type": "execute_result",
          "data": {
            "text/plain": [
              "'Tesla P4'"
            ]
          },
          "metadata": {
            "tags": []
          },
          "execution_count": 45
        }
      ]
    },
    {
      "cell_type": "code",
      "metadata": {
        "id": "9SBACjy5_P_5",
        "colab_type": "code",
        "colab": {}
      },
      "source": [
        "X = balanced_subset['words'].values\n",
        "y = balanced_subset['overall'].values - 1"
      ],
      "execution_count": 0,
      "outputs": []
    },
    {
      "cell_type": "code",
      "metadata": {
        "id": "8C4xhTCH_X-H",
        "colab_type": "code",
        "colab": {}
      },
      "source": [
        "X_train, X_test, y_train, y_test = train_test_split(X, y, test_size=0.33, random_state=42)"
      ],
      "execution_count": 0,
      "outputs": []
    },
    {
      "cell_type": "code",
      "metadata": {
        "id": "RWpq_Fq9_ari",
        "colab_type": "code",
        "colab": {}
      },
      "source": [
        "word_id = defaultdict(lambda: len(word_id))"
      ],
      "execution_count": 0,
      "outputs": []
    },
    {
      "cell_type": "code",
      "metadata": {
        "id": "NytvC8fPAEg-",
        "colab_type": "code",
        "colab": {}
      },
      "source": [
        "for words in df['words']:\n",
        "  for word in words:\n",
        "    word_id[word]"
      ],
      "execution_count": 0,
      "outputs": []
    },
    {
      "cell_type": "code",
      "metadata": {
        "id": "6VJ70jacBSRr",
        "colab_type": "code",
        "colab": {}
      },
      "source": [
        "n_words = len(word_id)\n",
        "n_classes = 5"
      ],
      "execution_count": 0,
      "outputs": []
    },
    {
      "cell_type": "code",
      "metadata": {
        "id": "NQdfwh7FBaHj",
        "colab_type": "code",
        "outputId": "2dabf606-2db4-40a0-ac8f-3d036a394332",
        "colab": {
          "base_uri": "https://localhost:8080/",
          "height": 34
        }
      },
      "source": [
        "print(n_words)"
      ],
      "execution_count": 0,
      "outputs": [
        {
          "output_type": "stream",
          "text": [
            "126146\n"
          ],
          "name": "stdout"
        }
      ]
    },
    {
      "cell_type": "markdown",
      "metadata": {
        "id": "COrSke2JSxv4",
        "colab_type": "text"
      },
      "source": [
        "We're now ready for the training"
      ]
    },
    {
      "cell_type": "code",
      "metadata": {
        "id": "neIFO9gXBbdw",
        "colab_type": "code",
        "outputId": "424ac298-3c56-40d2-d5d6-3c8f066e9de5",
        "colab": {
          "base_uri": "https://localhost:8080/",
          "height": 34
        }
      },
      "source": [
        "import torch\n",
        "import torch.nn as nn\n",
        "import torch.nn.functional as F\n",
        "import torch.optim as optim\n",
        "\n",
        "torch.manual_seed(1)"
      ],
      "execution_count": 0,
      "outputs": [
        {
          "output_type": "execute_result",
          "data": {
            "text/plain": [
              "<torch._C.Generator at 0x7f5f00051890>"
            ]
          },
          "metadata": {
            "tags": []
          },
          "execution_count": 24
        }
      ]
    },
    {
      "cell_type": "code",
      "metadata": {
        "id": "I0ZP5GxkXVPG",
        "colab_type": "code",
        "outputId": "c9520043-bf8e-4f9b-bd57-c5ab21c31d7c",
        "colab": {
          "base_uri": "https://localhost:8080/",
          "height": 34
        }
      },
      "source": [
        "torch.cuda.set_device(0)\n",
        "torch.cuda.get_device_name()"
      ],
      "execution_count": 0,
      "outputs": [
        {
          "output_type": "execute_result",
          "data": {
            "text/plain": [
              "'Tesla P4'"
            ]
          },
          "metadata": {
            "tags": []
          },
          "execution_count": 46
        }
      ]
    },
    {
      "cell_type": "code",
      "metadata": {
        "id": "dm__IkdrBl2g",
        "colab_type": "code",
        "colab": {}
      },
      "source": [
        "\n",
        "class BoWClassifier(nn.Module): \n",
        "\n",
        "    def __init__(self, num_labels, vocab_size):\n",
        "        super(BoWClassifier, self).__init__()\n",
        "        self.linear = nn.Linear(vocab_size, num_labels)\n",
        "\n",
        "\n",
        "    def forward(self, bow_vec):\n",
        "        return F.log_softmax(self.linear(bow_vec), dim=1)\n",
        "\n",
        "\n",
        "def make_bow_vector(sentence, word_to_ix):\n",
        "    vec = torch.zeros(len(word_to_ix))\n",
        "    for word in sentence:\n",
        "        vec[word_to_ix[word]] += 1\n",
        "    return vec.view(1, -1)\n",
        "\n",
        "\n",
        "def make_target(label, label_to_ix):\n",
        "    return torch.LongTensor([label]) # from 0 to 4\n",
        "\n",
        "\n",
        "model = BoWClassifier(n_classes, n_words)\n"
      ],
      "execution_count": 0,
      "outputs": []
    },
    {
      "cell_type": "code",
      "metadata": {
        "id": "lGgXJ3VRQZat",
        "colab_type": "code",
        "outputId": "9213dbc4-d420-4a14-abb4-4a7bbdbffcaf",
        "colab": {
          "base_uri": "https://localhost:8080/",
          "height": 34
        }
      },
      "source": [
        "y"
      ],
      "execution_count": 0,
      "outputs": [
        {
          "output_type": "execute_result",
          "data": {
            "text/plain": [
              "array([0., 0., 0., ..., 4., 4., 4.])"
            ]
          },
          "metadata": {
            "tags": []
          },
          "execution_count": 26
        }
      ]
    },
    {
      "cell_type": "code",
      "metadata": {
        "id": "M78ryhvY296n",
        "colab_type": "code",
        "colab": {}
      },
      "source": [
        ""
      ],
      "execution_count": 0,
      "outputs": []
    },
    {
      "cell_type": "code",
      "metadata": {
        "id": "K8U8pFNj29-N",
        "colab_type": "code",
        "colab": {}
      },
      "source": [
        ""
      ],
      "execution_count": 0,
      "outputs": []
    },
    {
      "cell_type": "code",
      "metadata": {
        "id": "rq-QEj8dU31M",
        "colab_type": "code",
        "colab": {}
      },
      "source": [
        "def eval_model(model,data,labels,sample=1.,show_f1=False,show_confusion=False):\n",
        "  if sample != 1.:\n",
        "    mask = np.random.random(size=len(data)) < sample\n",
        "  data = data[mask]\n",
        "  labels = labels[mask]\n",
        "  log_probs = []\n",
        "  with torch.no_grad():\n",
        "    for instance in data: \n",
        "      bow_vec = make_bow_vector(instance, word_id)\n",
        "      log_probs.append(model(bow_vec).numpy()[0])\n",
        "  log_probs = np.vstack(log_probs)\n",
        "  y_pred = log_probs.argmax(axis=1)\n",
        "  confusion = confusion_matrix(labels,y_pred)\n",
        "  f1 = f1_score(labels,y_pred, labels=range(5),average='micro')\n",
        "  if show_f1:\n",
        "    print('F1 score = %5.3f' % f1)\n",
        "  if show_confusion:\n",
        "    print(confusion)\n",
        "  return log_probs,y_pred,confusion,f1"
      ],
      "execution_count": 0,
      "outputs": []
    },
    {
      "cell_type": "code",
      "metadata": {
        "id": "t9c-_c312v3q",
        "colab_type": "code",
        "outputId": "60a939cc-57d5-490c-95e3-1439dd4191f0",
        "colab": {
          "base_uri": "https://localhost:8080/",
          "height": 1000,
          "referenced_widgets": [
            "15452146c3314ea299c1f43470f26d61",
            "fd454d9457724c3a9a0a35b7055ba0e8",
            "e5836256a7ce4fbb90db5f1343fa14c6",
            "35d2c5a7ff8f4119bdf1a9ca9ef99285",
            "6e10d3ec50d74f05a3fa0f63c7baf500",
            "5ddeb7a908614e369b8e33a964ea19ab",
            "389171ed6311420c8adaab47e913c57f",
            "aeeb8244fc1f4ec797d656e0bc712da6",
            "deb57dca2d0b4ecd8d398a559ecb01bf",
            "4971c824b5bd4874adcca0f4819d9dc9",
            "0df9915340c64bc1b9bc4f5102cecdd4",
            "6b3eb823fd774cc7abd8f47ef67cdd98",
            "5e921226387f400b975e48283b941f66",
            "8b7ff9b463a841f88fbe4477ffa7c569",
            "965b3a217f824d51bce33af6b8a31d5d",
            "827dc90a922a4068aadcefed30ad495c",
            "bd168c426d0840229b306ea2d516b7e0",
            "c9d2d9e8641d4b34a0dd405c81689351",
            "c9d8e2dd75784933b33f19d9b837f01b",
            "39256936467346d18319034f0b8b8389",
            "abdbc253fafe4a82995b1410cc7c3462",
            "f4700a58e5ef4b9098a56ff30f51f82c",
            "d79d49aa42d34157979cd69341a4cb5a",
            "c849567bc8ee46aca2135b6b704b81e9",
            "41fc3b02dc724894af7034d636485471",
            "a56285fa0f8942a7ae3222518104ccf8",
            "77f9cf24df574dc0aa0b424c4467bfb4",
            "b4e4e54c6d4843f19131c3ceb9425e86",
            "05ef1b26e5aa41c29e5d6f6e2e2373e1",
            "3b7b5b50fe2e4764974acfffc13555eb",
            "992223e072a347e2b21f02c32e5771bf",
            "27b2353bd49d476388aedc75398221f3"
          ]
        }
      },
      "source": [
        "\n",
        "loss_function = nn.NLLLoss()\n",
        "optimizer = optim.SGD(model.parameters(), lr=0.1)\n",
        "\n",
        "for epoch in tqdm(range(10)):\n",
        "    for t,(instance, label) in tqdm(enumerate(zip(X_train,y_train))):\n",
        "        model.zero_grad()\n",
        "\n",
        "        bow_vec = make_bow_vector(instance, word_id)\n",
        "        target = make_target(label, None)\n",
        "\n",
        "        log_probs = model(bow_vec)\n",
        "\n",
        "        loss = loss_function(log_probs, target)\n",
        "        loss.backward()\n",
        "        optimizer.step()\n",
        "\n",
        "        if t % 10000 == 0:\n",
        "          print(t)\n",
        "          for word in ['good','bad','great','terrible']:\n",
        "            print(word,next(model.parameters())[:, word_id[word]])\n",
        "          print('Train')\n",
        "          log_probs,y_pred,confusion,f1 = eval_model(model,X_train,y_train,sample=0.1,show_f1=True)\n",
        "          print('Test')\n",
        "          log_probs,y_pred,confusion,f1 = eval_model(model,X_test,y_test,sample=0.1,show_confusion=True,show_f1=True)\n"
      ],
      "execution_count": 0,
      "outputs": [
        {
          "output_type": "stream",
          "text": [
            "/usr/local/lib/python3.6/dist-packages/ipykernel_launcher.py:5: TqdmDeprecationWarning: This function will be removed in tqdm==5.0.0\n",
            "Please use `tqdm.notebook.tqdm` instead of `tqdm.tqdm_notebook`\n",
            "  \"\"\"\n"
          ],
          "name": "stderr"
        },
        {
          "output_type": "display_data",
          "data": {
            "application/vnd.jupyter.widget-view+json": {
              "model_id": "15452146c3314ea299c1f43470f26d61",
              "version_minor": 0,
              "version_major": 2
            },
            "text/plain": [
              "HBox(children=(IntProgress(value=0, max=10), HTML(value='')))"
            ]
          },
          "metadata": {
            "tags": []
          }
        },
        {
          "output_type": "stream",
          "text": [
            "/usr/local/lib/python3.6/dist-packages/ipykernel_launcher.py:6: TqdmDeprecationWarning: This function will be removed in tqdm==5.0.0\n",
            "Please use `tqdm.notebook.tqdm` instead of `tqdm.tqdm_notebook`\n",
            "  \n"
          ],
          "name": "stderr"
        },
        {
          "output_type": "display_data",
          "data": {
            "application/vnd.jupyter.widget-view+json": {
              "model_id": "deb57dca2d0b4ecd8d398a559ecb01bf",
              "version_minor": 0,
              "version_major": 2
            },
            "text/plain": [
              "HBox(children=(IntProgress(value=1, bar_style='info', max=1), HTML(value='')))"
            ]
          },
          "metadata": {
            "tags": []
          }
        },
        {
          "output_type": "stream",
          "text": [
            "0\n",
            "good tensor([ 0.0020, -0.0020,  0.0026,  0.0006, -0.0020], grad_fn=<SelectBackward>)\n",
            "bad tensor([ 0.0796, -0.0201, -0.0181, -0.0190, -0.0168], grad_fn=<SelectBackward>)\n",
            "great tensor([-0.0027, -0.0007, -0.0028,  0.0019,  0.0024], grad_fn=<SelectBackward>)\n",
            "terrible tensor([-0.0024,  0.0015,  0.0019,  0.0026, -0.0015], grad_fn=<SelectBackward>)\n",
            "Train\n",
            "F! score = 0.201\n",
            "Test\n",
            "F! score = 0.202\n",
            "[[531   0   0   0   0]\n",
            " [528   0   0   0   0]\n",
            " [538   0   0   0   0]\n",
            " [523   0   0   0   0]\n",
            " [508   0   0   0   0]]\n",
            "10000\n",
            "good tensor([-1.8418, -0.7903, -0.1380,  2.1401,  0.6313], grad_fn=<SelectBackward>)\n",
            "bad tensor([ 1.5195,  0.7671, -0.7385, -0.8359, -0.7065], grad_fn=<SelectBackward>)\n",
            "great tensor([-2.3764, -1.0663, -2.5859,  2.4705,  3.5562], grad_fn=<SelectBackward>)\n",
            "terrible tensor([ 1.2371,  0.4869, -0.4775, -0.7008, -0.5436], grad_fn=<SelectBackward>)\n",
            "Train\n",
            "F! score = 0.393\n",
            "Test\n",
            "F! score = 0.365\n",
            "[[260  86  43   9 113]\n",
            " [158  96  95  12 150]\n",
            " [ 73  96 131  27 177]\n",
            " [ 32  39 103  38 322]\n",
            " [ 24  40  32  22 426]]\n",
            "20000\n",
            "good tensor([-3.2419, -0.1629, -1.4882,  3.6000,  1.2943], grad_fn=<SelectBackward>)\n",
            "bad tensor([ 1.0915, -0.1682,  0.3523, -0.1060, -1.1640], grad_fn=<SelectBackward>)\n",
            "great tensor([-4.3440, -0.6776, -2.0827,  2.3761,  4.7263], grad_fn=<SelectBackward>)\n",
            "terrible tensor([ 2.6539,  0.3028, -1.4092, -0.7688, -0.7766], grad_fn=<SelectBackward>)\n",
            "Train\n",
            "F! score = 0.400\n",
            "Test\n",
            "F! score = 0.375\n",
            "[[217 104 153  14  19]\n",
            " [ 90 126 259  18  23]\n",
            " [ 45 104 309  32  43]\n",
            " [ 18  38 265  77 118]\n",
            " [ 29  55 158  38 243]]\n",
            "30000\n",
            "good tensor([-1.9573, -0.5598, -0.8096,  1.5353,  1.7927], grad_fn=<SelectBackward>)\n",
            "bad tensor([ 0.9154,  0.4569,  0.3336, -0.7572, -0.9430], grad_fn=<SelectBackward>)\n",
            "great tensor([-2.2288, -1.5225, -2.8005,  4.3897,  2.1602], grad_fn=<SelectBackward>)\n",
            "terrible tensor([ 3.1341,  0.3591, -0.9624, -0.9824, -1.5463], grad_fn=<SelectBackward>)\n",
            "Train\n",
            "F! score = 0.426\n",
            "Test\n",
            "F! score = 0.382\n",
            "[[220 135  37  44  62]\n",
            " [130 169  79  83  73]\n",
            " [ 72 126 116 137 107]\n",
            " [ 26  57  63 195 191]\n",
            " [ 34  40  31 106 311]]\n",
            "40000\n",
            "good tensor([-1.9880, -0.7494, -0.4772,  2.4375,  0.7783], grad_fn=<SelectBackward>)\n",
            "bad tensor([ 1.1196, -0.8162,  2.0012, -1.1070, -1.1919], grad_fn=<SelectBackward>)\n",
            "great tensor([-3.9980, -2.1331, -2.0155,  3.5718,  4.5729], grad_fn=<SelectBackward>)\n",
            "terrible tensor([ 4.5749,  0.5270, -2.1298, -0.8973, -2.0727], grad_fn=<SelectBackward>)\n",
            "Train\n",
            "F! score = 0.411\n",
            "Test\n",
            "F! score = 0.391\n",
            "[[235 112 149  23  13]\n",
            " [111  88 276  24  10]\n",
            " [ 60  54 378  40  14]\n",
            " [ 31  25 284 127  61]\n",
            " [ 28  18 143 103 187]]\n",
            "50000\n",
            "good tensor([-2.0168, -1.6367,  0.9340,  1.6881,  1.0326], grad_fn=<SelectBackward>)\n",
            "bad tensor([ 2.4028, -1.1769, -0.3366,  0.2254, -1.1089], grad_fn=<SelectBackward>)\n",
            "great tensor([-2.9910, -2.8092,  0.6302,  1.1772,  3.9908], grad_fn=<SelectBackward>)\n",
            "terrible tensor([ 4.6863,  1.2105, -2.6794, -1.0127, -2.2026], grad_fn=<SelectBackward>)\n",
            "Train\n",
            "F! score = 0.430\n",
            "Test\n",
            "F! score = 0.399\n",
            "[[351 134   9   7  21]\n",
            " [220 207  20  26  38]\n",
            " [135 206  32  78  75]\n",
            " [ 94  95  25 124 185]\n",
            " [ 62  57   8  64 321]]\n",
            "\n"
          ],
          "name": "stdout"
        },
        {
          "output_type": "display_data",
          "data": {
            "application/vnd.jupyter.widget-view+json": {
              "model_id": "bd168c426d0840229b306ea2d516b7e0",
              "version_minor": 0,
              "version_major": 2
            },
            "text/plain": [
              "HBox(children=(IntProgress(value=1, bar_style='info', max=1), HTML(value='')))"
            ]
          },
          "metadata": {
            "tags": []
          }
        },
        {
          "output_type": "stream",
          "text": [
            "0\n",
            "good tensor([-1.8368, -1.4258,  0.8613,  2.4411, -0.0386], grad_fn=<SelectBackward>)\n",
            "bad tensor([ 3.2421, -1.3405, -0.1597, -0.6441, -1.0921], grad_fn=<SelectBackward>)\n",
            "great tensor([-3.3195, -2.1474, -0.2616,  1.1491,  4.5775], grad_fn=<SelectBackward>)\n",
            "terrible tensor([ 4.7388,  1.1864, -2.3937, -1.4045, -2.1250], grad_fn=<SelectBackward>)\n",
            "Train\n",
            "F! score = 0.432\n",
            "Test\n",
            "F! score = 0.418\n",
            "[[355  44 103   7  53]\n",
            " [214  49 163  12  57]\n",
            " [ 97  36 305  20  93]\n",
            " [ 48  11 220  42 211]\n",
            " [ 30   9  82  29 355]]\n",
            "10000\n",
            "good tensor([-1.5857, -1.9062,  0.6907,  1.6992,  1.1033], grad_fn=<SelectBackward>)\n",
            "bad tensor([ 2.0541, -0.3662, -0.3172,  0.0950, -1.4600], grad_fn=<SelectBackward>)\n",
            "great tensor([-3.2317, -0.9514, -1.5390,  1.9087,  3.8116], grad_fn=<SelectBackward>)\n",
            "terrible tensor([ 4.6293,  1.7711, -2.7798, -0.9900, -2.6286], grad_fn=<SelectBackward>)\n",
            "Train\n",
            "F! score = 0.445\n",
            "Test\n",
            "F! score = 0.415\n",
            "[[406  28  40  18  36]\n",
            " [307  36 111  62  45]\n",
            " [165  21 172 100  57]\n",
            " [ 84   7 118 173 134]\n",
            " [ 75   3  44  98 315]]\n",
            "20000\n",
            "good tensor([-3.3032,  0.3219, -0.6322,  2.4226,  1.1922], grad_fn=<SelectBackward>)\n",
            "bad tensor([ 1.2689, -2.2357,  0.7495,  0.6831, -0.4600], grad_fn=<SelectBackward>)\n",
            "great tensor([-4.8433, -1.4181, -1.5022,  2.3317,  5.4300], grad_fn=<SelectBackward>)\n",
            "terrible tensor([ 4.6499,  1.7124, -2.4171, -1.1625, -2.7806], grad_fn=<SelectBackward>)\n",
            "Train\n",
            "F! score = 0.430\n",
            "Test\n",
            "F! score = 0.380\n",
            "[[247 102 138  27   6]\n",
            " [102 130 239  30  11]\n",
            " [ 46  89 310  52  11]\n",
            " [ 22  50 251 122  63]\n",
            " [ 23  39 183 122 174]]\n",
            "30000\n",
            "good tensor([-2.2764, -0.4648,  0.0926,  1.4914,  1.1584], grad_fn=<SelectBackward>)\n",
            "bad tensor([ 1.5944, -0.7092,  0.4291, -0.8259, -0.4825], grad_fn=<SelectBackward>)\n",
            "great tensor([-3.6332, -2.5622, -1.5264,  4.4157,  3.3043], grad_fn=<SelectBackward>)\n",
            "terrible tensor([ 4.8425,  1.4789, -1.9211, -1.4237, -2.9745], grad_fn=<SelectBackward>)\n",
            "Train\n",
            "F! score = 0.444\n",
            "Test\n",
            "F! score = 0.393\n",
            "[[149 322  10  32  21]\n",
            " [ 57 354  18  76  21]\n",
            " [ 27 281  40 142  45]\n",
            " [ 13 141  16 266 104]\n",
            " [ 10 110  12 148 232]]\n",
            "40000\n",
            "good tensor([-1.8500, -1.4790, -0.4553,  3.0801,  0.7056], grad_fn=<SelectBackward>)\n",
            "bad tensor([ 0.7969, -1.1318,  1.3492, -0.2581, -0.7505], grad_fn=<SelectBackward>)\n",
            "great tensor([-3.8914, -1.7376, -2.2724,  3.9257,  3.9737], grad_fn=<SelectBackward>)\n",
            "terrible tensor([ 5.9122,  1.4678, -2.4390, -1.3519, -3.5870], grad_fn=<SelectBackward>)\n",
            "Train\n",
            "F! score = 0.412\n",
            "Test\n",
            "F! score = 0.353\n",
            "[[211 102 159  24   6]\n",
            " [ 80 104 278  38   6]\n",
            " [ 30  60 356  78   6]\n",
            " [ 14  31 289 156  35]\n",
            " [ 26  24 211 188  92]]\n",
            "50000\n",
            "good tensor([-2.1013, -1.3899, -0.5848,  2.2108,  1.8664], grad_fn=<SelectBackward>)\n",
            "bad tensor([ 1.4156, -1.5060,  0.4855,  0.0219, -0.4113], grad_fn=<SelectBackward>)\n",
            "great tensor([-3.3669, -3.0024,  1.0105,  0.7130,  4.6438], grad_fn=<SelectBackward>)\n",
            "terrible tensor([ 6.0136,  1.4974, -2.5328, -1.4908, -3.4853], grad_fn=<SelectBackward>)\n",
            "Train\n",
            "F! score = 0.469\n",
            "Test\n",
            "F! score = 0.399\n",
            "[[322 115  25  18  25]\n",
            " [229 190  47  26  25]\n",
            " [119 167 117  77  46]\n",
            " [ 74  98  72 138 141]\n",
            " [ 67  50  40  72 251]]\n",
            "\n"
          ],
          "name": "stdout"
        },
        {
          "output_type": "display_data",
          "data": {
            "application/vnd.jupyter.widget-view+json": {
              "model_id": "41fc3b02dc724894af7034d636485471",
              "version_minor": 0,
              "version_major": 2
            },
            "text/plain": [
              "HBox(children=(IntProgress(value=1, bar_style='info', max=1), HTML(value='')))"
            ]
          },
          "metadata": {
            "tags": []
          }
        },
        {
          "output_type": "stream",
          "text": [
            "0\n",
            "good tensor([-2.0060, -1.4504, -0.2451,  2.7154,  0.9874], grad_fn=<SelectBackward>)\n",
            "bad tensor([ 1.9108, -0.9345,  0.2984, -0.3484, -0.9205], grad_fn=<SelectBackward>)\n",
            "great tensor([-3.0715, -2.6765, -0.3962,  0.9250,  5.2172], grad_fn=<SelectBackward>)\n",
            "terrible tensor([ 6.1561,  1.8266, -2.9880, -1.7927, -3.2000], grad_fn=<SelectBackward>)\n",
            "Train\n",
            "F! score = 0.420\n",
            "Test\n",
            "F! score = 0.378\n",
            "[[311  82  15  11 105]\n",
            " [161 101  27  28 171]\n",
            " [105  84  62  47 247]\n",
            " [ 35  29  28  68 389]\n",
            " [ 31   9  14  21 455]]\n"
          ],
          "name": "stdout"
        }
      ]
    },
    {
      "cell_type": "code",
      "metadata": {
        "id": "1MvzZ1mLWH0x",
        "colab_type": "code",
        "colab": {}
      },
      "source": [
        ""
      ],
      "execution_count": 0,
      "outputs": []
    },
    {
      "cell_type": "code",
      "metadata": {
        "id": "5EKQB1aJWHzZ",
        "colab_type": "code",
        "colab": {}
      },
      "source": [
        ""
      ],
      "execution_count": 0,
      "outputs": []
    },
    {
      "cell_type": "code",
      "metadata": {
        "id": "Nz9xmDVMWHxO",
        "colab_type": "code",
        "colab": {}
      },
      "source": [
        ""
      ],
      "execution_count": 0,
      "outputs": []
    },
    {
      "cell_type": "code",
      "metadata": {
        "id": "j9rvpXxbWHuN",
        "colab_type": "code",
        "colab": {}
      },
      "source": [
        ""
      ],
      "execution_count": 0,
      "outputs": []
    }
  ]
}