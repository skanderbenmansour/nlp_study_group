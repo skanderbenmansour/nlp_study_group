{
 "cells": [
  {
   "cell_type": "code",
   "execution_count": 89,
   "metadata": {},
   "outputs": [],
   "source": [
    "import torch\n",
    "import torch.nn as nn\n",
    "import torch.nn.functional as F\n",
    "import torch.optim as optim\n",
    "\n",
    "torch.manual_seed(1)\n",
    "\n",
    "import numpy as np\n",
    "\n",
    "import torch.autograd as autograd\n",
    "from tqdm.notebook import trange\n",
    "from tqdm.notebook import tqdm\n",
    "from collections import Counter"
   ]
  },
  {
   "cell_type": "markdown",
   "metadata": {},
   "source": [
    "## Character-level LSTM"
   ]
  },
  {
   "cell_type": "code",
   "execution_count": 4,
   "metadata": {},
   "outputs": [],
   "source": [
    "training_data = [(\"The dog ate the apple\".split(), [\"DET\", \"NN\", \"V\", \"DET\", \"NN\"]),\n",
    "                (\"Everybody read that book\".split(), [\"NN\", \"V\", \"DET\", \"NN\"])]"
   ]
  },
  {
   "cell_type": "code",
   "execution_count": 9,
   "metadata": {},
   "outputs": [
    {
     "name": "stdout",
     "output_type": "stream",
     "text": [
      "{'The': 0, 'dog': 1, 'ate': 2, 'the': 3, 'apple': 4, 'Everybody': 5, 'read': 6, 'that': 7, 'book': 8}\n"
     ]
    }
   ],
   "source": [
    "word_to_ix = {}\n",
    "for sent, tags in training_data:\n",
    "    for word in sent:\n",
    "        if word not in word_to_ix:\n",
    "            word_to_ix[word] = len(word_to_ix)\n",
    "            \n",
    "print(word_to_ix)"
   ]
  },
  {
   "cell_type": "code",
   "execution_count": 10,
   "metadata": {},
   "outputs": [],
   "source": [
    "tag_to_ix = {\"DET\": 0, \"NN\": 1, \"V\": 2}\n",
    "\n",
    "ix_to_tag = {ix:tag for tag,ix in tag_to_ix.items()}\n",
    "ix_to_word = {ix:word for word,ix in word_to_ix.items()}"
   ]
  },
  {
   "cell_type": "code",
   "execution_count": 2,
   "metadata": {},
   "outputs": [],
   "source": [
    "def sent_to_char(sent):\n",
    "    char_list = []\n",
    "    for word in sent:\n",
    "        word_chars = []\n",
    "        for character in word:\n",
    "            word_chars.append(character)\n",
    "        char_list.append(word_chars)\n",
    "    return char_list"
   ]
  },
  {
   "cell_type": "code",
   "execution_count": 5,
   "metadata": {},
   "outputs": [],
   "source": [
    "char_to_ix = {}\n",
    "for sent, tags in training_data:\n",
    "    for word in sent_to_char(sent):\n",
    "        for char in word:\n",
    "            if char not in char_to_ix:\n",
    "                char_to_ix[char] = len(char_to_ix)"
   ]
  },
  {
   "cell_type": "code",
   "execution_count": 6,
   "metadata": {},
   "outputs": [
    {
     "data": {
      "text/plain": [
       "[['a'], ['s', 'e', 'n', 't', 'e', 'n', 'c', 'e']]"
      ]
     },
     "execution_count": 6,
     "metadata": {},
     "output_type": "execute_result"
    }
   ],
   "source": [
    "sent_to_char(['a','sentence'])"
   ]
  },
  {
   "cell_type": "code",
   "execution_count": 19,
   "metadata": {},
   "outputs": [],
   "source": [
    "class char_lstm(nn.Module):\n",
    "\n",
    "    def __init__(self, embedding_dim, hidden_dim, vocab_size, vocab_size_char, tagset_size):\n",
    "        super(char_lstm, self).__init__()\n",
    "        self.hidden_dim = hidden_dim\n",
    "\n",
    "        self.char_embeddings = nn.Embedding(vocab_size_char, embedding_dim)\n",
    "        self.lstm_char = nn.LSTM(embedding_dim, hidden_dim)\n",
    "        \n",
    "        self.word_embeddings = nn.Embedding(vocab_size, embedding_dim)\n",
    "        self.lstm = nn.LSTM(embedding_dim + hidden_dim, hidden_dim)\n",
    "\n",
    "        self.hidden2tag = nn.Linear(hidden_dim, tagset_size)\n",
    "                \n",
    "        self.hidden = self.init_hidden(self.hidden_dim)\n",
    "        self.hidden_char = self.init_hidden(self.hidden_dim)\n",
    "        \n",
    "\n",
    "    def forward(self, sentence_in, char_in):\n",
    "        num_words = sentence_in.shape[0]\n",
    "        embeds = self.word_embeddings(sentence_in)\n",
    "                \n",
    "        char_output_list = []\n",
    "        for word_chars in char_in:\n",
    "            \n",
    "            ## reset the hidden layer to remove make the representation for consecutive words independent\n",
    "            self.hidden_char = self.init_hidden(self.hidden_dim)\n",
    "            char_emb = self.char_embeddings(word_chars)\n",
    "            lstm_out_1, self.hidden_char = self.lstm_char(char_emb.view(char_emb.shape[0], 1, -1),self.hidden_char)        \n",
    "            \n",
    "            ## this keeps only the last output from each charcter sequence\n",
    "            char_output_list.append(lstm_out_1[-1])\n",
    "\n",
    "        char_output_tensor = torch.cat(char_output_list)\n",
    "\n",
    "        merged = torch.cat([embeds, char_output_tensor], dim=1) \n",
    "        \n",
    "        self.hidden = self.init_hidden(self.hidden_dim)\n",
    "        \n",
    "        lstm_out_2, self.hidden = self.lstm(merged.view(num_words, 1, -1),self.hidden)\n",
    "        lstm_out_2 = lstm_out_2.view(num_words,-1)\n",
    "        \n",
    "        tag_scores = self.hidden2tag(lstm_out_2)        \n",
    "        tag_scores = F.log_softmax(tag_scores, dim=1)\n",
    "        \n",
    "        return tag_scores\n",
    "    \n",
    "    def init_hidden(self,size):\n",
    "        return (torch.zeros(1, 1, size),torch.zeros(1, 1, size))"
   ]
  },
  {
   "cell_type": "code",
   "execution_count": 20,
   "metadata": {},
   "outputs": [],
   "source": [
    "EMBEDDING_DIM,HIDDEN_DIM = 6,3\n",
    "model = char_lstm(EMBEDDING_DIM, HIDDEN_DIM, len(word_to_ix), len(char_to_ix), len(tag_to_ix))\n",
    "\n",
    "loss_function = nn.NLLLoss()\n",
    "optimizer = optim.SGD(model.parameters(), lr=0.1)"
   ]
  },
  {
   "cell_type": "code",
   "execution_count": 21,
   "metadata": {},
   "outputs": [],
   "source": [
    "def prepare_sequence(seq, to_ix):\n",
    "    idxs = [to_ix[w] for w in seq]\n",
    "    return torch.tensor(idxs, dtype=torch.long)\n",
    "\n",
    "def prepare_sequence_char(seq, to_ix):\n",
    "    sentence_tensor = []\n",
    "    for word in seq:\n",
    "        idxs = [to_ix[w] for w in word]\n",
    "        word_tensor = torch.tensor(idxs, dtype=torch.long)\n",
    "        sentence_tensor.append(word_tensor)\n",
    "    return sentence_tensor"
   ]
  },
  {
   "cell_type": "code",
   "execution_count": 22,
   "metadata": {},
   "outputs": [],
   "source": [
    "## Try a forward pass\n",
    "for sentence, tags in training_data:\n",
    "    sentence_in = prepare_sequence(sentence, word_to_ix)\n",
    "    char_in = prepare_sequence_char(sent_to_char(sentence), char_to_ix)\n",
    "    targets = prepare_sequence(tags, tag_to_ix)\n",
    "    tag_scores = model(sentence_in,char_in)\n",
    "    break"
   ]
  },
  {
   "cell_type": "code",
   "execution_count": 23,
   "metadata": {},
   "outputs": [
    {
     "data": {
      "text/plain": [
       "tensor([[-0.6591, -1.4407, -1.4028],\n",
       "        [-0.5873, -1.6631, -1.3680],\n",
       "        [-0.5987, -1.6975, -1.3193],\n",
       "        [-0.5825, -1.6979, -1.3531],\n",
       "        [-0.6824, -1.5441, -1.2690]], grad_fn=<LogSoftmaxBackward>)"
      ]
     },
     "execution_count": 23,
     "metadata": {},
     "output_type": "execute_result"
    }
   ],
   "source": [
    "tag_scores"
   ]
  },
  {
   "cell_type": "code",
   "execution_count": null,
   "metadata": {},
   "outputs": [],
   "source": []
  },
  {
   "cell_type": "markdown",
   "metadata": {},
   "source": [
    "## Train Model"
   ]
  },
  {
   "cell_type": "code",
   "execution_count": 24,
   "metadata": {},
   "outputs": [
    {
     "data": {
      "application/vnd.jupyter.widget-view+json": {
       "model_id": "0d0548a4dc574622b2aa2c803a96a805",
       "version_major": 2,
       "version_minor": 0
      },
      "text/plain": [
       "HBox(children=(FloatProgress(value=0.0), HTML(value='')))"
      ]
     },
     "metadata": {},
     "output_type": "display_data"
    },
    {
     "name": "stdout",
     "output_type": "stream",
     "text": [
      "\n"
     ]
    }
   ],
   "source": [
    "EMBEDDING_DIM,HIDDEN_DIM = 6,4\n",
    "model = char_lstm(EMBEDDING_DIM, HIDDEN_DIM, len(word_to_ix), len(char_to_ix), len(tag_to_ix))\n",
    "\n",
    "loss_function = nn.NLLLoss()\n",
    "optimizer = optim.SGD(model.parameters(), lr=0.1)\n",
    "\n",
    "for epoch in trange(100):\n",
    "    model.zero_grad()\n",
    "    \n",
    "    for sentence, tags in training_data:\n",
    "        \n",
    "        sentence_in = prepare_sequence(sentence, word_to_ix)\n",
    "        char_in = prepare_sequence_char(sent_to_char(sentence), char_to_ix)\n",
    "        targets = prepare_sequence(tags, tag_to_ix)\n",
    "        \n",
    "        tag_scores = model(sentence_in,char_in)\n",
    "\n",
    "        loss = loss_function(tag_scores, targets)\n",
    "        \n",
    "        loss.backward()\n",
    "        optimizer.step()"
   ]
  },
  {
   "cell_type": "code",
   "execution_count": null,
   "metadata": {},
   "outputs": [],
   "source": []
  },
  {
   "cell_type": "code",
   "execution_count": 25,
   "metadata": {},
   "outputs": [
    {
     "name": "stdout",
     "output_type": "stream",
     "text": [
      "['The', 'dog', 'ate', 'the', 'apple']\n",
      "Preds: ['DET', 'NN', 'V', 'DET', 'NN']\n",
      "Tags:  ['DET', 'NN', 'V', 'DET', 'NN']\n",
      "-------------------------------\n",
      "['Everybody', 'read', 'that', 'book']\n",
      "Preds: ['NN', 'V', 'DET', 'NN']\n",
      "Tags:  ['NN', 'V', 'DET', 'NN']\n",
      "-------------------------------\n"
     ]
    }
   ],
   "source": [
    "# See what the scores are after training\n",
    "with torch.no_grad():\n",
    "    for sentence, tags in training_data:\n",
    "        sentence_in = prepare_sequence(sentence, word_to_ix)\n",
    "        char_in = prepare_sequence_char(sent_to_char(sentence), char_to_ix)\n",
    "        tag_scores = model(sentence_in,char_in)\n",
    "\n",
    "        preds_ix = np.argmax(tag_scores.detach().numpy(),axis=1)\n",
    "        preds = [ix_to_tag[p] for p in preds_ix]\n",
    "        print(sentence)\n",
    "        \n",
    "        print(f'Preds: {preds}')\n",
    "        print(f'Tags:  {tags}')\n",
    "        \n",
    "        print(f'-------------------------------')"
   ]
  },
  {
   "cell_type": "code",
   "execution_count": null,
   "metadata": {},
   "outputs": [],
   "source": []
  }
 ],
 "metadata": {
  "kernelspec": {
   "display_name": "Python 3",
   "language": "python",
   "name": "python3"
  },
  "language_info": {
   "codemirror_mode": {
    "name": "ipython",
    "version": 3
   },
   "file_extension": ".py",
   "mimetype": "text/x-python",
   "name": "python",
   "nbconvert_exporter": "python",
   "pygments_lexer": "ipython3",
   "version": "3.6.8"
  }
 },
 "nbformat": 4,
 "nbformat_minor": 2
}
