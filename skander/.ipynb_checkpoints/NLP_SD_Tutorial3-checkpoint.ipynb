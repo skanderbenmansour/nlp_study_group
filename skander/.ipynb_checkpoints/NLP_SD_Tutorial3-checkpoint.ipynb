{
 "cells": [
  {
   "cell_type": "markdown",
   "metadata": {
    "colab_type": "text",
    "id": "view-in-github"
   },
   "source": [
    "<a href=\"https://colab.research.google.com/github/skanderbenmansour/nlp_study_group/blob/master/NLP_SD_Tutorial3.ipynb\" target=\"_parent\"><img src=\"https://colab.research.google.com/assets/colab-badge.svg\" alt=\"Open In Colab\"/></a>"
   ]
  },
  {
   "cell_type": "markdown",
   "metadata": {
    "colab_type": "text",
    "id": "n3AFIG5pRj1U"
   },
   "source": [
    "Connecting to Google Drive"
   ]
  },
  {
   "cell_type": "code",
   "execution_count": 1,
   "metadata": {
    "colab": {
     "base_uri": "https://localhost:8080/",
     "height": 122
    },
    "colab_type": "code",
    "id": "5l_-OuD65NQe",
    "outputId": "dc2e1e1f-6393-4165-8d41-571e072c3ff9"
   },
   "outputs": [
    {
     "name": "stdout",
     "output_type": "stream",
     "text": [
      "Go to this URL in a browser: https://accounts.google.com/o/oauth2/auth?client_id=947318989803-6bn6qk8qdgf4n4g3pfee6491hc0brc4i.apps.googleusercontent.com&redirect_uri=urn%3aietf%3awg%3aoauth%3a2.0%3aoob&response_type=code&scope=email%20https%3a%2f%2fwww.googleapis.com%2fauth%2fdocs.test%20https%3a%2f%2fwww.googleapis.com%2fauth%2fdrive%20https%3a%2f%2fwww.googleapis.com%2fauth%2fdrive.photos.readonly%20https%3a%2f%2fwww.googleapis.com%2fauth%2fpeopleapi.readonly\n",
      "\n",
      "Enter your authorization code:\n",
      "··········\n",
      "Mounted at /content/drive\n"
     ]
    }
   ],
   "source": [
    "from google.colab import drive\n",
    "drive.mount('/content/drive')"
   ]
  },
  {
   "cell_type": "markdown",
   "metadata": {
    "colab_type": "text",
    "id": "7mqEyS-lRtLe"
   },
   "source": [
    "Loading the data"
   ]
  },
  {
   "cell_type": "code",
   "execution_count": 0,
   "metadata": {
    "colab": {},
    "colab_type": "code",
    "id": "cT5QysxJ5OwR"
   },
   "outputs": [],
   "source": [
    "import pandas as pd\n",
    "import numpy as np\n",
    "from sklearn.metrics import confusion_matrix, f1_score\n",
    "import json\n",
    "import re\n",
    "from tqdm import tqdm_notebook as tqdm\n",
    "from sklearn.model_selection import train_test_split\n",
    "from collections import defaultdict"
   ]
  },
  {
   "cell_type": "code",
   "execution_count": 0,
   "metadata": {
    "colab": {},
    "colab_type": "code",
    "id": "s0B56fIs5dwy"
   },
   "outputs": [],
   "source": [
    "path = '/content/drive/My Drive/Health_and_Personal_Care_5.json'"
   ]
  },
  {
   "cell_type": "code",
   "execution_count": 4,
   "metadata": {
    "colab": {
     "base_uri": "https://localhost:8080/",
     "height": 117,
     "referenced_widgets": [
      "7184acacf47c4c32b7c0c96748694fd4",
      "47d129d99ba94009a8d83aff172b0e40",
      "0a1c0c68b1b84081b2b66cca608b10c0",
      "05186157064e43019e7f9a10562a2403",
      "1148227814b84ca1828f313d31efea35",
      "02bc0f57cec643a6b0ea6754d1c9a3b2",
      "3143dc50669143d59cf1e96db863bece",
      "a626d5f0cb8146278427b845d83717e3"
     ]
    },
    "colab_type": "code",
    "id": "4xw5uI7L5tX1",
    "outputId": "2aadd785-9bc4-4f84-c1cf-6363b8094538"
   },
   "outputs": [
    {
     "name": "stderr",
     "output_type": "stream",
     "text": [
      "/usr/local/lib/python3.6/dist-packages/ipykernel_launcher.py:4: TqdmDeprecationWarning: This function will be removed in tqdm==5.0.0\n",
      "Please use `tqdm.notebook.tqdm` instead of `tqdm.tqdm_notebook`\n",
      "  after removing the cwd from sys.path.\n"
     ]
    },
    {
     "data": {
      "application/vnd.jupyter.widget-view+json": {
       "model_id": "7184acacf47c4c32b7c0c96748694fd4",
       "version_major": 2,
       "version_minor": 0
      },
      "text/plain": [
       "HBox(children=(IntProgress(value=1, bar_style='info', max=1), HTML(value='')))"
      ]
     },
     "metadata": {
      "tags": []
     },
     "output_type": "display_data"
    },
    {
     "name": "stdout",
     "output_type": "stream",
     "text": [
      "\n"
     ]
    }
   ],
   "source": [
    "data = []\n",
    "\n",
    "with open(path,'r',encoding='utf8') as file:\n",
    "  for line in tqdm(file):\n",
    "    data.append(json.loads(line.strip()))\n",
    "    "
   ]
  },
  {
   "cell_type": "code",
   "execution_count": 5,
   "metadata": {
    "colab": {
     "base_uri": "https://localhost:8080/",
     "height": 221
    },
    "colab_type": "code",
    "id": "kzNU4Wr15vzO",
    "outputId": "b4f55433-01e1-44b6-d766-caf6a0ee4f75"
   },
   "outputs": [
    {
     "name": "stdout",
     "output_type": "stream",
     "text": [
      "(346355, 9)\n"
     ]
    },
    {
     "data": {
      "text/html": [
       "<div>\n",
       "<style scoped>\n",
       "    .dataframe tbody tr th:only-of-type {\n",
       "        vertical-align: middle;\n",
       "    }\n",
       "\n",
       "    .dataframe tbody tr th {\n",
       "        vertical-align: top;\n",
       "    }\n",
       "\n",
       "    .dataframe thead th {\n",
       "        text-align: right;\n",
       "    }\n",
       "</style>\n",
       "<table border=\"1\" class=\"dataframe\">\n",
       "  <thead>\n",
       "    <tr style=\"text-align: right;\">\n",
       "      <th></th>\n",
       "      <th>reviewerID</th>\n",
       "      <th>asin</th>\n",
       "      <th>reviewerName</th>\n",
       "      <th>helpful</th>\n",
       "      <th>reviewText</th>\n",
       "      <th>overall</th>\n",
       "      <th>summary</th>\n",
       "      <th>unixReviewTime</th>\n",
       "      <th>reviewTime</th>\n",
       "    </tr>\n",
       "  </thead>\n",
       "  <tbody>\n",
       "    <tr>\n",
       "      <th>0</th>\n",
       "      <td>ALC5GH8CAMAI7</td>\n",
       "      <td>159985130X</td>\n",
       "      <td>AnnN</td>\n",
       "      <td>[1, 1]</td>\n",
       "      <td>This is a great little gadget to have around. ...</td>\n",
       "      <td>5.0</td>\n",
       "      <td>Handy little gadget</td>\n",
       "      <td>1294185600</td>\n",
       "      <td>01 5, 2011</td>\n",
       "    </tr>\n",
       "    <tr>\n",
       "      <th>1</th>\n",
       "      <td>AHKSURW85PJUE</td>\n",
       "      <td>159985130X</td>\n",
       "      <td>AZ buyer \"AZ buyer\"</td>\n",
       "      <td>[1, 1]</td>\n",
       "      <td>I would recommend this for a travel magnifier ...</td>\n",
       "      <td>4.0</td>\n",
       "      <td>Small &amp; may need to encourage battery</td>\n",
       "      <td>1329523200</td>\n",
       "      <td>02 18, 2012</td>\n",
       "    </tr>\n",
       "    <tr>\n",
       "      <th>2</th>\n",
       "      <td>A38RMU1Y5TDP9</td>\n",
       "      <td>159985130X</td>\n",
       "      <td>Bob Tobias \"Robert Tobias\"</td>\n",
       "      <td>[75, 77]</td>\n",
       "      <td>What I liked was the quality of the lens and t...</td>\n",
       "      <td>4.0</td>\n",
       "      <td>Very good but not great</td>\n",
       "      <td>1275955200</td>\n",
       "      <td>06 8, 2010</td>\n",
       "    </tr>\n",
       "    <tr>\n",
       "      <th>3</th>\n",
       "      <td>A1XZUG7DFXXOS4</td>\n",
       "      <td>159985130X</td>\n",
       "      <td>Cat lover</td>\n",
       "      <td>[56, 60]</td>\n",
       "      <td>Love the Great point light pocket magnifier!  ...</td>\n",
       "      <td>4.0</td>\n",
       "      <td>great addition to your purse</td>\n",
       "      <td>1202428800</td>\n",
       "      <td>02 8, 2008</td>\n",
       "    </tr>\n",
       "    <tr>\n",
       "      <th>4</th>\n",
       "      <td>A1MS3M7M7AM13X</td>\n",
       "      <td>159985130X</td>\n",
       "      <td>Cricketoes</td>\n",
       "      <td>[1, 1]</td>\n",
       "      <td>This is very nice. You pull out on the magnifi...</td>\n",
       "      <td>5.0</td>\n",
       "      <td>Very nice and convenient.</td>\n",
       "      <td>1313452800</td>\n",
       "      <td>08 16, 2011</td>\n",
       "    </tr>\n",
       "  </tbody>\n",
       "</table>\n",
       "</div>"
      ],
      "text/plain": [
       "       reviewerID        asin  ... unixReviewTime   reviewTime\n",
       "0   ALC5GH8CAMAI7  159985130X  ...     1294185600   01 5, 2011\n",
       "1   AHKSURW85PJUE  159985130X  ...     1329523200  02 18, 2012\n",
       "2   A38RMU1Y5TDP9  159985130X  ...     1275955200   06 8, 2010\n",
       "3  A1XZUG7DFXXOS4  159985130X  ...     1202428800   02 8, 2008\n",
       "4  A1MS3M7M7AM13X  159985130X  ...     1313452800  08 16, 2011\n",
       "\n",
       "[5 rows x 9 columns]"
      ]
     },
     "execution_count": 5,
     "metadata": {
      "tags": []
     },
     "output_type": "execute_result"
    }
   ],
   "source": [
    "df = pd.DataFrame(data)\n",
    "print(df.shape)\n",
    "df.head()"
   ]
  },
  {
   "cell_type": "markdown",
   "metadata": {
    "colab_type": "text",
    "id": "FdTFLldhRw4r"
   },
   "source": [
    "Breaking sentences into words"
   ]
  },
  {
   "cell_type": "code",
   "execution_count": 6,
   "metadata": {
    "colab": {
     "base_uri": "https://localhost:8080/",
     "height": 34
    },
    "colab_type": "code",
    "id": "_DeGkawA8c3b",
    "outputId": "9109bee3-240a-4ce5-c4c6-c868a1baae50"
   },
   "outputs": [
    {
     "data": {
      "text/plain": [
       "['hello', 'how', 'are', 'you', 'friend']"
      ]
     },
     "execution_count": 6,
     "metadata": {
      "tags": []
     },
     "output_type": "execute_result"
    }
   ],
   "source": [
    "regex_words = re.compile(r\"[\\w']+\")\n",
    "get_words = lambda text: [word for word in regex_words.findall(text.lower()) if word]\n",
    "get_words('Hello how, are you ? Friend')"
   ]
  },
  {
   "cell_type": "code",
   "execution_count": 7,
   "metadata": {
    "colab": {
     "base_uri": "https://localhost:8080/",
     "height": 204
    },
    "colab_type": "code",
    "id": "ek-__tZq-vs5",
    "outputId": "6b8d90ce-ca20-4891-805e-6daed0ff9e67"
   },
   "outputs": [
    {
     "data": {
      "text/html": [
       "<div>\n",
       "<style scoped>\n",
       "    .dataframe tbody tr th:only-of-type {\n",
       "        vertical-align: middle;\n",
       "    }\n",
       "\n",
       "    .dataframe tbody tr th {\n",
       "        vertical-align: top;\n",
       "    }\n",
       "\n",
       "    .dataframe thead th {\n",
       "        text-align: right;\n",
       "    }\n",
       "</style>\n",
       "<table border=\"1\" class=\"dataframe\">\n",
       "  <thead>\n",
       "    <tr style=\"text-align: right;\">\n",
       "      <th></th>\n",
       "      <th>reviewerID</th>\n",
       "      <th>asin</th>\n",
       "      <th>reviewerName</th>\n",
       "      <th>helpful</th>\n",
       "      <th>reviewText</th>\n",
       "      <th>overall</th>\n",
       "      <th>summary</th>\n",
       "      <th>unixReviewTime</th>\n",
       "      <th>reviewTime</th>\n",
       "      <th>words</th>\n",
       "    </tr>\n",
       "  </thead>\n",
       "  <tbody>\n",
       "    <tr>\n",
       "      <th>0</th>\n",
       "      <td>ALC5GH8CAMAI7</td>\n",
       "      <td>159985130X</td>\n",
       "      <td>AnnN</td>\n",
       "      <td>[1, 1]</td>\n",
       "      <td>This is a great little gadget to have around. ...</td>\n",
       "      <td>5.0</td>\n",
       "      <td>Handy little gadget</td>\n",
       "      <td>1294185600</td>\n",
       "      <td>01 5, 2011</td>\n",
       "      <td>[this, is, a, great, little, gadget, to, have,...</td>\n",
       "    </tr>\n",
       "    <tr>\n",
       "      <th>1</th>\n",
       "      <td>AHKSURW85PJUE</td>\n",
       "      <td>159985130X</td>\n",
       "      <td>AZ buyer \"AZ buyer\"</td>\n",
       "      <td>[1, 1]</td>\n",
       "      <td>I would recommend this for a travel magnifier ...</td>\n",
       "      <td>4.0</td>\n",
       "      <td>Small &amp; may need to encourage battery</td>\n",
       "      <td>1329523200</td>\n",
       "      <td>02 18, 2012</td>\n",
       "      <td>[i, would, recommend, this, for, a, travel, ma...</td>\n",
       "    </tr>\n",
       "    <tr>\n",
       "      <th>2</th>\n",
       "      <td>A38RMU1Y5TDP9</td>\n",
       "      <td>159985130X</td>\n",
       "      <td>Bob Tobias \"Robert Tobias\"</td>\n",
       "      <td>[75, 77]</td>\n",
       "      <td>What I liked was the quality of the lens and t...</td>\n",
       "      <td>4.0</td>\n",
       "      <td>Very good but not great</td>\n",
       "      <td>1275955200</td>\n",
       "      <td>06 8, 2010</td>\n",
       "      <td>[what, i, liked, was, the, quality, of, the, l...</td>\n",
       "    </tr>\n",
       "    <tr>\n",
       "      <th>3</th>\n",
       "      <td>A1XZUG7DFXXOS4</td>\n",
       "      <td>159985130X</td>\n",
       "      <td>Cat lover</td>\n",
       "      <td>[56, 60]</td>\n",
       "      <td>Love the Great point light pocket magnifier!  ...</td>\n",
       "      <td>4.0</td>\n",
       "      <td>great addition to your purse</td>\n",
       "      <td>1202428800</td>\n",
       "      <td>02 8, 2008</td>\n",
       "      <td>[love, the, great, point, light, pocket, magni...</td>\n",
       "    </tr>\n",
       "    <tr>\n",
       "      <th>4</th>\n",
       "      <td>A1MS3M7M7AM13X</td>\n",
       "      <td>159985130X</td>\n",
       "      <td>Cricketoes</td>\n",
       "      <td>[1, 1]</td>\n",
       "      <td>This is very nice. You pull out on the magnifi...</td>\n",
       "      <td>5.0</td>\n",
       "      <td>Very nice and convenient.</td>\n",
       "      <td>1313452800</td>\n",
       "      <td>08 16, 2011</td>\n",
       "      <td>[this, is, very, nice, you, pull, out, on, the...</td>\n",
       "    </tr>\n",
       "  </tbody>\n",
       "</table>\n",
       "</div>"
      ],
      "text/plain": [
       "       reviewerID  ...                                              words\n",
       "0   ALC5GH8CAMAI7  ...  [this, is, a, great, little, gadget, to, have,...\n",
       "1   AHKSURW85PJUE  ...  [i, would, recommend, this, for, a, travel, ma...\n",
       "2   A38RMU1Y5TDP9  ...  [what, i, liked, was, the, quality, of, the, l...\n",
       "3  A1XZUG7DFXXOS4  ...  [love, the, great, point, light, pocket, magni...\n",
       "4  A1MS3M7M7AM13X  ...  [this, is, very, nice, you, pull, out, on, the...\n",
       "\n",
       "[5 rows x 10 columns]"
      ]
     },
     "execution_count": 7,
     "metadata": {
      "tags": []
     },
     "output_type": "execute_result"
    }
   ],
   "source": [
    "df['words'] = df['reviewText'].apply(get_words)\n",
    "df.head()"
   ]
  },
  {
   "cell_type": "markdown",
   "metadata": {
    "colab_type": "text",
    "id": "Sj6xhsDvSKmK"
   },
   "source": [
    "Removing outliers with too many words"
   ]
  },
  {
   "cell_type": "code",
   "execution_count": 8,
   "metadata": {
    "colab": {
     "base_uri": "https://localhost:8080/",
     "height": 282
    },
    "colab_type": "code",
    "id": "POjaU1m3xfpW",
    "outputId": "bd932f0c-36f2-4f46-cdde-d5c50eb70727"
   },
   "outputs": [
    {
     "data": {
      "text/plain": [
       "<matplotlib.axes._subplots.AxesSubplot at 0x7f1e2b155d30>"
      ]
     },
     "execution_count": 8,
     "metadata": {
      "tags": []
     },
     "output_type": "execute_result"
    },
    {
     "data": {
      "image/png": "[encoded data removed]",
      "text/plain": [
       "<Figure size 432x288 with 1 Axes>"
      ]
     },
     "metadata": {
      "needs_background": "light",
      "tags": []
     },
     "output_type": "display_data"
    }
   ],
   "source": [
    "df['n_words'] = df['words'].apply(len)\n",
    "df['n_words'].hist(bins = 100)"
   ]
  },
  {
   "cell_type": "code",
   "execution_count": 9,
   "metadata": {
    "colab": {
     "base_uri": "https://localhost:8080/",
     "height": 51
    },
    "colab_type": "code",
    "id": "OIaI2sWnxfm0",
    "outputId": "86de07a3-c12d-4431-ed6d-f09411ca1602"
   },
   "outputs": [
    {
     "name": "stdout",
     "output_type": "stream",
     "text": [
      "(346355, 11)\n"
     ]
    },
    {
     "data": {
      "text/plain": [
       "(330893, 11)"
      ]
     },
     "execution_count": 9,
     "metadata": {
      "tags": []
     },
     "output_type": "execute_result"
    }
   ],
   "source": [
    "print(df.shape)\n",
    "df = df[df['n_words'] < 300]\n",
    "df.shape"
   ]
  },
  {
   "cell_type": "markdown",
   "metadata": {
    "colab_type": "text",
    "id": "_k4Jf5P7STH3"
   },
   "source": [
    "Let's rebalance the 5 classes"
   ]
  },
  {
   "cell_type": "code",
   "execution_count": 10,
   "metadata": {
    "colab": {
     "base_uri": "https://localhost:8080/",
     "height": 282
    },
    "colab_type": "code",
    "id": "Iu7rzRAH-yKw",
    "outputId": "8eb39dec-7fb9-4e9a-d522-74fe3270b08b"
   },
   "outputs": [
    {
     "data": {
      "text/plain": [
       "<matplotlib.axes._subplots.AxesSubplot at 0x7f1e2b243358>"
      ]
     },
     "execution_count": 10,
     "metadata": {
      "tags": []
     },
     "output_type": "execute_result"
    },
    {
     "data": {
      "image/png": "[encoded data removed]",
      "text/plain": [
       "<Figure size 432x288 with 1 Axes>"
      ]
     },
     "metadata": {
      "needs_background": "light",
      "tags": []
     },
     "output_type": "display_data"
    }
   ],
   "source": [
    "df['overall'].hist()"
   ]
  },
  {
   "cell_type": "code",
   "execution_count": 11,
   "metadata": {
    "colab": {
     "base_uri": "https://localhost:8080/",
     "height": 119
    },
    "colab_type": "code",
    "id": "gVnb3Gn_w3jI",
    "outputId": "ddca67be-82b6-4b1c-9c94-94abb050130e"
   },
   "outputs": [
    {
     "data": {
      "text/plain": [
       "5.0    204131\n",
       "4.0     63887\n",
       "3.0     31242\n",
       "1.0     15829\n",
       "2.0     15804\n",
       "Name: overall, dtype: int64"
      ]
     },
     "metadata": {
      "tags": []
     },
     "output_type": "display_data"
    }
   ],
   "source": [
    "classes_freq = df['overall'].value_counts()\n",
    "smallest_class = classes_freq.min()\n",
    "display(classes_freq)"
   ]
  },
  {
   "cell_type": "code",
   "execution_count": 12,
   "metadata": {
    "colab": {
     "base_uri": "https://localhost:8080/",
     "height": 119
    },
    "colab_type": "code",
    "id": "C6PmNcq7w3hh",
    "outputId": "646f07cc-a753-4ebd-b1e6-163b1ef94144"
   },
   "outputs": [
    {
     "data": {
      "text/plain": [
       "5.0    15804\n",
       "4.0    15804\n",
       "3.0    15804\n",
       "2.0    15804\n",
       "1.0    15804\n",
       "Name: overall, dtype: int64"
      ]
     },
     "execution_count": 12,
     "metadata": {
      "tags": []
     },
     "output_type": "execute_result"
    }
   ],
   "source": [
    "balanced_subset = df.groupby('overall').apply(lambda df: df.sample(smallest_class))\n",
    "balanced_subset['overall'].value_counts()"
   ]
  },
  {
   "cell_type": "code",
   "execution_count": 0,
   "metadata": {
    "colab": {},
    "colab_type": "code",
    "id": "AofYysHRw3d3"
   },
   "outputs": [],
   "source": []
  },
  {
   "cell_type": "markdown",
   "metadata": {
    "colab_type": "text",
    "id": "d00KFLVwSd85"
   },
   "source": [
    "Let's create a nice dataset with:\n",
    "- array of words ids![alt text](https://)\n",
    "- array of labels (here numerical from 0 to 4)\n",
    "\n",
    "And also break into training and test"
   ]
  },
  {
   "cell_type": "code",
   "execution_count": 0,
   "metadata": {
    "colab": {},
    "colab_type": "code",
    "id": "OKzb_9xEAZFn"
   },
   "outputs": [],
   "source": []
  },
  {
   "cell_type": "code",
   "execution_count": 0,
   "metadata": {
    "colab": {},
    "colab_type": "code",
    "id": "eETpCEFxAf74"
   },
   "outputs": [],
   "source": []
  },
  {
   "cell_type": "code",
   "execution_count": 0,
   "metadata": {
    "colab": {},
    "colab_type": "code",
    "id": "9SBACjy5_P_5"
   },
   "outputs": [],
   "source": [
    "X = balanced_subset['words'].values\n",
    "y = balanced_subset['overall'].values - 1"
   ]
  },
  {
   "cell_type": "code",
   "execution_count": 0,
   "metadata": {
    "colab": {},
    "colab_type": "code",
    "id": "8C4xhTCH_X-H"
   },
   "outputs": [],
   "source": [
    "X_train, X_test, y_train, y_test = train_test_split(X, y, test_size=0.33, random_state=42)"
   ]
  },
  {
   "cell_type": "code",
   "execution_count": 0,
   "metadata": {
    "colab": {},
    "colab_type": "code",
    "id": "RWpq_Fq9_ari"
   },
   "outputs": [],
   "source": [
    "word_id = defaultdict(lambda: len(word_id))"
   ]
  },
  {
   "cell_type": "code",
   "execution_count": 0,
   "metadata": {
    "colab": {},
    "colab_type": "code",
    "id": "NytvC8fPAEg-"
   },
   "outputs": [],
   "source": [
    "for words in df['words']:\n",
    "  for word in words:\n",
    "    word_id[word]"
   ]
  },
  {
   "cell_type": "code",
   "execution_count": 0,
   "metadata": {
    "colab": {},
    "colab_type": "code",
    "id": "6VJ70jacBSRr"
   },
   "outputs": [],
   "source": [
    "n_words = len(word_id)\n",
    "n_classes = 5"
   ]
  },
  {
   "cell_type": "code",
   "execution_count": 17,
   "metadata": {
    "colab": {
     "base_uri": "https://localhost:8080/",
     "height": 34
    },
    "colab_type": "code",
    "id": "NQdfwh7FBaHj",
    "outputId": "46c7246c-99af-452a-8584-5b469b46c06c"
   },
   "outputs": [
    {
     "name": "stdout",
     "output_type": "stream",
     "text": [
      "126146\n"
     ]
    }
   ],
   "source": [
    "print(n_words)"
   ]
  },
  {
   "cell_type": "markdown",
   "metadata": {
    "colab_type": "text",
    "id": "COrSke2JSxv4"
   },
   "source": [
    "We're now ready for the training"
   ]
  },
  {
   "cell_type": "code",
   "execution_count": 18,
   "metadata": {
    "colab": {
     "base_uri": "https://localhost:8080/",
     "height": 34
    },
    "colab_type": "code",
    "id": "neIFO9gXBbdw",
    "outputId": "d91682a9-3405-4cab-9f2f-3ac014443843"
   },
   "outputs": [
    {
     "data": {
      "text/plain": [
       "<torch._C.Generator at 0x7f1e581c0e50>"
      ]
     },
     "execution_count": 18,
     "metadata": {
      "tags": []
     },
     "output_type": "execute_result"
    }
   ],
   "source": [
    "import torch\n",
    "import torch.nn as nn\n",
    "import torch.nn.functional as F\n",
    "import torch.optim as optim\n",
    "\n",
    "torch.manual_seed(1)"
   ]
  },
  {
   "cell_type": "code",
   "execution_count": 19,
   "metadata": {
    "colab": {
     "base_uri": "https://localhost:8080/"
    },
    "colab_type": "code",
    "id": "I0ZP5GxkXVPG",
    "outputId": "a9dd4d46-8905-496f-bead-2bab31ce4b37"
   },
   "outputs": [
    {
     "data": {
      "text/plain": [
       "'Tesla P4'"
      ]
     },
     "execution_count": 19,
     "metadata": {
      "tags": []
     },
     "output_type": "execute_result"
    }
   ],
   "source": [
    "torch.cuda.set_device(0)\n",
    "torch.cuda.get_device_name()"
   ]
  },
  {
   "cell_type": "code",
   "execution_count": 0,
   "metadata": {
    "colab": {},
    "colab_type": "code",
    "id": "dm__IkdrBl2g"
   },
   "outputs": [],
   "source": [
    "\n",
    "class BoWClassifier(nn.Module): \n",
    "\n",
    "    def __init__(self, num_labels, vocab_size):\n",
    "        super(BoWClassifier, self).__init__()\n",
    "        self.linear = nn.Linear(vocab_size, num_labels)\n",
    "\n",
    "\n",
    "    def forward(self, bow_vec):\n",
    "        return F.log_softmax(self.linear(bow_vec), dim=1)\n",
    "\n",
    "\n",
    "def make_bow_vector(sentence, word_to_ix):\n",
    "    vec = torch.zeros(len(word_to_ix))\n",
    "    for word in sentence:\n",
    "        vec[word_to_ix[word]] += 1\n",
    "    return vec.view(1, -1)\n",
    "\n",
    "\n",
    "def make_target(label, label_to_ix):\n",
    "    return torch.LongTensor([label]) # from 0 to 4\n",
    "\n",
    "\n",
    "model = BoWClassifier(n_classes, n_words)\n"
   ]
  },
  {
   "cell_type": "code",
   "execution_count": 0,
   "metadata": {
    "colab": {
     "base_uri": "https://localhost:8080/",
     "height": 34
    },
    "colab_type": "code",
    "id": "lGgXJ3VRQZat",
    "outputId": "9213dbc4-d420-4a14-abb4-4a7bbdbffcaf"
   },
   "outputs": [
    {
     "data": {
      "text/plain": [
       "array([0., 0., 0., ..., 4., 4., 4.])"
      ]
     },
     "execution_count": 26,
     "metadata": {
      "tags": []
     },
     "output_type": "execute_result"
    }
   ],
   "source": [
    "y"
   ]
  },
  {
   "cell_type": "code",
   "execution_count": 0,
   "metadata": {
    "colab": {},
    "colab_type": "code",
    "id": "M78ryhvY296n"
   },
   "outputs": [],
   "source": []
  },
  {
   "cell_type": "code",
   "execution_count": 0,
   "metadata": {
    "colab": {},
    "colab_type": "code",
    "id": "K8U8pFNj29-N"
   },
   "outputs": [],
   "source": []
  },
  {
   "cell_type": "code",
   "execution_count": 0,
   "metadata": {
    "colab": {},
    "colab_type": "code",
    "id": "rq-QEj8dU31M"
   },
   "outputs": [],
   "source": [
    "def eval_model(model,data,labels,sample=1.,show_f1=False,show_confusion=False):\n",
    "  if sample != 1.:\n",
    "    mask = np.random.random(size=len(data)) < sample\n",
    "  data = data[mask]\n",
    "  labels = labels[mask]\n",
    "  log_probs = []\n",
    "  with torch.no_grad():\n",
    "    for instance in data: \n",
    "      bow_vec = make_bow_vector(instance, word_id)\n",
    "      log_probs.append(model(bow_vec).numpy()[0])\n",
    "  log_probs = np.vstack(log_probs)\n",
    "  y_pred = log_probs.argmax(axis=1)\n",
    "  confusion = confusion_matrix(labels,y_pred)\n",
    "  f1 = f1_score(labels,y_pred, labels=range(5),average='micro')\n",
    "  if show_f1:\n",
    "    print('F1 score = %5.3f' % f1)\n",
    "  if show_confusion:\n",
    "    print(confusion)\n",
    "  return log_probs,y_pred,confusion,f1"
   ]
  },
  {
   "cell_type": "code",
   "execution_count": 0,
   "metadata": {
    "colab": {},
    "colab_type": "code",
    "id": "AtGv86BatrcG"
   },
   "outputs": [],
   "source": []
  },
  {
   "cell_type": "code",
   "execution_count": 0,
   "metadata": {
    "colab": {
     "base_uri": "https://localhost:8080/",
     "height": 1000,
     "referenced_widgets": [
      "15452146c3314ea299c1f43470f26d61",
      "fd454d9457724c3a9a0a35b7055ba0e8",
      "e5836256a7ce4fbb90db5f1343fa14c6",
      "35d2c5a7ff8f4119bdf1a9ca9ef99285",
      "6e10d3ec50d74f05a3fa0f63c7baf500",
      "5ddeb7a908614e369b8e33a964ea19ab",
      "389171ed6311420c8adaab47e913c57f",
      "aeeb8244fc1f4ec797d656e0bc712da6",
      "deb57dca2d0b4ecd8d398a559ecb01bf",
      "4971c824b5bd4874adcca0f4819d9dc9",
      "0df9915340c64bc1b9bc4f5102cecdd4",
      "6b3eb823fd774cc7abd8f47ef67cdd98",
      "5e921226387f400b975e48283b941f66",
      "8b7ff9b463a841f88fbe4477ffa7c569",
      "965b3a217f824d51bce33af6b8a31d5d",
      "827dc90a922a4068aadcefed30ad495c",
      "bd168c426d0840229b306ea2d516b7e0",
      "c9d2d9e8641d4b34a0dd405c81689351",
      "c9d8e2dd75784933b33f19d9b837f01b",
      "39256936467346d18319034f0b8b8389",
      "abdbc253fafe4a82995b1410cc7c3462",
      "f4700a58e5ef4b9098a56ff30f51f82c",
      "d79d49aa42d34157979cd69341a4cb5a",
      "c849567bc8ee46aca2135b6b704b81e9",
      "41fc3b02dc724894af7034d636485471",
      "a56285fa0f8942a7ae3222518104ccf8",
      "77f9cf24df574dc0aa0b424c4467bfb4",
      "b4e4e54c6d4843f19131c3ceb9425e86",
      "05ef1b26e5aa41c29e5d6f6e2e2373e1",
      "3b7b5b50fe2e4764974acfffc13555eb",
      "992223e072a347e2b21f02c32e5771bf",
      "27b2353bd49d476388aedc75398221f3",
      "b58e6a4e521449cda278564485c2546e",
      "3f034e63918440e5a93df7001a358b07",
      "5c69eb83ab6748c58273568fb9295f65",
      "e7b8da417937474cb36b380fd578b54b",
      "a0c7310d0b604659886ed2b48238d071",
      "e26ff578bdaf4ba3b9cc1120d2b9d47d",
      "e2fc152d715340b19adb34ebc6ab054b",
      "c052e6734fac420f9ea5b25e019d6065"
     ]
    },
    "colab_type": "code",
    "id": "t9c-_c312v3q",
    "outputId": "60a939cc-57d5-490c-95e3-1439dd4191f0"
   },
   "outputs": [
    {
     "name": "stderr",
     "output_type": "stream",
     "text": [
      "/usr/local/lib/python3.6/dist-packages/ipykernel_launcher.py:5: TqdmDeprecationWarning: This function will be removed in tqdm==5.0.0\n",
      "Please use `tqdm.notebook.tqdm` instead of `tqdm.tqdm_notebook`\n",
      "  \"\"\"\n"
     ]
    },
    {
     "data": {
      "application/vnd.jupyter.widget-view+json": {
       "model_id": "15452146c3314ea299c1f43470f26d61",
       "version_major": 2,
       "version_minor": 0
      },
      "text/plain": [
       "HBox(children=(IntProgress(value=0, max=10), HTML(value='')))"
      ]
     },
     "metadata": {
      "tags": []
     },
     "output_type": "display_data"
    },
    {
     "name": "stderr",
     "output_type": "stream",
     "text": [
      "/usr/local/lib/python3.6/dist-packages/ipykernel_launcher.py:6: TqdmDeprecationWarning: This function will be removed in tqdm==5.0.0\n",
      "Please use `tqdm.notebook.tqdm` instead of `tqdm.tqdm_notebook`\n",
      "  \n"
     ]
    },
    {
     "data": {
      "application/vnd.jupyter.widget-view+json": {
       "model_id": "deb57dca2d0b4ecd8d398a559ecb01bf",
       "version_major": 2,
       "version_minor": 0
      },
      "text/plain": [
       "HBox(children=(IntProgress(value=1, bar_style='info', max=1), HTML(value='')))"
      ]
     },
     "metadata": {
      "tags": []
     },
     "output_type": "display_data"
    },
    {
     "name": "stdout",
     "output_type": "stream",
     "text": [
      "0\n",
      "good tensor([ 0.0020, -0.0020,  0.0026,  0.0006, -0.0020], grad_fn=<SelectBackward>)\n",
      "bad tensor([ 0.0796, -0.0201, -0.0181, -0.0190, -0.0168], grad_fn=<SelectBackward>)\n",
      "great tensor([-0.0027, -0.0007, -0.0028,  0.0019,  0.0024], grad_fn=<SelectBackward>)\n",
      "terrible tensor([-0.0024,  0.0015,  0.0019,  0.0026, -0.0015], grad_fn=<SelectBackward>)\n",
      "Train\n",
      "F! score = 0.201\n",
      "Test\n",
      "F! score = 0.202\n",
      "[[531   0   0   0   0]\n",
      " [528   0   0   0   0]\n",
      " [538   0   0   0   0]\n",
      " [523   0   0   0   0]\n",
      " [508   0   0   0   0]]\n",
      "10000\n",
      "good tensor([-1.8418, -0.7903, -0.1380,  2.1401,  0.6313], grad_fn=<SelectBackward>)\n",
      "bad tensor([ 1.5195,  0.7671, -0.7385, -0.8359, -0.7065], grad_fn=<SelectBackward>)\n",
      "great tensor([-2.3764, -1.0663, -2.5859,  2.4705,  3.5562], grad_fn=<SelectBackward>)\n",
      "terrible tensor([ 1.2371,  0.4869, -0.4775, -0.7008, -0.5436], grad_fn=<SelectBackward>)\n",
      "Train\n",
      "F! score = 0.393\n",
      "Test\n",
      "F! score = 0.365\n",
      "[[260  86  43   9 113]\n",
      " [158  96  95  12 150]\n",
      " [ 73  96 131  27 177]\n",
      " [ 32  39 103  38 322]\n",
      " [ 24  40  32  22 426]]\n",
      "20000\n",
      "good tensor([-3.2419, -0.1629, -1.4882,  3.6000,  1.2943], grad_fn=<SelectBackward>)\n",
      "bad tensor([ 1.0915, -0.1682,  0.3523, -0.1060, -1.1640], grad_fn=<SelectBackward>)\n",
      "great tensor([-4.3440, -0.6776, -2.0827,  2.3761,  4.7263], grad_fn=<SelectBackward>)\n",
      "terrible tensor([ 2.6539,  0.3028, -1.4092, -0.7688, -0.7766], grad_fn=<SelectBackward>)\n",
      "Train\n",
      "F! score = 0.400\n",
      "Test\n",
      "F! score = 0.375\n",
      "[[217 104 153  14  19]\n",
      " [ 90 126 259  18  23]\n",
      " [ 45 104 309  32  43]\n",
      " [ 18  38 265  77 118]\n",
      " [ 29  55 158  38 243]]\n",
      "30000\n",
      "good tensor([-1.9573, -0.5598, -0.8096,  1.5353,  1.7927], grad_fn=<SelectBackward>)\n",
      "bad tensor([ 0.9154,  0.4569,  0.3336, -0.7572, -0.9430], grad_fn=<SelectBackward>)\n",
      "great tensor([-2.2288, -1.5225, -2.8005,  4.3897,  2.1602], grad_fn=<SelectBackward>)\n",
      "terrible tensor([ 3.1341,  0.3591, -0.9624, -0.9824, -1.5463], grad_fn=<SelectBackward>)\n",
      "Train\n",
      "F! score = 0.426\n",
      "Test\n",
      "F! score = 0.382\n",
      "[[220 135  37  44  62]\n",
      " [130 169  79  83  73]\n",
      " [ 72 126 116 137 107]\n",
      " [ 26  57  63 195 191]\n",
      " [ 34  40  31 106 311]]\n",
      "40000\n",
      "good tensor([-1.9880, -0.7494, -0.4772,  2.4375,  0.7783], grad_fn=<SelectBackward>)\n",
      "bad tensor([ 1.1196, -0.8162,  2.0012, -1.1070, -1.1919], grad_fn=<SelectBackward>)\n",
      "great tensor([-3.9980, -2.1331, -2.0155,  3.5718,  4.5729], grad_fn=<SelectBackward>)\n",
      "terrible tensor([ 4.5749,  0.5270, -2.1298, -0.8973, -2.0727], grad_fn=<SelectBackward>)\n",
      "Train\n",
      "F! score = 0.411\n",
      "Test\n",
      "F! score = 0.391\n",
      "[[235 112 149  23  13]\n",
      " [111  88 276  24  10]\n",
      " [ 60  54 378  40  14]\n",
      " [ 31  25 284 127  61]\n",
      " [ 28  18 143 103 187]]\n",
      "50000\n",
      "good tensor([-2.0168, -1.6367,  0.9340,  1.6881,  1.0326], grad_fn=<SelectBackward>)\n",
      "bad tensor([ 2.4028, -1.1769, -0.3366,  0.2254, -1.1089], grad_fn=<SelectBackward>)\n",
      "great tensor([-2.9910, -2.8092,  0.6302,  1.1772,  3.9908], grad_fn=<SelectBackward>)\n",
      "terrible tensor([ 4.6863,  1.2105, -2.6794, -1.0127, -2.2026], grad_fn=<SelectBackward>)\n",
      "Train\n",
      "F! score = 0.430\n",
      "Test\n",
      "F! score = 0.399\n",
      "[[351 134   9   7  21]\n",
      " [220 207  20  26  38]\n",
      " [135 206  32  78  75]\n",
      " [ 94  95  25 124 185]\n",
      " [ 62  57   8  64 321]]\n",
      "\n"
     ]
    },
    {
     "data": {
      "application/vnd.jupyter.widget-view+json": {
       "model_id": "bd168c426d0840229b306ea2d516b7e0",
       "version_major": 2,
       "version_minor": 0
      },
      "text/plain": [
       "HBox(children=(IntProgress(value=1, bar_style='info', max=1), HTML(value='')))"
      ]
     },
     "metadata": {
      "tags": []
     },
     "output_type": "display_data"
    },
    {
     "name": "stdout",
     "output_type": "stream",
     "text": [
      "0\n",
      "good tensor([-1.8368, -1.4258,  0.8613,  2.4411, -0.0386], grad_fn=<SelectBackward>)\n",
      "bad tensor([ 3.2421, -1.3405, -0.1597, -0.6441, -1.0921], grad_fn=<SelectBackward>)\n",
      "great tensor([-3.3195, -2.1474, -0.2616,  1.1491,  4.5775], grad_fn=<SelectBackward>)\n",
      "terrible tensor([ 4.7388,  1.1864, -2.3937, -1.4045, -2.1250], grad_fn=<SelectBackward>)\n",
      "Train\n",
      "F! score = 0.432\n",
      "Test\n",
      "F! score = 0.418\n",
      "[[355  44 103   7  53]\n",
      " [214  49 163  12  57]\n",
      " [ 97  36 305  20  93]\n",
      " [ 48  11 220  42 211]\n",
      " [ 30   9  82  29 355]]\n",
      "10000\n",
      "good tensor([-1.5857, -1.9062,  0.6907,  1.6992,  1.1033], grad_fn=<SelectBackward>)\n",
      "bad tensor([ 2.0541, -0.3662, -0.3172,  0.0950, -1.4600], grad_fn=<SelectBackward>)\n",
      "great tensor([-3.2317, -0.9514, -1.5390,  1.9087,  3.8116], grad_fn=<SelectBackward>)\n",
      "terrible tensor([ 4.6293,  1.7711, -2.7798, -0.9900, -2.6286], grad_fn=<SelectBackward>)\n",
      "Train\n",
      "F! score = 0.445\n",
      "Test\n",
      "F! score = 0.415\n",
      "[[406  28  40  18  36]\n",
      " [307  36 111  62  45]\n",
      " [165  21 172 100  57]\n",
      " [ 84   7 118 173 134]\n",
      " [ 75   3  44  98 315]]\n",
      "20000\n",
      "good tensor([-3.3032,  0.3219, -0.6322,  2.4226,  1.1922], grad_fn=<SelectBackward>)\n",
      "bad tensor([ 1.2689, -2.2357,  0.7495,  0.6831, -0.4600], grad_fn=<SelectBackward>)\n",
      "great tensor([-4.8433, -1.4181, -1.5022,  2.3317,  5.4300], grad_fn=<SelectBackward>)\n",
      "terrible tensor([ 4.6499,  1.7124, -2.4171, -1.1625, -2.7806], grad_fn=<SelectBackward>)\n",
      "Train\n",
      "F! score = 0.430\n",
      "Test\n",
      "F! score = 0.380\n",
      "[[247 102 138  27   6]\n",
      " [102 130 239  30  11]\n",
      " [ 46  89 310  52  11]\n",
      " [ 22  50 251 122  63]\n",
      " [ 23  39 183 122 174]]\n",
      "30000\n",
      "good tensor([-2.2764, -0.4648,  0.0926,  1.4914,  1.1584], grad_fn=<SelectBackward>)\n",
      "bad tensor([ 1.5944, -0.7092,  0.4291, -0.8259, -0.4825], grad_fn=<SelectBackward>)\n",
      "great tensor([-3.6332, -2.5622, -1.5264,  4.4157,  3.3043], grad_fn=<SelectBackward>)\n",
      "terrible tensor([ 4.8425,  1.4789, -1.9211, -1.4237, -2.9745], grad_fn=<SelectBackward>)\n",
      "Train\n",
      "F! score = 0.444\n",
      "Test\n",
      "F! score = 0.393\n",
      "[[149 322  10  32  21]\n",
      " [ 57 354  18  76  21]\n",
      " [ 27 281  40 142  45]\n",
      " [ 13 141  16 266 104]\n",
      " [ 10 110  12 148 232]]\n",
      "40000\n",
      "good tensor([-1.8500, -1.4790, -0.4553,  3.0801,  0.7056], grad_fn=<SelectBackward>)\n",
      "bad tensor([ 0.7969, -1.1318,  1.3492, -0.2581, -0.7505], grad_fn=<SelectBackward>)\n",
      "great tensor([-3.8914, -1.7376, -2.2724,  3.9257,  3.9737], grad_fn=<SelectBackward>)\n",
      "terrible tensor([ 5.9122,  1.4678, -2.4390, -1.3519, -3.5870], grad_fn=<SelectBackward>)\n",
      "Train\n",
      "F! score = 0.412\n",
      "Test\n",
      "F! score = 0.353\n",
      "[[211 102 159  24   6]\n",
      " [ 80 104 278  38   6]\n",
      " [ 30  60 356  78   6]\n",
      " [ 14  31 289 156  35]\n",
      " [ 26  24 211 188  92]]\n",
      "50000\n",
      "good tensor([-2.1013, -1.3899, -0.5848,  2.2108,  1.8664], grad_fn=<SelectBackward>)\n",
      "bad tensor([ 1.4156, -1.5060,  0.4855,  0.0219, -0.4113], grad_fn=<SelectBackward>)\n",
      "great tensor([-3.3669, -3.0024,  1.0105,  0.7130,  4.6438], grad_fn=<SelectBackward>)\n",
      "terrible tensor([ 6.0136,  1.4974, -2.5328, -1.4908, -3.4853], grad_fn=<SelectBackward>)\n",
      "Train\n",
      "F! score = 0.469\n",
      "Test\n",
      "F! score = 0.399\n",
      "[[322 115  25  18  25]\n",
      " [229 190  47  26  25]\n",
      " [119 167 117  77  46]\n",
      " [ 74  98  72 138 141]\n",
      " [ 67  50  40  72 251]]\n",
      "\n"
     ]
    },
    {
     "data": {
      "application/vnd.jupyter.widget-view+json": {
       "model_id": "41fc3b02dc724894af7034d636485471",
       "version_major": 2,
       "version_minor": 0
      },
      "text/plain": [
       "HBox(children=(IntProgress(value=1, bar_style='info', max=1), HTML(value='')))"
      ]
     },
     "metadata": {
      "tags": []
     },
     "output_type": "display_data"
    },
    {
     "name": "stdout",
     "output_type": "stream",
     "text": [
      "0\n",
      "good tensor([-2.0060, -1.4504, -0.2451,  2.7154,  0.9874], grad_fn=<SelectBackward>)\n",
      "bad tensor([ 1.9108, -0.9345,  0.2984, -0.3484, -0.9205], grad_fn=<SelectBackward>)\n",
      "great tensor([-3.0715, -2.6765, -0.3962,  0.9250,  5.2172], grad_fn=<SelectBackward>)\n",
      "terrible tensor([ 6.1561,  1.8266, -2.9880, -1.7927, -3.2000], grad_fn=<SelectBackward>)\n",
      "Train\n",
      "F! score = 0.420\n",
      "Test\n",
      "F! score = 0.378\n",
      "[[311  82  15  11 105]\n",
      " [161 101  27  28 171]\n",
      " [105  84  62  47 247]\n",
      " [ 35  29  28  68 389]\n",
      " [ 31   9  14  21 455]]\n",
      "10000\n",
      "good tensor([-0.7897, -2.4098,  0.0068,  2.4116,  0.7825], grad_fn=<SelectBackward>)\n",
      "bad tensor([ 1.4409, -0.3164, -1.2394,  0.9872, -0.8665], grad_fn=<SelectBackward>)\n",
      "great tensor([-3.2318, -1.0343, -1.0307,  1.5577,  3.7372], grad_fn=<SelectBackward>)\n",
      "terrible tensor([ 5.8046,  2.2955, -3.2446, -1.2977, -3.5556], grad_fn=<SelectBackward>)\n",
      "Train\n",
      "F! score = 0.451\n",
      "Test\n",
      "F! score = 0.404\n",
      "[[203 128 147   5  41]\n",
      " [ 95 104 263   2  36]\n",
      " [ 34  63 386  10  54]\n",
      " [ 16  31 287  24 145]\n",
      " [ 19  20 130  17 330]]\n",
      "20000\n",
      "good tensor([-3.2502,  0.2834, -0.8282,  2.3580,  1.4383], grad_fn=<SelectBackward>)\n",
      "bad tensor([ 0.9081, -1.4199, -0.8902,  1.6705, -0.2627], grad_fn=<SelectBackward>)\n",
      "great tensor([-4.9022, -0.7999, -1.9500,  2.8220,  4.8282], grad_fn=<SelectBackward>)\n",
      "terrible tensor([ 5.7359,  2.5341, -3.3576, -1.2770, -3.6334], grad_fn=<SelectBackward>)\n",
      "Train\n",
      "F! score = 0.474\n",
      "Test\n",
      "F! score = 0.387\n",
      "[[242  94 125  62  11]\n",
      " [109 110 212 101  14]\n",
      " [ 45  73 249 140  22]\n",
      " [ 17  26 161 240  78]\n",
      " [ 22  30  87 218 198]]\n",
      "30000\n",
      "good tensor([-1.8201, -0.9278, -0.2859,  1.5755,  1.4596], grad_fn=<SelectBackward>)\n",
      "bad tensor([ 2.0513, -0.7730, -0.8184, -0.4981,  0.0440], grad_fn=<SelectBackward>)\n",
      "great tensor([-3.0994, -2.2085, -2.4927,  3.7903,  4.0084], grad_fn=<SelectBackward>)\n",
      "terrible tensor([ 5.4118,  1.8596, -2.3548, -1.4156, -3.4989], grad_fn=<SelectBackward>)\n",
      "Train\n",
      "F! score = 0.472\n",
      "Test\n",
      "F! score = 0.417\n",
      "[[250 222   6  11  40]\n",
      " [101 307  24  34  43]\n",
      " [ 72 256  33  85 100]\n",
      " [ 20 136  18 156 225]\n",
      " [ 27  48  12  67 359]]\n",
      "40000\n",
      "good tensor([-2.2132, -0.7659,  0.0109,  2.7880,  0.1815], grad_fn=<SelectBackward>)\n",
      "bad tensor([ 2.1591, -1.1120,  0.5476, -0.4553, -1.1337], grad_fn=<SelectBackward>)\n",
      "great tensor([-3.9425, -1.7973, -1.3957,  3.1007,  4.0328], grad_fn=<SelectBackward>)\n",
      "terrible tensor([ 5.8681,  2.5567, -3.1191, -1.0406, -4.2631], grad_fn=<SelectBackward>)\n",
      "Train\n",
      "F! score = 0.399\n",
      "Test\n",
      "F! score = 0.345\n",
      "[[172  77 244  17   8]\n",
      " [ 67  76 333  37   4]\n",
      " [ 17  31 395  46  13]\n",
      " [ 14  23 343 123  42]\n",
      " [ 16   9 258 105 132]]\n",
      "50000\n",
      "good tensor([-1.8118, -1.5044, -0.1591,  2.0073,  1.4693], grad_fn=<SelectBackward>)\n",
      "bad tensor([ 2.1516, -1.1545, -0.0833, -0.8872, -0.0210], grad_fn=<SelectBackward>)\n",
      "great tensor([-3.1189, -3.2667,  0.9162,  0.9175,  4.5500], grad_fn=<SelectBackward>)\n",
      "terrible tensor([ 5.7585,  3.3126, -3.3734, -1.5731, -4.1225], grad_fn=<SelectBackward>)\n",
      "Train\n",
      "F! score = 0.457\n",
      "Test\n",
      "F! score = 0.390\n",
      "[[325 130  28   4   3]\n",
      " [195 207  63  25   7]\n",
      " [137 200 120  90  16]\n",
      " [ 68 138 100 153  74]\n",
      " [ 74  87  36 103 203]]\n",
      "\n"
     ]
    },
    {
     "data": {
      "application/vnd.jupyter.widget-view+json": {
       "model_id": "b58e6a4e521449cda278564485c2546e",
       "version_major": 2,
       "version_minor": 0
      },
      "text/plain": [
       "HBox(children=(IntProgress(value=1, bar_style='info', max=1), HTML(value='')))"
      ]
     },
     "metadata": {
      "tags": []
     },
     "output_type": "display_data"
    },
    {
     "name": "stdout",
     "output_type": "stream",
     "text": [
      "0\n",
      "good tensor([-1.7317, -1.5509,  0.0550,  2.1885,  1.0403], grad_fn=<SelectBackward>)\n",
      "bad tensor([ 1.9886, -1.1717,  0.2320, -0.9966, -0.0465], grad_fn=<SelectBackward>)\n",
      "great tensor([-3.1990, -3.5325,  0.3783,  1.6333,  4.7180], grad_fn=<SelectBackward>)\n",
      "terrible tensor([ 5.6713,  3.5040, -3.4604, -1.6899, -4.0229], grad_fn=<SelectBackward>)\n",
      "Train\n",
      "F! score = 0.455\n",
      "Test\n",
      "F! score = 0.391\n",
      "[[289 122  19   5 100]\n",
      " [148 154  53  18 145]\n",
      " [ 77 113  93  44 210]\n",
      " [ 23  45  52  62 333]\n",
      " [ 20  16  20  26 422]]\n"
     ]
    }
   ],
   "source": [
    "\n",
    "\n",
    "\n",
    "loss_function = nn.NLLLoss()\n",
    "optimizer = optim.SGD(model.parameters(), lr=0.1)\n",
    "\n",
    "for epoch in tqdm(range(10)):\n",
    "    for t,(instance, label) in tqdm(enumerate(zip(X_train,y_train))):\n",
    "        model.zero_grad()\n",
    "\n",
    "        bow_vec = make_bow_vector(instance, word_id)\n",
    "        target = make_target(label, None)\n",
    "\n",
    "        log_probs = model(bow_vec)\n",
    "\n",
    "        loss = loss_function(log_probs, target)\n",
    "        loss.backward()\n",
    "        optimizer.step()\n",
    "\n",
    "        if t % 10000 == 0:\n",
    "          print(epoch,t)\n",
    "          for word in ['good','bad','great','terrible']:\n",
    "            print(word,next(model.parameters())[:, word_id[word]])\n",
    "          print('Train')\n",
    "          log_probs,y_pred,confusion,f1 = eval_model(model,X_train,y_train,sample=0.1,show_f1=True)\n",
    "          print('Test')\n",
    "          log_probs,y_pred,confusion,f1 = eval_model(model,X_test,y_test,sample=0.1,show_confusion=True,show_f1=True)\n"
   ]
  },
  {
   "cell_type": "code",
   "execution_count": 0,
   "metadata": {
    "colab": {},
    "colab_type": "code",
    "id": "1MvzZ1mLWH0x"
   },
   "outputs": [],
   "source": []
  },
  {
   "cell_type": "code",
   "execution_count": 0,
   "metadata": {
    "colab": {},
    "colab_type": "code",
    "id": "5EKQB1aJWHzZ"
   },
   "outputs": [],
   "source": []
  },
  {
   "cell_type": "code",
   "execution_count": 0,
   "metadata": {
    "colab": {},
    "colab_type": "code",
    "id": "Nz9xmDVMWHxO"
   },
   "outputs": [],
   "source": [
    "\n",
    "EMBEDDING_DIM = 10\n",
    "\n",
    "\n",
    "\n",
    "class NGramLanguageModeler(nn.Module):\n",
    "\n",
    "    def __init__(self, vocab_size, embedding_dim, context_size):\n",
    "        super(NGramLanguageModeler, self).__init__()\n",
    "        self.embeddings = nn.Embedding(vocab_size, embedding_dim)\n",
    "        self.linear1 = nn.Linear(context_size * embedding_dim, 128)\n",
    "        self.linear2 = nn.Linear(128, vocab_size)\n",
    "\n",
    "    def forward(self, inputs):\n",
    "        embeds = self.embeddings(inputs).view((1, -1))\n",
    "        out = F.relu(self.linear1(embeds))\n",
    "        out = self.linear2(out)\n",
    "        log_probs = F.log_softmax(out, dim=1)\n",
    "        return log_probs\n"
   ]
  },
  {
   "cell_type": "code",
   "execution_count": 21,
   "metadata": {
    "colab": {
     "base_uri": "https://localhost:8080/",
     "height": 117,
     "referenced_widgets": [
      "e3bc8563c2a04bd5bc16b8033705cf24",
      "1d25c61728d64f7db01c775b21b28f48",
      "f47cc0a7f3a4443aaea5edf365128d1a",
      "db867d5bb30141d68f5fd9a4c24e9982",
      "8c70d79460af401fb841bfecb8b81de2",
      "2e489c1c867c4c6883098690098e16d3",
      "de1013a3be0945b39806d6db184576a3",
      "67573dbb90d54a769425ecb85baa7390"
     ]
    },
    "colab_type": "code",
    "id": "QkgIDd5Bt4hg",
    "outputId": "bd632e69-2c9b-44da-ebf0-1289e9335944"
   },
   "outputs": [
    {
     "name": "stderr",
     "output_type": "stream",
     "text": [
      "/usr/local/lib/python3.6/dist-packages/ipykernel_launcher.py:4: TqdmDeprecationWarning: This function will be removed in tqdm==5.0.0\n",
      "Please use `tqdm.notebook.tqdm` instead of `tqdm.tqdm_notebook`\n",
      "  after removing the cwd from sys.path.\n"
     ]
    },
    {
     "data": {
      "application/vnd.jupyter.widget-view+json": {
       "model_id": "e3bc8563c2a04bd5bc16b8033705cf24",
       "version_major": 2,
       "version_minor": 0
      },
      "text/plain": [
       "HBox(children=(IntProgress(value=0, max=79020), HTML(value='')))"
      ]
     },
     "metadata": {
      "tags": []
     },
     "output_type": "display_data"
    },
    {
     "name": "stdout",
     "output_type": "stream",
     "text": [
      "\n"
     ]
    }
   ],
   "source": [
    "CONTEXT_SIZE = 5\n",
    "\n",
    "dataset = []\n",
    "for words in tqdm(balanced_subset['words']):\n",
    "  if len(words) >= CONTEXT_SIZE + 1:\n",
    "    for i in range(len(words)-1-CONTEXT_SIZE):\n",
    "      pred = words[i:i+CONTEXT_SIZE]\n",
    "      dep = words[i+CONTEXT_SIZE]\n",
    "      dataset.append((pred,dep))\n"
   ]
  },
  {
   "cell_type": "code",
   "execution_count": 22,
   "metadata": {
    "colab": {
     "base_uri": "https://localhost:8080/",
     "height": 187
    },
    "colab_type": "code",
    "id": "57pbMXVPvAJb",
    "outputId": "a69eef5b-9ec7-40c6-e334-053e621f215a"
   },
   "outputs": [
    {
     "data": {
      "text/plain": [
       "[(['i', 'was', 'displeased', 'with', 'these'], 'they'),\n",
       " (['was', 'displeased', 'with', 'these', 'they'], 'do'),\n",
       " (['displeased', 'with', 'these', 'they', 'do'], 'not'),\n",
       " (['with', 'these', 'they', 'do', 'not'], 'stay'),\n",
       " (['these', 'they', 'do', 'not', 'stay'], 'on'),\n",
       " (['they', 'do', 'not', 'stay', 'on'], 'your'),\n",
       " (['do', 'not', 'stay', 'on', 'your'], 'teeth'),\n",
       " (['not', 'stay', 'on', 'your', 'teeth'], 'nor'),\n",
       " (['stay', 'on', 'your', 'teeth', 'nor'], 'did'),\n",
       " (['on', 'your', 'teeth', 'nor', 'did'], 'they')]"
      ]
     },
     "execution_count": 22,
     "metadata": {
      "tags": []
     },
     "output_type": "execute_result"
    }
   ],
   "source": [
    "dataset[:10]"
   ]
  },
  {
   "cell_type": "code",
   "execution_count": 0,
   "metadata": {
    "colab": {},
    "colab_type": "code",
    "id": "UkSs2qO4FZP_"
   },
   "outputs": [],
   "source": [
    "id_to_word = {v:k for k,v in word_id.items()}"
   ]
  },
  {
   "cell_type": "code",
   "execution_count": 0,
   "metadata": {
    "colab": {
     "base_uri": "https://localhost:8080/"
    },
    "colab_type": "code",
    "id": "j9rvpXxbWHuN",
    "outputId": "76d15acf-dc30-494e-c8e2-fd531001cdc2"
   },
   "outputs": [
    {
     "name": "stderr",
     "output_type": "stream",
     "text": [
      "/usr/local/lib/python3.6/dist-packages/ipykernel_launcher.py:9: TqdmDeprecationWarning: This function will be removed in tqdm==5.0.0\n",
      "Please use `tqdm.notebook.tqdm` instead of `tqdm.tqdm_notebook`\n",
      "  if __name__ == '__main__':\n"
     ]
    },
    {
     "data": {
      "application/vnd.jupyter.widget-view+json": {
       "model_id": "096e7451db974713867dca4ecd35ed3d",
       "version_major": 2,
       "version_minor": 0
      },
      "text/plain": [
       "HBox(children=(IntProgress(value=0, max=6090937), HTML(value='')))"
      ]
     },
     "metadata": {
      "tags": []
     },
     "output_type": "display_data"
    },
    {
     "name": "stdout",
     "output_type": "stream",
     "text": [
      "0 0 0.011757283210754406\n",
      "11.757283210754395\n",
      "i was displeased with these [they] anaemic\n",
      "0 100 1.1353249592387082\n",
      "11.962045669555664\n",
      "tastes disgusting it is sickly [sweet] all'\n",
      "0 200 2.1471960233591547\n",
      "12.127824783325195\n",
      "crap gave a try a [few] heliobacter\n",
      "0 300 3.0644749680467585\n",
      "11.807830810546875\n",
      "by my dentist it's costly [but] suprises\n",
      "0 400 3.8923789052167272\n",
      "12.076592445373535\n",
      "this crapit s a lot [of] jasmineough\n",
      "0 500 4.642054399292619\n",
      "12.079609870910645\n",
      "have asthma allergies are hypersensitive [to] oremergency\n",
      "0 600 5.313592224394968\n",
      "11.927711486816406\n",
      "cashew 10 out of 10madagascar [vanilla] rocktape\n",
      "0 700 5.926234740656205\n",
      "11.758013725280762\n",
      "lather for multiple passess better [and] suprises\n",
      "0 800 6.4762684945985765\n",
      "11.646912574768066\n",
      "printing like the real deal [but] gal's\n",
      "0 900 6.96952055911457\n",
      "11.759594917297363\n",
      "salons also true that although [none] 1700\n",
      "0 1000 7.41546317771612\n",
      "11.900367736816406\n",
      "to buy the adapter i [went] share\n",
      "0 1100 7.827182247542989\n",
      "11.906607627868652\n",
      "to use the product as [there] daysgoes\n",
      "0 1200 8.194008695202237\n",
      "12.047332763671875\n",
      "it's hard to write a [review] fuiture\n",
      "0 1300 8.524888284349467\n",
      "11.402785301208496\n",
      "a big cardboard box full [of] cloths'\n",
      "0 1400 8.825405908253305\n",
      "11.830002784729004\n",
      "only puncture my finger once [than] pov\n",
      "0 1500 9.09632312386027\n",
      "12.020899772644043\n",
      "this device is going to [waste] kalen\n",
      "0 1600 9.34684802704881\n",
      "11.386231422424316\n",
      "tips on where to buy [the] unwilling\n",
      "0 1700 9.565099003899594\n",
      "12.112565994262695\n",
      "of the bottle is the [first] modles\n",
      "0 1800 9.763042568813725\n",
      "11.747122764587402\n",
      "is it this stuff is [going] noticedthat\n",
      "0 1900 9.941907721951289\n",
      "11.998597145080566\n",
      "that i have slept with [an] oilboth\n",
      "0 2000 10.098544772351127\n",
      "11.52308177947998\n",
      "years ago for breast cancer [awareness] amantadine\n",
      "0 2100 10.247427789255573\n",
      "12.098575592041016\n",
      "like a limp peice of [nothing] advils\n",
      "0 2200 10.380629661797492\n",
      "11.687424659729004\n",
      "not able to be returned [but] shopping\n",
      "0 2300 10.495095252426042\n",
      "11.435185432434082\n",
      "a replacement and they said [this] charmwell\n",
      "0 2400 10.593905339583758\n",
      "11.712288856506348\n",
      "electric range and all it [does] 1mo\n",
      "0 2500 10.688337486228754\n",
      "11.89148235321045\n",
      "hydrogenated coconut oil sweetened condensed [milk] o'donnell\n",
      "0 2600 10.77520109751403\n",
      "11.446761131286621\n",
      "nervous and i end up [getting] the\n",
      "0 2700 10.848555540316545\n",
      "10.983480453491211\n",
      "to last throughout the day [i] namesakes\n",
      "0 2800 10.92200954815434\n",
      "11.682060241699219\n",
      "still think it's a great [idea] the\n",
      "0 2900 10.980940353675923\n",
      "11.264569282531738\n",
      "amino energy concord grape product [and] i\n",
      "0 3000 11.036056937256047\n",
      "11.303512573242188\n",
      "to be negative it contains [among] containersthere\n",
      "0 3100 11.08924673319767\n",
      "11.983943939208984\n",
      "sticking to my natural based [energy] polycabonate\n",
      "0 3200 11.127273507172987\n",
      "12.099778175354004\n",
      "but look at the carbs [30g] of\n",
      "0 3300 11.16939385058689\n",
      "11.540448188781738\n",
      "whiten my teeth and perform [other] i\n",
      "0 3400 11.1977492555761\n",
      "10.58545970916748\n",
      "unpleasant smell i cannot return [the] the\n",
      "0 3500 11.225205611637591\n",
      "11.902904510498047\n",
      "since i started wearing this [at] fimo\n",
      "0 3600 11.249439597744193\n",
      "11.482089042663574\n",
      "weak hands or frailty should [not] the\n",
      "0 3700 11.268087349659561\n",
      "11.625253677368164\n",
      "by email and did not [hear] i\n",
      "0 3800 11.283565180832305\n",
      "10.373994827270508\n",
      "from the base unit at [the] the\n",
      "0 3900 11.30179796156228\n",
      "11.813109397888184\n",
      "exposure to methylene chloride can [cause] the\n",
      "0 4000 11.321369497599873\n",
      "11.582874298095703\n",
      "quickly and there was nothing [intense] the\n",
      "0 4100 11.338090971430997\n",
      "11.600354194641113\n",
      "doubt the worst tasting mouthwash [i've] the\n",
      "0 4200 11.348074723159208\n",
      "10.549958229064941\n",
      "proper amount as indicated on [the] and\n",
      "0 4300 11.356439981618303\n",
      "11.35692024230957\n",
      "arm skinned was dark brown [and] the\n",
      "0 4400 11.368490745756155\n",
      "11.907318115234375\n",
      "happened but soon after washing [off] the\n",
      "0 4500 11.378469939296343\n",
      "11.783550262451172\n",
      "points of contact to stay [put] the\n",
      "0 4600 11.381666584534901\n",
      "11.829204559326172\n",
      "2 hours then crash i [know] the\n",
      "0 4700 11.375420653420456\n",
      "11.176008224487305\n",
      "is very beneficial for some [but] the\n",
      "0 4800 11.374852444614472\n",
      "10.552183151245117\n",
      "the same but the number [of] to\n",
      "0 4900 11.387755111478924\n",
      "12.084908485412598\n",
      "it turned off after two [minutes] i\n",
      "0 5000 11.394707781538338\n",
      "11.655461311340332\n",
      "or sell the rest of [what] the\n",
      "0 5100 11.390425642553796\n",
      "11.495698928833008\n",
      "be a great option i [am] the\n",
      "0 5200 11.392979183737951\n",
      "11.968938827514648\n",
      "just understand what issues you [are] i\n",
      "0 5300 11.39429153601245\n",
      "11.960461616516113\n",
      "original old accurate scale i [remember] i\n",
      "0 5400 11.403722044854051\n",
      "11.724128723144531\n",
      "weight levels with a consistent [error] the\n",
      "0 5500 11.396149409829214\n",
      "11.765195846557617\n",
      "it seems that the types [with] the\n",
      "0 5600 11.399121659258471\n",
      "11.324431419372559\n",
      "sprayed a shirt yesterday and [let] i\n",
      "0 5700 11.381817121431023\n",
      "9.949142456054688\n",
      "enough air through them when [i] the\n",
      "0 5800 11.371156389671494\n",
      "11.115228652954102\n",
      "light crispy taste to it [but] i\n",
      "0 5900 11.36590590924488\n",
      "10.189109802246094\n",
      "mistakingly bought this thinking that [it] the\n",
      "0 6000 11.361578937074082\n",
      "11.703752517700195\n",
      "get it to cover needed [area] the\n",
      "0 6100 11.366462257983317\n",
      "10.801427841186523\n",
      "to make them go away [is] the\n",
      "0 6200 11.360394667895228\n",
      "9.338908195495605\n",
      "gillette this one belongs in [the] the\n",
      "0 6300 11.356227984925486\n",
      "11.549419403076172\n",
      "nearly as good as theirs [now] the\n",
      "0 6400 11.35097975825378\n",
      "11.683089256286621\n",
      "will absorb these chemicals which [can] the\n",
      "0 6500 11.347864079521756\n",
      "12.094307899475098\n",
      "generally feel better these don't [do] i\n",
      "0 6600 11.337800937641815\n",
      "11.312790870666504\n",
      "stained i tried oc recently [on] the\n"
     ]
    }
   ],
   "source": [
    "loss_function = nn.NLLLoss()\n",
    "model = NGramLanguageModeler(len(word_id), EMBEDDING_DIM, CONTEXT_SIZE)\n",
    "optimizer = optim.SGD(model.parameters(), lr=0.001)\n",
    "\n",
    "running_loss = 0\n",
    "alpha = 0.999\n",
    "\n",
    "for epoch in range(10):\n",
    "    for t,(context, target) in enumerate(tqdm(dataset)):\n",
    "\n",
    "        \n",
    "        context_idxs = torch.tensor([word_id[w] for w in context], dtype=torch.long)\n",
    "\n",
    "        model.zero_grad()\n",
    "\n",
    "\n",
    "        log_probs = model(context_idxs)\n",
    "\n",
    "        # Step 4. Compute your loss function. (Again, Torch wants the target\n",
    "        # word wrapped in a tensor)\n",
    "        loss = loss_function(log_probs, torch.tensor([word_id[target]], dtype=torch.long))\n",
    "\n",
    "        # Step 5. Do the backward pass and update the gradient\n",
    "        loss.backward()\n",
    "        optimizer.step()\n",
    "\n",
    "        # Get the Python number from a 1-element Tensor by calling tensor.item()\n",
    "        running_loss = alpha*running_loss + (1-alpha)*loss.item()\n",
    "\n",
    "        if t % 100 == 0:\n",
    "          print(epoch,t,running_loss)\n",
    "          log_probs = model(context_idxs)\n",
    "    \n",
    "          argmax = int(log_probs.argmax())\n",
    "          pred_p = log_probs.max()\n",
    "          true_p = log_probs[word_id[target]]\n",
    "          prediction = id_to_word[argmax]\n",
    "          print(loss.item())\n",
    "          print('%s [%s] %s : %5.5f vs %5.5f' % (' '.join(context),target,prediction,pred_p,true_p))\n",
    "              \n",
    "        \n"
   ]
  },
  {
   "cell_type": "code",
   "execution_count": 0,
   "metadata": {
    "colab": {},
    "colab_type": "code",
    "id": "-t_DweJJvIV-"
   },
   "outputs": [],
   "source": [
    " bif t % 10000 == 0:\n",
    "          print(epoch,t)\n",
    "          for word in ['good','bad','great','terrible']:\n",
    "            print(word,next(model.parameters())[:, word_id[word]])\n",
    "          print('Train')\n",
    "          log_probs,y_pred,confusion,f1 = eval_model(model,X_train,y_train,sample=0.1,show_f1=True)\n",
    "          print('Test')\n",
    "          log_probs,y_pred,confusion,f1 = eval_model(model,X_test,y_test,sample=0.1,show_confusion=True,show_f1=True)"
   ]
  }
 ],
 "metadata": {
  "accelerator": "GPU",
  "colab": {
   "authorship_tag": "ABX9TyMQq5+83WuEIgPCuT3cg/nU",
   "include_colab_link": true,
   "name": "NLP SD - Tutorial3",
   "provenance": []
  },
  "kernelspec": {
   "display_name": "Python 3",
   "language": "python",
   "name": "python3"
  },
  "language_info": {
   "codemirror_mode": {
    "name": "ipython",
    "version": 3
   },
   "file_extension": ".py",
   "mimetype": "text/x-python",
   "name": "python",
   "nbconvert_exporter": "python",
   "pygments_lexer": "ipython3",
   "version": "3.6.5"
  },
  "widgets": {
   "application/vnd.jupyter.widget-state+json": {
    "02bc0f57cec643a6b0ea6754d1c9a3b2": {
     "model_module": "@jupyter-widgets/base",
     "model_name": "LayoutModel",
     "state": {
      "_model_module": "@jupyter-widgets/base",
      "_model_module_version": "1.2.0",
      "_model_name": "LayoutModel",
      "_view_count": null,
      "_view_module": "@jupyter-widgets/base",
      "_view_module_version": "1.2.0",
      "_view_name": "LayoutView",
      "align_content": null,
      "align_items": null,
      "align_self": null,
      "border": null,
      "bottom": null,
      "display": null,
      "flex": null,
      "flex_flow": null,
      "grid_area": null,
      "grid_auto_columns": null,
      "grid_auto_flow": null,
      "grid_auto_rows": null,
      "grid_column": null,
      "grid_gap": null,
      "grid_row": null,
      "grid_template_areas": null,
      "grid_template_columns": null,
      "grid_template_rows": null,
      "height": null,
      "justify_content": null,
      "justify_items": null,
      "left": null,
      "margin": null,
      "max_height": null,
      "max_width": null,
      "min_height": null,
      "min_width": null,
      "object_fit": null,
      "object_position": null,
      "order": null,
      "overflow": null,
      "overflow_x": null,
      "overflow_y": null,
      "padding": null,
      "right": null,
      "top": null,
      "visibility": null,
      "width": null
     }
    },
    "05186157064e43019e7f9a10562a2403": {
     "model_module": "@jupyter-widgets/controls",
     "model_name": "HTMLModel",
     "state": {
      "_dom_classes": [],
      "_model_module": "@jupyter-widgets/controls",
      "_model_module_version": "1.5.0",
      "_model_name": "HTMLModel",
      "_view_count": null,
      "_view_module": "@jupyter-widgets/controls",
      "_view_module_version": "1.5.0",
      "_view_name": "HTMLView",
      "description": "",
      "description_tooltip": null,
      "layout": "IPY_MODEL_a626d5f0cb8146278427b845d83717e3",
      "placeholder": "​",
      "style": "IPY_MODEL_3143dc50669143d59cf1e96db863bece",
      "value": " 346355/? [00:11&lt;00:00, 30278.97it/s]"
     }
    },
    "05ef1b26e5aa41c29e5d6f6e2e2373e1": {
     "model_module": "@jupyter-widgets/controls",
     "model_name": "ProgressStyleModel",
     "state": {
      "_model_module": "@jupyter-widgets/controls",
      "_model_module_version": "1.5.0",
      "_model_name": "ProgressStyleModel",
      "_view_count": null,
      "_view_module": "@jupyter-widgets/base",
      "_view_module_version": "1.2.0",
      "_view_name": "StyleView",
      "bar_color": null,
      "description_width": "initial"
     }
    },
    "0a1c0c68b1b84081b2b66cca608b10c0": {
     "model_module": "@jupyter-widgets/controls",
     "model_name": "IntProgressModel",
     "state": {
      "_dom_classes": [],
      "_model_module": "@jupyter-widgets/controls",
      "_model_module_version": "1.5.0",
      "_model_name": "IntProgressModel",
      "_view_count": null,
      "_view_module": "@jupyter-widgets/controls",
      "_view_module_version": "1.5.0",
      "_view_name": "ProgressView",
      "bar_style": "success",
      "description": "",
      "description_tooltip": null,
      "layout": "IPY_MODEL_02bc0f57cec643a6b0ea6754d1c9a3b2",
      "max": 1,
      "min": 0,
      "orientation": "horizontal",
      "style": "IPY_MODEL_1148227814b84ca1828f313d31efea35",
      "value": 1
     }
    },
    "0df9915340c64bc1b9bc4f5102cecdd4": {
     "model_module": "@jupyter-widgets/controls",
     "model_name": "IntProgressModel",
     "state": {
      "_dom_classes": [],
      "_model_module": "@jupyter-widgets/controls",
      "_model_module_version": "1.5.0",
      "_model_name": "IntProgressModel",
      "_view_count": null,
      "_view_module": "@jupyter-widgets/controls",
      "_view_module_version": "1.5.0",
      "_view_name": "ProgressView",
      "bar_style": "success",
      "description": "",
      "description_tooltip": null,
      "layout": "IPY_MODEL_8b7ff9b463a841f88fbe4477ffa7c569",
      "max": 1,
      "min": 0,
      "orientation": "horizontal",
      "style": "IPY_MODEL_5e921226387f400b975e48283b941f66",
      "value": 1
     }
    },
    "1148227814b84ca1828f313d31efea35": {
     "model_module": "@jupyter-widgets/controls",
     "model_name": "ProgressStyleModel",
     "state": {
      "_model_module": "@jupyter-widgets/controls",
      "_model_module_version": "1.5.0",
      "_model_name": "ProgressStyleModel",
      "_view_count": null,
      "_view_module": "@jupyter-widgets/base",
      "_view_module_version": "1.2.0",
      "_view_name": "StyleView",
      "bar_color": null,
      "description_width": "initial"
     }
    },
    "15452146c3314ea299c1f43470f26d61": {
     "model_module": "@jupyter-widgets/controls",
     "model_name": "HBoxModel",
     "state": {
      "_dom_classes": [],
      "_model_module": "@jupyter-widgets/controls",
      "_model_module_version": "1.5.0",
      "_model_name": "HBoxModel",
      "_view_count": null,
      "_view_module": "@jupyter-widgets/controls",
      "_view_module_version": "1.5.0",
      "_view_name": "HBoxView",
      "box_style": "",
      "children": [
       "IPY_MODEL_e5836256a7ce4fbb90db5f1343fa14c6",
       "IPY_MODEL_35d2c5a7ff8f4119bdf1a9ca9ef99285"
      ],
      "layout": "IPY_MODEL_fd454d9457724c3a9a0a35b7055ba0e8"
     }
    },
    "1d25c61728d64f7db01c775b21b28f48": {
     "model_module": "@jupyter-widgets/base",
     "model_name": "LayoutModel",
     "state": {
      "_model_module": "@jupyter-widgets/base",
      "_model_module_version": "1.2.0",
      "_model_name": "LayoutModel",
      "_view_count": null,
      "_view_module": "@jupyter-widgets/base",
      "_view_module_version": "1.2.0",
      "_view_name": "LayoutView",
      "align_content": null,
      "align_items": null,
      "align_self": null,
      "border": null,
      "bottom": null,
      "display": null,
      "flex": null,
      "flex_flow": null,
      "grid_area": null,
      "grid_auto_columns": null,
      "grid_auto_flow": null,
      "grid_auto_rows": null,
      "grid_column": null,
      "grid_gap": null,
      "grid_row": null,
      "grid_template_areas": null,
      "grid_template_columns": null,
      "grid_template_rows": null,
      "height": null,
      "justify_content": null,
      "justify_items": null,
      "left": null,
      "margin": null,
      "max_height": null,
      "max_width": null,
      "min_height": null,
      "min_width": null,
      "object_fit": null,
      "object_position": null,
      "order": null,
      "overflow": null,
      "overflow_x": null,
      "overflow_y": null,
      "padding": null,
      "right": null,
      "top": null,
      "visibility": null,
      "width": null
     }
    },
    "27b2353bd49d476388aedc75398221f3": {
     "model_module": "@jupyter-widgets/base",
     "model_name": "LayoutModel",
     "state": {
      "_model_module": "@jupyter-widgets/base",
      "_model_module_version": "1.2.0",
      "_model_name": "LayoutModel",
      "_view_count": null,
      "_view_module": "@jupyter-widgets/base",
      "_view_module_version": "1.2.0",
      "_view_name": "LayoutView",
      "align_content": null,
      "align_items": null,
      "align_self": null,
      "border": null,
      "bottom": null,
      "display": null,
      "flex": null,
      "flex_flow": null,
      "grid_area": null,
      "grid_auto_columns": null,
      "grid_auto_flow": null,
      "grid_auto_rows": null,
      "grid_column": null,
      "grid_gap": null,
      "grid_row": null,
      "grid_template_areas": null,
      "grid_template_columns": null,
      "grid_template_rows": null,
      "height": null,
      "justify_content": null,
      "justify_items": null,
      "left": null,
      "margin": null,
      "max_height": null,
      "max_width": null,
      "min_height": null,
      "min_width": null,
      "object_fit": null,
      "object_position": null,
      "order": null,
      "overflow": null,
      "overflow_x": null,
      "overflow_y": null,
      "padding": null,
      "right": null,
      "top": null,
      "visibility": null,
      "width": null
     }
    },
    "2e489c1c867c4c6883098690098e16d3": {
     "model_module": "@jupyter-widgets/base",
     "model_name": "LayoutModel",
     "state": {
      "_model_module": "@jupyter-widgets/base",
      "_model_module_version": "1.2.0",
      "_model_name": "LayoutModel",
      "_view_count": null,
      "_view_module": "@jupyter-widgets/base",
      "_view_module_version": "1.2.0",
      "_view_name": "LayoutView",
      "align_content": null,
      "align_items": null,
      "align_self": null,
      "border": null,
      "bottom": null,
      "display": null,
      "flex": null,
      "flex_flow": null,
      "grid_area": null,
      "grid_auto_columns": null,
      "grid_auto_flow": null,
      "grid_auto_rows": null,
      "grid_column": null,
      "grid_gap": null,
      "grid_row": null,
      "grid_template_areas": null,
      "grid_template_columns": null,
      "grid_template_rows": null,
      "height": null,
      "justify_content": null,
      "justify_items": null,
      "left": null,
      "margin": null,
      "max_height": null,
      "max_width": null,
      "min_height": null,
      "min_width": null,
      "object_fit": null,
      "object_position": null,
      "order": null,
      "overflow": null,
      "overflow_x": null,
      "overflow_y": null,
      "padding": null,
      "right": null,
      "top": null,
      "visibility": null,
      "width": null
     }
    },
    "3143dc50669143d59cf1e96db863bece": {
     "model_module": "@jupyter-widgets/controls",
     "model_name": "DescriptionStyleModel",
     "state": {
      "_model_module": "@jupyter-widgets/controls",
      "_model_module_version": "1.5.0",
      "_model_name": "DescriptionStyleModel",
      "_view_count": null,
      "_view_module": "@jupyter-widgets/base",
      "_view_module_version": "1.2.0",
      "_view_name": "StyleView",
      "description_width": ""
     }
    },
    "35d2c5a7ff8f4119bdf1a9ca9ef99285": {
     "model_module": "@jupyter-widgets/controls",
     "model_name": "HTMLModel",
     "state": {
      "_dom_classes": [],
      "_model_module": "@jupyter-widgets/controls",
      "_model_module_version": "1.5.0",
      "_model_name": "HTMLModel",
      "_view_count": null,
      "_view_module": "@jupyter-widgets/controls",
      "_view_module_version": "1.5.0",
      "_view_name": "HTMLView",
      "description": "",
      "description_tooltip": null,
      "layout": "IPY_MODEL_aeeb8244fc1f4ec797d656e0bc712da6",
      "placeholder": "​",
      "style": "IPY_MODEL_389171ed6311420c8adaab47e913c57f",
      "value": " 3/10 [10:36&lt;24:51, 213.08s/it]"
     }
    },
    "389171ed6311420c8adaab47e913c57f": {
     "model_module": "@jupyter-widgets/controls",
     "model_name": "DescriptionStyleModel",
     "state": {
      "_model_module": "@jupyter-widgets/controls",
      "_model_module_version": "1.5.0",
      "_model_name": "DescriptionStyleModel",
      "_view_count": null,
      "_view_module": "@jupyter-widgets/base",
      "_view_module_version": "1.2.0",
      "_view_name": "StyleView",
      "description_width": ""
     }
    },
    "39256936467346d18319034f0b8b8389": {
     "model_module": "@jupyter-widgets/controls",
     "model_name": "HTMLModel",
     "state": {
      "_dom_classes": [],
      "_model_module": "@jupyter-widgets/controls",
      "_model_module_version": "1.5.0",
      "_model_name": "HTMLModel",
      "_view_count": null,
      "_view_module": "@jupyter-widgets/controls",
      "_view_module_version": "1.5.0",
      "_view_name": "HTMLView",
      "description": "",
      "description_tooltip": null,
      "layout": "IPY_MODEL_c849567bc8ee46aca2135b6b704b81e9",
      "placeholder": "​",
      "style": "IPY_MODEL_d79d49aa42d34157979cd69341a4cb5a",
      "value": " 52943/? [03:31&lt;00:00, 250.91it/s]"
     }
    },
    "3b7b5b50fe2e4764974acfffc13555eb": {
     "model_module": "@jupyter-widgets/base",
     "model_name": "LayoutModel",
     "state": {
      "_model_module": "@jupyter-widgets/base",
      "_model_module_version": "1.2.0",
      "_model_name": "LayoutModel",
      "_view_count": null,
      "_view_module": "@jupyter-widgets/base",
      "_view_module_version": "1.2.0",
      "_view_name": "LayoutView",
      "align_content": null,
      "align_items": null,
      "align_self": null,
      "border": null,
      "bottom": null,
      "display": null,
      "flex": null,
      "flex_flow": null,
      "grid_area": null,
      "grid_auto_columns": null,
      "grid_auto_flow": null,
      "grid_auto_rows": null,
      "grid_column": null,
      "grid_gap": null,
      "grid_row": null,
      "grid_template_areas": null,
      "grid_template_columns": null,
      "grid_template_rows": null,
      "height": null,
      "justify_content": null,
      "justify_items": null,
      "left": null,
      "margin": null,
      "max_height": null,
      "max_width": null,
      "min_height": null,
      "min_width": null,
      "object_fit": null,
      "object_position": null,
      "order": null,
      "overflow": null,
      "overflow_x": null,
      "overflow_y": null,
      "padding": null,
      "right": null,
      "top": null,
      "visibility": null,
      "width": null
     }
    },
    "3f034e63918440e5a93df7001a358b07": {
     "model_module": "@jupyter-widgets/base",
     "model_name": "LayoutModel",
     "state": {
      "_model_module": "@jupyter-widgets/base",
      "_model_module_version": "1.2.0",
      "_model_name": "LayoutModel",
      "_view_count": null,
      "_view_module": "@jupyter-widgets/base",
      "_view_module_version": "1.2.0",
      "_view_name": "LayoutView",
      "align_content": null,
      "align_items": null,
      "align_self": null,
      "border": null,
      "bottom": null,
      "display": null,
      "flex": null,
      "flex_flow": null,
      "grid_area": null,
      "grid_auto_columns": null,
      "grid_auto_flow": null,
      "grid_auto_rows": null,
      "grid_column": null,
      "grid_gap": null,
      "grid_row": null,
      "grid_template_areas": null,
      "grid_template_columns": null,
      "grid_template_rows": null,
      "height": null,
      "justify_content": null,
      "justify_items": null,
      "left": null,
      "margin": null,
      "max_height": null,
      "max_width": null,
      "min_height": null,
      "min_width": null,
      "object_fit": null,
      "object_position": null,
      "order": null,
      "overflow": null,
      "overflow_x": null,
      "overflow_y": null,
      "padding": null,
      "right": null,
      "top": null,
      "visibility": null,
      "width": null
     }
    },
    "41fc3b02dc724894af7034d636485471": {
     "model_module": "@jupyter-widgets/controls",
     "model_name": "HBoxModel",
     "state": {
      "_dom_classes": [],
      "_model_module": "@jupyter-widgets/controls",
      "_model_module_version": "1.5.0",
      "_model_name": "HBoxModel",
      "_view_count": null,
      "_view_module": "@jupyter-widgets/controls",
      "_view_module_version": "1.5.0",
      "_view_name": "HBoxView",
      "box_style": "",
      "children": [
       "IPY_MODEL_77f9cf24df574dc0aa0b424c4467bfb4",
       "IPY_MODEL_b4e4e54c6d4843f19131c3ceb9425e86"
      ],
      "layout": "IPY_MODEL_a56285fa0f8942a7ae3222518104ccf8"
     }
    },
    "47d129d99ba94009a8d83aff172b0e40": {
     "model_module": "@jupyter-widgets/base",
     "model_name": "LayoutModel",
     "state": {
      "_model_module": "@jupyter-widgets/base",
      "_model_module_version": "1.2.0",
      "_model_name": "LayoutModel",
      "_view_count": null,
      "_view_module": "@jupyter-widgets/base",
      "_view_module_version": "1.2.0",
      "_view_name": "LayoutView",
      "align_content": null,
      "align_items": null,
      "align_self": null,
      "border": null,
      "bottom": null,
      "display": null,
      "flex": null,
      "flex_flow": null,
      "grid_area": null,
      "grid_auto_columns": null,
      "grid_auto_flow": null,
      "grid_auto_rows": null,
      "grid_column": null,
      "grid_gap": null,
      "grid_row": null,
      "grid_template_areas": null,
      "grid_template_columns": null,
      "grid_template_rows": null,
      "height": null,
      "justify_content": null,
      "justify_items": null,
      "left": null,
      "margin": null,
      "max_height": null,
      "max_width": null,
      "min_height": null,
      "min_width": null,
      "object_fit": null,
      "object_position": null,
      "order": null,
      "overflow": null,
      "overflow_x": null,
      "overflow_y": null,
      "padding": null,
      "right": null,
      "top": null,
      "visibility": null,
      "width": null
     }
    },
    "4971c824b5bd4874adcca0f4819d9dc9": {
     "model_module": "@jupyter-widgets/base",
     "model_name": "LayoutModel",
     "state": {
      "_model_module": "@jupyter-widgets/base",
      "_model_module_version": "1.2.0",
      "_model_name": "LayoutModel",
      "_view_count": null,
      "_view_module": "@jupyter-widgets/base",
      "_view_module_version": "1.2.0",
      "_view_name": "LayoutView",
      "align_content": null,
      "align_items": null,
      "align_self": null,
      "border": null,
      "bottom": null,
      "display": null,
      "flex": null,
      "flex_flow": null,
      "grid_area": null,
      "grid_auto_columns": null,
      "grid_auto_flow": null,
      "grid_auto_rows": null,
      "grid_column": null,
      "grid_gap": null,
      "grid_row": null,
      "grid_template_areas": null,
      "grid_template_columns": null,
      "grid_template_rows": null,
      "height": null,
      "justify_content": null,
      "justify_items": null,
      "left": null,
      "margin": null,
      "max_height": null,
      "max_width": null,
      "min_height": null,
      "min_width": null,
      "object_fit": null,
      "object_position": null,
      "order": null,
      "overflow": null,
      "overflow_x": null,
      "overflow_y": null,
      "padding": null,
      "right": null,
      "top": null,
      "visibility": null,
      "width": null
     }
    },
    "5c69eb83ab6748c58273568fb9295f65": {
     "model_module": "@jupyter-widgets/controls",
     "model_name": "IntProgressModel",
     "state": {
      "_dom_classes": [],
      "_model_module": "@jupyter-widgets/controls",
      "_model_module_version": "1.5.0",
      "_model_name": "IntProgressModel",
      "_view_count": null,
      "_view_module": "@jupyter-widgets/controls",
      "_view_module_version": "1.5.0",
      "_view_name": "ProgressView",
      "bar_style": "info",
      "description": "",
      "description_tooltip": null,
      "layout": "IPY_MODEL_e26ff578bdaf4ba3b9cc1120d2b9d47d",
      "max": 1,
      "min": 0,
      "orientation": "horizontal",
      "style": "IPY_MODEL_a0c7310d0b604659886ed2b48238d071",
      "value": 1
     }
    },
    "5ddeb7a908614e369b8e33a964ea19ab": {
     "model_module": "@jupyter-widgets/base",
     "model_name": "LayoutModel",
     "state": {
      "_model_module": "@jupyter-widgets/base",
      "_model_module_version": "1.2.0",
      "_model_name": "LayoutModel",
      "_view_count": null,
      "_view_module": "@jupyter-widgets/base",
      "_view_module_version": "1.2.0",
      "_view_name": "LayoutView",
      "align_content": null,
      "align_items": null,
      "align_self": null,
      "border": null,
      "bottom": null,
      "display": null,
      "flex": null,
      "flex_flow": null,
      "grid_area": null,
      "grid_auto_columns": null,
      "grid_auto_flow": null,
      "grid_auto_rows": null,
      "grid_column": null,
      "grid_gap": null,
      "grid_row": null,
      "grid_template_areas": null,
      "grid_template_columns": null,
      "grid_template_rows": null,
      "height": null,
      "justify_content": null,
      "justify_items": null,
      "left": null,
      "margin": null,
      "max_height": null,
      "max_width": null,
      "min_height": null,
      "min_width": null,
      "object_fit": null,
      "object_position": null,
      "order": null,
      "overflow": null,
      "overflow_x": null,
      "overflow_y": null,
      "padding": null,
      "right": null,
      "top": null,
      "visibility": null,
      "width": null
     }
    },
    "5e921226387f400b975e48283b941f66": {
     "model_module": "@jupyter-widgets/controls",
     "model_name": "ProgressStyleModel",
     "state": {
      "_model_module": "@jupyter-widgets/controls",
      "_model_module_version": "1.5.0",
      "_model_name": "ProgressStyleModel",
      "_view_count": null,
      "_view_module": "@jupyter-widgets/base",
      "_view_module_version": "1.2.0",
      "_view_name": "StyleView",
      "bar_color": null,
      "description_width": "initial"
     }
    },
    "67573dbb90d54a769425ecb85baa7390": {
     "model_module": "@jupyter-widgets/base",
     "model_name": "LayoutModel",
     "state": {
      "_model_module": "@jupyter-widgets/base",
      "_model_module_version": "1.2.0",
      "_model_name": "LayoutModel",
      "_view_count": null,
      "_view_module": "@jupyter-widgets/base",
      "_view_module_version": "1.2.0",
      "_view_name": "LayoutView",
      "align_content": null,
      "align_items": null,
      "align_self": null,
      "border": null,
      "bottom": null,
      "display": null,
      "flex": null,
      "flex_flow": null,
      "grid_area": null,
      "grid_auto_columns": null,
      "grid_auto_flow": null,
      "grid_auto_rows": null,
      "grid_column": null,
      "grid_gap": null,
      "grid_row": null,
      "grid_template_areas": null,
      "grid_template_columns": null,
      "grid_template_rows": null,
      "height": null,
      "justify_content": null,
      "justify_items": null,
      "left": null,
      "margin": null,
      "max_height": null,
      "max_width": null,
      "min_height": null,
      "min_width": null,
      "object_fit": null,
      "object_position": null,
      "order": null,
      "overflow": null,
      "overflow_x": null,
      "overflow_y": null,
      "padding": null,
      "right": null,
      "top": null,
      "visibility": null,
      "width": null
     }
    },
    "6b3eb823fd774cc7abd8f47ef67cdd98": {
     "model_module": "@jupyter-widgets/controls",
     "model_name": "HTMLModel",
     "state": {
      "_dom_classes": [],
      "_model_module": "@jupyter-widgets/controls",
      "_model_module_version": "1.5.0",
      "_model_name": "HTMLModel",
      "_view_count": null,
      "_view_module": "@jupyter-widgets/controls",
      "_view_module_version": "1.5.0",
      "_view_name": "HTMLView",
      "description": "",
      "description_tooltip": null,
      "layout": "IPY_MODEL_827dc90a922a4068aadcefed30ad495c",
      "placeholder": "​",
      "style": "IPY_MODEL_965b3a217f824d51bce33af6b8a31d5d",
      "value": " 52943/? [06:19&lt;00:00, 139.39it/s]"
     }
    },
    "6e10d3ec50d74f05a3fa0f63c7baf500": {
     "model_module": "@jupyter-widgets/controls",
     "model_name": "ProgressStyleModel",
     "state": {
      "_model_module": "@jupyter-widgets/controls",
      "_model_module_version": "1.5.0",
      "_model_name": "ProgressStyleModel",
      "_view_count": null,
      "_view_module": "@jupyter-widgets/base",
      "_view_module_version": "1.2.0",
      "_view_name": "StyleView",
      "bar_color": null,
      "description_width": "initial"
     }
    },
    "7184acacf47c4c32b7c0c96748694fd4": {
     "model_module": "@jupyter-widgets/controls",
     "model_name": "HBoxModel",
     "state": {
      "_dom_classes": [],
      "_model_module": "@jupyter-widgets/controls",
      "_model_module_version": "1.5.0",
      "_model_name": "HBoxModel",
      "_view_count": null,
      "_view_module": "@jupyter-widgets/controls",
      "_view_module_version": "1.5.0",
      "_view_name": "HBoxView",
      "box_style": "",
      "children": [
       "IPY_MODEL_0a1c0c68b1b84081b2b66cca608b10c0",
       "IPY_MODEL_05186157064e43019e7f9a10562a2403"
      ],
      "layout": "IPY_MODEL_47d129d99ba94009a8d83aff172b0e40"
     }
    },
    "77f9cf24df574dc0aa0b424c4467bfb4": {
     "model_module": "@jupyter-widgets/controls",
     "model_name": "IntProgressModel",
     "state": {
      "_dom_classes": [],
      "_model_module": "@jupyter-widgets/controls",
      "_model_module_version": "1.5.0",
      "_model_name": "IntProgressModel",
      "_view_count": null,
      "_view_module": "@jupyter-widgets/controls",
      "_view_module_version": "1.5.0",
      "_view_name": "ProgressView",
      "bar_style": "success",
      "description": "",
      "description_tooltip": null,
      "layout": "IPY_MODEL_3b7b5b50fe2e4764974acfffc13555eb",
      "max": 1,
      "min": 0,
      "orientation": "horizontal",
      "style": "IPY_MODEL_05ef1b26e5aa41c29e5d6f6e2e2373e1",
      "value": 1
     }
    },
    "827dc90a922a4068aadcefed30ad495c": {
     "model_module": "@jupyter-widgets/base",
     "model_name": "LayoutModel",
     "state": {
      "_model_module": "@jupyter-widgets/base",
      "_model_module_version": "1.2.0",
      "_model_name": "LayoutModel",
      "_view_count": null,
      "_view_module": "@jupyter-widgets/base",
      "_view_module_version": "1.2.0",
      "_view_name": "LayoutView",
      "align_content": null,
      "align_items": null,
      "align_self": null,
      "border": null,
      "bottom": null,
      "display": null,
      "flex": null,
      "flex_flow": null,
      "grid_area": null,
      "grid_auto_columns": null,
      "grid_auto_flow": null,
      "grid_auto_rows": null,
      "grid_column": null,
      "grid_gap": null,
      "grid_row": null,
      "grid_template_areas": null,
      "grid_template_columns": null,
      "grid_template_rows": null,
      "height": null,
      "justify_content": null,
      "justify_items": null,
      "left": null,
      "margin": null,
      "max_height": null,
      "max_width": null,
      "min_height": null,
      "min_width": null,
      "object_fit": null,
      "object_position": null,
      "order": null,
      "overflow": null,
      "overflow_x": null,
      "overflow_y": null,
      "padding": null,
      "right": null,
      "top": null,
      "visibility": null,
      "width": null
     }
    },
    "8b7ff9b463a841f88fbe4477ffa7c569": {
     "model_module": "@jupyter-widgets/base",
     "model_name": "LayoutModel",
     "state": {
      "_model_module": "@jupyter-widgets/base",
      "_model_module_version": "1.2.0",
      "_model_name": "LayoutModel",
      "_view_count": null,
      "_view_module": "@jupyter-widgets/base",
      "_view_module_version": "1.2.0",
      "_view_name": "LayoutView",
      "align_content": null,
      "align_items": null,
      "align_self": null,
      "border": null,
      "bottom": null,
      "display": null,
      "flex": null,
      "flex_flow": null,
      "grid_area": null,
      "grid_auto_columns": null,
      "grid_auto_flow": null,
      "grid_auto_rows": null,
      "grid_column": null,
      "grid_gap": null,
      "grid_row": null,
      "grid_template_areas": null,
      "grid_template_columns": null,
      "grid_template_rows": null,
      "height": null,
      "justify_content": null,
      "justify_items": null,
      "left": null,
      "margin": null,
      "max_height": null,
      "max_width": null,
      "min_height": null,
      "min_width": null,
      "object_fit": null,
      "object_position": null,
      "order": null,
      "overflow": null,
      "overflow_x": null,
      "overflow_y": null,
      "padding": null,
      "right": null,
      "top": null,
      "visibility": null,
      "width": null
     }
    },
    "8c70d79460af401fb841bfecb8b81de2": {
     "model_module": "@jupyter-widgets/controls",
     "model_name": "ProgressStyleModel",
     "state": {
      "_model_module": "@jupyter-widgets/controls",
      "_model_module_version": "1.5.0",
      "_model_name": "ProgressStyleModel",
      "_view_count": null,
      "_view_module": "@jupyter-widgets/base",
      "_view_module_version": "1.2.0",
      "_view_name": "StyleView",
      "bar_color": null,
      "description_width": "initial"
     }
    },
    "965b3a217f824d51bce33af6b8a31d5d": {
     "model_module": "@jupyter-widgets/controls",
     "model_name": "DescriptionStyleModel",
     "state": {
      "_model_module": "@jupyter-widgets/controls",
      "_model_module_version": "1.5.0",
      "_model_name": "DescriptionStyleModel",
      "_view_count": null,
      "_view_module": "@jupyter-widgets/base",
      "_view_module_version": "1.2.0",
      "_view_name": "StyleView",
      "description_width": ""
     }
    },
    "992223e072a347e2b21f02c32e5771bf": {
     "model_module": "@jupyter-widgets/controls",
     "model_name": "DescriptionStyleModel",
     "state": {
      "_model_module": "@jupyter-widgets/controls",
      "_model_module_version": "1.5.0",
      "_model_name": "DescriptionStyleModel",
      "_view_count": null,
      "_view_module": "@jupyter-widgets/base",
      "_view_module_version": "1.2.0",
      "_view_name": "StyleView",
      "description_width": ""
     }
    },
    "a0c7310d0b604659886ed2b48238d071": {
     "model_module": "@jupyter-widgets/controls",
     "model_name": "ProgressStyleModel",
     "state": {
      "_model_module": "@jupyter-widgets/controls",
      "_model_module_version": "1.5.0",
      "_model_name": "ProgressStyleModel",
      "_view_count": null,
      "_view_module": "@jupyter-widgets/base",
      "_view_module_version": "1.2.0",
      "_view_name": "StyleView",
      "bar_color": null,
      "description_width": "initial"
     }
    },
    "a56285fa0f8942a7ae3222518104ccf8": {
     "model_module": "@jupyter-widgets/base",
     "model_name": "LayoutModel",
     "state": {
      "_model_module": "@jupyter-widgets/base",
      "_model_module_version": "1.2.0",
      "_model_name": "LayoutModel",
      "_view_count": null,
      "_view_module": "@jupyter-widgets/base",
      "_view_module_version": "1.2.0",
      "_view_name": "LayoutView",
      "align_content": null,
      "align_items": null,
      "align_self": null,
      "border": null,
      "bottom": null,
      "display": null,
      "flex": null,
      "flex_flow": null,
      "grid_area": null,
      "grid_auto_columns": null,
      "grid_auto_flow": null,
      "grid_auto_rows": null,
      "grid_column": null,
      "grid_gap": null,
      "grid_row": null,
      "grid_template_areas": null,
      "grid_template_columns": null,
      "grid_template_rows": null,
      "height": null,
      "justify_content": null,
      "justify_items": null,
      "left": null,
      "margin": null,
      "max_height": null,
      "max_width": null,
      "min_height": null,
      "min_width": null,
      "object_fit": null,
      "object_position": null,
      "order": null,
      "overflow": null,
      "overflow_x": null,
      "overflow_y": null,
      "padding": null,
      "right": null,
      "top": null,
      "visibility": null,
      "width": null
     }
    },
    "a626d5f0cb8146278427b845d83717e3": {
     "model_module": "@jupyter-widgets/base",
     "model_name": "LayoutModel",
     "state": {
      "_model_module": "@jupyter-widgets/base",
      "_model_module_version": "1.2.0",
      "_model_name": "LayoutModel",
      "_view_count": null,
      "_view_module": "@jupyter-widgets/base",
      "_view_module_version": "1.2.0",
      "_view_name": "LayoutView",
      "align_content": null,
      "align_items": null,
      "align_self": null,
      "border": null,
      "bottom": null,
      "display": null,
      "flex": null,
      "flex_flow": null,
      "grid_area": null,
      "grid_auto_columns": null,
      "grid_auto_flow": null,
      "grid_auto_rows": null,
      "grid_column": null,
      "grid_gap": null,
      "grid_row": null,
      "grid_template_areas": null,
      "grid_template_columns": null,
      "grid_template_rows": null,
      "height": null,
      "justify_content": null,
      "justify_items": null,
      "left": null,
      "margin": null,
      "max_height": null,
      "max_width": null,
      "min_height": null,
      "min_width": null,
      "object_fit": null,
      "object_position": null,
      "order": null,
      "overflow": null,
      "overflow_x": null,
      "overflow_y": null,
      "padding": null,
      "right": null,
      "top": null,
      "visibility": null,
      "width": null
     }
    },
    "abdbc253fafe4a82995b1410cc7c3462": {
     "model_module": "@jupyter-widgets/controls",
     "model_name": "ProgressStyleModel",
     "state": {
      "_model_module": "@jupyter-widgets/controls",
      "_model_module_version": "1.5.0",
      "_model_name": "ProgressStyleModel",
      "_view_count": null,
      "_view_module": "@jupyter-widgets/base",
      "_view_module_version": "1.2.0",
      "_view_name": "StyleView",
      "bar_color": null,
      "description_width": "initial"
     }
    },
    "aeeb8244fc1f4ec797d656e0bc712da6": {
     "model_module": "@jupyter-widgets/base",
     "model_name": "LayoutModel",
     "state": {
      "_model_module": "@jupyter-widgets/base",
      "_model_module_version": "1.2.0",
      "_model_name": "LayoutModel",
      "_view_count": null,
      "_view_module": "@jupyter-widgets/base",
      "_view_module_version": "1.2.0",
      "_view_name": "LayoutView",
      "align_content": null,
      "align_items": null,
      "align_self": null,
      "border": null,
      "bottom": null,
      "display": null,
      "flex": null,
      "flex_flow": null,
      "grid_area": null,
      "grid_auto_columns": null,
      "grid_auto_flow": null,
      "grid_auto_rows": null,
      "grid_column": null,
      "grid_gap": null,
      "grid_row": null,
      "grid_template_areas": null,
      "grid_template_columns": null,
      "grid_template_rows": null,
      "height": null,
      "justify_content": null,
      "justify_items": null,
      "left": null,
      "margin": null,
      "max_height": null,
      "max_width": null,
      "min_height": null,
      "min_width": null,
      "object_fit": null,
      "object_position": null,
      "order": null,
      "overflow": null,
      "overflow_x": null,
      "overflow_y": null,
      "padding": null,
      "right": null,
      "top": null,
      "visibility": null,
      "width": null
     }
    },
    "b4e4e54c6d4843f19131c3ceb9425e86": {
     "model_module": "@jupyter-widgets/controls",
     "model_name": "HTMLModel",
     "state": {
      "_dom_classes": [],
      "_model_module": "@jupyter-widgets/controls",
      "_model_module_version": "1.5.0",
      "_model_name": "HTMLModel",
      "_view_count": null,
      "_view_module": "@jupyter-widgets/controls",
      "_view_module_version": "1.5.0",
      "_view_name": "HTMLView",
      "description": "",
      "description_tooltip": null,
      "layout": "IPY_MODEL_27b2353bd49d476388aedc75398221f3",
      "placeholder": "​",
      "style": "IPY_MODEL_992223e072a347e2b21f02c32e5771bf",
      "value": " 52943/? [03:28&lt;00:00, 254.46it/s]"
     }
    },
    "b58e6a4e521449cda278564485c2546e": {
     "model_module": "@jupyter-widgets/controls",
     "model_name": "HBoxModel",
     "state": {
      "_dom_classes": [],
      "_model_module": "@jupyter-widgets/controls",
      "_model_module_version": "1.5.0",
      "_model_name": "HBoxModel",
      "_view_count": null,
      "_view_module": "@jupyter-widgets/controls",
      "_view_module_version": "1.5.0",
      "_view_name": "HBoxView",
      "box_style": "",
      "children": [
       "IPY_MODEL_5c69eb83ab6748c58273568fb9295f65",
       "IPY_MODEL_e7b8da417937474cb36b380fd578b54b"
      ],
      "layout": "IPY_MODEL_3f034e63918440e5a93df7001a358b07"
     }
    },
    "bd168c426d0840229b306ea2d516b7e0": {
     "model_module": "@jupyter-widgets/controls",
     "model_name": "HBoxModel",
     "state": {
      "_dom_classes": [],
      "_model_module": "@jupyter-widgets/controls",
      "_model_module_version": "1.5.0",
      "_model_name": "HBoxModel",
      "_view_count": null,
      "_view_module": "@jupyter-widgets/controls",
      "_view_module_version": "1.5.0",
      "_view_name": "HBoxView",
      "box_style": "",
      "children": [
       "IPY_MODEL_c9d8e2dd75784933b33f19d9b837f01b",
       "IPY_MODEL_39256936467346d18319034f0b8b8389"
      ],
      "layout": "IPY_MODEL_c9d2d9e8641d4b34a0dd405c81689351"
     }
    },
    "c052e6734fac420f9ea5b25e019d6065": {
     "model_module": "@jupyter-widgets/base",
     "model_name": "LayoutModel",
     "state": {
      "_model_module": "@jupyter-widgets/base",
      "_model_module_version": "1.2.0",
      "_model_name": "LayoutModel",
      "_view_count": null,
      "_view_module": "@jupyter-widgets/base",
      "_view_module_version": "1.2.0",
      "_view_name": "LayoutView",
      "align_content": null,
      "align_items": null,
      "align_self": null,
      "border": null,
      "bottom": null,
      "display": null,
      "flex": null,
      "flex_flow": null,
      "grid_area": null,
      "grid_auto_columns": null,
      "grid_auto_flow": null,
      "grid_auto_rows": null,
      "grid_column": null,
      "grid_gap": null,
      "grid_row": null,
      "grid_template_areas": null,
      "grid_template_columns": null,
      "grid_template_rows": null,
      "height": null,
      "justify_content": null,
      "justify_items": null,
      "left": null,
      "margin": null,
      "max_height": null,
      "max_width": null,
      "min_height": null,
      "min_width": null,
      "object_fit": null,
      "object_position": null,
      "order": null,
      "overflow": null,
      "overflow_x": null,
      "overflow_y": null,
      "padding": null,
      "right": null,
      "top": null,
      "visibility": null,
      "width": null
     }
    },
    "c849567bc8ee46aca2135b6b704b81e9": {
     "model_module": "@jupyter-widgets/base",
     "model_name": "LayoutModel",
     "state": {
      "_model_module": "@jupyter-widgets/base",
      "_model_module_version": "1.2.0",
      "_model_name": "LayoutModel",
      "_view_count": null,
      "_view_module": "@jupyter-widgets/base",
      "_view_module_version": "1.2.0",
      "_view_name": "LayoutView",
      "align_content": null,
      "align_items": null,
      "align_self": null,
      "border": null,
      "bottom": null,
      "display": null,
      "flex": null,
      "flex_flow": null,
      "grid_area": null,
      "grid_auto_columns": null,
      "grid_auto_flow": null,
      "grid_auto_rows": null,
      "grid_column": null,
      "grid_gap": null,
      "grid_row": null,
      "grid_template_areas": null,
      "grid_template_columns": null,
      "grid_template_rows": null,
      "height": null,
      "justify_content": null,
      "justify_items": null,
      "left": null,
      "margin": null,
      "max_height": null,
      "max_width": null,
      "min_height": null,
      "min_width": null,
      "object_fit": null,
      "object_position": null,
      "order": null,
      "overflow": null,
      "overflow_x": null,
      "overflow_y": null,
      "padding": null,
      "right": null,
      "top": null,
      "visibility": null,
      "width": null
     }
    },
    "c9d2d9e8641d4b34a0dd405c81689351": {
     "model_module": "@jupyter-widgets/base",
     "model_name": "LayoutModel",
     "state": {
      "_model_module": "@jupyter-widgets/base",
      "_model_module_version": "1.2.0",
      "_model_name": "LayoutModel",
      "_view_count": null,
      "_view_module": "@jupyter-widgets/base",
      "_view_module_version": "1.2.0",
      "_view_name": "LayoutView",
      "align_content": null,
      "align_items": null,
      "align_self": null,
      "border": null,
      "bottom": null,
      "display": null,
      "flex": null,
      "flex_flow": null,
      "grid_area": null,
      "grid_auto_columns": null,
      "grid_auto_flow": null,
      "grid_auto_rows": null,
      "grid_column": null,
      "grid_gap": null,
      "grid_row": null,
      "grid_template_areas": null,
      "grid_template_columns": null,
      "grid_template_rows": null,
      "height": null,
      "justify_content": null,
      "justify_items": null,
      "left": null,
      "margin": null,
      "max_height": null,
      "max_width": null,
      "min_height": null,
      "min_width": null,
      "object_fit": null,
      "object_position": null,
      "order": null,
      "overflow": null,
      "overflow_x": null,
      "overflow_y": null,
      "padding": null,
      "right": null,
      "top": null,
      "visibility": null,
      "width": null
     }
    },
    "c9d8e2dd75784933b33f19d9b837f01b": {
     "model_module": "@jupyter-widgets/controls",
     "model_name": "IntProgressModel",
     "state": {
      "_dom_classes": [],
      "_model_module": "@jupyter-widgets/controls",
      "_model_module_version": "1.5.0",
      "_model_name": "IntProgressModel",
      "_view_count": null,
      "_view_module": "@jupyter-widgets/controls",
      "_view_module_version": "1.5.0",
      "_view_name": "ProgressView",
      "bar_style": "success",
      "description": "",
      "description_tooltip": null,
      "layout": "IPY_MODEL_f4700a58e5ef4b9098a56ff30f51f82c",
      "max": 1,
      "min": 0,
      "orientation": "horizontal",
      "style": "IPY_MODEL_abdbc253fafe4a82995b1410cc7c3462",
      "value": 1
     }
    },
    "d79d49aa42d34157979cd69341a4cb5a": {
     "model_module": "@jupyter-widgets/controls",
     "model_name": "DescriptionStyleModel",
     "state": {
      "_model_module": "@jupyter-widgets/controls",
      "_model_module_version": "1.5.0",
      "_model_name": "DescriptionStyleModel",
      "_view_count": null,
      "_view_module": "@jupyter-widgets/base",
      "_view_module_version": "1.2.0",
      "_view_name": "StyleView",
      "description_width": ""
     }
    },
    "db867d5bb30141d68f5fd9a4c24e9982": {
     "model_module": "@jupyter-widgets/controls",
     "model_name": "HTMLModel",
     "state": {
      "_dom_classes": [],
      "_model_module": "@jupyter-widgets/controls",
      "_model_module_version": "1.5.0",
      "_model_name": "HTMLModel",
      "_view_count": null,
      "_view_module": "@jupyter-widgets/controls",
      "_view_module_version": "1.5.0",
      "_view_name": "HTMLView",
      "description": "",
      "description_tooltip": null,
      "layout": "IPY_MODEL_67573dbb90d54a769425ecb85baa7390",
      "placeholder": "​",
      "style": "IPY_MODEL_de1013a3be0945b39806d6db184576a3",
      "value": " 79020/79020 [00:18&lt;00:00, 4360.64it/s]"
     }
    },
    "de1013a3be0945b39806d6db184576a3": {
     "model_module": "@jupyter-widgets/controls",
     "model_name": "DescriptionStyleModel",
     "state": {
      "_model_module": "@jupyter-widgets/controls",
      "_model_module_version": "1.5.0",
      "_model_name": "DescriptionStyleModel",
      "_view_count": null,
      "_view_module": "@jupyter-widgets/base",
      "_view_module_version": "1.2.0",
      "_view_name": "StyleView",
      "description_width": ""
     }
    },
    "deb57dca2d0b4ecd8d398a559ecb01bf": {
     "model_module": "@jupyter-widgets/controls",
     "model_name": "HBoxModel",
     "state": {
      "_dom_classes": [],
      "_model_module": "@jupyter-widgets/controls",
      "_model_module_version": "1.5.0",
      "_model_name": "HBoxModel",
      "_view_count": null,
      "_view_module": "@jupyter-widgets/controls",
      "_view_module_version": "1.5.0",
      "_view_name": "HBoxView",
      "box_style": "",
      "children": [
       "IPY_MODEL_0df9915340c64bc1b9bc4f5102cecdd4",
       "IPY_MODEL_6b3eb823fd774cc7abd8f47ef67cdd98"
      ],
      "layout": "IPY_MODEL_4971c824b5bd4874adcca0f4819d9dc9"
     }
    },
    "e26ff578bdaf4ba3b9cc1120d2b9d47d": {
     "model_module": "@jupyter-widgets/base",
     "model_name": "LayoutModel",
     "state": {
      "_model_module": "@jupyter-widgets/base",
      "_model_module_version": "1.2.0",
      "_model_name": "LayoutModel",
      "_view_count": null,
      "_view_module": "@jupyter-widgets/base",
      "_view_module_version": "1.2.0",
      "_view_name": "LayoutView",
      "align_content": null,
      "align_items": null,
      "align_self": null,
      "border": null,
      "bottom": null,
      "display": null,
      "flex": null,
      "flex_flow": null,
      "grid_area": null,
      "grid_auto_columns": null,
      "grid_auto_flow": null,
      "grid_auto_rows": null,
      "grid_column": null,
      "grid_gap": null,
      "grid_row": null,
      "grid_template_areas": null,
      "grid_template_columns": null,
      "grid_template_rows": null,
      "height": null,
      "justify_content": null,
      "justify_items": null,
      "left": null,
      "margin": null,
      "max_height": null,
      "max_width": null,
      "min_height": null,
      "min_width": null,
      "object_fit": null,
      "object_position": null,
      "order": null,
      "overflow": null,
      "overflow_x": null,
      "overflow_y": null,
      "padding": null,
      "right": null,
      "top": null,
      "visibility": null,
      "width": null
     }
    },
    "e2fc152d715340b19adb34ebc6ab054b": {
     "model_module": "@jupyter-widgets/controls",
     "model_name": "DescriptionStyleModel",
     "state": {
      "_model_module": "@jupyter-widgets/controls",
      "_model_module_version": "1.5.0",
      "_model_name": "DescriptionStyleModel",
      "_view_count": null,
      "_view_module": "@jupyter-widgets/base",
      "_view_module_version": "1.2.0",
      "_view_name": "StyleView",
      "description_width": ""
     }
    },
    "e3bc8563c2a04bd5bc16b8033705cf24": {
     "model_module": "@jupyter-widgets/controls",
     "model_name": "HBoxModel",
     "state": {
      "_dom_classes": [],
      "_model_module": "@jupyter-widgets/controls",
      "_model_module_version": "1.5.0",
      "_model_name": "HBoxModel",
      "_view_count": null,
      "_view_module": "@jupyter-widgets/controls",
      "_view_module_version": "1.5.0",
      "_view_name": "HBoxView",
      "box_style": "",
      "children": [
       "IPY_MODEL_f47cc0a7f3a4443aaea5edf365128d1a",
       "IPY_MODEL_db867d5bb30141d68f5fd9a4c24e9982"
      ],
      "layout": "IPY_MODEL_1d25c61728d64f7db01c775b21b28f48"
     }
    },
    "e5836256a7ce4fbb90db5f1343fa14c6": {
     "model_module": "@jupyter-widgets/controls",
     "model_name": "IntProgressModel",
     "state": {
      "_dom_classes": [],
      "_model_module": "@jupyter-widgets/controls",
      "_model_module_version": "1.5.0",
      "_model_name": "IntProgressModel",
      "_view_count": null,
      "_view_module": "@jupyter-widgets/controls",
      "_view_module_version": "1.5.0",
      "_view_name": "ProgressView",
      "bar_style": "",
      "description": " 30%",
      "description_tooltip": null,
      "layout": "IPY_MODEL_5ddeb7a908614e369b8e33a964ea19ab",
      "max": 10,
      "min": 0,
      "orientation": "horizontal",
      "style": "IPY_MODEL_6e10d3ec50d74f05a3fa0f63c7baf500",
      "value": 3
     }
    },
    "e7b8da417937474cb36b380fd578b54b": {
     "model_module": "@jupyter-widgets/controls",
     "model_name": "HTMLModel",
     "state": {
      "_dom_classes": [],
      "_model_module": "@jupyter-widgets/controls",
      "_model_module_version": "1.5.0",
      "_model_name": "HTMLModel",
      "_view_count": null,
      "_view_module": "@jupyter-widgets/controls",
      "_view_module_version": "1.5.0",
      "_view_name": "HTMLView",
      "description": "",
      "description_tooltip": null,
      "layout": "IPY_MODEL_c052e6734fac420f9ea5b25e019d6065",
      "placeholder": "​",
      "style": "IPY_MODEL_e2fc152d715340b19adb34ebc6ab054b",
      "value": " 2462/? [00:16&lt;00:00, 396.70it/s]"
     }
    },
    "f4700a58e5ef4b9098a56ff30f51f82c": {
     "model_module": "@jupyter-widgets/base",
     "model_name": "LayoutModel",
     "state": {
      "_model_module": "@jupyter-widgets/base",
      "_model_module_version": "1.2.0",
      "_model_name": "LayoutModel",
      "_view_count": null,
      "_view_module": "@jupyter-widgets/base",
      "_view_module_version": "1.2.0",
      "_view_name": "LayoutView",
      "align_content": null,
      "align_items": null,
      "align_self": null,
      "border": null,
      "bottom": null,
      "display": null,
      "flex": null,
      "flex_flow": null,
      "grid_area": null,
      "grid_auto_columns": null,
      "grid_auto_flow": null,
      "grid_auto_rows": null,
      "grid_column": null,
      "grid_gap": null,
      "grid_row": null,
      "grid_template_areas": null,
      "grid_template_columns": null,
      "grid_template_rows": null,
      "height": null,
      "justify_content": null,
      "justify_items": null,
      "left": null,
      "margin": null,
      "max_height": null,
      "max_width": null,
      "min_height": null,
      "min_width": null,
      "object_fit": null,
      "object_position": null,
      "order": null,
      "overflow": null,
      "overflow_x": null,
      "overflow_y": null,
      "padding": null,
      "right": null,
      "top": null,
      "visibility": null,
      "width": null
     }
    },
    "f47cc0a7f3a4443aaea5edf365128d1a": {
     "model_module": "@jupyter-widgets/controls",
     "model_name": "IntProgressModel",
     "state": {
      "_dom_classes": [],
      "_model_module": "@jupyter-widgets/controls",
      "_model_module_version": "1.5.0",
      "_model_name": "IntProgressModel",
      "_view_count": null,
      "_view_module": "@jupyter-widgets/controls",
      "_view_module_version": "1.5.0",
      "_view_name": "ProgressView",
      "bar_style": "success",
      "description": "100%",
      "description_tooltip": null,
      "layout": "IPY_MODEL_2e489c1c867c4c6883098690098e16d3",
      "max": 79020,
      "min": 0,
      "orientation": "horizontal",
      "style": "IPY_MODEL_8c70d79460af401fb841bfecb8b81de2",
      "value": 79020
     }
    },
    "fd454d9457724c3a9a0a35b7055ba0e8": {
     "model_module": "@jupyter-widgets/base",
     "model_name": "LayoutModel",
     "state": {
      "_model_module": "@jupyter-widgets/base",
      "_model_module_version": "1.2.0",
      "_model_name": "LayoutModel",
      "_view_count": null,
      "_view_module": "@jupyter-widgets/base",
      "_view_module_version": "1.2.0",
      "_view_name": "LayoutView",
      "align_content": null,
      "align_items": null,
      "align_self": null,
      "border": null,
      "bottom": null,
      "display": null,
      "flex": null,
      "flex_flow": null,
      "grid_area": null,
      "grid_auto_columns": null,
      "grid_auto_flow": null,
      "grid_auto_rows": null,
      "grid_column": null,
      "grid_gap": null,
      "grid_row": null,
      "grid_template_areas": null,
      "grid_template_columns": null,
      "grid_template_rows": null,
      "height": null,
      "justify_content": null,
      "justify_items": null,
      "left": null,
      "margin": null,
      "max_height": null,
      "max_width": null,
      "min_height": null,
      "min_width": null,
      "object_fit": null,
      "object_position": null,
      "order": null,
      "overflow": null,
      "overflow_x": null,
      "overflow_y": null,
      "padding": null,
      "right": null,
      "top": null,
      "visibility": null,
      "width": null
     }
    }
   }
  }
 },
 "nbformat": 4,
 "nbformat_minor": 1
}
